{
 "cells": [
  {
   "cell_type": "markdown",
   "id": "ed086ee1-20ec-4f6f-8c37-0efc146cc1e9",
   "metadata": {},
   "source": [
    "## 머신러닝 Pipeline\n",
    "- 이전 강의들에서 결측치 처리, 모델 학습 등을 진행하였다. \n",
    "- 이 때, 결측치 처리, 스케일링, 하이퍼 파라미터 등을 최소화하여 쉽게 연결할 수 있도록 도와준다. \n",
    "- 본 예제에서는 scikit-learn pipeline에 대해 학습할 예정이다. "
   ]
  },
  {
   "cell_type": "markdown",
   "id": "d532f16f-799f-4bcf-9ca8-7c6666664899",
   "metadata": {},
   "source": [
    "## 필수 라이브러리 불러오기\n",
    "- 본 튜토리얼에 적합한 주요 라이브러리들을 불러온다. "
   ]
  },
  {
   "cell_type": "code",
   "execution_count": 68,
   "id": "2f0fea8e-14f6-4ae2-bcfe-2631e814793f",
   "metadata": {},
   "outputs": [
    {
     "name": "stdout",
     "output_type": "stream",
     "text": [
      "numpy version 1.23.0\n",
      "pandas version 1.4.3\n",
      "seaborn version 0.11.2\n",
      "sklearn version 1.1.1\n"
     ]
    }
   ],
   "source": [
    "import numpy as np\n",
    "import pandas as pd\n",
    "import seaborn as sns \n",
    "import sklearn\n",
    "from sklearn.compose import ColumnTransformer\n",
    "from sklearn.impute import SimpleImputer\n",
    "from sklearn.preprocessing import StandardScaler\n",
    "from sklearn.preprocessing import OneHotEncoder\n",
    "from sklearn.linear_model import LinearRegression\n",
    "from sklearn.pipeline import Pipeline\n",
    "from sklearn.model_selection import train_test_split\n",
    "from sklearn.metrics import mean_squared_error\n",
    "\n",
    "print(f\"numpy version {np.__version__}\")\n",
    "print(f\"pandas version {pd.__version__}\")\n",
    "print(f\"seaborn version {sns.__version__}\")\n",
    "print(f\"sklearn version {sklearn.__version__}\")"
   ]
  },
  {
   "cell_type": "markdown",
   "id": "6e559399-cf51-4d11-b33d-7a87518c0bc7",
   "metadata": {},
   "source": [
    "## 데이터 불러오기\n",
    "- 본 실습을 위해 간단한 데이터를 불러온다. "
   ]
  },
  {
   "cell_type": "code",
   "execution_count": 69,
   "id": "f0346f74-8b03-405f-b504-3a21af67df34",
   "metadata": {},
   "outputs": [
    {
     "data": {
      "text/plain": [
       "((10886, 12), (6493, 9), (6493, 2))"
      ]
     },
     "execution_count": 69,
     "metadata": {},
     "output_type": "execute_result"
    }
   ],
   "source": [
    "# DATA_PATH = \"C:\\\\Users\\\\human\\\\Desktop\\\\mlops_tutorial\\\\data\\\\bike-sharing-demand\\\\\"\n",
    "DATA_PATH = \"C:\\\\Users\\\\j2hoo\\\\OneDrive\\\\Desktop\\\\mlops_tutorial\\\\data\\\\bike-sharing-demand\\\\\"\n",
    "\n",
    "train_df = pd.read_csv(DATA_PATH + \"train.csv\")\n",
    "test = pd.read_csv(DATA_PATH + \"test.csv\")\n",
    "submission = pd.read_csv(DATA_PATH + \"sampleSubmission.csv\")\n",
    "\n",
    "train_df.shape, test.shape, submission.shape"
   ]
  },
  {
   "cell_type": "markdown",
   "id": "fd0264ef-15bc-474a-9b13-2a0534444aac",
   "metadata": {},
   "source": [
    "## 데이터 전처리\n",
    "- 데이터 전처리는 기존 강의와 비슷하게 진행한다. \n",
    "- 단, 범주형 데이터셋은 그대로 놔두도록 한다. "
   ]
  },
  {
   "cell_type": "code",
   "execution_count": 70,
   "id": "55faf2eb-7194-42e1-872b-e61161b473cb",
   "metadata": {},
   "outputs": [
    {
     "name": "stdout",
     "output_type": "stream",
     "text": [
      "<class 'pandas.core.frame.DataFrame'>\n",
      "Int64Index: 17379 entries, 0 to 6492\n",
      "Data columns (total 10 columns):\n",
      " #   Column      Non-Null Count  Dtype  \n",
      "---  ------      --------------  -----  \n",
      " 0   season      17379 non-null  object \n",
      " 1   holiday     17379 non-null  int64  \n",
      " 2   workingday  17379 non-null  int64  \n",
      " 3   weather     17379 non-null  object \n",
      " 4   temp        17379 non-null  float64\n",
      " 5   humidity    17379 non-null  int64  \n",
      " 6   year        17379 non-null  int64  \n",
      " 7   day         17379 non-null  int64  \n",
      " 8   hour        17379 non-null  int64  \n",
      " 9   weekday     17379 non-null  object \n",
      "dtypes: float64(1), int64(6), object(3)\n",
      "memory usage: 1.5+ MB\n"
     ]
    }
   ],
   "source": [
    "# 타깃값 별도 저장\n",
    "y = train_df['count'] # 타깃값\n",
    "\n",
    "# count 컬럼 제거\n",
    "train_df = train_df.drop(['count'], axis=1)\n",
    "\n",
    "# 데이터 합치기\n",
    "all_df = pd.concat([train_df, test])\n",
    "\n",
    "# 날짜 데이터로 파생변수 만들기\n",
    "all_df['date'] = pd.to_datetime(all_df['datetime'])\n",
    "all_df['year'] = all_df['date'].dt.year\n",
    "all_df['date'] = pd.to_datetime(all_df['datetime'])\n",
    "all_df['year'] = all_df['date'].dt.year\n",
    "all_df['month'] = all_df['date'].dt.month\n",
    "all_df['day'] = all_df['date'].dt.day\n",
    "all_df['hour'] = all_df['date'].dt.hour\n",
    "all_df['weekday'] = all_df['date'].dt.day_name()\n",
    "\n",
    "# 원-핫 인코딩을 위해 변경함\n",
    "season_num = [1, 2, 3, 4]\n",
    "season_str = ['Spring', 'Summer', 'Fall', 'Winter']\n",
    "all_df['season'] = all_df['season'].replace(season_num, season_str)\n",
    "\n",
    "weather_num = [1, 2, 3, 4]\n",
    "weather_str = ['Clear', 'Few Clouds', 'Light Snow, Rain', 'Heavy Snow, Rain']\n",
    "all_df['weather'] = all_df['weather'].replace(season_num, season_str)\n",
    "\n",
    "del_features = ['casual', 'registered', 'datetime', 'date', 'windspeed', 'month', 'atemp']\n",
    "all_df = all_df.drop(del_features, axis=1)\n",
    "\n",
    "all_df.info()"
   ]
  },
  {
   "cell_type": "markdown",
   "id": "21c18525-3ad0-46a1-8b5f-f601f678dc5d",
   "metadata": {},
   "source": [
    "## 데이터셋 분리"
   ]
  },
  {
   "cell_type": "code",
   "execution_count": 71,
   "id": "7ea3fc09-ead6-4a48-8bd1-d6da8caa48e3",
   "metadata": {},
   "outputs": [
    {
     "data": {
      "text/plain": [
       "((10886, 10), (6493, 10))"
      ]
     },
     "execution_count": 71,
     "metadata": {},
     "output_type": "execute_result"
    }
   ],
   "source": [
    "train = all_df.iloc[0:len(y), :]\n",
    "test = all_df.iloc[len(y):, :]\n",
    "train.shape, test.shape"
   ]
  },
  {
   "cell_type": "code",
   "execution_count": 72,
   "id": "a1032ce2-e1bf-4e81-bbc3-c1b73ef4885d",
   "metadata": {},
   "outputs": [
    {
     "data": {
      "text/plain": [
       "((7620, 10), (3266, 10), (7620,), (3266,))"
      ]
     },
     "execution_count": 72,
     "metadata": {},
     "output_type": "execute_result"
    }
   ],
   "source": [
    "# train_test_split\n",
    "X_train, X_valid, y_train, y_valid = train_test_split(train, y, test_size=0.3, shuffle=True, random_state=42)\n",
    "X_train.shape, X_valid.shape, y_train.shape, y_valid.shape"
   ]
  },
  {
   "cell_type": "markdown",
   "id": "5debd59c-839e-45b4-9c73-6c338008a40d",
   "metadata": {},
   "source": [
    "## 데이터 전처리 파이프라인 만들기\n",
    "- (1) 수치형 변수에 대해서는 StandardScaler() 클래스를 이용해서 표준화를 진행했다. \n",
    "- (2) 범주형 변수의 원핫인코딩하는 데이터 전처리 파이프라인을 만든다. "
   ]
  },
  {
   "cell_type": "code",
   "execution_count": 73,
   "id": "94e08e0c-b9b2-4bff-a3e6-cbe8fc760e43",
   "metadata": {},
   "outputs": [],
   "source": [
    "# 코드"
   ]
  },
  {
   "cell_type": "code",
   "execution_count": 74,
   "id": "b8906a57-7a9b-48b2-b5a6-191d73f942a3",
   "metadata": {},
   "outputs": [
    {
     "data": {
      "text/html": [
       "<style>#sk-container-id-7 {color: black;background-color: white;}#sk-container-id-7 pre{padding: 0;}#sk-container-id-7 div.sk-toggleable {background-color: white;}#sk-container-id-7 label.sk-toggleable__label {cursor: pointer;display: block;width: 100%;margin-bottom: 0;padding: 0.3em;box-sizing: border-box;text-align: center;}#sk-container-id-7 label.sk-toggleable__label-arrow:before {content: \"▸\";float: left;margin-right: 0.25em;color: #696969;}#sk-container-id-7 label.sk-toggleable__label-arrow:hover:before {color: black;}#sk-container-id-7 div.sk-estimator:hover label.sk-toggleable__label-arrow:before {color: black;}#sk-container-id-7 div.sk-toggleable__content {max-height: 0;max-width: 0;overflow: hidden;text-align: left;background-color: #f0f8ff;}#sk-container-id-7 div.sk-toggleable__content pre {margin: 0.2em;color: black;border-radius: 0.25em;background-color: #f0f8ff;}#sk-container-id-7 input.sk-toggleable__control:checked~div.sk-toggleable__content {max-height: 200px;max-width: 100%;overflow: auto;}#sk-container-id-7 input.sk-toggleable__control:checked~label.sk-toggleable__label-arrow:before {content: \"▾\";}#sk-container-id-7 div.sk-estimator input.sk-toggleable__control:checked~label.sk-toggleable__label {background-color: #d4ebff;}#sk-container-id-7 div.sk-label input.sk-toggleable__control:checked~label.sk-toggleable__label {background-color: #d4ebff;}#sk-container-id-7 input.sk-hidden--visually {border: 0;clip: rect(1px 1px 1px 1px);clip: rect(1px, 1px, 1px, 1px);height: 1px;margin: -1px;overflow: hidden;padding: 0;position: absolute;width: 1px;}#sk-container-id-7 div.sk-estimator {font-family: monospace;background-color: #f0f8ff;border: 1px dotted black;border-radius: 0.25em;box-sizing: border-box;margin-bottom: 0.5em;}#sk-container-id-7 div.sk-estimator:hover {background-color: #d4ebff;}#sk-container-id-7 div.sk-parallel-item::after {content: \"\";width: 100%;border-bottom: 1px solid gray;flex-grow: 1;}#sk-container-id-7 div.sk-label:hover label.sk-toggleable__label {background-color: #d4ebff;}#sk-container-id-7 div.sk-serial::before {content: \"\";position: absolute;border-left: 1px solid gray;box-sizing: border-box;top: 0;bottom: 0;left: 50%;z-index: 0;}#sk-container-id-7 div.sk-serial {display: flex;flex-direction: column;align-items: center;background-color: white;padding-right: 0.2em;padding-left: 0.2em;position: relative;}#sk-container-id-7 div.sk-item {position: relative;z-index: 1;}#sk-container-id-7 div.sk-parallel {display: flex;align-items: stretch;justify-content: center;background-color: white;position: relative;}#sk-container-id-7 div.sk-item::before, #sk-container-id-7 div.sk-parallel-item::before {content: \"\";position: absolute;border-left: 1px solid gray;box-sizing: border-box;top: 0;bottom: 0;left: 50%;z-index: -1;}#sk-container-id-7 div.sk-parallel-item {display: flex;flex-direction: column;z-index: 1;position: relative;background-color: white;}#sk-container-id-7 div.sk-parallel-item:first-child::after {align-self: flex-end;width: 50%;}#sk-container-id-7 div.sk-parallel-item:last-child::after {align-self: flex-start;width: 50%;}#sk-container-id-7 div.sk-parallel-item:only-child::after {width: 0;}#sk-container-id-7 div.sk-dashed-wrapped {border: 1px dashed gray;margin: 0 0.4em 0.5em 0.4em;box-sizing: border-box;padding-bottom: 0.4em;background-color: white;}#sk-container-id-7 div.sk-label label {font-family: monospace;font-weight: bold;display: inline-block;line-height: 1.2em;}#sk-container-id-7 div.sk-label-container {text-align: center;}#sk-container-id-7 div.sk-container {/* jupyter's `normalize.less` sets `[hidden] { display: none; }` but bootstrap.min.css set `[hidden] { display: none !important; }` so we also need the `!important` here to be able to override the default hidden behavior on the sphinx rendered scikit-learn.org. See: https://github.com/scikit-learn/scikit-learn/issues/21755 */display: inline-block !important;position: relative;}#sk-container-id-7 div.sk-text-repr-fallback {display: none;}</style><div id=\"sk-container-id-7\" class=\"sk-top-container\"><div class=\"sk-text-repr-fallback\"><pre>Pipeline(steps=[(&#x27;preporcessor&#x27;,\n",
       "                 ColumnTransformer(transformers=[(&#x27;num&#x27;,\n",
       "                                                  Pipeline(steps=[(&#x27;scaler&#x27;,\n",
       "                                                                   StandardScaler())]),\n",
       "                                                  [&#x27;temp&#x27;, &#x27;humidity&#x27;]),\n",
       "                                                 (&#x27;cat&#x27;,\n",
       "                                                  OneHotEncoder(handle_unknown=&#x27;ignore&#x27;),\n",
       "                                                  [&#x27;season&#x27;, &#x27;weather&#x27;,\n",
       "                                                   &#x27;weekday&#x27;])])),\n",
       "                (&#x27;regressor&#x27;, LinearRegression())])</pre><b>In a Jupyter environment, please rerun this cell to show the HTML representation or trust the notebook. <br />On GitHub, the HTML representation is unable to render, please try loading this page with nbviewer.org.</b></div><div class=\"sk-container\" hidden><div class=\"sk-item sk-dashed-wrapped\"><div class=\"sk-label-container\"><div class=\"sk-label sk-toggleable\"><input class=\"sk-toggleable__control sk-hidden--visually\" id=\"sk-estimator-id-43\" type=\"checkbox\" ><label for=\"sk-estimator-id-43\" class=\"sk-toggleable__label sk-toggleable__label-arrow\">Pipeline</label><div class=\"sk-toggleable__content\"><pre>Pipeline(steps=[(&#x27;preporcessor&#x27;,\n",
       "                 ColumnTransformer(transformers=[(&#x27;num&#x27;,\n",
       "                                                  Pipeline(steps=[(&#x27;scaler&#x27;,\n",
       "                                                                   StandardScaler())]),\n",
       "                                                  [&#x27;temp&#x27;, &#x27;humidity&#x27;]),\n",
       "                                                 (&#x27;cat&#x27;,\n",
       "                                                  OneHotEncoder(handle_unknown=&#x27;ignore&#x27;),\n",
       "                                                  [&#x27;season&#x27;, &#x27;weather&#x27;,\n",
       "                                                   &#x27;weekday&#x27;])])),\n",
       "                (&#x27;regressor&#x27;, LinearRegression())])</pre></div></div></div><div class=\"sk-serial\"><div class=\"sk-item sk-dashed-wrapped\"><div class=\"sk-label-container\"><div class=\"sk-label sk-toggleable\"><input class=\"sk-toggleable__control sk-hidden--visually\" id=\"sk-estimator-id-44\" type=\"checkbox\" ><label for=\"sk-estimator-id-44\" class=\"sk-toggleable__label sk-toggleable__label-arrow\">preporcessor: ColumnTransformer</label><div class=\"sk-toggleable__content\"><pre>ColumnTransformer(transformers=[(&#x27;num&#x27;,\n",
       "                                 Pipeline(steps=[(&#x27;scaler&#x27;, StandardScaler())]),\n",
       "                                 [&#x27;temp&#x27;, &#x27;humidity&#x27;]),\n",
       "                                (&#x27;cat&#x27;, OneHotEncoder(handle_unknown=&#x27;ignore&#x27;),\n",
       "                                 [&#x27;season&#x27;, &#x27;weather&#x27;, &#x27;weekday&#x27;])])</pre></div></div></div><div class=\"sk-parallel\"><div class=\"sk-parallel-item\"><div class=\"sk-item\"><div class=\"sk-label-container\"><div class=\"sk-label sk-toggleable\"><input class=\"sk-toggleable__control sk-hidden--visually\" id=\"sk-estimator-id-45\" type=\"checkbox\" ><label for=\"sk-estimator-id-45\" class=\"sk-toggleable__label sk-toggleable__label-arrow\">num</label><div class=\"sk-toggleable__content\"><pre>[&#x27;temp&#x27;, &#x27;humidity&#x27;]</pre></div></div></div><div class=\"sk-serial\"><div class=\"sk-item\"><div class=\"sk-serial\"><div class=\"sk-item\"><div class=\"sk-estimator sk-toggleable\"><input class=\"sk-toggleable__control sk-hidden--visually\" id=\"sk-estimator-id-46\" type=\"checkbox\" ><label for=\"sk-estimator-id-46\" class=\"sk-toggleable__label sk-toggleable__label-arrow\">StandardScaler</label><div class=\"sk-toggleable__content\"><pre>StandardScaler()</pre></div></div></div></div></div></div></div></div><div class=\"sk-parallel-item\"><div class=\"sk-item\"><div class=\"sk-label-container\"><div class=\"sk-label sk-toggleable\"><input class=\"sk-toggleable__control sk-hidden--visually\" id=\"sk-estimator-id-47\" type=\"checkbox\" ><label for=\"sk-estimator-id-47\" class=\"sk-toggleable__label sk-toggleable__label-arrow\">cat</label><div class=\"sk-toggleable__content\"><pre>[&#x27;season&#x27;, &#x27;weather&#x27;, &#x27;weekday&#x27;]</pre></div></div></div><div class=\"sk-serial\"><div class=\"sk-item\"><div class=\"sk-estimator sk-toggleable\"><input class=\"sk-toggleable__control sk-hidden--visually\" id=\"sk-estimator-id-48\" type=\"checkbox\" ><label for=\"sk-estimator-id-48\" class=\"sk-toggleable__label sk-toggleable__label-arrow\">OneHotEncoder</label><div class=\"sk-toggleable__content\"><pre>OneHotEncoder(handle_unknown=&#x27;ignore&#x27;)</pre></div></div></div></div></div></div></div></div><div class=\"sk-item\"><div class=\"sk-estimator sk-toggleable\"><input class=\"sk-toggleable__control sk-hidden--visually\" id=\"sk-estimator-id-49\" type=\"checkbox\" ><label for=\"sk-estimator-id-49\" class=\"sk-toggleable__label sk-toggleable__label-arrow\">LinearRegression</label><div class=\"sk-toggleable__content\"><pre>LinearRegression()</pre></div></div></div></div></div></div></div>"
      ],
      "text/plain": [
       "Pipeline(steps=[('preporcessor',\n",
       "                 ColumnTransformer(transformers=[('num',\n",
       "                                                  Pipeline(steps=[('scaler',\n",
       "                                                                   StandardScaler())]),\n",
       "                                                  ['temp', 'humidity']),\n",
       "                                                 ('cat',\n",
       "                                                  OneHotEncoder(handle_unknown='ignore'),\n",
       "                                                  ['season', 'weather',\n",
       "                                                   'weekday'])])),\n",
       "                ('regressor', LinearRegression())])"
      ]
     },
     "execution_count": 74,
     "metadata": {},
     "output_type": "execute_result"
    }
   ],
   "source": [
    "# 코드"
   ]
  },
  {
   "cell_type": "markdown",
   "id": "4c9eebbe-cd48-4a87-ae1b-c9db8928c6b5",
   "metadata": {},
   "source": [
    "## 평가지표 구현"
   ]
  },
  {
   "cell_type": "code",
   "execution_count": 75,
   "id": "a13c68f3-05fc-488d-bc35-ea774afaddb6",
   "metadata": {},
   "outputs": [],
   "source": [
    "def rmsle(y, y_,convertExp=True):\n",
    "    \n",
    "    # 지수변환\n",
    "    if convertExp:\n",
    "        y = np.exp(y),\n",
    "        y_ = np.exp(y_)\n",
    "        \n",
    "    # 로그변환 후 결측값을 0으로 변환 \n",
    "    log1 = np.nan_to_num(np.array([np.log(v + 1) for v in y]))\n",
    "    log2 = np.nan_to_num(np.array([np.log(v + 1) for v in y_]))\n",
    "    calc = (log1 - log2) ** 2\n",
    "    \n",
    "    # RMSLE 계산\n",
    "    return np.sqrt(np.mean(calc))"
   ]
  },
  {
   "cell_type": "code",
   "execution_count": 76,
   "id": "35732398-c7e7-4977-a1a3-d0b379f8e1c0",
   "metadata": {},
   "outputs": [
    {
     "name": "stdout",
     "output_type": "stream",
     "text": [
      "RMSLE 값 : 1.1999846010628938\n"
     ]
    }
   ],
   "source": [
    "# 코드"
   ]
  },
  {
   "cell_type": "code",
   "execution_count": 77,
   "id": "e75ef618-35a4-4fd5-8e17-89d0a0b9ad92",
   "metadata": {},
   "outputs": [
    {
     "name": "stdout",
     "output_type": "stream",
     "text": [
      "<class 'pandas.core.frame.DataFrame'>\n",
      "Int64Index: 6493 entries, 0 to 6492\n",
      "Data columns (total 10 columns):\n",
      " #   Column      Non-Null Count  Dtype  \n",
      "---  ------      --------------  -----  \n",
      " 0   season      6493 non-null   object \n",
      " 1   holiday     6493 non-null   int64  \n",
      " 2   workingday  6493 non-null   int64  \n",
      " 3   weather     6493 non-null   object \n",
      " 4   temp        6493 non-null   float64\n",
      " 5   humidity    6493 non-null   int64  \n",
      " 6   year        6493 non-null   int64  \n",
      " 7   day         6493 non-null   int64  \n",
      " 8   hour        6493 non-null   int64  \n",
      " 9   weekday     6493 non-null   object \n",
      "dtypes: float64(1), int64(6), object(3)\n",
      "memory usage: 558.0+ KB\n"
     ]
    }
   ],
   "source": [
    "test.info()"
   ]
  },
  {
   "cell_type": "code",
   "execution_count": 78,
   "id": "a5711522-34fd-41a6-a8e6-b69b70f4f16a",
   "metadata": {},
   "outputs": [],
   "source": [
    "# 코드"
   ]
  }
 ],
 "metadata": {
  "kernelspec": {
   "display_name": "Python 3 (ipykernel)",
   "language": "python",
   "name": "python3"
  },
  "language_info": {
   "codemirror_mode": {
    "name": "ipython",
    "version": 3
   },
   "file_extension": ".py",
   "mimetype": "text/x-python",
   "name": "python",
   "nbconvert_exporter": "python",
   "pygments_lexer": "ipython3",
   "version": "3.9.13"
  }
 },
 "nbformat": 4,
 "nbformat_minor": 5
}
