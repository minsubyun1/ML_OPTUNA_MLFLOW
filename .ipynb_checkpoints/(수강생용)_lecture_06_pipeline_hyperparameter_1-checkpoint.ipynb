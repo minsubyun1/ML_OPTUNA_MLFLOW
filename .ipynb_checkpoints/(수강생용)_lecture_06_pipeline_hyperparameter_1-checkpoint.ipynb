{
 "cells": [
  {
   "cell_type": "markdown",
   "id": "ed086ee1-20ec-4f6f-8c37-0efc146cc1e9",
   "metadata": {},
   "source": [
    "## 머신러닝 Pipeline & HyperParameter Tuning\n",
    "- 이전 강의들에서 결측치 처리, 모델 학습 등을 진행하였다. \n",
    "- 이 때, 결측치 처리, 스케일링, 하이퍼 파라미터 등을 최소화하여 쉽게 연결할 수 있도록 도와준다. \n",
    "- 본 예제에서는 scikit-learn pipeline에 대해 학습할 예정이다. "
   ]
  },
  {
   "cell_type": "markdown",
   "id": "d532f16f-799f-4bcf-9ca8-7c6666664899",
   "metadata": {},
   "source": [
    "## 필수 라이브러리 불러오기\n",
    "- 본 튜토리얼에 적합한 주요 라이브러리들을 불러온다. "
   ]
  },
  {
   "cell_type": "code",
   "execution_count": 2,
   "id": "2f0fea8e-14f6-4ae2-bcfe-2631e814793f",
   "metadata": {},
   "outputs": [
    {
     "name": "stdout",
     "output_type": "stream",
     "text": [
      "numpy version 1.23.0\n",
      "pandas version 1.4.3\n",
      "seaborn version 0.11.2\n",
      "sklearn version 1.1.1\n",
      "optuna version 3.0.0b1\n",
      "xgboost version 1.6.1\n"
     ]
    }
   ],
   "source": [
    "import numpy as np\n",
    "import pandas as pd\n",
    "import seaborn as sns \n",
    "import sklearn\n",
    "from sklearn.compose import ColumnTransformer\n",
    "from sklearn.decomposition import PCA\n",
    "from sklearn.impute import SimpleImputer\n",
    "from sklearn.preprocessing import StandardScaler\n",
    "from sklearn.preprocessing import OneHotEncoder\n",
    "from sklearn.linear_model import LinearRegression\n",
    "from sklearn.pipeline import Pipeline\n",
    "from sklearn.model_selection import train_test_split\n",
    "from sklearn.metrics import mean_squared_error\n",
    "from sklearn.model_selection import GridSearchCV, RandomizedSearchCV\n",
    "from sklearn import set_config\n",
    "import optuna\n",
    "\n",
    "import xgboost\n",
    "from xgboost import XGBRegressor\n",
    "\n",
    "print(f\"numpy version {np.__version__}\")\n",
    "print(f\"pandas version {pd.__version__}\")\n",
    "print(f\"seaborn version {sns.__version__}\")\n",
    "print(f\"sklearn version {sklearn.__version__}\")\n",
    "print(f\"optuna version {optuna.__version__}\")\n",
    "print(f\"xgboost version {xgboost.__version__}\")"
   ]
  },
  {
   "cell_type": "markdown",
   "id": "6e559399-cf51-4d11-b33d-7a87518c0bc7",
   "metadata": {},
   "source": [
    "## 데이터 불러오기\n",
    "- 본 실습을 위해 간단한 데이터를 불러온다. "
   ]
  },
  {
   "cell_type": "code",
   "execution_count": 3,
   "id": "f0346f74-8b03-405f-b504-3a21af67df34",
   "metadata": {},
   "outputs": [
    {
     "data": {
      "text/plain": [
       "((10886, 12), (6493, 9), (6493, 2))"
      ]
     },
     "execution_count": 3,
     "metadata": {},
     "output_type": "execute_result"
    }
   ],
   "source": [
    "# DATA_PATH = \"C:\\\\Users\\\\human\\\\Desktop\\\\mlops_tutorial\\\\data\\\\bike-sharing-demand\\\\\"\n",
    "DATA_PATH = \"C:\\\\Users\\\\j2hoo\\\\OneDrive\\\\Desktop\\\\ml_optuna_mlflow\\\\data\\\\bike-sharing-demand\\\\\"\n",
    "\n",
    "train_df = pd.read_csv(DATA_PATH + \"train.csv\")\n",
    "test = pd.read_csv(DATA_PATH + \"test.csv\")\n",
    "submission = pd.read_csv(DATA_PATH + \"sampleSubmission.csv\")\n",
    "\n",
    "train_df.shape, test.shape, submission.shape"
   ]
  },
  {
   "cell_type": "markdown",
   "id": "fd0264ef-15bc-474a-9b13-2a0534444aac",
   "metadata": {},
   "source": [
    "## 데이터 전처리\n",
    "- 데이터 전처리는 기존 강의와 비슷하게 진행한다. \n",
    "- 단, 범주형 데이터셋은 그대로 놔두도록 한다. "
   ]
  },
  {
   "cell_type": "code",
   "execution_count": 4,
   "id": "55faf2eb-7194-42e1-872b-e61161b473cb",
   "metadata": {},
   "outputs": [
    {
     "name": "stdout",
     "output_type": "stream",
     "text": [
      "<class 'pandas.core.frame.DataFrame'>\n",
      "Int64Index: 17379 entries, 0 to 6492\n",
      "Data columns (total 10 columns):\n",
      " #   Column      Non-Null Count  Dtype  \n",
      "---  ------      --------------  -----  \n",
      " 0   season      17379 non-null  object \n",
      " 1   holiday     17379 non-null  int64  \n",
      " 2   workingday  17379 non-null  int64  \n",
      " 3   weather     17379 non-null  object \n",
      " 4   temp        17379 non-null  float64\n",
      " 5   humidity    17379 non-null  int64  \n",
      " 6   year        17379 non-null  int64  \n",
      " 7   day         17379 non-null  int64  \n",
      " 8   hour        17379 non-null  int64  \n",
      " 9   weekday     17379 non-null  object \n",
      "dtypes: float64(1), int64(6), object(3)\n",
      "memory usage: 1.5+ MB\n"
     ]
    }
   ],
   "source": [
    "# 타깃값 별도 저장\n",
    "y = train_df['count'] # 타깃값\n",
    "\n",
    "# count 컬럼 제거\n",
    "train_df = train_df.drop(['count'], axis=1)\n",
    "\n",
    "# 데이터 합치기\n",
    "all_df = pd.concat([train_df, test])\n",
    "\n",
    "# 날짜 데이터로 파생변수 만들기\n",
    "all_df['date'] = pd.to_datetime(all_df['datetime'])\n",
    "all_df['year'] = all_df['date'].dt.year\n",
    "all_df['date'] = pd.to_datetime(all_df['datetime'])\n",
    "all_df['year'] = all_df['date'].dt.year\n",
    "all_df['month'] = all_df['date'].dt.month\n",
    "all_df['day'] = all_df['date'].dt.day\n",
    "all_df['hour'] = all_df['date'].dt.hour\n",
    "all_df['weekday'] = all_df['date'].dt.day_name()\n",
    "\n",
    "# 원-핫 인코딩을 위해 변경함\n",
    "season_num = [1, 2, 3, 4]\n",
    "season_str = ['Spring', 'Summer', 'Fall', 'Winter']\n",
    "all_df['season'] = all_df['season'].replace(season_num, season_str)\n",
    "\n",
    "weather_num = [1, 2, 3, 4]\n",
    "weather_str = ['Clear', 'Few Clouds', 'Light Snow, Rain', 'Heavy Snow, Rain']\n",
    "all_df['weather'] = all_df['weather'].replace(season_num, season_str)\n",
    "\n",
    "del_features = ['casual', 'registered', 'datetime', 'date', 'windspeed', 'month', 'atemp']\n",
    "all_df = all_df.drop(del_features, axis=1)\n",
    "\n",
    "all_df.info()"
   ]
  },
  {
   "cell_type": "markdown",
   "id": "21c18525-3ad0-46a1-8b5f-f601f678dc5d",
   "metadata": {},
   "source": [
    "## 데이터셋 분리"
   ]
  },
  {
   "cell_type": "code",
   "execution_count": 5,
   "id": "7ea3fc09-ead6-4a48-8bd1-d6da8caa48e3",
   "metadata": {},
   "outputs": [
    {
     "data": {
      "text/plain": [
       "((10886, 10), (6493, 10))"
      ]
     },
     "execution_count": 5,
     "metadata": {},
     "output_type": "execute_result"
    }
   ],
   "source": [
    "train = all_df.iloc[0:len(y), :]\n",
    "test = all_df.iloc[len(y):, :]\n",
    "train.shape, test.shape"
   ]
  },
  {
   "cell_type": "code",
   "execution_count": 6,
   "id": "a1032ce2-e1bf-4e81-bbc3-c1b73ef4885d",
   "metadata": {},
   "outputs": [
    {
     "data": {
      "text/plain": [
       "((7620, 10), (3266, 10), (7620,), (3266,))"
      ]
     },
     "execution_count": 6,
     "metadata": {},
     "output_type": "execute_result"
    }
   ],
   "source": [
    "# train_test_split\n",
    "X_train, X_valid, y_train, y_valid = train_test_split(train, y, test_size=0.3, shuffle=True, random_state=42)\n",
    "X_train.shape, X_valid.shape, y_train.shape, y_valid.shape"
   ]
  },
  {
   "cell_type": "markdown",
   "id": "5debd59c-839e-45b4-9c73-6c338008a40d",
   "metadata": {},
   "source": [
    "## 데이터 전처리 파이프라인 만들기\n",
    "- (1) 수치형 변수에 대해서는 StandardScaler() 클래스를 이용해서 표준화를 진행했다. \n",
    "- (2) 범주형 변수의 원핫인코딩하는 데이터 전처리 파이프라인을 만든다. "
   ]
  },
  {
   "cell_type": "code",
   "execution_count": 7,
   "id": "94e08e0c-b9b2-4bff-a3e6-cbe8fc760e43",
   "metadata": {},
   "outputs": [],
   "source": [
    "# (1) 수치형 변수 StandardScaler()\n",
    "# 추가\n",
    "\n",
    "# (2) 범주형 변수 원핫 인코딩 OneHotEncoder()\n",
    "cat_features = [\"season\", \"weather\", \"weekday\"]\n",
    "cat_transformer = OneHotEncoder(handle_unknown=\"ignore\")\n",
    "\n",
    "\n",
    "# (3) ColumnTransformer\n",
    "preprocessor = ColumnTransformer(\n",
    "    transformers = [\n",
    "        (\"num\", num_transformer, num_features), \n",
    "        (\"cat\", cat_transformer, cat_features)\n",
    "    ]\n",
    ")\n",
    "\n",
    "# (4) 모델 정의\n",
    "# 추가"
   ]
  },
  {
   "cell_type": "markdown",
   "id": "6cb02177-8f63-4469-96b1-f3d064366b90",
   "metadata": {},
   "source": [
    "## Grid Search\n",
    "- 그리드 서치"
   ]
  },
  {
   "cell_type": "code",
   "execution_count": 8,
   "id": "abde175d-fa28-4bda-98e4-a17063565235",
   "metadata": {},
   "outputs": [
    {
     "data": {
      "text/html": [
       "<style>#sk-container-id-1 {color: black;background-color: white;}#sk-container-id-1 pre{padding: 0;}#sk-container-id-1 div.sk-toggleable {background-color: white;}#sk-container-id-1 label.sk-toggleable__label {cursor: pointer;display: block;width: 100%;margin-bottom: 0;padding: 0.3em;box-sizing: border-box;text-align: center;}#sk-container-id-1 label.sk-toggleable__label-arrow:before {content: \"▸\";float: left;margin-right: 0.25em;color: #696969;}#sk-container-id-1 label.sk-toggleable__label-arrow:hover:before {color: black;}#sk-container-id-1 div.sk-estimator:hover label.sk-toggleable__label-arrow:before {color: black;}#sk-container-id-1 div.sk-toggleable__content {max-height: 0;max-width: 0;overflow: hidden;text-align: left;background-color: #f0f8ff;}#sk-container-id-1 div.sk-toggleable__content pre {margin: 0.2em;color: black;border-radius: 0.25em;background-color: #f0f8ff;}#sk-container-id-1 input.sk-toggleable__control:checked~div.sk-toggleable__content {max-height: 200px;max-width: 100%;overflow: auto;}#sk-container-id-1 input.sk-toggleable__control:checked~label.sk-toggleable__label-arrow:before {content: \"▾\";}#sk-container-id-1 div.sk-estimator input.sk-toggleable__control:checked~label.sk-toggleable__label {background-color: #d4ebff;}#sk-container-id-1 div.sk-label input.sk-toggleable__control:checked~label.sk-toggleable__label {background-color: #d4ebff;}#sk-container-id-1 input.sk-hidden--visually {border: 0;clip: rect(1px 1px 1px 1px);clip: rect(1px, 1px, 1px, 1px);height: 1px;margin: -1px;overflow: hidden;padding: 0;position: absolute;width: 1px;}#sk-container-id-1 div.sk-estimator {font-family: monospace;background-color: #f0f8ff;border: 1px dotted black;border-radius: 0.25em;box-sizing: border-box;margin-bottom: 0.5em;}#sk-container-id-1 div.sk-estimator:hover {background-color: #d4ebff;}#sk-container-id-1 div.sk-parallel-item::after {content: \"\";width: 100%;border-bottom: 1px solid gray;flex-grow: 1;}#sk-container-id-1 div.sk-label:hover label.sk-toggleable__label {background-color: #d4ebff;}#sk-container-id-1 div.sk-serial::before {content: \"\";position: absolute;border-left: 1px solid gray;box-sizing: border-box;top: 0;bottom: 0;left: 50%;z-index: 0;}#sk-container-id-1 div.sk-serial {display: flex;flex-direction: column;align-items: center;background-color: white;padding-right: 0.2em;padding-left: 0.2em;position: relative;}#sk-container-id-1 div.sk-item {position: relative;z-index: 1;}#sk-container-id-1 div.sk-parallel {display: flex;align-items: stretch;justify-content: center;background-color: white;position: relative;}#sk-container-id-1 div.sk-item::before, #sk-container-id-1 div.sk-parallel-item::before {content: \"\";position: absolute;border-left: 1px solid gray;box-sizing: border-box;top: 0;bottom: 0;left: 50%;z-index: -1;}#sk-container-id-1 div.sk-parallel-item {display: flex;flex-direction: column;z-index: 1;position: relative;background-color: white;}#sk-container-id-1 div.sk-parallel-item:first-child::after {align-self: flex-end;width: 50%;}#sk-container-id-1 div.sk-parallel-item:last-child::after {align-self: flex-start;width: 50%;}#sk-container-id-1 div.sk-parallel-item:only-child::after {width: 0;}#sk-container-id-1 div.sk-dashed-wrapped {border: 1px dashed gray;margin: 0 0.4em 0.5em 0.4em;box-sizing: border-box;padding-bottom: 0.4em;background-color: white;}#sk-container-id-1 div.sk-label label {font-family: monospace;font-weight: bold;display: inline-block;line-height: 1.2em;}#sk-container-id-1 div.sk-label-container {text-align: center;}#sk-container-id-1 div.sk-container {/* jupyter's `normalize.less` sets `[hidden] { display: none; }` but bootstrap.min.css set `[hidden] { display: none !important; }` so we also need the `!important` here to be able to override the default hidden behavior on the sphinx rendered scikit-learn.org. See: https://github.com/scikit-learn/scikit-learn/issues/21755 */display: inline-block !important;position: relative;}#sk-container-id-1 div.sk-text-repr-fallback {display: none;}</style><div id=\"sk-container-id-1\" class=\"sk-top-container\"><div class=\"sk-text-repr-fallback\"><pre>GridSearchCV(cv=5,\n",
       "             estimator=Pipeline(steps=[(&#x27;preporcessor&#x27;,\n",
       "                                        ColumnTransformer(transformers=[(&#x27;num&#x27;,\n",
       "                                                                         Pipeline(steps=[(&#x27;scaler&#x27;,\n",
       "                                                                                          StandardScaler()),\n",
       "                                                                                         (&#x27;pca&#x27;,\n",
       "                                                                                          PCA())]),\n",
       "                                                                         [&#x27;temp&#x27;,\n",
       "                                                                          &#x27;humidity&#x27;,\n",
       "                                                                          &#x27;hour&#x27;]),\n",
       "                                                                        (&#x27;cat&#x27;,\n",
       "                                                                         OneHotEncoder(handle_unknown=&#x27;ignore&#x27;),\n",
       "                                                                         [&#x27;season&#x27;,\n",
       "                                                                          &#x27;weather&#x27;,\n",
       "                                                                          &#x27;weekday&#x27;])])),\n",
       "                                       (&#x27;xgbrg&#x27;,\n",
       "                                        XGBRegressor(base_score=None,\n",
       "                                                     booster=None,\n",
       "                                                     callbacks=None,\n",
       "                                                     colsample_byleve...\n",
       "                                                     max_bin=None,\n",
       "                                                     max_cat_to_onehot=None,\n",
       "                                                     max_delta_step=None,\n",
       "                                                     max_depth=None,\n",
       "                                                     max_leaves=None,\n",
       "                                                     min_child_weight=None,\n",
       "                                                     missing=nan,\n",
       "                                                     monotone_constraints=None,\n",
       "                                                     n_estimators=100,\n",
       "                                                     n_jobs=None,\n",
       "                                                     num_parallel_tree=None,\n",
       "                                                     predictor=None,\n",
       "                                                     random_state=None,\n",
       "                                                     reg_alpha=None,\n",
       "                                                     reg_lambda=None, ...))]),\n",
       "             param_grid={&#x27;xgbrg__max_depth&#x27;: [2, 3, 5, 7, 10],\n",
       "                         &#x27;xgbrg__n_estimators&#x27;: [10, 100, 500]})</pre><b>In a Jupyter environment, please rerun this cell to show the HTML representation or trust the notebook. <br />On GitHub, the HTML representation is unable to render, please try loading this page with nbviewer.org.</b></div><div class=\"sk-container\" hidden><div class=\"sk-item sk-dashed-wrapped\"><div class=\"sk-label-container\"><div class=\"sk-label sk-toggleable\"><input class=\"sk-toggleable__control sk-hidden--visually\" id=\"sk-estimator-id-1\" type=\"checkbox\" ><label for=\"sk-estimator-id-1\" class=\"sk-toggleable__label sk-toggleable__label-arrow\">GridSearchCV</label><div class=\"sk-toggleable__content\"><pre>GridSearchCV(cv=5,\n",
       "             estimator=Pipeline(steps=[(&#x27;preporcessor&#x27;,\n",
       "                                        ColumnTransformer(transformers=[(&#x27;num&#x27;,\n",
       "                                                                         Pipeline(steps=[(&#x27;scaler&#x27;,\n",
       "                                                                                          StandardScaler()),\n",
       "                                                                                         (&#x27;pca&#x27;,\n",
       "                                                                                          PCA())]),\n",
       "                                                                         [&#x27;temp&#x27;,\n",
       "                                                                          &#x27;humidity&#x27;,\n",
       "                                                                          &#x27;hour&#x27;]),\n",
       "                                                                        (&#x27;cat&#x27;,\n",
       "                                                                         OneHotEncoder(handle_unknown=&#x27;ignore&#x27;),\n",
       "                                                                         [&#x27;season&#x27;,\n",
       "                                                                          &#x27;weather&#x27;,\n",
       "                                                                          &#x27;weekday&#x27;])])),\n",
       "                                       (&#x27;xgbrg&#x27;,\n",
       "                                        XGBRegressor(base_score=None,\n",
       "                                                     booster=None,\n",
       "                                                     callbacks=None,\n",
       "                                                     colsample_byleve...\n",
       "                                                     max_bin=None,\n",
       "                                                     max_cat_to_onehot=None,\n",
       "                                                     max_delta_step=None,\n",
       "                                                     max_depth=None,\n",
       "                                                     max_leaves=None,\n",
       "                                                     min_child_weight=None,\n",
       "                                                     missing=nan,\n",
       "                                                     monotone_constraints=None,\n",
       "                                                     n_estimators=100,\n",
       "                                                     n_jobs=None,\n",
       "                                                     num_parallel_tree=None,\n",
       "                                                     predictor=None,\n",
       "                                                     random_state=None,\n",
       "                                                     reg_alpha=None,\n",
       "                                                     reg_lambda=None, ...))]),\n",
       "             param_grid={&#x27;xgbrg__max_depth&#x27;: [2, 3, 5, 7, 10],\n",
       "                         &#x27;xgbrg__n_estimators&#x27;: [10, 100, 500]})</pre></div></div></div><div class=\"sk-parallel\"><div class=\"sk-parallel-item\"><div class=\"sk-item\"><div class=\"sk-label-container\"><div class=\"sk-label sk-toggleable\"><input class=\"sk-toggleable__control sk-hidden--visually\" id=\"sk-estimator-id-2\" type=\"checkbox\" ><label for=\"sk-estimator-id-2\" class=\"sk-toggleable__label sk-toggleable__label-arrow\">estimator: Pipeline</label><div class=\"sk-toggleable__content\"><pre>Pipeline(steps=[(&#x27;preporcessor&#x27;,\n",
       "                 ColumnTransformer(transformers=[(&#x27;num&#x27;,\n",
       "                                                  Pipeline(steps=[(&#x27;scaler&#x27;,\n",
       "                                                                   StandardScaler()),\n",
       "                                                                  (&#x27;pca&#x27;,\n",
       "                                                                   PCA())]),\n",
       "                                                  [&#x27;temp&#x27;, &#x27;humidity&#x27;, &#x27;hour&#x27;]),\n",
       "                                                 (&#x27;cat&#x27;,\n",
       "                                                  OneHotEncoder(handle_unknown=&#x27;ignore&#x27;),\n",
       "                                                  [&#x27;season&#x27;, &#x27;weather&#x27;,\n",
       "                                                   &#x27;weekday&#x27;])])),\n",
       "                (&#x27;xgbrg&#x27;,\n",
       "                 XGBRegressor(base_score=None, booster=None, callbacks=None,\n",
       "                              colsample_bylevel=None, colsample_bynode=None...\n",
       "                              gamma=None, gpu_id=None, grow_policy=None,\n",
       "                              importance_type=None,\n",
       "                              interaction_constraints=None, learning_rate=None,\n",
       "                              max_bin=None, max_cat_to_onehot=None,\n",
       "                              max_delta_step=None, max_depth=None,\n",
       "                              max_leaves=None, min_child_weight=None,\n",
       "                              missing=nan, monotone_constraints=None,\n",
       "                              n_estimators=100, n_jobs=None,\n",
       "                              num_parallel_tree=None, predictor=None,\n",
       "                              random_state=None, reg_alpha=None,\n",
       "                              reg_lambda=None, ...))])</pre></div></div></div><div class=\"sk-serial\"><div class=\"sk-item\"><div class=\"sk-serial\"><div class=\"sk-item sk-dashed-wrapped\"><div class=\"sk-label-container\"><div class=\"sk-label sk-toggleable\"><input class=\"sk-toggleable__control sk-hidden--visually\" id=\"sk-estimator-id-3\" type=\"checkbox\" ><label for=\"sk-estimator-id-3\" class=\"sk-toggleable__label sk-toggleable__label-arrow\">preporcessor: ColumnTransformer</label><div class=\"sk-toggleable__content\"><pre>ColumnTransformer(transformers=[(&#x27;num&#x27;,\n",
       "                                 Pipeline(steps=[(&#x27;scaler&#x27;, StandardScaler()),\n",
       "                                                 (&#x27;pca&#x27;, PCA())]),\n",
       "                                 [&#x27;temp&#x27;, &#x27;humidity&#x27;, &#x27;hour&#x27;]),\n",
       "                                (&#x27;cat&#x27;, OneHotEncoder(handle_unknown=&#x27;ignore&#x27;),\n",
       "                                 [&#x27;season&#x27;, &#x27;weather&#x27;, &#x27;weekday&#x27;])])</pre></div></div></div><div class=\"sk-parallel\"><div class=\"sk-parallel-item\"><div class=\"sk-item\"><div class=\"sk-label-container\"><div class=\"sk-label sk-toggleable\"><input class=\"sk-toggleable__control sk-hidden--visually\" id=\"sk-estimator-id-4\" type=\"checkbox\" ><label for=\"sk-estimator-id-4\" class=\"sk-toggleable__label sk-toggleable__label-arrow\">num</label><div class=\"sk-toggleable__content\"><pre>[&#x27;temp&#x27;, &#x27;humidity&#x27;, &#x27;hour&#x27;]</pre></div></div></div><div class=\"sk-serial\"><div class=\"sk-item\"><div class=\"sk-serial\"><div class=\"sk-item\"><div class=\"sk-estimator sk-toggleable\"><input class=\"sk-toggleable__control sk-hidden--visually\" id=\"sk-estimator-id-5\" type=\"checkbox\" ><label for=\"sk-estimator-id-5\" class=\"sk-toggleable__label sk-toggleable__label-arrow\">StandardScaler</label><div class=\"sk-toggleable__content\"><pre>StandardScaler()</pre></div></div></div><div class=\"sk-item\"><div class=\"sk-estimator sk-toggleable\"><input class=\"sk-toggleable__control sk-hidden--visually\" id=\"sk-estimator-id-6\" type=\"checkbox\" ><label for=\"sk-estimator-id-6\" class=\"sk-toggleable__label sk-toggleable__label-arrow\">PCA</label><div class=\"sk-toggleable__content\"><pre>PCA()</pre></div></div></div></div></div></div></div></div><div class=\"sk-parallel-item\"><div class=\"sk-item\"><div class=\"sk-label-container\"><div class=\"sk-label sk-toggleable\"><input class=\"sk-toggleable__control sk-hidden--visually\" id=\"sk-estimator-id-7\" type=\"checkbox\" ><label for=\"sk-estimator-id-7\" class=\"sk-toggleable__label sk-toggleable__label-arrow\">cat</label><div class=\"sk-toggleable__content\"><pre>[&#x27;season&#x27;, &#x27;weather&#x27;, &#x27;weekday&#x27;]</pre></div></div></div><div class=\"sk-serial\"><div class=\"sk-item\"><div class=\"sk-estimator sk-toggleable\"><input class=\"sk-toggleable__control sk-hidden--visually\" id=\"sk-estimator-id-8\" type=\"checkbox\" ><label for=\"sk-estimator-id-8\" class=\"sk-toggleable__label sk-toggleable__label-arrow\">OneHotEncoder</label><div class=\"sk-toggleable__content\"><pre>OneHotEncoder(handle_unknown=&#x27;ignore&#x27;)</pre></div></div></div></div></div></div></div></div><div class=\"sk-item\"><div class=\"sk-estimator sk-toggleable\"><input class=\"sk-toggleable__control sk-hidden--visually\" id=\"sk-estimator-id-9\" type=\"checkbox\" ><label for=\"sk-estimator-id-9\" class=\"sk-toggleable__label sk-toggleable__label-arrow\">XGBRegressor</label><div class=\"sk-toggleable__content\"><pre>XGBRegressor(base_score=None, booster=None, callbacks=None,\n",
       "             colsample_bylevel=None, colsample_bynode=None,\n",
       "             colsample_bytree=None, early_stopping_rounds=None,\n",
       "             enable_categorical=False, eval_metric=None, gamma=None,\n",
       "             gpu_id=None, grow_policy=None, importance_type=None,\n",
       "             interaction_constraints=None, learning_rate=None, max_bin=None,\n",
       "             max_cat_to_onehot=None, max_delta_step=None, max_depth=None,\n",
       "             max_leaves=None, min_child_weight=None, missing=nan,\n",
       "             monotone_constraints=None, n_estimators=100, n_jobs=None,\n",
       "             num_parallel_tree=None, predictor=None, random_state=None,\n",
       "             reg_alpha=None, reg_lambda=None, ...)</pre></div></div></div></div></div></div></div></div></div></div></div></div>"
      ],
      "text/plain": [
       "GridSearchCV(cv=5,\n",
       "             estimator=Pipeline(steps=[('preporcessor',\n",
       "                                        ColumnTransformer(transformers=[('num',\n",
       "                                                                         Pipeline(steps=[('scaler',\n",
       "                                                                                          StandardScaler()),\n",
       "                                                                                         ('pca',\n",
       "                                                                                          PCA())]),\n",
       "                                                                         ['temp',\n",
       "                                                                          'humidity',\n",
       "                                                                          'hour']),\n",
       "                                                                        ('cat',\n",
       "                                                                         OneHotEncoder(handle_unknown='ignore'),\n",
       "                                                                         ['season',\n",
       "                                                                          'weather',\n",
       "                                                                          'weekday'])])),\n",
       "                                       ('xgbrg',\n",
       "                                        XGBRegressor(base_score=None,\n",
       "                                                     booster=None,\n",
       "                                                     callbacks=None,\n",
       "                                                     colsample_byleve...\n",
       "                                                     max_bin=None,\n",
       "                                                     max_cat_to_onehot=None,\n",
       "                                                     max_delta_step=None,\n",
       "                                                     max_depth=None,\n",
       "                                                     max_leaves=None,\n",
       "                                                     min_child_weight=None,\n",
       "                                                     missing=nan,\n",
       "                                                     monotone_constraints=None,\n",
       "                                                     n_estimators=100,\n",
       "                                                     n_jobs=None,\n",
       "                                                     num_parallel_tree=None,\n",
       "                                                     predictor=None,\n",
       "                                                     random_state=None,\n",
       "                                                     reg_alpha=None,\n",
       "                                                     reg_lambda=None, ...))]),\n",
       "             param_grid={'xgbrg__max_depth': [2, 3, 5, 7, 10],\n",
       "                         'xgbrg__n_estimators': [10, 100, 500]})"
      ]
     },
     "execution_count": 8,
     "metadata": {},
     "output_type": "execute_result"
    }
   ],
   "source": [
    "# "
   ]
  },
  {
   "cell_type": "markdown",
   "id": "4c9eebbe-cd48-4a87-ae1b-c9db8928c6b5",
   "metadata": {},
   "source": [
    "## 평가지표 구현"
   ]
  },
  {
   "cell_type": "code",
   "execution_count": 9,
   "id": "a13c68f3-05fc-488d-bc35-ea774afaddb6",
   "metadata": {},
   "outputs": [],
   "source": [
    "def rmsle(y, y_,convertExp=True):\n",
    "    \n",
    "    # 지수변환\n",
    "    if convertExp:\n",
    "        y = np.exp(y),\n",
    "        y_ = np.exp(y_)\n",
    "        \n",
    "    # 로그변환 후 결측값을 0으로 변환 \n",
    "    log1 = np.nan_to_num(np.array([np.log(v + 1) for v in y]))\n",
    "    log2 = np.nan_to_num(np.array([np.log(v + 1) for v in y_]))\n",
    "    calc = (log1 - log2) ** 2\n",
    "    \n",
    "    # RMSLE 계산\n",
    "    return np.sqrt(np.mean(calc))"
   ]
  },
  {
   "cell_type": "code",
   "execution_count": 10,
   "id": "35732398-c7e7-4977-a1a3-d0b379f8e1c0",
   "metadata": {},
   "outputs": [
    {
     "name": "stdout",
     "output_type": "stream",
     "text": [
      "RMSLE 값 : 0.524572464117511\n"
     ]
    }
   ],
   "source": [
    "# "
   ]
  },
  {
   "cell_type": "code",
   "execution_count": 11,
   "id": "e75ef618-35a4-4fd5-8e17-89d0a0b9ad92",
   "metadata": {},
   "outputs": [
    {
     "name": "stdout",
     "output_type": "stream",
     "text": [
      "<class 'pandas.core.frame.DataFrame'>\n",
      "Int64Index: 6493 entries, 0 to 6492\n",
      "Data columns (total 10 columns):\n",
      " #   Column      Non-Null Count  Dtype  \n",
      "---  ------      --------------  -----  \n",
      " 0   season      6493 non-null   object \n",
      " 1   holiday     6493 non-null   int64  \n",
      " 2   workingday  6493 non-null   int64  \n",
      " 3   weather     6493 non-null   object \n",
      " 4   temp        6493 non-null   float64\n",
      " 5   humidity    6493 non-null   int64  \n",
      " 6   year        6493 non-null   int64  \n",
      " 7   day         6493 non-null   int64  \n",
      " 8   hour        6493 non-null   int64  \n",
      " 9   weekday     6493 non-null   object \n",
      "dtypes: float64(1), int64(6), object(3)\n",
      "memory usage: 558.0+ KB\n"
     ]
    }
   ],
   "source": [
    "# "
   ]
  },
  {
   "cell_type": "code",
   "execution_count": 12,
   "id": "a5711522-34fd-41a6-a8e6-b69b70f4f16a",
   "metadata": {},
   "outputs": [],
   "source": [
    "# "
   ]
  },
  {
   "cell_type": "markdown",
   "id": "3ff6e57a-6da9-46ad-9eb5-1ffe16a411ae",
   "metadata": {},
   "source": [
    "## Random Search"
   ]
  },
  {
   "cell_type": "code",
   "execution_count": 13,
   "id": "b5e82be0-4803-4e48-ac24-5d1c7e49f35f",
   "metadata": {},
   "outputs": [
    {
     "data": {
      "text/html": [
       "<style>#sk-container-id-2 {color: black;background-color: white;}#sk-container-id-2 pre{padding: 0;}#sk-container-id-2 div.sk-toggleable {background-color: white;}#sk-container-id-2 label.sk-toggleable__label {cursor: pointer;display: block;width: 100%;margin-bottom: 0;padding: 0.3em;box-sizing: border-box;text-align: center;}#sk-container-id-2 label.sk-toggleable__label-arrow:before {content: \"▸\";float: left;margin-right: 0.25em;color: #696969;}#sk-container-id-2 label.sk-toggleable__label-arrow:hover:before {color: black;}#sk-container-id-2 div.sk-estimator:hover label.sk-toggleable__label-arrow:before {color: black;}#sk-container-id-2 div.sk-toggleable__content {max-height: 0;max-width: 0;overflow: hidden;text-align: left;background-color: #f0f8ff;}#sk-container-id-2 div.sk-toggleable__content pre {margin: 0.2em;color: black;border-radius: 0.25em;background-color: #f0f8ff;}#sk-container-id-2 input.sk-toggleable__control:checked~div.sk-toggleable__content {max-height: 200px;max-width: 100%;overflow: auto;}#sk-container-id-2 input.sk-toggleable__control:checked~label.sk-toggleable__label-arrow:before {content: \"▾\";}#sk-container-id-2 div.sk-estimator input.sk-toggleable__control:checked~label.sk-toggleable__label {background-color: #d4ebff;}#sk-container-id-2 div.sk-label input.sk-toggleable__control:checked~label.sk-toggleable__label {background-color: #d4ebff;}#sk-container-id-2 input.sk-hidden--visually {border: 0;clip: rect(1px 1px 1px 1px);clip: rect(1px, 1px, 1px, 1px);height: 1px;margin: -1px;overflow: hidden;padding: 0;position: absolute;width: 1px;}#sk-container-id-2 div.sk-estimator {font-family: monospace;background-color: #f0f8ff;border: 1px dotted black;border-radius: 0.25em;box-sizing: border-box;margin-bottom: 0.5em;}#sk-container-id-2 div.sk-estimator:hover {background-color: #d4ebff;}#sk-container-id-2 div.sk-parallel-item::after {content: \"\";width: 100%;border-bottom: 1px solid gray;flex-grow: 1;}#sk-container-id-2 div.sk-label:hover label.sk-toggleable__label {background-color: #d4ebff;}#sk-container-id-2 div.sk-serial::before {content: \"\";position: absolute;border-left: 1px solid gray;box-sizing: border-box;top: 0;bottom: 0;left: 50%;z-index: 0;}#sk-container-id-2 div.sk-serial {display: flex;flex-direction: column;align-items: center;background-color: white;padding-right: 0.2em;padding-left: 0.2em;position: relative;}#sk-container-id-2 div.sk-item {position: relative;z-index: 1;}#sk-container-id-2 div.sk-parallel {display: flex;align-items: stretch;justify-content: center;background-color: white;position: relative;}#sk-container-id-2 div.sk-item::before, #sk-container-id-2 div.sk-parallel-item::before {content: \"\";position: absolute;border-left: 1px solid gray;box-sizing: border-box;top: 0;bottom: 0;left: 50%;z-index: -1;}#sk-container-id-2 div.sk-parallel-item {display: flex;flex-direction: column;z-index: 1;position: relative;background-color: white;}#sk-container-id-2 div.sk-parallel-item:first-child::after {align-self: flex-end;width: 50%;}#sk-container-id-2 div.sk-parallel-item:last-child::after {align-self: flex-start;width: 50%;}#sk-container-id-2 div.sk-parallel-item:only-child::after {width: 0;}#sk-container-id-2 div.sk-dashed-wrapped {border: 1px dashed gray;margin: 0 0.4em 0.5em 0.4em;box-sizing: border-box;padding-bottom: 0.4em;background-color: white;}#sk-container-id-2 div.sk-label label {font-family: monospace;font-weight: bold;display: inline-block;line-height: 1.2em;}#sk-container-id-2 div.sk-label-container {text-align: center;}#sk-container-id-2 div.sk-container {/* jupyter's `normalize.less` sets `[hidden] { display: none; }` but bootstrap.min.css set `[hidden] { display: none !important; }` so we also need the `!important` here to be able to override the default hidden behavior on the sphinx rendered scikit-learn.org. See: https://github.com/scikit-learn/scikit-learn/issues/21755 */display: inline-block !important;position: relative;}#sk-container-id-2 div.sk-text-repr-fallback {display: none;}</style><div id=\"sk-container-id-2\" class=\"sk-top-container\"><div class=\"sk-text-repr-fallback\"><pre>RandomizedSearchCV(cv=5,\n",
       "                   estimator=Pipeline(steps=[(&#x27;preporcessor&#x27;,\n",
       "                                              ColumnTransformer(transformers=[(&#x27;num&#x27;,\n",
       "                                                                               Pipeline(steps=[(&#x27;scaler&#x27;,\n",
       "                                                                                                StandardScaler()),\n",
       "                                                                                               (&#x27;pca&#x27;,\n",
       "                                                                                                PCA())]),\n",
       "                                                                               [&#x27;temp&#x27;,\n",
       "                                                                                &#x27;humidity&#x27;,\n",
       "                                                                                &#x27;hour&#x27;]),\n",
       "                                                                              (&#x27;cat&#x27;,\n",
       "                                                                               OneHotEncoder(handle_unknown=&#x27;ignore&#x27;),\n",
       "                                                                               [&#x27;season&#x27;,\n",
       "                                                                                &#x27;weather&#x27;,\n",
       "                                                                                &#x27;weekday&#x27;])])),\n",
       "                                             (&#x27;xgbrg&#x27;,\n",
       "                                              XGBRegressor(base_score=None,\n",
       "                                                           booster=None,\n",
       "                                                           callbacks=None,\n",
       "                                                           colsample_...\n",
       "                                                           missing=nan,\n",
       "                                                           monotone_constraints=None,\n",
       "                                                           n_estimators=100,\n",
       "                                                           n_jobs=None,\n",
       "                                                           num_parallel_tree=None,\n",
       "                                                           predictor=None,\n",
       "                                                           random_state=None,\n",
       "                                                           reg_alpha=None,\n",
       "                                                           reg_lambda=None, ...))]),\n",
       "                   param_distributions={&#x27;xgbrg__eta&#x27;: &lt;scipy.stats._distn_infrastructure.rv_frozen object at 0x0000021F92EDC970&gt;,\n",
       "                                        &#x27;xgbrg__max_depth&#x27;: array([2, 3, 4, 5, 6, 7, 8, 9]),\n",
       "                                        &#x27;xgbrg__n_estimators&#x27;: array([2, 3, 4, 5, 6, 7, 8, 9])})</pre><b>In a Jupyter environment, please rerun this cell to show the HTML representation or trust the notebook. <br />On GitHub, the HTML representation is unable to render, please try loading this page with nbviewer.org.</b></div><div class=\"sk-container\" hidden><div class=\"sk-item sk-dashed-wrapped\"><div class=\"sk-label-container\"><div class=\"sk-label sk-toggleable\"><input class=\"sk-toggleable__control sk-hidden--visually\" id=\"sk-estimator-id-10\" type=\"checkbox\" ><label for=\"sk-estimator-id-10\" class=\"sk-toggleable__label sk-toggleable__label-arrow\">RandomizedSearchCV</label><div class=\"sk-toggleable__content\"><pre>RandomizedSearchCV(cv=5,\n",
       "                   estimator=Pipeline(steps=[(&#x27;preporcessor&#x27;,\n",
       "                                              ColumnTransformer(transformers=[(&#x27;num&#x27;,\n",
       "                                                                               Pipeline(steps=[(&#x27;scaler&#x27;,\n",
       "                                                                                                StandardScaler()),\n",
       "                                                                                               (&#x27;pca&#x27;,\n",
       "                                                                                                PCA())]),\n",
       "                                                                               [&#x27;temp&#x27;,\n",
       "                                                                                &#x27;humidity&#x27;,\n",
       "                                                                                &#x27;hour&#x27;]),\n",
       "                                                                              (&#x27;cat&#x27;,\n",
       "                                                                               OneHotEncoder(handle_unknown=&#x27;ignore&#x27;),\n",
       "                                                                               [&#x27;season&#x27;,\n",
       "                                                                                &#x27;weather&#x27;,\n",
       "                                                                                &#x27;weekday&#x27;])])),\n",
       "                                             (&#x27;xgbrg&#x27;,\n",
       "                                              XGBRegressor(base_score=None,\n",
       "                                                           booster=None,\n",
       "                                                           callbacks=None,\n",
       "                                                           colsample_...\n",
       "                                                           missing=nan,\n",
       "                                                           monotone_constraints=None,\n",
       "                                                           n_estimators=100,\n",
       "                                                           n_jobs=None,\n",
       "                                                           num_parallel_tree=None,\n",
       "                                                           predictor=None,\n",
       "                                                           random_state=None,\n",
       "                                                           reg_alpha=None,\n",
       "                                                           reg_lambda=None, ...))]),\n",
       "                   param_distributions={&#x27;xgbrg__eta&#x27;: &lt;scipy.stats._distn_infrastructure.rv_frozen object at 0x0000021F92EDC970&gt;,\n",
       "                                        &#x27;xgbrg__max_depth&#x27;: array([2, 3, 4, 5, 6, 7, 8, 9]),\n",
       "                                        &#x27;xgbrg__n_estimators&#x27;: array([2, 3, 4, 5, 6, 7, 8, 9])})</pre></div></div></div><div class=\"sk-parallel\"><div class=\"sk-parallel-item\"><div class=\"sk-item\"><div class=\"sk-label-container\"><div class=\"sk-label sk-toggleable\"><input class=\"sk-toggleable__control sk-hidden--visually\" id=\"sk-estimator-id-11\" type=\"checkbox\" ><label for=\"sk-estimator-id-11\" class=\"sk-toggleable__label sk-toggleable__label-arrow\">estimator: Pipeline</label><div class=\"sk-toggleable__content\"><pre>Pipeline(steps=[(&#x27;preporcessor&#x27;,\n",
       "                 ColumnTransformer(transformers=[(&#x27;num&#x27;,\n",
       "                                                  Pipeline(steps=[(&#x27;scaler&#x27;,\n",
       "                                                                   StandardScaler()),\n",
       "                                                                  (&#x27;pca&#x27;,\n",
       "                                                                   PCA())]),\n",
       "                                                  [&#x27;temp&#x27;, &#x27;humidity&#x27;, &#x27;hour&#x27;]),\n",
       "                                                 (&#x27;cat&#x27;,\n",
       "                                                  OneHotEncoder(handle_unknown=&#x27;ignore&#x27;),\n",
       "                                                  [&#x27;season&#x27;, &#x27;weather&#x27;,\n",
       "                                                   &#x27;weekday&#x27;])])),\n",
       "                (&#x27;xgbrg&#x27;,\n",
       "                 XGBRegressor(base_score=None, booster=None, callbacks=None,\n",
       "                              colsample_bylevel=None, colsample_bynode=None...\n",
       "                              gamma=None, gpu_id=None, grow_policy=None,\n",
       "                              importance_type=None,\n",
       "                              interaction_constraints=None, learning_rate=None,\n",
       "                              max_bin=None, max_cat_to_onehot=None,\n",
       "                              max_delta_step=None, max_depth=None,\n",
       "                              max_leaves=None, min_child_weight=None,\n",
       "                              missing=nan, monotone_constraints=None,\n",
       "                              n_estimators=100, n_jobs=None,\n",
       "                              num_parallel_tree=None, predictor=None,\n",
       "                              random_state=None, reg_alpha=None,\n",
       "                              reg_lambda=None, ...))])</pre></div></div></div><div class=\"sk-serial\"><div class=\"sk-item\"><div class=\"sk-serial\"><div class=\"sk-item sk-dashed-wrapped\"><div class=\"sk-label-container\"><div class=\"sk-label sk-toggleable\"><input class=\"sk-toggleable__control sk-hidden--visually\" id=\"sk-estimator-id-12\" type=\"checkbox\" ><label for=\"sk-estimator-id-12\" class=\"sk-toggleable__label sk-toggleable__label-arrow\">preporcessor: ColumnTransformer</label><div class=\"sk-toggleable__content\"><pre>ColumnTransformer(transformers=[(&#x27;num&#x27;,\n",
       "                                 Pipeline(steps=[(&#x27;scaler&#x27;, StandardScaler()),\n",
       "                                                 (&#x27;pca&#x27;, PCA())]),\n",
       "                                 [&#x27;temp&#x27;, &#x27;humidity&#x27;, &#x27;hour&#x27;]),\n",
       "                                (&#x27;cat&#x27;, OneHotEncoder(handle_unknown=&#x27;ignore&#x27;),\n",
       "                                 [&#x27;season&#x27;, &#x27;weather&#x27;, &#x27;weekday&#x27;])])</pre></div></div></div><div class=\"sk-parallel\"><div class=\"sk-parallel-item\"><div class=\"sk-item\"><div class=\"sk-label-container\"><div class=\"sk-label sk-toggleable\"><input class=\"sk-toggleable__control sk-hidden--visually\" id=\"sk-estimator-id-13\" type=\"checkbox\" ><label for=\"sk-estimator-id-13\" class=\"sk-toggleable__label sk-toggleable__label-arrow\">num</label><div class=\"sk-toggleable__content\"><pre>[&#x27;temp&#x27;, &#x27;humidity&#x27;, &#x27;hour&#x27;]</pre></div></div></div><div class=\"sk-serial\"><div class=\"sk-item\"><div class=\"sk-serial\"><div class=\"sk-item\"><div class=\"sk-estimator sk-toggleable\"><input class=\"sk-toggleable__control sk-hidden--visually\" id=\"sk-estimator-id-14\" type=\"checkbox\" ><label for=\"sk-estimator-id-14\" class=\"sk-toggleable__label sk-toggleable__label-arrow\">StandardScaler</label><div class=\"sk-toggleable__content\"><pre>StandardScaler()</pre></div></div></div><div class=\"sk-item\"><div class=\"sk-estimator sk-toggleable\"><input class=\"sk-toggleable__control sk-hidden--visually\" id=\"sk-estimator-id-15\" type=\"checkbox\" ><label for=\"sk-estimator-id-15\" class=\"sk-toggleable__label sk-toggleable__label-arrow\">PCA</label><div class=\"sk-toggleable__content\"><pre>PCA()</pre></div></div></div></div></div></div></div></div><div class=\"sk-parallel-item\"><div class=\"sk-item\"><div class=\"sk-label-container\"><div class=\"sk-label sk-toggleable\"><input class=\"sk-toggleable__control sk-hidden--visually\" id=\"sk-estimator-id-16\" type=\"checkbox\" ><label for=\"sk-estimator-id-16\" class=\"sk-toggleable__label sk-toggleable__label-arrow\">cat</label><div class=\"sk-toggleable__content\"><pre>[&#x27;season&#x27;, &#x27;weather&#x27;, &#x27;weekday&#x27;]</pre></div></div></div><div class=\"sk-serial\"><div class=\"sk-item\"><div class=\"sk-estimator sk-toggleable\"><input class=\"sk-toggleable__control sk-hidden--visually\" id=\"sk-estimator-id-17\" type=\"checkbox\" ><label for=\"sk-estimator-id-17\" class=\"sk-toggleable__label sk-toggleable__label-arrow\">OneHotEncoder</label><div class=\"sk-toggleable__content\"><pre>OneHotEncoder(handle_unknown=&#x27;ignore&#x27;)</pre></div></div></div></div></div></div></div></div><div class=\"sk-item\"><div class=\"sk-estimator sk-toggleable\"><input class=\"sk-toggleable__control sk-hidden--visually\" id=\"sk-estimator-id-18\" type=\"checkbox\" ><label for=\"sk-estimator-id-18\" class=\"sk-toggleable__label sk-toggleable__label-arrow\">XGBRegressor</label><div class=\"sk-toggleable__content\"><pre>XGBRegressor(base_score=None, booster=None, callbacks=None,\n",
       "             colsample_bylevel=None, colsample_bynode=None,\n",
       "             colsample_bytree=None, early_stopping_rounds=None,\n",
       "             enable_categorical=False, eval_metric=None, gamma=None,\n",
       "             gpu_id=None, grow_policy=None, importance_type=None,\n",
       "             interaction_constraints=None, learning_rate=None, max_bin=None,\n",
       "             max_cat_to_onehot=None, max_delta_step=None, max_depth=None,\n",
       "             max_leaves=None, min_child_weight=None, missing=nan,\n",
       "             monotone_constraints=None, n_estimators=100, n_jobs=None,\n",
       "             num_parallel_tree=None, predictor=None, random_state=None,\n",
       "             reg_alpha=None, reg_lambda=None, ...)</pre></div></div></div></div></div></div></div></div></div></div></div></div>"
      ],
      "text/plain": [
       "RandomizedSearchCV(cv=5,\n",
       "                   estimator=Pipeline(steps=[('preporcessor',\n",
       "                                              ColumnTransformer(transformers=[('num',\n",
       "                                                                               Pipeline(steps=[('scaler',\n",
       "                                                                                                StandardScaler()),\n",
       "                                                                                               ('pca',\n",
       "                                                                                                PCA())]),\n",
       "                                                                               ['temp',\n",
       "                                                                                'humidity',\n",
       "                                                                                'hour']),\n",
       "                                                                              ('cat',\n",
       "                                                                               OneHotEncoder(handle_unknown='ignore'),\n",
       "                                                                               ['season',\n",
       "                                                                                'weather',\n",
       "                                                                                'weekday'])])),\n",
       "                                             ('xgbrg',\n",
       "                                              XGBRegressor(base_score=None,\n",
       "                                                           booster=None,\n",
       "                                                           callbacks=None,\n",
       "                                                           colsample_...\n",
       "                                                           missing=nan,\n",
       "                                                           monotone_constraints=None,\n",
       "                                                           n_estimators=100,\n",
       "                                                           n_jobs=None,\n",
       "                                                           num_parallel_tree=None,\n",
       "                                                           predictor=None,\n",
       "                                                           random_state=None,\n",
       "                                                           reg_alpha=None,\n",
       "                                                           reg_lambda=None, ...))]),\n",
       "                   param_distributions={'xgbrg__eta': <scipy.stats._distn_infrastructure.rv_frozen object at 0x0000021F92EDC970>,\n",
       "                                        'xgbrg__max_depth': array([2, 3, 4, 5, 6, 7, 8, 9]),\n",
       "                                        'xgbrg__n_estimators': array([2, 3, 4, 5, 6, 7, 8, 9])})"
      ]
     },
     "execution_count": 13,
     "metadata": {},
     "output_type": "execute_result"
    }
   ],
   "source": [
    "# "
   ]
  },
  {
   "cell_type": "code",
   "execution_count": 14,
   "id": "d8c2af93-25d0-4fc6-82c5-d0effced8f1f",
   "metadata": {},
   "outputs": [
    {
     "name": "stdout",
     "output_type": "stream",
     "text": [
      "RMSLE 값 : 2.643472579381856\n"
     ]
    }
   ],
   "source": [
    "# "
   ]
  },
  {
   "cell_type": "code",
   "execution_count": 15,
   "id": "85c56c52-8e11-471c-b920-6b139db4796b",
   "metadata": {},
   "outputs": [],
   "source": [
    "# "
   ]
  },
  {
   "cell_type": "markdown",
   "id": "188c1614-6332-4cfe-8467-92be0509d214",
   "metadata": {},
   "source": [
    "## 다중 모형 적용\n",
    "- XGBoost외에 다중 모형을 적용해본다. "
   ]
  },
  {
   "cell_type": "code",
   "execution_count": 16,
   "id": "9b6c47c1",
   "metadata": {},
   "outputs": [],
   "source": [
    "# (1) 수치형 변수 StandardScaler()\n",
    "num_features = [\"temp\", \"humidity\", \"hour\"]\n",
    "num_transformer = Pipeline(\n",
    "    steps = [(\"scaler\", StandardScaler()), (\"pca\", PCA())]\n",
    ")\n",
    "\n",
    "# (2) 범주형 변수 원핫 인코딩 OneHotEncoder()\n",
    "cat_features = [\"season\", \"weather\", \"weekday\"]\n",
    "cat_transformer = OneHotEncoder(handle_unknown=\"ignore\")\n",
    "\n",
    "# (3) ColumnTransformer\n",
    "preprocessor = ColumnTransformer(\n",
    "    transformers = [\n",
    "        (\"num\", num_transformer, num_features), \n",
    "        (\"cat\", cat_transformer, cat_features)\n",
    "    ]\n",
    ")"
   ]
  },
  {
   "cell_type": "markdown",
   "id": "dc7bd0eb",
   "metadata": {},
   "source": [
    "- 다른 모형을 가져온다."
   ]
  },
  {
   "cell_type": "code",
   "execution_count": 17,
   "id": "0d940826",
   "metadata": {},
   "outputs": [
    {
     "name": "stdout",
     "output_type": "stream",
     "text": [
      "RandomForestRegressor()\n",
      "RMSLE 값 : 0.5083792716931924\n",
      "DecisionTreeRegressor()\n",
      "RMSLE 값 : 0.733073139098366\n",
      "LinearRegression()\n",
      "RMSLE 값 : 1.0365807829953815\n",
      "XGBRegressor(base_score=0.5, booster='gbtree', callbacks=None,\n",
      "             colsample_bylevel=1, colsample_bynode=1, colsample_bytree=1,\n",
      "             early_stopping_rounds=None, enable_categorical=False,\n",
      "             eval_metric=None, gamma=0, gpu_id=-1, grow_policy='depthwise',\n",
      "             importance_type=None, interaction_constraints='',\n",
      "             learning_rate=0.300000012, max_bin=256, max_cat_to_onehot=4,\n",
      "             max_delta_step=0, max_depth=6, max_leaves=0, min_child_weight=1,\n",
      "             missing=nan, monotone_constraints='()', n_estimators=100, n_jobs=0,\n",
      "             num_parallel_tree=1, predictor='auto', random_state=0, reg_alpha=0,\n",
      "             reg_lambda=1, ...)\n",
      "RMSLE 값 : 0.5673134783992354\n"
     ]
    }
   ],
   "source": [
    "from sklearn.ensemble import RandomForestRegressor\n",
    "from sklearn.tree import DecisionTreeRegressor\n",
    "from sklearn.linear_model import LinearRegression\n",
    "\n",
    "log_y_val = np.log(y_valid)\n",
    "log_y_train = np.log(y_train)\n",
    "\n",
    "regressors = [\n",
    "    RandomForestRegressor()\n",
    "   , DecisionTreeRegressor()\n",
    "   , LinearRegression()\n",
    "   , XGBRegressor()\n",
    "]\n",
    "\n",
    "# regressors = [pipe_rf, pipe_dt]\n",
    "for regressor in regressors:\n",
    "    pipeline = Pipeline(steps = [\n",
    "               ('preprocessor', preprocessor)\n",
    "              ,('regressor', regressor)\n",
    "           ])\n",
    "    model = pipeline.fit(X_train, log_y_train)\n",
    "    preds = model.predict(X_valid)\n",
    "    print(regressor)\n",
    "    # 선형회귀 값\n",
    "    print(\"RMSLE 값 :\", rmsle(log_y_val, preds, True))"
   ]
  },
  {
   "cell_type": "markdown",
   "id": "7a15991f-67bb-4b8b-8084-85e798c736ce",
   "metadata": {},
   "source": [
    "- 이번에는 Grid Search 및 Pipeline을 통해서 가장 좋은 Regressor를 작성해본다. "
   ]
  },
  {
   "cell_type": "code",
   "execution_count": 19,
   "id": "c6117757-3ad9-4df4-acbb-6f3a13fd3fa6",
   "metadata": {},
   "outputs": [
    {
     "name": "stdout",
     "output_type": "stream",
     "text": [
      "RandomForestRegressor() {'regressor__max_depth': array([2, 3, 4, 5, 6, 7, 8, 9])}\n",
      "\n",
      "\n",
      "BEST CLASSIFIER: Pipeline(steps=[('preprocessor',\n",
      "                 ColumnTransformer(transformers=[('num',\n",
      "                                                  Pipeline(steps=[('scaler',\n",
      "                                                                   StandardScaler()),\n",
      "                                                                  ('pca',\n",
      "                                                                   PCA())]),\n",
      "                                                  ['temp', 'humidity', 'hour']),\n",
      "                                                 ('cat',\n",
      "                                                  OneHotEncoder(handle_unknown='ignore'),\n",
      "                                                  ['season', 'weather',\n",
      "                                                   'weekday'])])),\n",
      "                ('regressor', RandomForestRegressor(max_depth=9))])\n",
      "RMSLE 값 : 0.6178586203320343\n",
      "DecisionTreeRegressor() {'regressor__max_depth': array([2, 3, 4, 5, 6, 7, 8, 9])}\n",
      "\n",
      "\n",
      "BEST CLASSIFIER: Pipeline(steps=[('preprocessor',\n",
      "                 ColumnTransformer(transformers=[('num',\n",
      "                                                  Pipeline(steps=[('scaler',\n",
      "                                                                   StandardScaler()),\n",
      "                                                                  ('pca',\n",
      "                                                                   PCA())]),\n",
      "                                                  ['temp', 'humidity', 'hour']),\n",
      "                                                 ('cat',\n",
      "                                                  OneHotEncoder(handle_unknown='ignore'),\n",
      "                                                  ['season', 'weather',\n",
      "                                                   'weekday'])])),\n",
      "                ('regressor', DecisionTreeRegressor(max_depth=9))])\n",
      "RMSLE 값 : 0.7364981334014901\n",
      "XGBRegressor(base_score=None, booster=None, callbacks=None,\n",
      "             colsample_bylevel=None, colsample_bynode=None,\n",
      "             colsample_bytree=None, early_stopping_rounds=None,\n",
      "             enable_categorical=False, eval_metric=None, gamma=None,\n",
      "             gpu_id=None, grow_policy=None, importance_type=None,\n",
      "             interaction_constraints=None, learning_rate=None, max_bin=None,\n",
      "             max_cat_to_onehot=None, max_delta_step=None, max_depth=None,\n",
      "             max_leaves=None, min_child_weight=None, missing=nan,\n",
      "             monotone_constraints=None, n_estimators=100, n_jobs=None,\n",
      "             num_parallel_tree=None, predictor=None, random_state=None,\n",
      "             reg_alpha=None, reg_lambda=None, ...) {'regressor__max_depth': array([2, 3, 4, 5, 6, 7, 8, 9]), 'regressor__n_estimators': array([2, 3, 4, 5, 6, 7, 8, 9]), 'regressor__eta': [0.0001, 0.1]}\n",
      "\n",
      "\n",
      "BEST CLASSIFIER: Pipeline(steps=[('preprocessor',\n",
      "                 ColumnTransformer(transformers=[('num',\n",
      "                                                  Pipeline(steps=[('scaler',\n",
      "                                                                   StandardScaler()),\n",
      "                                                                  ('pca',\n",
      "                                                                   PCA())]),\n",
      "                                                  ['temp', 'humidity', 'hour']),\n",
      "                                                 ('cat',\n",
      "                                                  OneHotEncoder(handle_unknown='ignore'),\n",
      "                                                  ['season', 'weather',\n",
      "                                                   'weekday'])])),\n",
      "                ('regressor',\n",
      "                 XGBRegressor(base_score=0.5, booster='gbtree', callbacks=None,\n",
      "                              colsample_bylevel=1, colsample_bynode=...\n",
      "                              eval_metric=None, gamma=0, gpu_id=-1,\n",
      "                              grow_policy='depthwise', importance_type=None,\n",
      "                              interaction_constraints='',\n",
      "                              learning_rate=0.100000001, max_bin=256,\n",
      "                              max_cat_to_onehot=4, max_delta_step=0,\n",
      "                              max_depth=9, max_leaves=0, min_child_weight=1,\n",
      "                              missing=nan, monotone_constraints='()',\n",
      "                              n_estimators=9, n_jobs=0, num_parallel_tree=1,\n",
      "                              predictor='auto', random_state=0, reg_alpha=0, ...))])\n",
      "RMSLE 값 : 1.7677568623017765\n"
     ]
    }
   ],
   "source": [
    "log_y_val = np.log(y_valid)\n",
    "log_y_train = np.log(y_train)\n",
    "\n",
    "regressors = [\n",
    "    RandomForestRegressor()\n",
    "   , DecisionTreeRegressor()\n",
    "   , XGBRegressor()\n",
    "]\n",
    "\n",
    "param_grids = [\n",
    "    {\n",
    "     'regressor__max_depth' : np.arange(2, 10)\n",
    "    }, \n",
    "    {\n",
    "     'regressor__max_depth' : np.arange(2, 10)\n",
    "    }, \n",
    "    {\n",
    "     'regressor__max_depth' : np.arange(2, 10), \n",
    "     'regressor__n_estimators' : np.arange(2, 10), \n",
    "     'regressor__eta': [0.0001, 0.1]\n",
    "    }\n",
    "]\n",
    "\n",
    "for (regressor, param_grid) in zip(regressors, param_grids):\n",
    "    print(regressor, param_grid)\n",
    "    pipe_lr_model = Pipeline(steps = [\n",
    "               ('preprocessor', preprocessor)\n",
    "              ,('regressor',regressor)\n",
    "           ])\n",
    "    \n",
    "    multi_gridCV = GridSearchCV(pipe_lr_model, cv=3, param_grid=param_grid)\n",
    "    model = multi_gridCV.fit(X_train, log_y_train)\n",
    "    preds = model.predict(X_valid)\n",
    "    final_regressor = multi_gridCV.best_estimator_\n",
    "    print(f\"\\n\\nBEST CLASSIFIER: {final_regressor}\")\n",
    "    print(\"RMSLE 값 :\", rmsle(log_y_val, preds, True))"
   ]
  },
  {
   "cell_type": "markdown",
   "id": "44514db9",
   "metadata": {},
   "source": []
  }
 ],
 "metadata": {
  "kernelspec": {
   "display_name": "Python 3 (ipykernel)",
   "language": "python",
   "name": "python3"
  },
  "language_info": {
   "codemirror_mode": {
    "name": "ipython",
    "version": 3
   },
   "file_extension": ".py",
   "mimetype": "text/x-python",
   "name": "python",
   "nbconvert_exporter": "python",
   "pygments_lexer": "ipython3",
   "version": "3.9.13"
  },
  "vscode": {
   "interpreter": {
    "hash": "85863db123ec1ac8be1a52777a58957f807e8da87b58f8c3bebfdd743666f87d"
   }
  }
 },
 "nbformat": 4,
 "nbformat_minor": 5
}
