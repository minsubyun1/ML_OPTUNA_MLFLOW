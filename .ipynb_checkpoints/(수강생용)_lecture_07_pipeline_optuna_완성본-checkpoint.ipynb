{
 "cells": [
  {
   "cell_type": "markdown",
   "id": "ed086ee1-20ec-4f6f-8c37-0efc146cc1e9",
   "metadata": {},
   "source": [
    "## 머신러닝 Pipeline + Optuna\n",
    "- 이전 강의들에서 결측치 처리, 모델 학습 등을 진행하였다. \n",
    "- 이 때, 결측치 처리, 스케일링, 하이퍼 파라미터 등을 최소화하여 쉽게 연결할 수 있도록 도와준다. \n",
    "- 본 예제에서는 scikit-learn pipeline에 대해 학습할 예정이다. "
   ]
  },
  {
   "cell_type": "markdown",
   "id": "d532f16f-799f-4bcf-9ca8-7c6666664899",
   "metadata": {},
   "source": [
    "## 필수 라이브러리 불러오기\n",
    "- 본 튜토리얼에 적합한 주요 라이브러리들을 불러온다. "
   ]
  },
  {
   "cell_type": "code",
   "execution_count": 1,
   "id": "2f0fea8e-14f6-4ae2-bcfe-2631e814793f",
   "metadata": {},
   "outputs": [
    {
     "name": "stdout",
     "output_type": "stream",
     "text": [
      "numpy version 1.23.1\n",
      "pandas version 1.4.3\n",
      "seaborn version 0.11.2\n",
      "sklearn version 1.1.1\n",
      "optuna version 3.0.0b1\n",
      "xgboost version 1.6.1\n"
     ]
    }
   ],
   "source": [
    "import numpy as np\n",
    "import pandas as pd\n",
    "import seaborn as sns \n",
    "import sklearn\n",
    "from sklearn.compose import ColumnTransformer\n",
    "from sklearn.decomposition import PCA\n",
    "from sklearn.impute import SimpleImputer\n",
    "from sklearn.preprocessing import StandardScaler\n",
    "from sklearn.preprocessing import OneHotEncoder\n",
    "from sklearn.linear_model import LinearRegression\n",
    "from sklearn.pipeline import Pipeline\n",
    "from sklearn.model_selection import train_test_split\n",
    "from sklearn.metrics import mean_squared_error, r2_score\n",
    "from sklearn.model_selection import GridSearchCV, RandomizedSearchCV\n",
    "from sklearn import set_config\n",
    "import optuna\n",
    "import mlflow\n",
    "\n",
    "import xgboost\n",
    "from xgboost import XGBRegressor\n",
    "\n",
    "print(f\"numpy version {np.__version__}\")\n",
    "print(f\"pandas version {pd.__version__}\")\n",
    "print(f\"seaborn version {sns.__version__}\")\n",
    "print(f\"sklearn version {sklearn.__version__}\")\n",
    "print(f\"optuna version {optuna.__version__}\")\n",
    "print(f\"xgboost version {xgboost.__version__}\")"
   ]
  },
  {
   "cell_type": "markdown",
   "id": "6e559399-cf51-4d11-b33d-7a87518c0bc7",
   "metadata": {},
   "source": [
    "## 데이터 불러오기\n",
    "- 본 실습을 위해 간단한 데이터를 불러온다. "
   ]
  },
  {
   "cell_type": "code",
   "execution_count": 2,
   "id": "f0346f74-8b03-405f-b504-3a21af67df34",
   "metadata": {},
   "outputs": [
    {
     "data": {
      "text/plain": [
       "((10886, 12), (6493, 9), (6493, 2))"
      ]
     },
     "execution_count": 2,
     "metadata": {},
     "output_type": "execute_result"
    }
   ],
   "source": [
    "# DATA_PATH = \"C:\\\\Users\\\\human\\\\Desktop\\\\mlops_tutorial\\\\data\\\\bike-sharing-demand\\\\\"\n",
    "DATA_PATH = \"C:\\\\Users\\\\j2hoo\\\\OneDrive\\\\Desktop\\\\mlops_tutorial\\\\data\\\\bike-sharing-demand\\\\\"\n",
    "\n",
    "train_df = pd.read_csv(DATA_PATH + \"train.csv\")\n",
    "test = pd.read_csv(DATA_PATH + \"test.csv\")\n",
    "submission = pd.read_csv(DATA_PATH + \"sampleSubmission.csv\")\n",
    "\n",
    "train_df.shape, test.shape, submission.shape"
   ]
  },
  {
   "cell_type": "markdown",
   "id": "fd0264ef-15bc-474a-9b13-2a0534444aac",
   "metadata": {},
   "source": [
    "## 데이터 전처리\n",
    "- 데이터 전처리는 기존 강의와 비슷하게 진행한다. \n",
    "- 단, 범주형 데이터셋은 그대로 놔두도록 한다. "
   ]
  },
  {
   "cell_type": "code",
   "execution_count": 3,
   "id": "55faf2eb-7194-42e1-872b-e61161b473cb",
   "metadata": {},
   "outputs": [
    {
     "name": "stdout",
     "output_type": "stream",
     "text": [
      "<class 'pandas.core.frame.DataFrame'>\n",
      "Int64Index: 17378 entries, 0 to 6492\n",
      "Data columns (total 10 columns):\n",
      " #   Column      Non-Null Count  Dtype  \n",
      "---  ------      --------------  -----  \n",
      " 0   season      17378 non-null  object \n",
      " 1   holiday     17378 non-null  int64  \n",
      " 2   workingday  17378 non-null  int64  \n",
      " 3   weather     17378 non-null  object \n",
      " 4   temp        17378 non-null  float64\n",
      " 5   humidity    17378 non-null  int64  \n",
      " 6   year        17378 non-null  int64  \n",
      " 7   day         17378 non-null  int64  \n",
      " 8   hour        17378 non-null  int64  \n",
      " 9   weekday     17378 non-null  object \n",
      "dtypes: float64(1), int64(6), object(3)\n",
      "memory usage: 1.5+ MB\n"
     ]
    }
   ],
   "source": [
    "# 타깃값 별도 저장\n",
    "train_df = train_df[train_df['weather'] != 4]\n",
    "y = train_df['count'] # 타깃값\n",
    "\n",
    "# count 컬럼 제거\n",
    "train_df = train_df.drop(['count'], axis=1)\n",
    "\n",
    "# 데이터 합치기\n",
    "all_df = pd.concat([train_df, test])\n",
    "\n",
    "# 날짜 데이터로 파생변수 만들기\n",
    "all_df['date'] = pd.to_datetime(all_df['datetime'])\n",
    "all_df['year'] = all_df['date'].dt.year\n",
    "all_df['date'] = pd.to_datetime(all_df['datetime'])\n",
    "all_df['year'] = all_df['date'].dt.year\n",
    "all_df['month'] = all_df['date'].dt.month\n",
    "all_df['day'] = all_df['date'].dt.day\n",
    "all_df['hour'] = all_df['date'].dt.hour\n",
    "all_df['weekday'] = all_df['date'].dt.day_name()\n",
    "\n",
    "# 원-핫 인코딩을 위해 변경함\n",
    "season_num = [1, 2, 3, 4]\n",
    "season_str = ['Spring', 'Summer', 'Fall', 'Winter']\n",
    "all_df['season'] = all_df['season'].replace(season_num, season_str)\n",
    "\n",
    "weather_num = [1, 2, 3, 4]\n",
    "weather_str = ['Clear', 'Few Clouds', 'Light Snow, Rain', 'Heavy Snow, Rain']\n",
    "all_df['weather'] = all_df['weather'].replace(season_num, season_str)\n",
    "\n",
    "del_features = ['casual', 'registered', 'datetime', 'date', 'windspeed', 'month', 'atemp']\n",
    "all_df = all_df.drop(del_features, axis=1)\n",
    "\n",
    "all_df.info()"
   ]
  },
  {
   "cell_type": "markdown",
   "id": "21c18525-3ad0-46a1-8b5f-f601f678dc5d",
   "metadata": {},
   "source": [
    "## 데이터셋 분리"
   ]
  },
  {
   "cell_type": "code",
   "execution_count": 4,
   "id": "7ea3fc09-ead6-4a48-8bd1-d6da8caa48e3",
   "metadata": {},
   "outputs": [
    {
     "data": {
      "text/plain": [
       "((10885, 10), (6493, 10))"
      ]
     },
     "execution_count": 4,
     "metadata": {},
     "output_type": "execute_result"
    }
   ],
   "source": [
    "train = all_df.iloc[0:len(y), :]\n",
    "test = all_df.iloc[len(y):, :]\n",
    "train.shape, test.shape"
   ]
  },
  {
   "cell_type": "code",
   "execution_count": 5,
   "id": "a1032ce2-e1bf-4e81-bbc3-c1b73ef4885d",
   "metadata": {},
   "outputs": [
    {
     "data": {
      "text/plain": [
       "((7619, 10), (3266, 10), (7619,), (3266,))"
      ]
     },
     "execution_count": 5,
     "metadata": {},
     "output_type": "execute_result"
    }
   ],
   "source": [
    "# train_test_split\n",
    "X_train, X_valid, y_train, y_valid = train_test_split(train, y, test_size=0.3, shuffle=True, random_state=42)\n",
    "X_train.shape, X_valid.shape, y_train.shape, y_valid.shape"
   ]
  },
  {
   "cell_type": "markdown",
   "id": "5debd59c-839e-45b4-9c73-6c338008a40d",
   "metadata": {},
   "source": [
    "## 데이터 전처리 파이프라인 만들기\n",
    "- (1) 수치형 변수에 대해서는 StandardScaler() 클래스를 이용해서 표준화를 진행했다. \n",
    "- (2) 범주형 변수의 원핫인코딩하는 데이터 전처리 파이프라인을 만든다. "
   ]
  },
  {
   "cell_type": "code",
   "execution_count": 6,
   "id": "94e08e0c-b9b2-4bff-a3e6-cbe8fc760e43",
   "metadata": {},
   "outputs": [],
   "source": [
    "# (1) 수치형 변수 StandardScaler()\n",
    "num_features = [\"temp\", \"humidity\", \"hour\"]\n",
    "num_transformer = Pipeline(\n",
    "    steps = [(\"scaler\", StandardScaler()), (\"pca\", PCA())]\n",
    ")\n",
    "\n",
    "# (2) 범주형 변수 원핫 인코딩 OneHotEncoder()\n",
    "cat_features = [\"season\", \"weather\", \"weekday\"]\n",
    "cat_transformer = OneHotEncoder(handle_unknown=\"ignore\")\n",
    "\n",
    "# (3) ColumnTransformer\n",
    "preprocessor = ColumnTransformer(\n",
    "    transformers = [\n",
    "        (\"num\", num_transformer, num_features), \n",
    "        (\"cat\", cat_transformer, cat_features)\n",
    "    ]\n",
    ")"
   ]
  },
  {
   "cell_type": "markdown",
   "id": "6cb02177-8f63-4469-96b1-f3d064366b90",
   "metadata": {},
   "source": [
    "## Optuna\n",
    "- 그리드 서치 리뷰"
   ]
  },
  {
   "cell_type": "code",
   "execution_count": 8,
   "id": "abde175d-fa28-4bda-98e4-a17063565235",
   "metadata": {},
   "outputs": [
    {
     "data": {
      "text/html": [
       "<style>#sk-container-id-1 {color: black;background-color: white;}#sk-container-id-1 pre{padding: 0;}#sk-container-id-1 div.sk-toggleable {background-color: white;}#sk-container-id-1 label.sk-toggleable__label {cursor: pointer;display: block;width: 100%;margin-bottom: 0;padding: 0.3em;box-sizing: border-box;text-align: center;}#sk-container-id-1 label.sk-toggleable__label-arrow:before {content: \"▸\";float: left;margin-right: 0.25em;color: #696969;}#sk-container-id-1 label.sk-toggleable__label-arrow:hover:before {color: black;}#sk-container-id-1 div.sk-estimator:hover label.sk-toggleable__label-arrow:before {color: black;}#sk-container-id-1 div.sk-toggleable__content {max-height: 0;max-width: 0;overflow: hidden;text-align: left;background-color: #f0f8ff;}#sk-container-id-1 div.sk-toggleable__content pre {margin: 0.2em;color: black;border-radius: 0.25em;background-color: #f0f8ff;}#sk-container-id-1 input.sk-toggleable__control:checked~div.sk-toggleable__content {max-height: 200px;max-width: 100%;overflow: auto;}#sk-container-id-1 input.sk-toggleable__control:checked~label.sk-toggleable__label-arrow:before {content: \"▾\";}#sk-container-id-1 div.sk-estimator input.sk-toggleable__control:checked~label.sk-toggleable__label {background-color: #d4ebff;}#sk-container-id-1 div.sk-label input.sk-toggleable__control:checked~label.sk-toggleable__label {background-color: #d4ebff;}#sk-container-id-1 input.sk-hidden--visually {border: 0;clip: rect(1px 1px 1px 1px);clip: rect(1px, 1px, 1px, 1px);height: 1px;margin: -1px;overflow: hidden;padding: 0;position: absolute;width: 1px;}#sk-container-id-1 div.sk-estimator {font-family: monospace;background-color: #f0f8ff;border: 1px dotted black;border-radius: 0.25em;box-sizing: border-box;margin-bottom: 0.5em;}#sk-container-id-1 div.sk-estimator:hover {background-color: #d4ebff;}#sk-container-id-1 div.sk-parallel-item::after {content: \"\";width: 100%;border-bottom: 1px solid gray;flex-grow: 1;}#sk-container-id-1 div.sk-label:hover label.sk-toggleable__label {background-color: #d4ebff;}#sk-container-id-1 div.sk-serial::before {content: \"\";position: absolute;border-left: 1px solid gray;box-sizing: border-box;top: 0;bottom: 0;left: 50%;z-index: 0;}#sk-container-id-1 div.sk-serial {display: flex;flex-direction: column;align-items: center;background-color: white;padding-right: 0.2em;padding-left: 0.2em;position: relative;}#sk-container-id-1 div.sk-item {position: relative;z-index: 1;}#sk-container-id-1 div.sk-parallel {display: flex;align-items: stretch;justify-content: center;background-color: white;position: relative;}#sk-container-id-1 div.sk-item::before, #sk-container-id-1 div.sk-parallel-item::before {content: \"\";position: absolute;border-left: 1px solid gray;box-sizing: border-box;top: 0;bottom: 0;left: 50%;z-index: -1;}#sk-container-id-1 div.sk-parallel-item {display: flex;flex-direction: column;z-index: 1;position: relative;background-color: white;}#sk-container-id-1 div.sk-parallel-item:first-child::after {align-self: flex-end;width: 50%;}#sk-container-id-1 div.sk-parallel-item:last-child::after {align-self: flex-start;width: 50%;}#sk-container-id-1 div.sk-parallel-item:only-child::after {width: 0;}#sk-container-id-1 div.sk-dashed-wrapped {border: 1px dashed gray;margin: 0 0.4em 0.5em 0.4em;box-sizing: border-box;padding-bottom: 0.4em;background-color: white;}#sk-container-id-1 div.sk-label label {font-family: monospace;font-weight: bold;display: inline-block;line-height: 1.2em;}#sk-container-id-1 div.sk-label-container {text-align: center;}#sk-container-id-1 div.sk-container {/* jupyter's `normalize.less` sets `[hidden] { display: none; }` but bootstrap.min.css set `[hidden] { display: none !important; }` so we also need the `!important` here to be able to override the default hidden behavior on the sphinx rendered scikit-learn.org. See: https://github.com/scikit-learn/scikit-learn/issues/21755 */display: inline-block !important;position: relative;}#sk-container-id-1 div.sk-text-repr-fallback {display: none;}</style><div id=\"sk-container-id-1\" class=\"sk-top-container\"><div class=\"sk-text-repr-fallback\"><pre>GridSearchCV(cv=2,\n",
       "             estimator=Pipeline(steps=[(&#x27;preprocessor&#x27;,\n",
       "                                        ColumnTransformer(transformers=[(&#x27;num&#x27;,\n",
       "                                                                         Pipeline(steps=[(&#x27;scaler&#x27;,\n",
       "                                                                                          StandardScaler()),\n",
       "                                                                                         (&#x27;pca&#x27;,\n",
       "                                                                                          PCA())]),\n",
       "                                                                         [&#x27;temp&#x27;,\n",
       "                                                                          &#x27;humidity&#x27;,\n",
       "                                                                          &#x27;hour&#x27;]),\n",
       "                                                                        (&#x27;cat&#x27;,\n",
       "                                                                         OneHotEncoder(handle_unknown=&#x27;ignore&#x27;),\n",
       "                                                                         [&#x27;season&#x27;,\n",
       "                                                                          &#x27;weather&#x27;,\n",
       "                                                                          &#x27;weekday&#x27;])])),\n",
       "                                       (&#x27;xgbrg&#x27;,\n",
       "                                        XGBRegressor(base_score=None,\n",
       "                                                     booster=None,\n",
       "                                                     callbacks=None,\n",
       "                                                     colsample_byleve...\n",
       "                                                     learning_rate=None,\n",
       "                                                     max_bin=None,\n",
       "                                                     max_cat_to_onehot=None,\n",
       "                                                     max_delta_step=None,\n",
       "                                                     max_depth=None,\n",
       "                                                     max_leaves=None,\n",
       "                                                     min_child_weight=None,\n",
       "                                                     missing=nan,\n",
       "                                                     monotone_constraints=None,\n",
       "                                                     n_estimators=100,\n",
       "                                                     n_jobs=None,\n",
       "                                                     num_parallel_tree=None,\n",
       "                                                     predictor=None,\n",
       "                                                     random_state=None,\n",
       "                                                     reg_alpha=None,\n",
       "                                                     reg_lambda=None, ...))]),\n",
       "             param_grid={&#x27;xgbrg__max_depth&#x27;: [2, 7, 10],\n",
       "                         &#x27;xgbrg__n_estimators&#x27;: [10, 500]})</pre><b>In a Jupyter environment, please rerun this cell to show the HTML representation or trust the notebook. <br />On GitHub, the HTML representation is unable to render, please try loading this page with nbviewer.org.</b></div><div class=\"sk-container\" hidden><div class=\"sk-item sk-dashed-wrapped\"><div class=\"sk-label-container\"><div class=\"sk-label sk-toggleable\"><input class=\"sk-toggleable__control sk-hidden--visually\" id=\"sk-estimator-id-1\" type=\"checkbox\" ><label for=\"sk-estimator-id-1\" class=\"sk-toggleable__label sk-toggleable__label-arrow\">GridSearchCV</label><div class=\"sk-toggleable__content\"><pre>GridSearchCV(cv=2,\n",
       "             estimator=Pipeline(steps=[(&#x27;preprocessor&#x27;,\n",
       "                                        ColumnTransformer(transformers=[(&#x27;num&#x27;,\n",
       "                                                                         Pipeline(steps=[(&#x27;scaler&#x27;,\n",
       "                                                                                          StandardScaler()),\n",
       "                                                                                         (&#x27;pca&#x27;,\n",
       "                                                                                          PCA())]),\n",
       "                                                                         [&#x27;temp&#x27;,\n",
       "                                                                          &#x27;humidity&#x27;,\n",
       "                                                                          &#x27;hour&#x27;]),\n",
       "                                                                        (&#x27;cat&#x27;,\n",
       "                                                                         OneHotEncoder(handle_unknown=&#x27;ignore&#x27;),\n",
       "                                                                         [&#x27;season&#x27;,\n",
       "                                                                          &#x27;weather&#x27;,\n",
       "                                                                          &#x27;weekday&#x27;])])),\n",
       "                                       (&#x27;xgbrg&#x27;,\n",
       "                                        XGBRegressor(base_score=None,\n",
       "                                                     booster=None,\n",
       "                                                     callbacks=None,\n",
       "                                                     colsample_byleve...\n",
       "                                                     learning_rate=None,\n",
       "                                                     max_bin=None,\n",
       "                                                     max_cat_to_onehot=None,\n",
       "                                                     max_delta_step=None,\n",
       "                                                     max_depth=None,\n",
       "                                                     max_leaves=None,\n",
       "                                                     min_child_weight=None,\n",
       "                                                     missing=nan,\n",
       "                                                     monotone_constraints=None,\n",
       "                                                     n_estimators=100,\n",
       "                                                     n_jobs=None,\n",
       "                                                     num_parallel_tree=None,\n",
       "                                                     predictor=None,\n",
       "                                                     random_state=None,\n",
       "                                                     reg_alpha=None,\n",
       "                                                     reg_lambda=None, ...))]),\n",
       "             param_grid={&#x27;xgbrg__max_depth&#x27;: [2, 7, 10],\n",
       "                         &#x27;xgbrg__n_estimators&#x27;: [10, 500]})</pre></div></div></div><div class=\"sk-parallel\"><div class=\"sk-parallel-item\"><div class=\"sk-item\"><div class=\"sk-label-container\"><div class=\"sk-label sk-toggleable\"><input class=\"sk-toggleable__control sk-hidden--visually\" id=\"sk-estimator-id-2\" type=\"checkbox\" ><label for=\"sk-estimator-id-2\" class=\"sk-toggleable__label sk-toggleable__label-arrow\">estimator: Pipeline</label><div class=\"sk-toggleable__content\"><pre>Pipeline(steps=[(&#x27;preprocessor&#x27;,\n",
       "                 ColumnTransformer(transformers=[(&#x27;num&#x27;,\n",
       "                                                  Pipeline(steps=[(&#x27;scaler&#x27;,\n",
       "                                                                   StandardScaler()),\n",
       "                                                                  (&#x27;pca&#x27;,\n",
       "                                                                   PCA())]),\n",
       "                                                  [&#x27;temp&#x27;, &#x27;humidity&#x27;, &#x27;hour&#x27;]),\n",
       "                                                 (&#x27;cat&#x27;,\n",
       "                                                  OneHotEncoder(handle_unknown=&#x27;ignore&#x27;),\n",
       "                                                  [&#x27;season&#x27;, &#x27;weather&#x27;,\n",
       "                                                   &#x27;weekday&#x27;])])),\n",
       "                (&#x27;xgbrg&#x27;,\n",
       "                 XGBRegressor(base_score=None, booster=None, callbacks=None,\n",
       "                              colsample_bylevel=None, colsample_bynode=None...\n",
       "                              gamma=None, gpu_id=None, grow_policy=None,\n",
       "                              importance_type=None,\n",
       "                              interaction_constraints=None, learning_rate=None,\n",
       "                              max_bin=None, max_cat_to_onehot=None,\n",
       "                              max_delta_step=None, max_depth=None,\n",
       "                              max_leaves=None, min_child_weight=None,\n",
       "                              missing=nan, monotone_constraints=None,\n",
       "                              n_estimators=100, n_jobs=None,\n",
       "                              num_parallel_tree=None, predictor=None,\n",
       "                              random_state=None, reg_alpha=None,\n",
       "                              reg_lambda=None, ...))])</pre></div></div></div><div class=\"sk-serial\"><div class=\"sk-item\"><div class=\"sk-serial\"><div class=\"sk-item sk-dashed-wrapped\"><div class=\"sk-label-container\"><div class=\"sk-label sk-toggleable\"><input class=\"sk-toggleable__control sk-hidden--visually\" id=\"sk-estimator-id-3\" type=\"checkbox\" ><label for=\"sk-estimator-id-3\" class=\"sk-toggleable__label sk-toggleable__label-arrow\">preprocessor: ColumnTransformer</label><div class=\"sk-toggleable__content\"><pre>ColumnTransformer(transformers=[(&#x27;num&#x27;,\n",
       "                                 Pipeline(steps=[(&#x27;scaler&#x27;, StandardScaler()),\n",
       "                                                 (&#x27;pca&#x27;, PCA())]),\n",
       "                                 [&#x27;temp&#x27;, &#x27;humidity&#x27;, &#x27;hour&#x27;]),\n",
       "                                (&#x27;cat&#x27;, OneHotEncoder(handle_unknown=&#x27;ignore&#x27;),\n",
       "                                 [&#x27;season&#x27;, &#x27;weather&#x27;, &#x27;weekday&#x27;])])</pre></div></div></div><div class=\"sk-parallel\"><div class=\"sk-parallel-item\"><div class=\"sk-item\"><div class=\"sk-label-container\"><div class=\"sk-label sk-toggleable\"><input class=\"sk-toggleable__control sk-hidden--visually\" id=\"sk-estimator-id-4\" type=\"checkbox\" ><label for=\"sk-estimator-id-4\" class=\"sk-toggleable__label sk-toggleable__label-arrow\">num</label><div class=\"sk-toggleable__content\"><pre>[&#x27;temp&#x27;, &#x27;humidity&#x27;, &#x27;hour&#x27;]</pre></div></div></div><div class=\"sk-serial\"><div class=\"sk-item\"><div class=\"sk-serial\"><div class=\"sk-item\"><div class=\"sk-estimator sk-toggleable\"><input class=\"sk-toggleable__control sk-hidden--visually\" id=\"sk-estimator-id-5\" type=\"checkbox\" ><label for=\"sk-estimator-id-5\" class=\"sk-toggleable__label sk-toggleable__label-arrow\">StandardScaler</label><div class=\"sk-toggleable__content\"><pre>StandardScaler()</pre></div></div></div><div class=\"sk-item\"><div class=\"sk-estimator sk-toggleable\"><input class=\"sk-toggleable__control sk-hidden--visually\" id=\"sk-estimator-id-6\" type=\"checkbox\" ><label for=\"sk-estimator-id-6\" class=\"sk-toggleable__label sk-toggleable__label-arrow\">PCA</label><div class=\"sk-toggleable__content\"><pre>PCA()</pre></div></div></div></div></div></div></div></div><div class=\"sk-parallel-item\"><div class=\"sk-item\"><div class=\"sk-label-container\"><div class=\"sk-label sk-toggleable\"><input class=\"sk-toggleable__control sk-hidden--visually\" id=\"sk-estimator-id-7\" type=\"checkbox\" ><label for=\"sk-estimator-id-7\" class=\"sk-toggleable__label sk-toggleable__label-arrow\">cat</label><div class=\"sk-toggleable__content\"><pre>[&#x27;season&#x27;, &#x27;weather&#x27;, &#x27;weekday&#x27;]</pre></div></div></div><div class=\"sk-serial\"><div class=\"sk-item\"><div class=\"sk-estimator sk-toggleable\"><input class=\"sk-toggleable__control sk-hidden--visually\" id=\"sk-estimator-id-8\" type=\"checkbox\" ><label for=\"sk-estimator-id-8\" class=\"sk-toggleable__label sk-toggleable__label-arrow\">OneHotEncoder</label><div class=\"sk-toggleable__content\"><pre>OneHotEncoder(handle_unknown=&#x27;ignore&#x27;)</pre></div></div></div></div></div></div></div></div><div class=\"sk-item\"><div class=\"sk-estimator sk-toggleable\"><input class=\"sk-toggleable__control sk-hidden--visually\" id=\"sk-estimator-id-9\" type=\"checkbox\" ><label for=\"sk-estimator-id-9\" class=\"sk-toggleable__label sk-toggleable__label-arrow\">XGBRegressor</label><div class=\"sk-toggleable__content\"><pre>XGBRegressor(base_score=None, booster=None, callbacks=None,\n",
       "             colsample_bylevel=None, colsample_bynode=None,\n",
       "             colsample_bytree=None, early_stopping_rounds=None,\n",
       "             enable_categorical=False, eval_metric=None, gamma=None,\n",
       "             gpu_id=None, grow_policy=None, importance_type=None,\n",
       "             interaction_constraints=None, learning_rate=None, max_bin=None,\n",
       "             max_cat_to_onehot=None, max_delta_step=None, max_depth=None,\n",
       "             max_leaves=None, min_child_weight=None, missing=nan,\n",
       "             monotone_constraints=None, n_estimators=100, n_jobs=None,\n",
       "             num_parallel_tree=None, predictor=None, random_state=None,\n",
       "             reg_alpha=None, reg_lambda=None, ...)</pre></div></div></div></div></div></div></div></div></div></div></div></div>"
      ],
      "text/plain": [
       "GridSearchCV(cv=2,\n",
       "             estimator=Pipeline(steps=[('preprocessor',\n",
       "                                        ColumnTransformer(transformers=[('num',\n",
       "                                                                         Pipeline(steps=[('scaler',\n",
       "                                                                                          StandardScaler()),\n",
       "                                                                                         ('pca',\n",
       "                                                                                          PCA())]),\n",
       "                                                                         ['temp',\n",
       "                                                                          'humidity',\n",
       "                                                                          'hour']),\n",
       "                                                                        ('cat',\n",
       "                                                                         OneHotEncoder(handle_unknown='ignore'),\n",
       "                                                                         ['season',\n",
       "                                                                          'weather',\n",
       "                                                                          'weekday'])])),\n",
       "                                       ('xgbrg',\n",
       "                                        XGBRegressor(base_score=None,\n",
       "                                                     booster=None,\n",
       "                                                     callbacks=None,\n",
       "                                                     colsample_byleve...\n",
       "                                                     learning_rate=None,\n",
       "                                                     max_bin=None,\n",
       "                                                     max_cat_to_onehot=None,\n",
       "                                                     max_delta_step=None,\n",
       "                                                     max_depth=None,\n",
       "                                                     max_leaves=None,\n",
       "                                                     min_child_weight=None,\n",
       "                                                     missing=nan,\n",
       "                                                     monotone_constraints=None,\n",
       "                                                     n_estimators=100,\n",
       "                                                     n_jobs=None,\n",
       "                                                     num_parallel_tree=None,\n",
       "                                                     predictor=None,\n",
       "                                                     random_state=None,\n",
       "                                                     reg_alpha=None,\n",
       "                                                     reg_lambda=None, ...))]),\n",
       "             param_grid={'xgbrg__max_depth': [2, 7, 10],\n",
       "                         'xgbrg__n_estimators': [10, 500]})"
      ]
     },
     "execution_count": 8,
     "metadata": {},
     "output_type": "execute_result"
    }
   ],
   "source": [
    "set_config(display = 'diagram')\n",
    "\n",
    "# (4) 모델 정의\n",
    "pipe_reg_model = Pipeline(\n",
    "    steps = [(\"preprocessor\", preprocessor), (\"xgbrg\", XGBRegressor())]\n",
    ")\n",
    "\n",
    "# (5) Grid Search\n",
    "param_grid = {\n",
    "    'xgbrg__max_depth' : [2, 7, 10], \n",
    "    'xgbrg__n_estimators' : [10, 500], \n",
    "}\n",
    "\n",
    "gridCV = GridSearchCV(pipe_reg_model, cv = 2, param_grid = param_grid)\n",
    "\n",
    "log_y = np.log(y_train)\n",
    "gridCV.fit(X_train, log_y)"
   ]
  },
  {
   "cell_type": "markdown",
   "id": "4c9eebbe-cd48-4a87-ae1b-c9db8928c6b5",
   "metadata": {},
   "source": [
    "## 평가지표 구현"
   ]
  },
  {
   "cell_type": "code",
   "execution_count": 9,
   "id": "a13c68f3-05fc-488d-bc35-ea774afaddb6",
   "metadata": {},
   "outputs": [],
   "source": [
    "def rmsle(y, y_,convertExp=True):\n",
    "    \n",
    "    # 지수변환\n",
    "    if convertExp:\n",
    "        y = np.exp(y),\n",
    "        y_ = np.exp(y_)\n",
    "        \n",
    "    # 로그변환 후 결측값을 0으로 변환 \n",
    "    log1 = np.nan_to_num(np.array([np.log(v + 1) for v in y]))\n",
    "    log2 = np.nan_to_num(np.array([np.log(v + 1) for v in y_]))\n",
    "    calc = (log1 - log2) ** 2\n",
    "    \n",
    "    # RMSLE 계산\n",
    "    return np.sqrt(np.mean(calc))"
   ]
  },
  {
   "cell_type": "markdown",
   "id": "3ff6e57a-6da9-46ad-9eb5-1ffe16a411ae",
   "metadata": {},
   "source": [
    "## Optuna\n",
    "- Pipeline + Optuna + MLFlow와 연동하는 코드를 작성한다. \n",
    "    + 참고 : https://hvy-optuna.readthedocs.io/en/latest/reference/generated/optuna.integration.MLflowCallback.html\n",
    "    "
   ]
  },
  {
   "cell_type": "code",
   "execution_count": 14,
   "id": "c6117757-3ad9-4df4-acbb-6f3a13fd3fa6",
   "metadata": {},
   "outputs": [
    {
     "name": "stderr",
     "output_type": "stream",
     "text": [
      "C:\\Users\\j2hoo\\AppData\\Local\\Temp\\ipykernel_19588\\1501545355.py:22: ExperimentalWarning: MLflowCallback is experimental (supported from v1.4.0). The interface can change in the future.\n",
      "  mlflc = MLflowCallback(\n",
      "C:\\Users\\j2hoo\\AppData\\Local\\Temp\\ipykernel_19588\\1501545355.py:47: ExperimentalWarning: track_in_mlflow is experimental (supported from v2.9.0). The interface can change in the future.\n",
      "  @mlflc.track_in_mlflow()\n"
     ]
    }
   ],
   "source": [
    "from optuna.integration.mlflow import MLflowCallback\n",
    "\n",
    "# (1) 수치형 변수 StandardScaler()\n",
    "num_features = [\"temp\", \"humidity\", \"hour\"]\n",
    "num_transformer = Pipeline(\n",
    "    steps = [(\"scaler\", StandardScaler()), (\"pca\", PCA())]\n",
    ")\n",
    "\n",
    "# (2) 범주형 변수 원핫 인코딩 OneHotEncoder()\n",
    "cat_features = [\"season\", \"weather\", \"weekday\"]\n",
    "cat_transformer = OneHotEncoder(handle_unknown=\"ignore\")\n",
    "\n",
    "# (3) ColumnTransformer\n",
    "preprocessor = ColumnTransformer(\n",
    "    transformers = [\n",
    "        (\"num\", num_transformer, num_features), \n",
    "        (\"cat\", cat_transformer, cat_features)\n",
    "    ]\n",
    ")\n",
    "\n",
    "# Optuna 설정 for mlflow\n",
    "mlflc = MLflowCallback(\n",
    "    tracking_uri = 'mlruns', \n",
    "    metric_name='rmsle', \n",
    ") \n",
    "\n",
    "# Optuna 모델 정의\n",
    "def create_model(trial):\n",
    "    params = {'eta' : trial.suggest_uniform('eta', 0.0001, 0.1), \n",
    "              'max_depth' : trial.suggest_int('max_depth', 2, 10), \n",
    "              'subsample': trial.suggest_uniform('subsample', 0.5, 0.9)\n",
    "             }\n",
    "    \n",
    "    # 모델 정의 \n",
    "    # (4) 모델 정의\n",
    "    pipe_reg_model = Pipeline(\n",
    "        steps = [(\"preprocessor\", preprocessor), (\"xgbrg\", XGBRegressor(**params, random_state=42))]\n",
    "    )\n",
    "    \n",
    "    # mlflow logging 코드 작성\n",
    "    mlflow.log_param('eta', params['eta'])\n",
    "    mlflow.log_param('max_depth', params['max_depth'])\n",
    "    mlflow.log_param('subsample', params['subsample'])\n",
    "    \n",
    "    return pipe_reg_model\n",
    "\n",
    "@mlflc.track_in_mlflow()\n",
    "def objective(trial):\n",
    "    \n",
    "    # 타깃값 로그변환\n",
    "    log_y_train = np.log(y_train)\n",
    "    log_y_valid = np.log(y_valid)\n",
    "    \n",
    "    model = create_model(trial)\n",
    "    model.fit(X_train, log_y_train)\n",
    "    \n",
    "    # 모형 예측값 반환\n",
    "    preds = model.predict(X_valid)\n",
    "    \n",
    "    print(\"RMSLE 값:\",  rmsle(log_y_valid, preds, True))\n",
    "    print(\"r2 Score 값:\",  r2_score(log_y_valid, preds))\n",
    "    mlflow.log_metric(\"r2_score\", r2_score(log_y_valid, preds))\n",
    "    \n",
    "    rmsle_score = rmsle(log_y_valid, preds, True)\n",
    "    mlflow.sklearn.log_model(model, 'xgboost')\n",
    "    \n",
    "    mlflow.end_run()\n",
    "    \n",
    "    return rmsle_score\n"
   ]
  },
  {
   "cell_type": "code",
   "execution_count": 15,
   "id": "c6b5c555-d615-4dd9-9ec4-b9e13b44a34d",
   "metadata": {},
   "outputs": [
    {
     "name": "stderr",
     "output_type": "stream",
     "text": [
      "\u001b[32m[I 2022-08-23 00:01:51,431]\u001b[0m A new study created in memory with name: bike_sharing_regression\u001b[0m\n",
      "C:\\Users\\j2hoo\\AppData\\Local\\Temp\\ipykernel_19588\\1501545355.py:29: FutureWarning: suggest_uniform has been deprecated in v3.0.0. This feature will be removed in v6.0.0. See https://github.com/optuna/optuna/releases/tag/v3.0.0. Use :func:`~optuna.trial.Trial.suggest_float` instead.\n",
      "  params = {'eta' : trial.suggest_uniform('eta', 0.0001, 0.1),\n",
      "C:\\Users\\j2hoo\\AppData\\Local\\Temp\\ipykernel_19588\\1501545355.py:31: FutureWarning: suggest_uniform has been deprecated in v3.0.0. This feature will be removed in v6.0.0. See https://github.com/optuna/optuna/releases/tag/v3.0.0. Use :func:`~optuna.trial.Trial.suggest_float` instead.\n",
      "  'subsample': trial.suggest_uniform('subsample', 0.5, 0.9)\n"
     ]
    },
    {
     "name": "stdout",
     "output_type": "stream",
     "text": [
      "RMSLE 값: 0.6432171285074844\n",
      "r2 Score 값: 0.7891103005611851\n"
     ]
    },
    {
     "name": "stderr",
     "output_type": "stream",
     "text": [
      "\u001b[32m[I 2022-08-23 00:01:55,966]\u001b[0m Trial 0 finished with value: 0.6432171285074844 and parameters: {'eta': 0.03617187314262316, 'max_depth': 6, 'subsample': 0.8805333181585354}. Best is trial 0 with value: 0.6432171285074844.\u001b[0m\n",
      "C:\\Users\\j2hoo\\AppData\\Local\\Temp\\ipykernel_19588\\1501545355.py:29: FutureWarning: suggest_uniform has been deprecated in v3.0.0. This feature will be removed in v6.0.0. See https://github.com/optuna/optuna/releases/tag/v3.0.0. Use :func:`~optuna.trial.Trial.suggest_float` instead.\n",
      "  params = {'eta' : trial.suggest_uniform('eta', 0.0001, 0.1),\n",
      "C:\\Users\\j2hoo\\AppData\\Local\\Temp\\ipykernel_19588\\1501545355.py:31: FutureWarning: suggest_uniform has been deprecated in v3.0.0. This feature will be removed in v6.0.0. See https://github.com/optuna/optuna/releases/tag/v3.0.0. Use :func:`~optuna.trial.Trial.suggest_float` instead.\n",
      "  'subsample': trial.suggest_uniform('subsample', 0.5, 0.9)\n"
     ]
    },
    {
     "name": "stdout",
     "output_type": "stream",
     "text": [
      "RMSLE 값: 0.8678009800006087\n",
      "r2 Score 값: 0.6147135119266067\n"
     ]
    },
    {
     "name": "stderr",
     "output_type": "stream",
     "text": [
      "\u001b[32m[I 2022-08-23 00:02:00,088]\u001b[0m Trial 1 finished with value: 0.8678009800006087 and parameters: {'eta': 0.07262202509710443, 'max_depth': 2, 'subsample': 0.6929956484119242}. Best is trial 0 with value: 0.6432171285074844.\u001b[0m\n",
      "C:\\Users\\j2hoo\\AppData\\Local\\Temp\\ipykernel_19588\\1501545355.py:29: FutureWarning: suggest_uniform has been deprecated in v3.0.0. This feature will be removed in v6.0.0. See https://github.com/optuna/optuna/releases/tag/v3.0.0. Use :func:`~optuna.trial.Trial.suggest_float` instead.\n",
      "  params = {'eta' : trial.suggest_uniform('eta', 0.0001, 0.1),\n",
      "C:\\Users\\j2hoo\\AppData\\Local\\Temp\\ipykernel_19588\\1501545355.py:31: FutureWarning: suggest_uniform has been deprecated in v3.0.0. This feature will be removed in v6.0.0. See https://github.com/optuna/optuna/releases/tag/v3.0.0. Use :func:`~optuna.trial.Trial.suggest_float` instead.\n",
      "  'subsample': trial.suggest_uniform('subsample', 0.5, 0.9)\n"
     ]
    },
    {
     "name": "stdout",
     "output_type": "stream",
     "text": [
      "RMSLE 값: 0.49204755938428263\n",
      "r2 Score 값: 0.8737429441732658\n"
     ]
    },
    {
     "name": "stderr",
     "output_type": "stream",
     "text": [
      "\u001b[32m[I 2022-08-23 00:02:04,874]\u001b[0m Trial 2 finished with value: 0.49204755938428263 and parameters: {'eta': 0.07551678742246395, 'max_depth': 10, 'subsample': 0.5106844705557261}. Best is trial 2 with value: 0.49204755938428263.\u001b[0m\n",
      "C:\\Users\\j2hoo\\AppData\\Local\\Temp\\ipykernel_19588\\1501545355.py:29: FutureWarning: suggest_uniform has been deprecated in v3.0.0. This feature will be removed in v6.0.0. See https://github.com/optuna/optuna/releases/tag/v3.0.0. Use :func:`~optuna.trial.Trial.suggest_float` instead.\n",
      "  params = {'eta' : trial.suggest_uniform('eta', 0.0001, 0.1),\n",
      "C:\\Users\\j2hoo\\AppData\\Local\\Temp\\ipykernel_19588\\1501545355.py:31: FutureWarning: suggest_uniform has been deprecated in v3.0.0. This feature will be removed in v6.0.0. See https://github.com/optuna/optuna/releases/tag/v3.0.0. Use :func:`~optuna.trial.Trial.suggest_float` instead.\n",
      "  'subsample': trial.suggest_uniform('subsample', 0.5, 0.9)\n"
     ]
    },
    {
     "name": "stdout",
     "output_type": "stream",
     "text": [
      "RMSLE 값: 0.5573186634588694\n",
      "r2 Score 값: 0.8400836963748929\n"
     ]
    },
    {
     "name": "stderr",
     "output_type": "stream",
     "text": [
      "\u001b[32m[I 2022-08-23 00:02:09,428]\u001b[0m Trial 3 finished with value: 0.5573186634588694 and parameters: {'eta': 0.057269515790783605, 'max_depth': 7, 'subsample': 0.7067330641711635}. Best is trial 2 with value: 0.49204755938428263.\u001b[0m\n",
      "C:\\Users\\j2hoo\\AppData\\Local\\Temp\\ipykernel_19588\\1501545355.py:29: FutureWarning: suggest_uniform has been deprecated in v3.0.0. This feature will be removed in v6.0.0. See https://github.com/optuna/optuna/releases/tag/v3.0.0. Use :func:`~optuna.trial.Trial.suggest_float` instead.\n",
      "  params = {'eta' : trial.suggest_uniform('eta', 0.0001, 0.1),\n",
      "C:\\Users\\j2hoo\\AppData\\Local\\Temp\\ipykernel_19588\\1501545355.py:31: FutureWarning: suggest_uniform has been deprecated in v3.0.0. This feature will be removed in v6.0.0. See https://github.com/optuna/optuna/releases/tag/v3.0.0. Use :func:`~optuna.trial.Trial.suggest_float` instead.\n",
      "  'subsample': trial.suggest_uniform('subsample', 0.5, 0.9)\n"
     ]
    },
    {
     "name": "stdout",
     "output_type": "stream",
     "text": [
      "RMSLE 값: 0.5988585827919581\n",
      "r2 Score 값: 0.8157383543399295\n"
     ]
    },
    {
     "name": "stderr",
     "output_type": "stream",
     "text": [
      "\u001b[32m[I 2022-08-23 00:02:14,067]\u001b[0m Trial 4 finished with value: 0.5988585827919581 and parameters: {'eta': 0.06323502627469954, 'max_depth': 6, 'subsample': 0.5837340444193186}. Best is trial 2 with value: 0.49204755938428263.\u001b[0m\n",
      "C:\\Users\\j2hoo\\AppData\\Local\\Temp\\ipykernel_19588\\1501545355.py:29: FutureWarning: suggest_uniform has been deprecated in v3.0.0. This feature will be removed in v6.0.0. See https://github.com/optuna/optuna/releases/tag/v3.0.0. Use :func:`~optuna.trial.Trial.suggest_float` instead.\n",
      "  params = {'eta' : trial.suggest_uniform('eta', 0.0001, 0.1),\n",
      "C:\\Users\\j2hoo\\AppData\\Local\\Temp\\ipykernel_19588\\1501545355.py:31: FutureWarning: suggest_uniform has been deprecated in v3.0.0. This feature will be removed in v6.0.0. See https://github.com/optuna/optuna/releases/tag/v3.0.0. Use :func:`~optuna.trial.Trial.suggest_float` instead.\n",
      "  'subsample': trial.suggest_uniform('subsample', 0.5, 0.9)\n"
     ]
    },
    {
     "name": "stdout",
     "output_type": "stream",
     "text": [
      "RMSLE 값: 0.7381309091014998\n",
      "r2 Score 값: 0.721514906668294\n"
     ]
    },
    {
     "name": "stderr",
     "output_type": "stream",
     "text": [
      "\u001b[32m[I 2022-08-23 00:02:18,017]\u001b[0m Trial 5 finished with value: 0.7381309091014998 and parameters: {'eta': 0.05195718502482184, 'max_depth': 4, 'subsample': 0.7968614890042334}. Best is trial 2 with value: 0.49204755938428263.\u001b[0m\n",
      "C:\\Users\\j2hoo\\AppData\\Local\\Temp\\ipykernel_19588\\1501545355.py:29: FutureWarning: suggest_uniform has been deprecated in v3.0.0. This feature will be removed in v6.0.0. See https://github.com/optuna/optuna/releases/tag/v3.0.0. Use :func:`~optuna.trial.Trial.suggest_float` instead.\n",
      "  params = {'eta' : trial.suggest_uniform('eta', 0.0001, 0.1),\n",
      "C:\\Users\\j2hoo\\AppData\\Local\\Temp\\ipykernel_19588\\1501545355.py:31: FutureWarning: suggest_uniform has been deprecated in v3.0.0. This feature will be removed in v6.0.0. See https://github.com/optuna/optuna/releases/tag/v3.0.0. Use :func:`~optuna.trial.Trial.suggest_float` instead.\n",
      "  'subsample': trial.suggest_uniform('subsample', 0.5, 0.9)\n"
     ]
    },
    {
     "name": "stdout",
     "output_type": "stream",
     "text": [
      "RMSLE 값: 0.5030746706919359\n",
      "r2 Score 값: 0.8679919656955828\n"
     ]
    },
    {
     "name": "stderr",
     "output_type": "stream",
     "text": [
      "\u001b[32m[I 2022-08-23 00:02:22,761]\u001b[0m Trial 6 finished with value: 0.5030746706919359 and parameters: {'eta': 0.07472418935559826, 'max_depth': 9, 'subsample': 0.7737838104723862}. Best is trial 2 with value: 0.49204755938428263.\u001b[0m\n",
      "C:\\Users\\j2hoo\\AppData\\Local\\Temp\\ipykernel_19588\\1501545355.py:29: FutureWarning: suggest_uniform has been deprecated in v3.0.0. This feature will be removed in v6.0.0. See https://github.com/optuna/optuna/releases/tag/v3.0.0. Use :func:`~optuna.trial.Trial.suggest_float` instead.\n",
      "  params = {'eta' : trial.suggest_uniform('eta', 0.0001, 0.1),\n",
      "C:\\Users\\j2hoo\\AppData\\Local\\Temp\\ipykernel_19588\\1501545355.py:31: FutureWarning: suggest_uniform has been deprecated in v3.0.0. This feature will be removed in v6.0.0. See https://github.com/optuna/optuna/releases/tag/v3.0.0. Use :func:`~optuna.trial.Trial.suggest_float` instead.\n",
      "  'subsample': trial.suggest_uniform('subsample', 0.5, 0.9)\n"
     ]
    },
    {
     "name": "stdout",
     "output_type": "stream",
     "text": [
      "RMSLE 값: 0.6686598625750326\n",
      "r2 Score 값: 0.7711130548581518\n"
     ]
    },
    {
     "name": "stderr",
     "output_type": "stream",
     "text": [
      "\u001b[32m[I 2022-08-23 00:02:27,050]\u001b[0m Trial 7 finished with value: 0.6686598625750326 and parameters: {'eta': 0.057320598679274797, 'max_depth': 5, 'subsample': 0.7094518213948884}. Best is trial 2 with value: 0.49204755938428263.\u001b[0m\n",
      "C:\\Users\\j2hoo\\AppData\\Local\\Temp\\ipykernel_19588\\1501545355.py:29: FutureWarning: suggest_uniform has been deprecated in v3.0.0. This feature will be removed in v6.0.0. See https://github.com/optuna/optuna/releases/tag/v3.0.0. Use :func:`~optuna.trial.Trial.suggest_float` instead.\n",
      "  params = {'eta' : trial.suggest_uniform('eta', 0.0001, 0.1),\n",
      "C:\\Users\\j2hoo\\AppData\\Local\\Temp\\ipykernel_19588\\1501545355.py:31: FutureWarning: suggest_uniform has been deprecated in v3.0.0. This feature will be removed in v6.0.0. See https://github.com/optuna/optuna/releases/tag/v3.0.0. Use :func:`~optuna.trial.Trial.suggest_float` instead.\n",
      "  'subsample': trial.suggest_uniform('subsample', 0.5, 0.9)\n"
     ]
    },
    {
     "name": "stdout",
     "output_type": "stream",
     "text": [
      "RMSLE 값: 0.9115814462645843\n",
      "r2 Score 값: 0.576689158473394\n"
     ]
    },
    {
     "name": "stderr",
     "output_type": "stream",
     "text": [
      "\u001b[32m[I 2022-08-23 00:02:31,365]\u001b[0m Trial 8 finished with value: 0.9115814462645843 and parameters: {'eta': 0.03871960576424438, 'max_depth': 2, 'subsample': 0.660727769278395}. Best is trial 2 with value: 0.49204755938428263.\u001b[0m\n",
      "C:\\Users\\j2hoo\\AppData\\Local\\Temp\\ipykernel_19588\\1501545355.py:29: FutureWarning: suggest_uniform has been deprecated in v3.0.0. This feature will be removed in v6.0.0. See https://github.com/optuna/optuna/releases/tag/v3.0.0. Use :func:`~optuna.trial.Trial.suggest_float` instead.\n",
      "  params = {'eta' : trial.suggest_uniform('eta', 0.0001, 0.1),\n",
      "C:\\Users\\j2hoo\\AppData\\Local\\Temp\\ipykernel_19588\\1501545355.py:31: FutureWarning: suggest_uniform has been deprecated in v3.0.0. This feature will be removed in v6.0.0. See https://github.com/optuna/optuna/releases/tag/v3.0.0. Use :func:`~optuna.trial.Trial.suggest_float` instead.\n",
      "  'subsample': trial.suggest_uniform('subsample', 0.5, 0.9)\n"
     ]
    },
    {
     "name": "stdout",
     "output_type": "stream",
     "text": [
      "RMSLE 값: 1.1803483110014465\n",
      "r2 Score 값: 0.3366405074264698\n"
     ]
    },
    {
     "name": "stderr",
     "output_type": "stream",
     "text": [
      "\u001b[32m[I 2022-08-23 00:02:36,354]\u001b[0m Trial 9 finished with value: 1.1803483110014465 and parameters: {'eta': 0.014560773048376231, 'max_depth': 9, 'subsample': 0.537909061324295}. Best is trial 2 with value: 0.49204755938428263.\u001b[0m\n"
     ]
    }
   ],
   "source": [
    "study = optuna.create_study(study_name='bike_sharing_regression', direction='minimize')\n",
    "study.optimize(objective, n_trials=10, callbacks=[mlflc])"
   ]
  },
  {
   "cell_type": "markdown",
   "id": "fade2889-061c-43d7-bfc6-9c4904a1c16f",
   "metadata": {},
   "source": [
    "- 이번에는 여러 소스코드를 MLFLow에 추가하는 코드를 작성해본다. "
   ]
  },
  {
   "cell_type": "code",
   "execution_count": 11,
   "id": "1da7d984-6149-41d3-b09b-2cd69b99cbf1",
   "metadata": {},
   "outputs": [
    {
     "name": "stderr",
     "output_type": "stream",
     "text": [
      "C:\\Users\\j2hoo\\AppData\\Local\\Temp\\ipykernel_25456\\3045367379.py:8: ExperimentalWarning: MLflowCallback is experimental (supported from v1.4.0). The interface can change in the future.\n",
      "  mlflc = MLflowCallback(\n",
      "C:\\Users\\j2hoo\\AppData\\Local\\Temp\\ipykernel_25456\\3045367379.py:64: ExperimentalWarning: track_in_mlflow is experimental (supported from v2.9.0). The interface can change in the future.\n",
      "  @mlflc.track_in_mlflow()\n"
     ]
    }
   ],
   "source": [
    "# "
   ]
  },
  {
   "cell_type": "code",
   "execution_count": null,
   "id": "98673d94-d203-40ca-8fb5-d6ee755b525f",
   "metadata": {},
   "outputs": [
    {
     "name": "stderr",
     "output_type": "stream",
     "text": [
      "\u001b[32m[I 2022-07-27 00:10:50,408]\u001b[0m A new study created in memory with name: bike_sharing_regression\u001b[0m\n"
     ]
    },
    {
     "name": "stdout",
     "output_type": "stream",
     "text": [
      "RMSLE 값 : 0.778078099833077\n",
      "r2 Score 값: 0.6909895046767656\n"
     ]
    },
    {
     "name": "stderr",
     "output_type": "stream",
     "text": [
      "\u001b[32m[I 2022-07-27 00:10:53,173]\u001b[0m Trial 0 finished with value: 0.778078099833077 and parameters: {'regressor': 'DecisionTree', 'max_depth': 7}. Best is trial 0 with value: 0.778078099833077.\u001b[0m\n"
     ]
    },
    {
     "name": "stdout",
     "output_type": "stream",
     "text": [
      "RMSLE 값 : 0.8194296708318933\n",
      "r2 Score 값: 0.6576367178825051\n"
     ]
    },
    {
     "name": "stderr",
     "output_type": "stream",
     "text": [
      "\u001b[32m[I 2022-07-27 00:10:56,222]\u001b[0m Trial 1 finished with value: 0.8194296708318933 and parameters: {'regressor': 'DecisionTree', 'max_depth': 6}. Best is trial 0 with value: 0.778078099833077.\u001b[0m\n"
     ]
    },
    {
     "name": "stdout",
     "output_type": "stream",
     "text": [
      "RMSLE 값 : 0.6488401161002054\n",
      "r2 Score 값: 0.7831433481751126\n"
     ]
    },
    {
     "name": "stderr",
     "output_type": "stream",
     "text": [
      "\u001b[32m[I 2022-07-27 00:11:58,741]\u001b[0m Trial 2 finished with value: 0.6488401161002054 and parameters: {'regressor': 'RandomForest', 'max_depth': 8, 'n_estimators': 2982}. Best is trial 2 with value: 0.6488401161002054.\u001b[0m\n",
      "C:\\Users\\j2hoo\\AppData\\Local\\Temp\\ipykernel_25456\\3045367379.py:19: FutureWarning: suggest_uniform has been deprecated in v3.0.0. This feature will be removed in v6.0.0. See https://github.com/optuna/optuna/releases/tag/v3.0.0. Use :func:`~optuna.trial.Trial.suggest_float` instead.\n",
      "  'eta':trial.suggest_uniform('eta', 0.0001, 0.1),\n",
      "C:\\Users\\j2hoo\\AppData\\Local\\Temp\\ipykernel_25456\\3045367379.py:21: FutureWarning: suggest_uniform has been deprecated in v3.0.0. This feature will be removed in v6.0.0. See https://github.com/optuna/optuna/releases/tag/v3.0.0. Use :func:`~optuna.trial.Trial.suggest_float` instead.\n",
      "  'subsample':trial.suggest_uniform('subsample', 0.5, 0.9)\n"
     ]
    },
    {
     "name": "stdout",
     "output_type": "stream",
     "text": [
      "RMSLE 값 : 0.8702494097122431\n",
      "r2 Score 값: 0.6121810041947033\n"
     ]
    },
    {
     "name": "stderr",
     "output_type": "stream",
     "text": [
      "\u001b[32m[I 2022-07-27 00:12:03,450]\u001b[0m Trial 3 finished with value: 0.8702494097122431 and parameters: {'regressor': 'XGBoost', 'eta': 0.07960817475292989, 'max_depth': 2, 'subsample': 0.860632550262914}. Best is trial 2 with value: 0.6488401161002054.\u001b[0m\n",
      "C:\\Users\\j2hoo\\AppData\\Local\\Temp\\ipykernel_25456\\3045367379.py:19: FutureWarning: suggest_uniform has been deprecated in v3.0.0. This feature will be removed in v6.0.0. See https://github.com/optuna/optuna/releases/tag/v3.0.0. Use :func:`~optuna.trial.Trial.suggest_float` instead.\n",
      "  'eta':trial.suggest_uniform('eta', 0.0001, 0.1),\n",
      "C:\\Users\\j2hoo\\AppData\\Local\\Temp\\ipykernel_25456\\3045367379.py:21: FutureWarning: suggest_uniform has been deprecated in v3.0.0. This feature will be removed in v6.0.0. See https://github.com/optuna/optuna/releases/tag/v3.0.0. Use :func:`~optuna.trial.Trial.suggest_float` instead.\n",
      "  'subsample':trial.suggest_uniform('subsample', 0.5, 0.9)\n"
     ]
    },
    {
     "name": "stdout",
     "output_type": "stream",
     "text": [
      "RMSLE 값 : 0.6226168520695903\n",
      "r2 Score 값: 0.8005569363914146\n"
     ]
    },
    {
     "name": "stderr",
     "output_type": "stream",
     "text": [
      "\u001b[32m[I 2022-07-27 00:12:08,478]\u001b[0m Trial 4 finished with value: 0.6226168520695903 and parameters: {'regressor': 'XGBoost', 'eta': 0.044210080735759875, 'max_depth': 6, 'subsample': 0.8119700490366031}. Best is trial 4 with value: 0.6226168520695903.\u001b[0m\n",
      "C:\\Users\\j2hoo\\AppData\\Local\\Temp\\ipykernel_25456\\3045367379.py:19: FutureWarning: suggest_uniform has been deprecated in v3.0.0. This feature will be removed in v6.0.0. See https://github.com/optuna/optuna/releases/tag/v3.0.0. Use :func:`~optuna.trial.Trial.suggest_float` instead.\n",
      "  'eta':trial.suggest_uniform('eta', 0.0001, 0.1),\n",
      "C:\\Users\\j2hoo\\AppData\\Local\\Temp\\ipykernel_25456\\3045367379.py:21: FutureWarning: suggest_uniform has been deprecated in v3.0.0. This feature will be removed in v6.0.0. See https://github.com/optuna/optuna/releases/tag/v3.0.0. Use :func:`~optuna.trial.Trial.suggest_float` instead.\n",
      "  'subsample':trial.suggest_uniform('subsample', 0.5, 0.9)\n"
     ]
    },
    {
     "name": "stdout",
     "output_type": "stream",
     "text": [
      "RMSLE 값 : 0.9639943675697076\n",
      "r2 Score 값: 0.5386467178266348\n"
     ]
    },
    {
     "name": "stderr",
     "output_type": "stream",
     "text": [
      "\u001b[32m[I 2022-07-27 00:12:12,675]\u001b[0m Trial 5 finished with value: 0.9639943675697076 and parameters: {'regressor': 'XGBoost', 'eta': 0.022215842063315394, 'max_depth': 3, 'subsample': 0.8813381579107818}. Best is trial 4 with value: 0.6226168520695903.\u001b[0m\n"
     ]
    },
    {
     "name": "stdout",
     "output_type": "stream",
     "text": [
      "RMSLE 값 : 0.590432402979249\n",
      "r2 Score 값: 0.8199675288759712\n"
     ]
    },
    {
     "name": "stderr",
     "output_type": "stream",
     "text": [
      "\u001b[32m[I 2022-07-27 00:12:23,667]\u001b[0m Trial 6 finished with value: 0.590432402979249 and parameters: {'regressor': 'RandomForest', 'max_depth': 10, 'n_estimators': 251}. Best is trial 6 with value: 0.590432402979249.\u001b[0m\n"
     ]
    },
    {
     "name": "stdout",
     "output_type": "stream",
     "text": [
      "RMSLE 값 : 0.690214605972267\n",
      "r2 Score 값: 0.7550400563793147\n"
     ]
    },
    {
     "name": "stderr",
     "output_type": "stream",
     "text": [
      "\u001b[32m[I 2022-07-27 00:12:34,826]\u001b[0m Trial 7 finished with value: 0.690214605972267 and parameters: {'regressor': 'RandomForest', 'max_depth': 7, 'n_estimators': 383}. Best is trial 6 with value: 0.590432402979249.\u001b[0m\n"
     ]
    },
    {
     "name": "stdout",
     "output_type": "stream",
     "text": [
      "RMSLE 값 : 0.5874724703430075\n",
      "r2 Score 값: 0.8216987962566236\n"
     ]
    },
    {
     "name": "stderr",
     "output_type": "stream",
     "text": [
      "\u001b[32m[I 2022-07-27 00:13:25,051]\u001b[0m Trial 8 finished with value: 0.5874724703430075 and parameters: {'regressor': 'RandomForest', 'max_depth': 10, 'n_estimators': 2490}. Best is trial 8 with value: 0.5874724703430075.\u001b[0m\n",
      "C:\\Users\\j2hoo\\AppData\\Local\\Temp\\ipykernel_25456\\3045367379.py:19: FutureWarning: suggest_uniform has been deprecated in v3.0.0. This feature will be removed in v6.0.0. See https://github.com/optuna/optuna/releases/tag/v3.0.0. Use :func:`~optuna.trial.Trial.suggest_float` instead.\n",
      "  'eta':trial.suggest_uniform('eta', 0.0001, 0.1),\n",
      "C:\\Users\\j2hoo\\AppData\\Local\\Temp\\ipykernel_25456\\3045367379.py:21: FutureWarning: suggest_uniform has been deprecated in v3.0.0. This feature will be removed in v6.0.0. See https://github.com/optuna/optuna/releases/tag/v3.0.0. Use :func:`~optuna.trial.Trial.suggest_float` instead.\n",
      "  'subsample':trial.suggest_uniform('subsample', 0.5, 0.9)\n"
     ]
    },
    {
     "name": "stdout",
     "output_type": "stream",
     "text": [
      "RMSLE 값 : 0.916990108730916\n",
      "r2 Score 값: 0.590819903780663\n"
     ]
    },
    {
     "name": "stderr",
     "output_type": "stream",
     "text": [
      "\u001b[32m[I 2022-07-27 00:13:28,238]\u001b[0m Trial 9 finished with value: 0.916990108730916 and parameters: {'regressor': 'XGBoost', 'eta': 0.019073739937408372, 'max_depth': 6, 'subsample': 0.6142990449920527}. Best is trial 8 with value: 0.5874724703430075.\u001b[0m\n"
     ]
    },
    {
     "name": "stdout",
     "output_type": "stream",
     "text": [
      "RMSLE 값 : 0.5876992853278866\n",
      "r2 Score 값: 0.8215604271013629\n"
     ]
    },
    {
     "name": "stderr",
     "output_type": "stream",
     "text": [
      "\u001b[32m[I 2022-07-27 00:14:21,170]\u001b[0m Trial 10 finished with value: 0.5876992853278866 and parameters: {'regressor': 'RandomForest', 'max_depth': 10, 'n_estimators': 2670}. Best is trial 8 with value: 0.5874724703430075.\u001b[0m\n"
     ]
    },
    {
     "name": "stdout",
     "output_type": "stream",
     "text": [
      "RMSLE 값 : 0.587680089320982\n",
      "r2 Score 값: 0.821559037973576\n"
     ]
    },
    {
     "name": "stderr",
     "output_type": "stream",
     "text": [
      "\u001b[32m[I 2022-07-27 00:15:17,543]\u001b[0m Trial 11 finished with value: 0.587680089320982 and parameters: {'regressor': 'RandomForest', 'max_depth': 10, 'n_estimators': 2850}. Best is trial 8 with value: 0.5874724703430075.\u001b[0m\n"
     ]
    },
    {
     "name": "stdout",
     "output_type": "stream",
     "text": [
      "RMSLE 값 : 0.6152751050606429\n",
      "r2 Score 값: 0.8047443238627244\n"
     ]
    },
    {
     "name": "stderr",
     "output_type": "stream",
     "text": [
      "\u001b[32m[I 2022-07-27 00:15:54,773]\u001b[0m Trial 12 finished with value: 0.6152751050606429 and parameters: {'regressor': 'RandomForest', 'max_depth': 9, 'n_estimators': 2058}. Best is trial 8 with value: 0.5874724703430075.\u001b[0m\n"
     ]
    },
    {
     "name": "stdout",
     "output_type": "stream",
     "text": [
      "RMSLE 값 : 0.6152463130127642\n",
      "r2 Score 값: 0.8047635694811344\n"
     ]
    },
    {
     "name": "stderr",
     "output_type": "stream",
     "text": [
      "\u001b[32m[I 2022-07-27 00:16:33,520]\u001b[0m Trial 13 finished with value: 0.6152463130127642 and parameters: {'regressor': 'RandomForest', 'max_depth': 9, 'n_estimators': 2125}. Best is trial 8 with value: 0.5874724703430075.\u001b[0m\n"
     ]
    },
    {
     "name": "stdout",
     "output_type": "stream",
     "text": [
      "RMSLE 값 : 0.8329563222472344\n",
      "r2 Score 값: 0.6453369127701732\n"
     ]
    },
    {
     "name": "stderr",
     "output_type": "stream",
     "text": [
      "\u001b[32m[I 2022-07-27 00:16:56,176]\u001b[0m Trial 14 finished with value: 0.8329563222472344 and parameters: {'regressor': 'RandomForest', 'max_depth': 4, 'n_estimators': 2329}. Best is trial 8 with value: 0.5874724703430075.\u001b[0m\n"
     ]
    },
    {
     "name": "stdout",
     "output_type": "stream",
     "text": [
      "RMSLE 값 : 0.5874297313511178\n",
      "r2 Score 값: 0.8217142830641939\n"
     ]
    },
    {
     "name": "stderr",
     "output_type": "stream",
     "text": [
      "\u001b[32m[I 2022-07-27 00:17:23,452]\u001b[0m Trial 15 finished with value: 0.5874297313511178 and parameters: {'regressor': 'RandomForest', 'max_depth': 10, 'n_estimators': 1337}. Best is trial 15 with value: 0.5874297313511178.\u001b[0m\n"
     ]
    },
    {
     "name": "stdout",
     "output_type": "stream",
     "text": [
      "RMSLE 값 : 0.7534747424195544\n",
      "r2 Score 값: 0.7084252138868223\n"
     ]
    },
    {
     "name": "stderr",
     "output_type": "stream",
     "text": [
      "\u001b[32m[I 2022-07-27 00:17:26,150]\u001b[0m Trial 16 finished with value: 0.7534747424195544 and parameters: {'regressor': 'DecisionTree', 'max_depth': 8}. Best is trial 15 with value: 0.5874297313511178.\u001b[0m\n"
     ]
    },
    {
     "name": "stdout",
     "output_type": "stream",
     "text": [
      "RMSLE 값 : 0.6151452785580223\n",
      "r2 Score 값: 0.8048290805492865\n"
     ]
    },
    {
     "name": "stderr",
     "output_type": "stream",
     "text": [
      "\u001b[32m[I 2022-07-27 00:17:47,386]\u001b[0m Trial 17 finished with value: 0.6151452785580223 and parameters: {'regressor': 'RandomForest', 'max_depth': 9, 'n_estimators': 1154}. Best is trial 15 with value: 0.5874297313511178.\u001b[0m\n"
     ]
    },
    {
     "name": "stdout",
     "output_type": "stream",
     "text": [
      "RMSLE 값 : 0.8335048524294792\n",
      "r2 Score 값: 0.6448865673932174\n"
     ]
    },
    {
     "name": "stderr",
     "output_type": "stream",
     "text": [
      "\u001b[32m[I 2022-07-27 00:18:01,151]\u001b[0m Trial 18 finished with value: 0.8335048524294792 and parameters: {'regressor': 'RandomForest', 'max_depth': 4, 'n_estimators': 1380}. Best is trial 15 with value: 0.5874297313511178.\u001b[0m\n"
     ]
    },
    {
     "name": "stdout",
     "output_type": "stream",
     "text": [
      "RMSLE 값 : 0.7534747424195544\n",
      "r2 Score 값: 0.7084252138868223\n"
     ]
    },
    {
     "name": "stderr",
     "output_type": "stream",
     "text": [
      "\u001b[32m[I 2022-07-27 00:18:03,724]\u001b[0m Trial 19 finished with value: 0.7534747424195544 and parameters: {'regressor': 'DecisionTree', 'max_depth': 8}. Best is trial 15 with value: 0.5874297313511178.\u001b[0m\n"
     ]
    }
   ],
   "source": [
    "# "
   ]
  },
  {
   "cell_type": "code",
   "execution_count": null,
   "id": "a5711522-34fd-41a6-a8e6-b69b70f4f16a",
   "metadata": {},
   "outputs": [],
   "source": [
    "# "
   ]
  }
 ],
 "metadata": {
  "kernelspec": {
   "display_name": "Python 3 (ipykernel)",
   "language": "python",
   "name": "python3"
  },
  "language_info": {
   "codemirror_mode": {
    "name": "ipython",
    "version": 3
   },
   "file_extension": ".py",
   "mimetype": "text/x-python",
   "name": "python",
   "nbconvert_exporter": "python",
   "pygments_lexer": "ipython3",
   "version": "3.9.13"
  },
  "vscode": {
   "interpreter": {
    "hash": "95c3009113cd6295bbe752d3ee869da699e1762c27257b0102e4fc4c50401955"
   }
  }
 },
 "nbformat": 4,
 "nbformat_minor": 5
}
