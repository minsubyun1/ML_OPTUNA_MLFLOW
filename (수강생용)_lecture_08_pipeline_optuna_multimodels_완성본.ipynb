{
 "cells": [
  {
   "cell_type": "markdown",
   "id": "ed086ee1-20ec-4f6f-8c37-0efc146cc1e9",
   "metadata": {},
   "source": [
    "## 머신러닝 Pipeline + Optuna\n",
    "- 이전 강의들에서 결측치 처리, 모델 학습 등을 진행하였다. \n",
    "- 이 때, 결측치 처리, 스케일링, 하이퍼 파라미터 등을 최소화하여 쉽게 연결할 수 있도록 도와준다. \n",
    "- 본 예제에서는 scikit-learn pipeline에 대해 학습할 예정이다. "
   ]
  },
  {
   "cell_type": "markdown",
   "id": "d532f16f-799f-4bcf-9ca8-7c6666664899",
   "metadata": {},
   "source": [
    "## 필수 라이브러리 불러오기\n",
    "- 본 튜토리얼에 적합한 주요 라이브러리들을 불러온다. "
   ]
  },
  {
   "cell_type": "code",
   "execution_count": 1,
   "id": "2f0fea8e-14f6-4ae2-bcfe-2631e814793f",
   "metadata": {},
   "outputs": [
    {
     "name": "stdout",
     "output_type": "stream",
     "text": [
      "numpy version 1.23.1\n",
      "pandas version 1.4.3\n",
      "seaborn version 0.11.2\n",
      "sklearn version 1.1.1\n",
      "optuna version 3.0.0b1\n",
      "xgboost version 1.6.1\n"
     ]
    }
   ],
   "source": [
    "import numpy as np\n",
    "import pandas as pd\n",
    "import seaborn as sns \n",
    "import sklearn\n",
    "from sklearn.compose import ColumnTransformer\n",
    "from sklearn.decomposition import PCA\n",
    "from sklearn.impute import SimpleImputer\n",
    "from sklearn.preprocessing import StandardScaler\n",
    "from sklearn.preprocessing import OneHotEncoder\n",
    "from sklearn.linear_model import LinearRegression\n",
    "from sklearn.pipeline import Pipeline\n",
    "from sklearn.model_selection import train_test_split\n",
    "from sklearn.metrics import mean_squared_error, r2_score\n",
    "from sklearn.model_selection import GridSearchCV, RandomizedSearchCV\n",
    "from sklearn import set_config\n",
    "import optuna\n",
    "import mlflow\n",
    "\n",
    "import xgboost\n",
    "from xgboost import XGBRegressor\n",
    "\n",
    "print(f\"numpy version {np.__version__}\")\n",
    "print(f\"pandas version {pd.__version__}\")\n",
    "print(f\"seaborn version {sns.__version__}\")\n",
    "print(f\"sklearn version {sklearn.__version__}\")\n",
    "print(f\"optuna version {optuna.__version__}\")\n",
    "print(f\"xgboost version {xgboost.__version__}\")"
   ]
  },
  {
   "cell_type": "markdown",
   "id": "6e559399-cf51-4d11-b33d-7a87518c0bc7",
   "metadata": {},
   "source": [
    "## 데이터 불러오기\n",
    "- 본 실습을 위해 간단한 데이터를 불러온다. "
   ]
  },
  {
   "cell_type": "code",
   "execution_count": 10,
   "id": "8d9975ae-0263-4939-81c7-a8a034eaa1e8",
   "metadata": {},
   "outputs": [
    {
     "data": {
      "text/plain": [
       "'C:\\\\Users\\\\j2hoo\\\\OneDrive\\\\Desktop\\\\ml_optuna_mlflow'"
      ]
     },
     "execution_count": 10,
     "metadata": {},
     "output_type": "execute_result"
    }
   ],
   "source": [
    "import os\n",
    "os.getcwd()"
   ]
  },
  {
   "cell_type": "code",
   "execution_count": 11,
   "id": "f0346f74-8b03-405f-b504-3a21af67df34",
   "metadata": {},
   "outputs": [
    {
     "data": {
      "text/plain": [
       "((10886, 12), (6493, 9), (6493, 2))"
      ]
     },
     "execution_count": 11,
     "metadata": {},
     "output_type": "execute_result"
    }
   ],
   "source": [
    "# DATA_PATH = \"C:\\\\Users\\\\human\\\\Desktop\\\\mlops_tutorial\\\\data\\\\bike-sharing-demand\\\\\"\n",
    "DATA_PATH = \"C:\\\\Users\\\\j2hoo\\\\OneDrive\\\\Desktop\\\\ml_optuna_mlflow\\\\data\\\\bike-sharing-demand\\\\\"\n",
    "\n",
    "train_df = pd.read_csv(DATA_PATH + \"train.csv\")\n",
    "test = pd.read_csv(DATA_PATH + \"test.csv\")\n",
    "submission = pd.read_csv(DATA_PATH + \"sampleSubmission.csv\")\n",
    "\n",
    "train_df.shape, test.shape, submission.shape"
   ]
  },
  {
   "cell_type": "markdown",
   "id": "fd0264ef-15bc-474a-9b13-2a0534444aac",
   "metadata": {},
   "source": [
    "## 데이터 전처리\n",
    "- 데이터 전처리는 기존 강의와 비슷하게 진행한다. \n",
    "- 단, 범주형 데이터셋은 그대로 놔두도록 한다. "
   ]
  },
  {
   "cell_type": "code",
   "execution_count": 4,
   "id": "55faf2eb-7194-42e1-872b-e61161b473cb",
   "metadata": {},
   "outputs": [
    {
     "name": "stdout",
     "output_type": "stream",
     "text": [
      "<class 'pandas.core.frame.DataFrame'>\n",
      "Int64Index: 17378 entries, 0 to 6492\n",
      "Data columns (total 10 columns):\n",
      " #   Column      Non-Null Count  Dtype  \n",
      "---  ------      --------------  -----  \n",
      " 0   season      17378 non-null  object \n",
      " 1   holiday     17378 non-null  int64  \n",
      " 2   workingday  17378 non-null  int64  \n",
      " 3   weather     17378 non-null  object \n",
      " 4   temp        17378 non-null  float64\n",
      " 5   humidity    17378 non-null  int64  \n",
      " 6   year        17378 non-null  int64  \n",
      " 7   day         17378 non-null  int64  \n",
      " 8   hour        17378 non-null  int64  \n",
      " 9   weekday     17378 non-null  object \n",
      "dtypes: float64(1), int64(6), object(3)\n",
      "memory usage: 1.5+ MB\n"
     ]
    }
   ],
   "source": [
    "# 타깃값 별도 저장\n",
    "train_df = train_df[train_df['weather'] != 4]\n",
    "y = train_df['count'] # 타깃값\n",
    "\n",
    "# count 컬럼 제거\n",
    "train_df = train_df.drop(['count'], axis=1)\n",
    "\n",
    "# 데이터 합치기\n",
    "all_df = pd.concat([train_df, test])\n",
    "\n",
    "# 날짜 데이터로 파생변수 만들기\n",
    "all_df['date'] = pd.to_datetime(all_df['datetime'])\n",
    "all_df['year'] = all_df['date'].dt.year\n",
    "all_df['date'] = pd.to_datetime(all_df['datetime'])\n",
    "all_df['year'] = all_df['date'].dt.year\n",
    "all_df['month'] = all_df['date'].dt.month\n",
    "all_df['day'] = all_df['date'].dt.day\n",
    "all_df['hour'] = all_df['date'].dt.hour\n",
    "all_df['weekday'] = all_df['date'].dt.day_name()\n",
    "\n",
    "# 원-핫 인코딩을 위해 변경함\n",
    "season_num = [1, 2, 3, 4]\n",
    "season_str = ['Spring', 'Summer', 'Fall', 'Winter']\n",
    "all_df['season'] = all_df['season'].replace(season_num, season_str)\n",
    "\n",
    "weather_num = [1, 2, 3, 4]\n",
    "weather_str = ['Clear', 'Few Clouds', 'Light Snow, Rain', 'Heavy Snow, Rain']\n",
    "all_df['weather'] = all_df['weather'].replace(season_num, season_str)\n",
    "\n",
    "del_features = ['casual', 'registered', 'datetime', 'date', 'windspeed', 'month', 'atemp']\n",
    "all_df = all_df.drop(del_features, axis=1)\n",
    "\n",
    "all_df.info()"
   ]
  },
  {
   "cell_type": "markdown",
   "id": "21c18525-3ad0-46a1-8b5f-f601f678dc5d",
   "metadata": {},
   "source": [
    "## 데이터셋 분리"
   ]
  },
  {
   "cell_type": "code",
   "execution_count": 5,
   "id": "7ea3fc09-ead6-4a48-8bd1-d6da8caa48e3",
   "metadata": {},
   "outputs": [
    {
     "data": {
      "text/plain": [
       "((10885, 10), (6493, 10))"
      ]
     },
     "execution_count": 5,
     "metadata": {},
     "output_type": "execute_result"
    }
   ],
   "source": [
    "train = all_df.iloc[0:len(y), :]\n",
    "test = all_df.iloc[len(y):, :]\n",
    "train.shape, test.shape"
   ]
  },
  {
   "cell_type": "code",
   "execution_count": 6,
   "id": "a1032ce2-e1bf-4e81-bbc3-c1b73ef4885d",
   "metadata": {},
   "outputs": [
    {
     "data": {
      "text/plain": [
       "((7619, 10), (3266, 10), (7619,), (3266,))"
      ]
     },
     "execution_count": 6,
     "metadata": {},
     "output_type": "execute_result"
    }
   ],
   "source": [
    "# train_test_split\n",
    "X_train, X_valid, y_train, y_valid = train_test_split(train, y, test_size=0.3, shuffle=True, random_state=42)\n",
    "X_train.shape, X_valid.shape, y_train.shape, y_valid.shape"
   ]
  },
  {
   "cell_type": "markdown",
   "id": "5debd59c-839e-45b4-9c73-6c338008a40d",
   "metadata": {},
   "source": [
    "## 데이터 전처리 파이프라인 만들기\n",
    "- (1) 수치형 변수에 대해서는 StandardScaler() 클래스를 이용해서 표준화를 진행했다. \n",
    "- (2) 범주형 변수의 원핫인코딩하는 데이터 전처리 파이프라인을 만든다. "
   ]
  },
  {
   "cell_type": "code",
   "execution_count": 7,
   "id": "94e08e0c-b9b2-4bff-a3e6-cbe8fc760e43",
   "metadata": {},
   "outputs": [],
   "source": [
    "# (1) 수치형 변수 StandardScaler()\n",
    "num_features = [\"temp\", \"humidity\", \"hour\"]\n",
    "num_transformer = Pipeline(\n",
    "    steps = [(\"scaler\", StandardScaler()), (\"pca\", PCA())]\n",
    ")\n",
    "\n",
    "# (2) 범주형 변수 원핫 인코딩 OneHotEncoder()\n",
    "cat_features = [\"season\", \"weather\", \"weekday\"]\n",
    "cat_transformer = OneHotEncoder(handle_unknown=\"ignore\")\n",
    "\n",
    "# (3) ColumnTransformer\n",
    "preprocessor = ColumnTransformer(\n",
    "    transformers = [\n",
    "        (\"num\", num_transformer, num_features), \n",
    "        (\"cat\", cat_transformer, cat_features)\n",
    "    ]\n",
    ")"
   ]
  },
  {
   "cell_type": "markdown",
   "id": "6cb02177-8f63-4469-96b1-f3d064366b90",
   "metadata": {},
   "source": [
    "## Optuna\n",
    "- 그리드 서치 리뷰"
   ]
  },
  {
   "cell_type": "code",
   "execution_count": 7,
   "id": "abde175d-fa28-4bda-98e4-a17063565235",
   "metadata": {},
   "outputs": [
    {
     "data": {
      "text/html": [
       "<style>#sk-container-id-1 {color: black;background-color: white;}#sk-container-id-1 pre{padding: 0;}#sk-container-id-1 div.sk-toggleable {background-color: white;}#sk-container-id-1 label.sk-toggleable__label {cursor: pointer;display: block;width: 100%;margin-bottom: 0;padding: 0.3em;box-sizing: border-box;text-align: center;}#sk-container-id-1 label.sk-toggleable__label-arrow:before {content: \"▸\";float: left;margin-right: 0.25em;color: #696969;}#sk-container-id-1 label.sk-toggleable__label-arrow:hover:before {color: black;}#sk-container-id-1 div.sk-estimator:hover label.sk-toggleable__label-arrow:before {color: black;}#sk-container-id-1 div.sk-toggleable__content {max-height: 0;max-width: 0;overflow: hidden;text-align: left;background-color: #f0f8ff;}#sk-container-id-1 div.sk-toggleable__content pre {margin: 0.2em;color: black;border-radius: 0.25em;background-color: #f0f8ff;}#sk-container-id-1 input.sk-toggleable__control:checked~div.sk-toggleable__content {max-height: 200px;max-width: 100%;overflow: auto;}#sk-container-id-1 input.sk-toggleable__control:checked~label.sk-toggleable__label-arrow:before {content: \"▾\";}#sk-container-id-1 div.sk-estimator input.sk-toggleable__control:checked~label.sk-toggleable__label {background-color: #d4ebff;}#sk-container-id-1 div.sk-label input.sk-toggleable__control:checked~label.sk-toggleable__label {background-color: #d4ebff;}#sk-container-id-1 input.sk-hidden--visually {border: 0;clip: rect(1px 1px 1px 1px);clip: rect(1px, 1px, 1px, 1px);height: 1px;margin: -1px;overflow: hidden;padding: 0;position: absolute;width: 1px;}#sk-container-id-1 div.sk-estimator {font-family: monospace;background-color: #f0f8ff;border: 1px dotted black;border-radius: 0.25em;box-sizing: border-box;margin-bottom: 0.5em;}#sk-container-id-1 div.sk-estimator:hover {background-color: #d4ebff;}#sk-container-id-1 div.sk-parallel-item::after {content: \"\";width: 100%;border-bottom: 1px solid gray;flex-grow: 1;}#sk-container-id-1 div.sk-label:hover label.sk-toggleable__label {background-color: #d4ebff;}#sk-container-id-1 div.sk-serial::before {content: \"\";position: absolute;border-left: 1px solid gray;box-sizing: border-box;top: 0;bottom: 0;left: 50%;z-index: 0;}#sk-container-id-1 div.sk-serial {display: flex;flex-direction: column;align-items: center;background-color: white;padding-right: 0.2em;padding-left: 0.2em;position: relative;}#sk-container-id-1 div.sk-item {position: relative;z-index: 1;}#sk-container-id-1 div.sk-parallel {display: flex;align-items: stretch;justify-content: center;background-color: white;position: relative;}#sk-container-id-1 div.sk-item::before, #sk-container-id-1 div.sk-parallel-item::before {content: \"\";position: absolute;border-left: 1px solid gray;box-sizing: border-box;top: 0;bottom: 0;left: 50%;z-index: -1;}#sk-container-id-1 div.sk-parallel-item {display: flex;flex-direction: column;z-index: 1;position: relative;background-color: white;}#sk-container-id-1 div.sk-parallel-item:first-child::after {align-self: flex-end;width: 50%;}#sk-container-id-1 div.sk-parallel-item:last-child::after {align-self: flex-start;width: 50%;}#sk-container-id-1 div.sk-parallel-item:only-child::after {width: 0;}#sk-container-id-1 div.sk-dashed-wrapped {border: 1px dashed gray;margin: 0 0.4em 0.5em 0.4em;box-sizing: border-box;padding-bottom: 0.4em;background-color: white;}#sk-container-id-1 div.sk-label label {font-family: monospace;font-weight: bold;display: inline-block;line-height: 1.2em;}#sk-container-id-1 div.sk-label-container {text-align: center;}#sk-container-id-1 div.sk-container {/* jupyter's `normalize.less` sets `[hidden] { display: none; }` but bootstrap.min.css set `[hidden] { display: none !important; }` so we also need the `!important` here to be able to override the default hidden behavior on the sphinx rendered scikit-learn.org. See: https://github.com/scikit-learn/scikit-learn/issues/21755 */display: inline-block !important;position: relative;}#sk-container-id-1 div.sk-text-repr-fallback {display: none;}</style><div id=\"sk-container-id-1\" class=\"sk-top-container\"><div class=\"sk-text-repr-fallback\"><pre>GridSearchCV(cv=2,\n",
       "             estimator=Pipeline(steps=[(&#x27;preprocessor&#x27;,\n",
       "                                        ColumnTransformer(transformers=[(&#x27;num&#x27;,\n",
       "                                                                         Pipeline(steps=[(&#x27;scaler&#x27;,\n",
       "                                                                                          StandardScaler()),\n",
       "                                                                                         (&#x27;pca&#x27;,\n",
       "                                                                                          PCA())]),\n",
       "                                                                         [&#x27;temp&#x27;,\n",
       "                                                                          &#x27;humidity&#x27;,\n",
       "                                                                          &#x27;hour&#x27;]),\n",
       "                                                                        (&#x27;cat&#x27;,\n",
       "                                                                         OneHotEncoder(handle_unknown=&#x27;ignore&#x27;),\n",
       "                                                                         [&#x27;season&#x27;,\n",
       "                                                                          &#x27;weather&#x27;,\n",
       "                                                                          &#x27;weekday&#x27;])])),\n",
       "                                       (&#x27;xgbrg&#x27;,\n",
       "                                        XGBRegressor(base_score=None,\n",
       "                                                     booster=None,\n",
       "                                                     callbacks=None,\n",
       "                                                     colsample_byleve...\n",
       "                                                     learning_rate=None,\n",
       "                                                     max_bin=None,\n",
       "                                                     max_cat_to_onehot=None,\n",
       "                                                     max_delta_step=None,\n",
       "                                                     max_depth=None,\n",
       "                                                     max_leaves=None,\n",
       "                                                     min_child_weight=None,\n",
       "                                                     missing=nan,\n",
       "                                                     monotone_constraints=None,\n",
       "                                                     n_estimators=100,\n",
       "                                                     n_jobs=None,\n",
       "                                                     num_parallel_tree=None,\n",
       "                                                     predictor=None,\n",
       "                                                     random_state=None,\n",
       "                                                     reg_alpha=None,\n",
       "                                                     reg_lambda=None, ...))]),\n",
       "             param_grid={&#x27;xgbrg__max_depth&#x27;: [2, 7, 10],\n",
       "                         &#x27;xgbrg__n_estimators&#x27;: [10, 500]})</pre><b>In a Jupyter environment, please rerun this cell to show the HTML representation or trust the notebook. <br />On GitHub, the HTML representation is unable to render, please try loading this page with nbviewer.org.</b></div><div class=\"sk-container\" hidden><div class=\"sk-item sk-dashed-wrapped\"><div class=\"sk-label-container\"><div class=\"sk-label sk-toggleable\"><input class=\"sk-toggleable__control sk-hidden--visually\" id=\"sk-estimator-id-1\" type=\"checkbox\" ><label for=\"sk-estimator-id-1\" class=\"sk-toggleable__label sk-toggleable__label-arrow\">GridSearchCV</label><div class=\"sk-toggleable__content\"><pre>GridSearchCV(cv=2,\n",
       "             estimator=Pipeline(steps=[(&#x27;preprocessor&#x27;,\n",
       "                                        ColumnTransformer(transformers=[(&#x27;num&#x27;,\n",
       "                                                                         Pipeline(steps=[(&#x27;scaler&#x27;,\n",
       "                                                                                          StandardScaler()),\n",
       "                                                                                         (&#x27;pca&#x27;,\n",
       "                                                                                          PCA())]),\n",
       "                                                                         [&#x27;temp&#x27;,\n",
       "                                                                          &#x27;humidity&#x27;,\n",
       "                                                                          &#x27;hour&#x27;]),\n",
       "                                                                        (&#x27;cat&#x27;,\n",
       "                                                                         OneHotEncoder(handle_unknown=&#x27;ignore&#x27;),\n",
       "                                                                         [&#x27;season&#x27;,\n",
       "                                                                          &#x27;weather&#x27;,\n",
       "                                                                          &#x27;weekday&#x27;])])),\n",
       "                                       (&#x27;xgbrg&#x27;,\n",
       "                                        XGBRegressor(base_score=None,\n",
       "                                                     booster=None,\n",
       "                                                     callbacks=None,\n",
       "                                                     colsample_byleve...\n",
       "                                                     learning_rate=None,\n",
       "                                                     max_bin=None,\n",
       "                                                     max_cat_to_onehot=None,\n",
       "                                                     max_delta_step=None,\n",
       "                                                     max_depth=None,\n",
       "                                                     max_leaves=None,\n",
       "                                                     min_child_weight=None,\n",
       "                                                     missing=nan,\n",
       "                                                     monotone_constraints=None,\n",
       "                                                     n_estimators=100,\n",
       "                                                     n_jobs=None,\n",
       "                                                     num_parallel_tree=None,\n",
       "                                                     predictor=None,\n",
       "                                                     random_state=None,\n",
       "                                                     reg_alpha=None,\n",
       "                                                     reg_lambda=None, ...))]),\n",
       "             param_grid={&#x27;xgbrg__max_depth&#x27;: [2, 7, 10],\n",
       "                         &#x27;xgbrg__n_estimators&#x27;: [10, 500]})</pre></div></div></div><div class=\"sk-parallel\"><div class=\"sk-parallel-item\"><div class=\"sk-item\"><div class=\"sk-label-container\"><div class=\"sk-label sk-toggleable\"><input class=\"sk-toggleable__control sk-hidden--visually\" id=\"sk-estimator-id-2\" type=\"checkbox\" ><label for=\"sk-estimator-id-2\" class=\"sk-toggleable__label sk-toggleable__label-arrow\">estimator: Pipeline</label><div class=\"sk-toggleable__content\"><pre>Pipeline(steps=[(&#x27;preprocessor&#x27;,\n",
       "                 ColumnTransformer(transformers=[(&#x27;num&#x27;,\n",
       "                                                  Pipeline(steps=[(&#x27;scaler&#x27;,\n",
       "                                                                   StandardScaler()),\n",
       "                                                                  (&#x27;pca&#x27;,\n",
       "                                                                   PCA())]),\n",
       "                                                  [&#x27;temp&#x27;, &#x27;humidity&#x27;, &#x27;hour&#x27;]),\n",
       "                                                 (&#x27;cat&#x27;,\n",
       "                                                  OneHotEncoder(handle_unknown=&#x27;ignore&#x27;),\n",
       "                                                  [&#x27;season&#x27;, &#x27;weather&#x27;,\n",
       "                                                   &#x27;weekday&#x27;])])),\n",
       "                (&#x27;xgbrg&#x27;,\n",
       "                 XGBRegressor(base_score=None, booster=None, callbacks=None,\n",
       "                              colsample_bylevel=None, colsample_bynode=None...\n",
       "                              gamma=None, gpu_id=None, grow_policy=None,\n",
       "                              importance_type=None,\n",
       "                              interaction_constraints=None, learning_rate=None,\n",
       "                              max_bin=None, max_cat_to_onehot=None,\n",
       "                              max_delta_step=None, max_depth=None,\n",
       "                              max_leaves=None, min_child_weight=None,\n",
       "                              missing=nan, monotone_constraints=None,\n",
       "                              n_estimators=100, n_jobs=None,\n",
       "                              num_parallel_tree=None, predictor=None,\n",
       "                              random_state=None, reg_alpha=None,\n",
       "                              reg_lambda=None, ...))])</pre></div></div></div><div class=\"sk-serial\"><div class=\"sk-item\"><div class=\"sk-serial\"><div class=\"sk-item sk-dashed-wrapped\"><div class=\"sk-label-container\"><div class=\"sk-label sk-toggleable\"><input class=\"sk-toggleable__control sk-hidden--visually\" id=\"sk-estimator-id-3\" type=\"checkbox\" ><label for=\"sk-estimator-id-3\" class=\"sk-toggleable__label sk-toggleable__label-arrow\">preprocessor: ColumnTransformer</label><div class=\"sk-toggleable__content\"><pre>ColumnTransformer(transformers=[(&#x27;num&#x27;,\n",
       "                                 Pipeline(steps=[(&#x27;scaler&#x27;, StandardScaler()),\n",
       "                                                 (&#x27;pca&#x27;, PCA())]),\n",
       "                                 [&#x27;temp&#x27;, &#x27;humidity&#x27;, &#x27;hour&#x27;]),\n",
       "                                (&#x27;cat&#x27;, OneHotEncoder(handle_unknown=&#x27;ignore&#x27;),\n",
       "                                 [&#x27;season&#x27;, &#x27;weather&#x27;, &#x27;weekday&#x27;])])</pre></div></div></div><div class=\"sk-parallel\"><div class=\"sk-parallel-item\"><div class=\"sk-item\"><div class=\"sk-label-container\"><div class=\"sk-label sk-toggleable\"><input class=\"sk-toggleable__control sk-hidden--visually\" id=\"sk-estimator-id-4\" type=\"checkbox\" ><label for=\"sk-estimator-id-4\" class=\"sk-toggleable__label sk-toggleable__label-arrow\">num</label><div class=\"sk-toggleable__content\"><pre>[&#x27;temp&#x27;, &#x27;humidity&#x27;, &#x27;hour&#x27;]</pre></div></div></div><div class=\"sk-serial\"><div class=\"sk-item\"><div class=\"sk-serial\"><div class=\"sk-item\"><div class=\"sk-estimator sk-toggleable\"><input class=\"sk-toggleable__control sk-hidden--visually\" id=\"sk-estimator-id-5\" type=\"checkbox\" ><label for=\"sk-estimator-id-5\" class=\"sk-toggleable__label sk-toggleable__label-arrow\">StandardScaler</label><div class=\"sk-toggleable__content\"><pre>StandardScaler()</pre></div></div></div><div class=\"sk-item\"><div class=\"sk-estimator sk-toggleable\"><input class=\"sk-toggleable__control sk-hidden--visually\" id=\"sk-estimator-id-6\" type=\"checkbox\" ><label for=\"sk-estimator-id-6\" class=\"sk-toggleable__label sk-toggleable__label-arrow\">PCA</label><div class=\"sk-toggleable__content\"><pre>PCA()</pre></div></div></div></div></div></div></div></div><div class=\"sk-parallel-item\"><div class=\"sk-item\"><div class=\"sk-label-container\"><div class=\"sk-label sk-toggleable\"><input class=\"sk-toggleable__control sk-hidden--visually\" id=\"sk-estimator-id-7\" type=\"checkbox\" ><label for=\"sk-estimator-id-7\" class=\"sk-toggleable__label sk-toggleable__label-arrow\">cat</label><div class=\"sk-toggleable__content\"><pre>[&#x27;season&#x27;, &#x27;weather&#x27;, &#x27;weekday&#x27;]</pre></div></div></div><div class=\"sk-serial\"><div class=\"sk-item\"><div class=\"sk-estimator sk-toggleable\"><input class=\"sk-toggleable__control sk-hidden--visually\" id=\"sk-estimator-id-8\" type=\"checkbox\" ><label for=\"sk-estimator-id-8\" class=\"sk-toggleable__label sk-toggleable__label-arrow\">OneHotEncoder</label><div class=\"sk-toggleable__content\"><pre>OneHotEncoder(handle_unknown=&#x27;ignore&#x27;)</pre></div></div></div></div></div></div></div></div><div class=\"sk-item\"><div class=\"sk-estimator sk-toggleable\"><input class=\"sk-toggleable__control sk-hidden--visually\" id=\"sk-estimator-id-9\" type=\"checkbox\" ><label for=\"sk-estimator-id-9\" class=\"sk-toggleable__label sk-toggleable__label-arrow\">XGBRegressor</label><div class=\"sk-toggleable__content\"><pre>XGBRegressor(base_score=None, booster=None, callbacks=None,\n",
       "             colsample_bylevel=None, colsample_bynode=None,\n",
       "             colsample_bytree=None, early_stopping_rounds=None,\n",
       "             enable_categorical=False, eval_metric=None, gamma=None,\n",
       "             gpu_id=None, grow_policy=None, importance_type=None,\n",
       "             interaction_constraints=None, learning_rate=None, max_bin=None,\n",
       "             max_cat_to_onehot=None, max_delta_step=None, max_depth=None,\n",
       "             max_leaves=None, min_child_weight=None, missing=nan,\n",
       "             monotone_constraints=None, n_estimators=100, n_jobs=None,\n",
       "             num_parallel_tree=None, predictor=None, random_state=None,\n",
       "             reg_alpha=None, reg_lambda=None, ...)</pre></div></div></div></div></div></div></div></div></div></div></div></div>"
      ],
      "text/plain": [
       "GridSearchCV(cv=2,\n",
       "             estimator=Pipeline(steps=[('preprocessor',\n",
       "                                        ColumnTransformer(transformers=[('num',\n",
       "                                                                         Pipeline(steps=[('scaler',\n",
       "                                                                                          StandardScaler()),\n",
       "                                                                                         ('pca',\n",
       "                                                                                          PCA())]),\n",
       "                                                                         ['temp',\n",
       "                                                                          'humidity',\n",
       "                                                                          'hour']),\n",
       "                                                                        ('cat',\n",
       "                                                                         OneHotEncoder(handle_unknown='ignore'),\n",
       "                                                                         ['season',\n",
       "                                                                          'weather',\n",
       "                                                                          'weekday'])])),\n",
       "                                       ('xgbrg',\n",
       "                                        XGBRegressor(base_score=None,\n",
       "                                                     booster=None,\n",
       "                                                     callbacks=None,\n",
       "                                                     colsample_byleve...\n",
       "                                                     learning_rate=None,\n",
       "                                                     max_bin=None,\n",
       "                                                     max_cat_to_onehot=None,\n",
       "                                                     max_delta_step=None,\n",
       "                                                     max_depth=None,\n",
       "                                                     max_leaves=None,\n",
       "                                                     min_child_weight=None,\n",
       "                                                     missing=nan,\n",
       "                                                     monotone_constraints=None,\n",
       "                                                     n_estimators=100,\n",
       "                                                     n_jobs=None,\n",
       "                                                     num_parallel_tree=None,\n",
       "                                                     predictor=None,\n",
       "                                                     random_state=None,\n",
       "                                                     reg_alpha=None,\n",
       "                                                     reg_lambda=None, ...))]),\n",
       "             param_grid={'xgbrg__max_depth': [2, 7, 10],\n",
       "                         'xgbrg__n_estimators': [10, 500]})"
      ]
     },
     "execution_count": 7,
     "metadata": {},
     "output_type": "execute_result"
    }
   ],
   "source": [
    "set_config(display = 'diagram')\n",
    "\n",
    "# (4) 모델 정의\n",
    "pipe_reg_model = Pipeline(\n",
    "    steps = [(\"preprocessor\", preprocessor), (\"xgbrg\", XGBRegressor())]\n",
    ")\n",
    "\n",
    "# (5) Grid Search\n",
    "param_grid = {\n",
    "    'xgbrg__max_depth' : [2, 7, 10], \n",
    "    'xgbrg__n_estimators' : [10, 500], \n",
    "}\n",
    "\n",
    "gridCV = GridSearchCV(pipe_reg_model, cv = 2, param_grid = param_grid)\n",
    "\n",
    "log_y = np.log(y_train)\n",
    "gridCV.fit(X_train, log_y)"
   ]
  },
  {
   "cell_type": "markdown",
   "id": "4c9eebbe-cd48-4a87-ae1b-c9db8928c6b5",
   "metadata": {},
   "source": [
    "## 평가지표 구현"
   ]
  },
  {
   "cell_type": "code",
   "execution_count": 8,
   "id": "a13c68f3-05fc-488d-bc35-ea774afaddb6",
   "metadata": {},
   "outputs": [],
   "source": [
    "def rmsle(y, y_,convertExp=True):\n",
    "    \n",
    "    # 지수변환\n",
    "    if convertExp:\n",
    "        y = np.exp(y),\n",
    "        y_ = np.exp(y_)\n",
    "        \n",
    "    # 로그변환 후 결측값을 0으로 변환 \n",
    "    log1 = np.nan_to_num(np.array([np.log(v + 1) for v in y]))\n",
    "    log2 = np.nan_to_num(np.array([np.log(v + 1) for v in y_]))\n",
    "    calc = (log1 - log2) ** 2\n",
    "    \n",
    "    # RMSLE 계산\n",
    "    return np.sqrt(np.mean(calc))"
   ]
  },
  {
   "cell_type": "markdown",
   "id": "3ff6e57a-6da9-46ad-9eb5-1ffe16a411ae",
   "metadata": {},
   "source": [
    "## Optuna\n",
    "- Pipeline + Optuna + MLFlow와 연동하는 코드를 작성한다. \n",
    "    + 참고 : https://hvy-optuna.readthedocs.io/en/latest/reference/generated/optuna.integration.MLflowCallback.html\n",
    "    "
   ]
  },
  {
   "cell_type": "code",
   "execution_count": 9,
   "id": "c6117757-3ad9-4df4-acbb-6f3a13fd3fa6",
   "metadata": {},
   "outputs": [
    {
     "name": "stderr",
     "output_type": "stream",
     "text": [
      "C:\\Users\\j2hoo\\AppData\\Local\\Temp\\ipykernel_2516\\1501545355.py:22: ExperimentalWarning: MLflowCallback is experimental (supported from v1.4.0). The interface can change in the future.\n",
      "  mlflc = MLflowCallback(\n",
      "C:\\Users\\j2hoo\\AppData\\Local\\Temp\\ipykernel_2516\\1501545355.py:47: ExperimentalWarning: track_in_mlflow is experimental (supported from v2.9.0). The interface can change in the future.\n",
      "  @mlflc.track_in_mlflow()\n"
     ]
    }
   ],
   "source": [
    "from optuna.integration.mlflow import MLflowCallback\n",
    "\n",
    "# (1) 수치형 변수 StandardScaler()\n",
    "num_features = [\"temp\", \"humidity\", \"hour\"]\n",
    "num_transformer = Pipeline(\n",
    "    steps = [(\"scaler\", StandardScaler()), (\"pca\", PCA())]\n",
    ")\n",
    "\n",
    "# (2) 범주형 변수 원핫 인코딩 OneHotEncoder()\n",
    "cat_features = [\"season\", \"weather\", \"weekday\"]\n",
    "cat_transformer = OneHotEncoder(handle_unknown=\"ignore\")\n",
    "\n",
    "# (3) ColumnTransformer\n",
    "preprocessor = ColumnTransformer(\n",
    "    transformers = [\n",
    "        (\"num\", num_transformer, num_features), \n",
    "        (\"cat\", cat_transformer, cat_features)\n",
    "    ]\n",
    ")\n",
    "\n",
    "# Optuna 설정 for mlflow\n",
    "mlflc = MLflowCallback(\n",
    "    tracking_uri = 'mlruns', \n",
    "    metric_name='rmsle', \n",
    ") \n",
    "\n",
    "# Optuna 모델 정의\n",
    "def create_model(trial):\n",
    "    params = {'eta' : trial.suggest_uniform('eta', 0.0001, 0.1), \n",
    "              'max_depth' : trial.suggest_int('max_depth', 2, 10), \n",
    "              'subsample': trial.suggest_uniform('subsample', 0.5, 0.9)\n",
    "             }\n",
    "    \n",
    "    # 모델 정의 \n",
    "    # (4) 모델 정의\n",
    "    pipe_reg_model = Pipeline(\n",
    "        steps = [(\"preprocessor\", preprocessor), (\"xgbrg\", XGBRegressor(**params, random_state=42))]\n",
    "    )\n",
    "    \n",
    "    # mlflow logging 코드 작성\n",
    "    mlflow.log_param('eta', params['eta'])\n",
    "    mlflow.log_param('max_depth', params['max_depth'])\n",
    "    mlflow.log_param('subsample', params['subsample'])\n",
    "    \n",
    "    return pipe_reg_model\n",
    "\n",
    "@mlflc.track_in_mlflow()\n",
    "def objective(trial):\n",
    "    \n",
    "    # 타깃값 로그변환\n",
    "    log_y_train = np.log(y_train)\n",
    "    log_y_valid = np.log(y_valid)\n",
    "    \n",
    "    model = create_model(trial)\n",
    "    model.fit(X_train, log_y_train)\n",
    "    \n",
    "    # 모형 예측값 반환\n",
    "    preds = model.predict(X_valid)\n",
    "    \n",
    "    print(\"RMSLE 값:\",  rmsle(log_y_valid, preds, True))\n",
    "    print(\"r2 Score 값:\",  r2_score(log_y_valid, preds))\n",
    "    mlflow.log_metric(\"r2_score\", r2_score(log_y_valid, preds))\n",
    "    \n",
    "    rmsle_score = rmsle(log_y_valid, preds, True)\n",
    "    mlflow.sklearn.log_model(model, 'xgboost')\n",
    "    \n",
    "    mlflow.end_run()\n",
    "    \n",
    "    return rmsle_score\n"
   ]
  },
  {
   "cell_type": "code",
   "execution_count": 10,
   "id": "c6b5c555-d615-4dd9-9ec4-b9e13b44a34d",
   "metadata": {},
   "outputs": [
    {
     "name": "stderr",
     "output_type": "stream",
     "text": [
      "\u001b[32m[I 2022-08-23 22:53:05,724]\u001b[0m A new study created in memory with name: bike_sharing_regression\u001b[0m\n",
      "C:\\Users\\j2hoo\\AppData\\Local\\Temp\\ipykernel_2516\\1501545355.py:29: FutureWarning: suggest_uniform has been deprecated in v3.0.0. This feature will be removed in v6.0.0. See https://github.com/optuna/optuna/releases/tag/v3.0.0. Use :func:`~optuna.trial.Trial.suggest_float` instead.\n",
      "  params = {'eta' : trial.suggest_uniform('eta', 0.0001, 0.1),\n",
      "C:\\Users\\j2hoo\\AppData\\Local\\Temp\\ipykernel_2516\\1501545355.py:31: FutureWarning: suggest_uniform has been deprecated in v3.0.0. This feature will be removed in v6.0.0. See https://github.com/optuna/optuna/releases/tag/v3.0.0. Use :func:`~optuna.trial.Trial.suggest_float` instead.\n",
      "  'subsample': trial.suggest_uniform('subsample', 0.5, 0.9)\n"
     ]
    },
    {
     "name": "stdout",
     "output_type": "stream",
     "text": [
      "RMSLE 값: 0.5433891244813719\n",
      "r2 Score 값: 0.8478656564809588\n"
     ]
    },
    {
     "name": "stderr",
     "output_type": "stream",
     "text": [
      "C:\\Users\\j2hoo\\OneDrive\\Desktop\\ml_optuna_mlflow\\venv\\lib\\site-packages\\_distutils_hack\\__init__.py:33: UserWarning: Setuptools is replacing distutils.\n",
      "  warnings.warn(\"Setuptools is replacing distutils.\")\n",
      "\u001b[32m[I 2022-08-23 22:53:09,856]\u001b[0m Trial 0 finished with value: 0.5433891244813719 and parameters: {'eta': 0.07748432161862982, 'max_depth': 7, 'subsample': 0.5292005174932818}. Best is trial 0 with value: 0.5433891244813719.\u001b[0m\n",
      "C:\\Users\\j2hoo\\AppData\\Local\\Temp\\ipykernel_2516\\1501545355.py:29: FutureWarning: suggest_uniform has been deprecated in v3.0.0. This feature will be removed in v6.0.0. See https://github.com/optuna/optuna/releases/tag/v3.0.0. Use :func:`~optuna.trial.Trial.suggest_float` instead.\n",
      "  params = {'eta' : trial.suggest_uniform('eta', 0.0001, 0.1),\n",
      "C:\\Users\\j2hoo\\AppData\\Local\\Temp\\ipykernel_2516\\1501545355.py:31: FutureWarning: suggest_uniform has been deprecated in v3.0.0. This feature will be removed in v6.0.0. See https://github.com/optuna/optuna/releases/tag/v3.0.0. Use :func:`~optuna.trial.Trial.suggest_float` instead.\n",
      "  'subsample': trial.suggest_uniform('subsample', 0.5, 0.9)\n"
     ]
    },
    {
     "name": "stdout",
     "output_type": "stream",
     "text": [
      "RMSLE 값: 2.134492927168491\n",
      "r2 Score 값: -1.18670784262574\n"
     ]
    },
    {
     "name": "stderr",
     "output_type": "stream",
     "text": [
      "\u001b[32m[I 2022-08-23 22:53:12,866]\u001b[0m Trial 1 finished with value: 2.134492927168491 and parameters: {'eta': 0.007355173628468108, 'max_depth': 7, 'subsample': 0.503597007914984}. Best is trial 0 with value: 0.5433891244813719.\u001b[0m\n",
      "C:\\Users\\j2hoo\\AppData\\Local\\Temp\\ipykernel_2516\\1501545355.py:29: FutureWarning: suggest_uniform has been deprecated in v3.0.0. This feature will be removed in v6.0.0. See https://github.com/optuna/optuna/releases/tag/v3.0.0. Use :func:`~optuna.trial.Trial.suggest_float` instead.\n",
      "  params = {'eta' : trial.suggest_uniform('eta', 0.0001, 0.1),\n",
      "C:\\Users\\j2hoo\\AppData\\Local\\Temp\\ipykernel_2516\\1501545355.py:31: FutureWarning: suggest_uniform has been deprecated in v3.0.0. This feature will be removed in v6.0.0. See https://github.com/optuna/optuna/releases/tag/v3.0.0. Use :func:`~optuna.trial.Trial.suggest_float` instead.\n",
      "  'subsample': trial.suggest_uniform('subsample', 0.5, 0.9)\n"
     ]
    },
    {
     "name": "stdout",
     "output_type": "stream",
     "text": [
      "RMSLE 값: 0.5994336744683513\n",
      "r2 Score 값: 0.816974562212244\n"
     ]
    },
    {
     "name": "stderr",
     "output_type": "stream",
     "text": [
      "\u001b[32m[I 2022-08-23 22:53:16,002]\u001b[0m Trial 2 finished with value: 0.5994336744683513 and parameters: {'eta': 0.0346824181402225, 'max_depth': 7, 'subsample': 0.5448133297782245}. Best is trial 0 with value: 0.5433891244813719.\u001b[0m\n",
      "C:\\Users\\j2hoo\\AppData\\Local\\Temp\\ipykernel_2516\\1501545355.py:29: FutureWarning: suggest_uniform has been deprecated in v3.0.0. This feature will be removed in v6.0.0. See https://github.com/optuna/optuna/releases/tag/v3.0.0. Use :func:`~optuna.trial.Trial.suggest_float` instead.\n",
      "  params = {'eta' : trial.suggest_uniform('eta', 0.0001, 0.1),\n",
      "C:\\Users\\j2hoo\\AppData\\Local\\Temp\\ipykernel_2516\\1501545355.py:31: FutureWarning: suggest_uniform has been deprecated in v3.0.0. This feature will be removed in v6.0.0. See https://github.com/optuna/optuna/releases/tag/v3.0.0. Use :func:`~optuna.trial.Trial.suggest_float` instead.\n",
      "  'subsample': trial.suggest_uniform('subsample', 0.5, 0.9)\n"
     ]
    },
    {
     "name": "stdout",
     "output_type": "stream",
     "text": [
      "RMSLE 값: 0.7702008511684635\n",
      "r2 Score 값: 0.6987694933334118\n"
     ]
    },
    {
     "name": "stderr",
     "output_type": "stream",
     "text": [
      "\u001b[32m[I 2022-08-23 22:53:18,896]\u001b[0m Trial 3 finished with value: 0.7702008511684635 and parameters: {'eta': 0.03510539433752137, 'max_depth': 4, 'subsample': 0.8985494608568947}. Best is trial 0 with value: 0.5433891244813719.\u001b[0m\n",
      "C:\\Users\\j2hoo\\AppData\\Local\\Temp\\ipykernel_2516\\1501545355.py:29: FutureWarning: suggest_uniform has been deprecated in v3.0.0. This feature will be removed in v6.0.0. See https://github.com/optuna/optuna/releases/tag/v3.0.0. Use :func:`~optuna.trial.Trial.suggest_float` instead.\n",
      "  params = {'eta' : trial.suggest_uniform('eta', 0.0001, 0.1),\n",
      "C:\\Users\\j2hoo\\AppData\\Local\\Temp\\ipykernel_2516\\1501545355.py:31: FutureWarning: suggest_uniform has been deprecated in v3.0.0. This feature will be removed in v6.0.0. See https://github.com/optuna/optuna/releases/tag/v3.0.0. Use :func:`~optuna.trial.Trial.suggest_float` instead.\n",
      "  'subsample': trial.suggest_uniform('subsample', 0.5, 0.9)\n"
     ]
    },
    {
     "name": "stdout",
     "output_type": "stream",
     "text": [
      "RMSLE 값: 1.257330550058946\n",
      "r2 Score 값: 0.2464957975391281\n"
     ]
    },
    {
     "name": "stderr",
     "output_type": "stream",
     "text": [
      "\u001b[32m[I 2022-08-23 22:53:21,951]\u001b[0m Trial 4 finished with value: 1.257330550058946 and parameters: {'eta': 0.013816130990303929, 'max_depth': 7, 'subsample': 0.7938744875376784}. Best is trial 0 with value: 0.5433891244813719.\u001b[0m\n",
      "C:\\Users\\j2hoo\\AppData\\Local\\Temp\\ipykernel_2516\\1501545355.py:29: FutureWarning: suggest_uniform has been deprecated in v3.0.0. This feature will be removed in v6.0.0. See https://github.com/optuna/optuna/releases/tag/v3.0.0. Use :func:`~optuna.trial.Trial.suggest_float` instead.\n",
      "  params = {'eta' : trial.suggest_uniform('eta', 0.0001, 0.1),\n",
      "C:\\Users\\j2hoo\\AppData\\Local\\Temp\\ipykernel_2516\\1501545355.py:31: FutureWarning: suggest_uniform has been deprecated in v3.0.0. This feature will be removed in v6.0.0. See https://github.com/optuna/optuna/releases/tag/v3.0.0. Use :func:`~optuna.trial.Trial.suggest_float` instead.\n",
      "  'subsample': trial.suggest_uniform('subsample', 0.5, 0.9)\n"
     ]
    },
    {
     "name": "stdout",
     "output_type": "stream",
     "text": [
      "RMSLE 값: 0.5777442501306552\n",
      "r2 Score 값: 0.8282040705359704\n"
     ]
    },
    {
     "name": "stderr",
     "output_type": "stream",
     "text": [
      "\u001b[32m[I 2022-08-23 22:53:24,919]\u001b[0m Trial 5 finished with value: 0.5777442501306552 and parameters: {'eta': 0.08750969678544768, 'max_depth': 6, 'subsample': 0.6119245240601322}. Best is trial 0 with value: 0.5433891244813719.\u001b[0m\n",
      "C:\\Users\\j2hoo\\AppData\\Local\\Temp\\ipykernel_2516\\1501545355.py:29: FutureWarning: suggest_uniform has been deprecated in v3.0.0. This feature will be removed in v6.0.0. See https://github.com/optuna/optuna/releases/tag/v3.0.0. Use :func:`~optuna.trial.Trial.suggest_float` instead.\n",
      "  params = {'eta' : trial.suggest_uniform('eta', 0.0001, 0.1),\n",
      "C:\\Users\\j2hoo\\AppData\\Local\\Temp\\ipykernel_2516\\1501545355.py:31: FutureWarning: suggest_uniform has been deprecated in v3.0.0. This feature will be removed in v6.0.0. See https://github.com/optuna/optuna/releases/tag/v3.0.0. Use :func:`~optuna.trial.Trial.suggest_float` instead.\n",
      "  'subsample': trial.suggest_uniform('subsample', 0.5, 0.9)\n"
     ]
    },
    {
     "name": "stdout",
     "output_type": "stream",
     "text": [
      "RMSLE 값: 0.5229016247049864\n",
      "r2 Score 값: 0.8582304450720135\n"
     ]
    },
    {
     "name": "stderr",
     "output_type": "stream",
     "text": [
      "\u001b[32m[I 2022-08-23 22:53:28,121]\u001b[0m Trial 6 finished with value: 0.5229016247049864 and parameters: {'eta': 0.06104359032799647, 'max_depth': 8, 'subsample': 0.6515345414413763}. Best is trial 6 with value: 0.5229016247049864.\u001b[0m\n",
      "C:\\Users\\j2hoo\\AppData\\Local\\Temp\\ipykernel_2516\\1501545355.py:29: FutureWarning: suggest_uniform has been deprecated in v3.0.0. This feature will be removed in v6.0.0. See https://github.com/optuna/optuna/releases/tag/v3.0.0. Use :func:`~optuna.trial.Trial.suggest_float` instead.\n",
      "  params = {'eta' : trial.suggest_uniform('eta', 0.0001, 0.1),\n",
      "C:\\Users\\j2hoo\\AppData\\Local\\Temp\\ipykernel_2516\\1501545355.py:31: FutureWarning: suggest_uniform has been deprecated in v3.0.0. This feature will be removed in v6.0.0. See https://github.com/optuna/optuna/releases/tag/v3.0.0. Use :func:`~optuna.trial.Trial.suggest_float` instead.\n",
      "  'subsample': trial.suggest_uniform('subsample', 0.5, 0.9)\n"
     ]
    },
    {
     "name": "stdout",
     "output_type": "stream",
     "text": [
      "RMSLE 값: 0.49830139271368373\n",
      "r2 Score 값: 0.8703941453469299\n"
     ]
    },
    {
     "name": "stderr",
     "output_type": "stream",
     "text": [
      "\u001b[32m[I 2022-08-23 22:53:31,492]\u001b[0m Trial 7 finished with value: 0.49830139271368373 and parameters: {'eta': 0.06942789741660357, 'max_depth': 9, 'subsample': 0.6976633960243437}. Best is trial 7 with value: 0.49830139271368373.\u001b[0m\n",
      "C:\\Users\\j2hoo\\AppData\\Local\\Temp\\ipykernel_2516\\1501545355.py:29: FutureWarning: suggest_uniform has been deprecated in v3.0.0. This feature will be removed in v6.0.0. See https://github.com/optuna/optuna/releases/tag/v3.0.0. Use :func:`~optuna.trial.Trial.suggest_float` instead.\n",
      "  params = {'eta' : trial.suggest_uniform('eta', 0.0001, 0.1),\n",
      "C:\\Users\\j2hoo\\AppData\\Local\\Temp\\ipykernel_2516\\1501545355.py:31: FutureWarning: suggest_uniform has been deprecated in v3.0.0. This feature will be removed in v6.0.0. See https://github.com/optuna/optuna/releases/tag/v3.0.0. Use :func:`~optuna.trial.Trial.suggest_float` instead.\n",
      "  'subsample': trial.suggest_uniform('subsample', 0.5, 0.9)\n"
     ]
    },
    {
     "name": "stdout",
     "output_type": "stream",
     "text": [
      "RMSLE 값: 0.5114619620426137\n",
      "r2 Score 값: 0.8644294301499188\n"
     ]
    },
    {
     "name": "stderr",
     "output_type": "stream",
     "text": [
      "\u001b[32m[I 2022-08-23 22:53:34,721]\u001b[0m Trial 8 finished with value: 0.5114619620426137 and parameters: {'eta': 0.048241383502509595, 'max_depth': 9, 'subsample': 0.7243472485484673}. Best is trial 7 with value: 0.49830139271368373.\u001b[0m\n",
      "C:\\Users\\j2hoo\\AppData\\Local\\Temp\\ipykernel_2516\\1501545355.py:29: FutureWarning: suggest_uniform has been deprecated in v3.0.0. This feature will be removed in v6.0.0. See https://github.com/optuna/optuna/releases/tag/v3.0.0. Use :func:`~optuna.trial.Trial.suggest_float` instead.\n",
      "  params = {'eta' : trial.suggest_uniform('eta', 0.0001, 0.1),\n",
      "C:\\Users\\j2hoo\\AppData\\Local\\Temp\\ipykernel_2516\\1501545355.py:31: FutureWarning: suggest_uniform has been deprecated in v3.0.0. This feature will be removed in v6.0.0. See https://github.com/optuna/optuna/releases/tag/v3.0.0. Use :func:`~optuna.trial.Trial.suggest_float` instead.\n",
      "  'subsample': trial.suggest_uniform('subsample', 0.5, 0.9)\n"
     ]
    },
    {
     "name": "stdout",
     "output_type": "stream",
     "text": [
      "RMSLE 값: 0.6528040340124577\n",
      "r2 Score 값: 0.7819884963807099\n"
     ]
    },
    {
     "name": "stderr",
     "output_type": "stream",
     "text": [
      "\u001b[32m[I 2022-08-23 22:53:37,645]\u001b[0m Trial 9 finished with value: 0.6528040340124577 and parameters: {'eta': 0.0758896628357744, 'max_depth': 5, 'subsample': 0.6904557284544302}. Best is trial 7 with value: 0.49830139271368373.\u001b[0m\n"
     ]
    }
   ],
   "source": [
    "study = optuna.create_study(study_name='bike_sharing_regression', direction='minimize')\n",
    "study.optimize(objective, n_trials=10, callbacks=[mlflc])"
   ]
  },
  {
   "cell_type": "markdown",
   "id": "fade2889-061c-43d7-bfc6-9c4904a1c16f",
   "metadata": {},
   "source": [
    "- 이번에는 여러 소스코드를 MLFLow에 추가하는 코드를 작성해본다. "
   ]
  },
  {
   "cell_type": "code",
   "execution_count": 16,
   "id": "1da7d984-6149-41d3-b09b-2cd69b99cbf1",
   "metadata": {},
   "outputs": [
    {
     "name": "stderr",
     "output_type": "stream",
     "text": [
      "C:\\Users\\j2hoo\\AppData\\Local\\Temp\\ipykernel_2516\\1909800325.py:5: ExperimentalWarning: MLflowCallback is experimental (supported from v1.4.0). The interface can change in the future.\n",
      "  mlflc = MLflowCallback(\n",
      "C:\\Users\\j2hoo\\AppData\\Local\\Temp\\ipykernel_2516\\1909800325.py:60: ExperimentalWarning: track_in_mlflow is experimental (supported from v2.9.0). The interface can change in the future.\n",
      "  @mlflc.track_in_mlflow()\n"
     ]
    }
   ],
   "source": [
    "from sklearn.ensemble import RandomForestRegressor\n",
    "from sklearn.tree import DecisionTreeRegressor\n",
    "\n",
    "# Optuna 설정 for mlflow\n",
    "mlflc = MLflowCallback(\n",
    "    tracking_uri = 'mlruns', \n",
    "    metric_name='rmsle', \n",
    ") \n",
    "\n",
    "# Optuna 모델 정의\n",
    "def create_model(trial):\n",
    "    \n",
    "    regressor_name = trial.suggest_categorical('regressor', ['XGBoost', 'RandomForest', 'DecisionTree'])\n",
    "    \n",
    "    ## 모형에 따라 다르게 하이퍼 파라미터를 저장할 수 있다. \n",
    "    if regressor_name == 'XGBoost':\n",
    "        params = {'eta' : trial.suggest_uniform('eta', 0.0001, 0.1), \n",
    "                  'max_depth' : trial.suggest_int('max_depth', 2, 10), \n",
    "                  'subsample': trial.suggest_uniform('subsample', 0.5, 0.9)\n",
    "                 }\n",
    "    \n",
    "        # (4) 모델 정의\n",
    "        pipe_reg_model = Pipeline(\n",
    "            steps = [(\"preprocessor\", preprocessor), (\"xgbrg\", XGBRegressor(**params, random_state=42))]\n",
    "        )\n",
    "    \n",
    "        # mlflow logging 코드 작성\n",
    "        mlflow.log_param('eta', params['eta'])\n",
    "        mlflow.log_param('max_depth', params['max_depth'])\n",
    "        mlflow.log_param('subsample', params['subsample'])\n",
    "        \n",
    "    elif regressor_name == 'RandomForest':\n",
    "        params = {'n_estimators' : trial.suggest_int('n_estimators', 100, 3000), \n",
    "                  'max_depth' : trial.suggest_int('max_depth', 2, 10)\n",
    "                 }\n",
    "    \n",
    "        # (4) 모델 정의\n",
    "        pipe_reg_model = Pipeline(\n",
    "            steps = [(\"preprocessor\", preprocessor), (\"rf_reg\", RandomForestRegressor(**params, random_state=42))]\n",
    "        )\n",
    "    \n",
    "        # mlflow logging 코드 작성\n",
    "        mlflow.log_param('n_estimators', params['n_estimators'])\n",
    "        mlflow.log_param('max_depth', params['max_depth'])\n",
    "    else:\n",
    "        params = {\n",
    "                  'max_depth' : trial.suggest_int('max_depth', 2, 10)\n",
    "                 }\n",
    "    \n",
    "        # (4) 모델 정의\n",
    "        pipe_reg_model = Pipeline(\n",
    "            steps = [(\"preprocessor\", preprocessor), (\"dt_reg\", DecisionTreeRegressor(**params, random_state=42))]\n",
    "        )\n",
    "    \n",
    "        # mlflow logging 코드 작성\n",
    "        mlflow.log_param('max_depth', params['max_depth'])\n",
    "        \n",
    "    return pipe_reg_model\n",
    "\n",
    "@mlflc.track_in_mlflow()\n",
    "def objective(trial):\n",
    "    \n",
    "    # 타깃값 로그변환\n",
    "    log_y_train = np.log(y_train)\n",
    "    log_y_valid = np.log(y_valid)\n",
    "    \n",
    "    model = create_model(trial)\n",
    "    model.fit(X_train, log_y_train)\n",
    "    \n",
    "    # 모형 예측값 반환\n",
    "    preds = model.predict(X_valid)\n",
    "    \n",
    "    print(\"RMSLE 값:\",  rmsle(log_y_valid, preds, True))\n",
    "    print(\"r2 Score 값:\",  r2_score(log_y_valid, preds))\n",
    "    mlflow.log_metric(\"r2_score\", r2_score(log_y_valid, preds))\n",
    "    \n",
    "    rmsle_score = rmsle(log_y_valid, preds, True)\n",
    "    mlflow.sklearn.log_model(model, 'xgboost')\n",
    "    \n",
    "    mlflow.end_run()\n",
    "    \n",
    "    return rmsle_score"
   ]
  },
  {
   "cell_type": "code",
   "execution_count": 17,
   "id": "98673d94-d203-40ca-8fb5-d6ee755b525f",
   "metadata": {},
   "outputs": [
    {
     "name": "stderr",
     "output_type": "stream",
     "text": [
      "\u001b[32m[I 2022-08-23 23:04:56,043]\u001b[0m A new study created in memory with name: bike_sharing_multi_model_regression\u001b[0m\n",
      "2022/08/23 23:04:56 INFO mlflow.tracking.fluent: Experiment with name 'bike_sharing_multi_model_regression' does not exist. Creating a new experiment.\n"
     ]
    },
    {
     "name": "stdout",
     "output_type": "stream",
     "text": [
      "RMSLE 값: 0.8273215509184015\n",
      "r2 Score 값: 0.6524071987885736\n"
     ]
    },
    {
     "name": "stderr",
     "output_type": "stream",
     "text": [
      "\u001b[32m[I 2022-08-23 23:04:59,960]\u001b[0m Trial 0 finished with value: 0.8273215509184015 and parameters: {'regressor': 'DecisionTree', 'max_depth': 6}. Best is trial 0 with value: 0.8273215509184015.\u001b[0m\n",
      "C:\\Users\\j2hoo\\AppData\\Local\\Temp\\ipykernel_2516\\1909800325.py:17: FutureWarning: suggest_uniform has been deprecated in v3.0.0. This feature will be removed in v6.0.0. See https://github.com/optuna/optuna/releases/tag/v3.0.0. Use :func:`~optuna.trial.Trial.suggest_float` instead.\n",
      "  params = {'eta' : trial.suggest_uniform('eta', 0.0001, 0.1),\n",
      "C:\\Users\\j2hoo\\AppData\\Local\\Temp\\ipykernel_2516\\1909800325.py:19: FutureWarning: suggest_uniform has been deprecated in v3.0.0. This feature will be removed in v6.0.0. See https://github.com/optuna/optuna/releases/tag/v3.0.0. Use :func:`~optuna.trial.Trial.suggest_float` instead.\n",
      "  'subsample': trial.suggest_uniform('subsample', 0.5, 0.9)\n"
     ]
    },
    {
     "name": "stdout",
     "output_type": "stream",
     "text": [
      "RMSLE 값: 1.0017586531040157\n",
      "r2 Score 값: 0.498044645905105\n"
     ]
    },
    {
     "name": "stderr",
     "output_type": "stream",
     "text": [
      "\u001b[32m[I 2022-08-23 23:05:03,771]\u001b[0m Trial 1 finished with value: 1.0017586531040157 and parameters: {'regressor': 'XGBoost', 'eta': 0.025464301055013547, 'max_depth': 2, 'subsample': 0.8894785083600223}. Best is trial 0 with value: 0.8273215509184015.\u001b[0m\n"
     ]
    },
    {
     "name": "stdout",
     "output_type": "stream",
     "text": [
      "RMSLE 값: 0.7816759799306753\n",
      "r2 Score 값: 0.6894872490579149\n"
     ]
    },
    {
     "name": "stderr",
     "output_type": "stream",
     "text": [
      "\u001b[32m[I 2022-08-23 23:05:07,282]\u001b[0m Trial 2 finished with value: 0.7816759799306753 and parameters: {'regressor': 'DecisionTree', 'max_depth': 7}. Best is trial 2 with value: 0.7816759799306753.\u001b[0m\n"
     ]
    },
    {
     "name": "stdout",
     "output_type": "stream",
     "text": [
      "RMSLE 값: 0.9092903381686565\n",
      "r2 Score 값: 0.582104194475249\n"
     ]
    },
    {
     "name": "stderr",
     "output_type": "stream",
     "text": [
      "\u001b[32m[I 2022-08-23 23:05:10,846]\u001b[0m Trial 3 finished with value: 0.9092903381686565 and parameters: {'regressor': 'DecisionTree', 'max_depth': 4}. Best is trial 2 with value: 0.7816759799306753.\u001b[0m\n"
     ]
    },
    {
     "name": "stdout",
     "output_type": "stream",
     "text": [
      "RMSLE 값: 0.7588159028200248\n",
      "r2 Score 값: 0.7068425197186899\n"
     ]
    },
    {
     "name": "stderr",
     "output_type": "stream",
     "text": [
      "\u001b[32m[I 2022-08-23 23:05:14,399]\u001b[0m Trial 4 finished with value: 0.7588159028200248 and parameters: {'regressor': 'DecisionTree', 'max_depth': 8}. Best is trial 4 with value: 0.7588159028200248.\u001b[0m\n",
      "C:\\Users\\j2hoo\\AppData\\Local\\Temp\\ipykernel_2516\\1909800325.py:17: FutureWarning: suggest_uniform has been deprecated in v3.0.0. This feature will be removed in v6.0.0. See https://github.com/optuna/optuna/releases/tag/v3.0.0. Use :func:`~optuna.trial.Trial.suggest_float` instead.\n",
      "  params = {'eta' : trial.suggest_uniform('eta', 0.0001, 0.1),\n",
      "C:\\Users\\j2hoo\\AppData\\Local\\Temp\\ipykernel_2516\\1909800325.py:19: FutureWarning: suggest_uniform has been deprecated in v3.0.0. This feature will be removed in v6.0.0. See https://github.com/optuna/optuna/releases/tag/v3.0.0. Use :func:`~optuna.trial.Trial.suggest_float` instead.\n",
      "  'subsample': trial.suggest_uniform('subsample', 0.5, 0.9)\n"
     ]
    },
    {
     "name": "stdout",
     "output_type": "stream",
     "text": [
      "RMSLE 값: 0.6357929145810279\n",
      "r2 Score 값: 0.7939672497628094\n"
     ]
    },
    {
     "name": "stderr",
     "output_type": "stream",
     "text": [
      "\u001b[32m[I 2022-08-23 23:05:18,886]\u001b[0m Trial 5 finished with value: 0.6357929145810279 and parameters: {'regressor': 'XGBoost', 'eta': 0.03672473010264438, 'max_depth': 6, 'subsample': 0.7304132822711364}. Best is trial 5 with value: 0.6357929145810279.\u001b[0m\n"
     ]
    },
    {
     "name": "stdout",
     "output_type": "stream",
     "text": [
      "RMSLE 값: 0.9785979600329554\n",
      "r2 Score 값: 0.516748781370505\n"
     ]
    },
    {
     "name": "stderr",
     "output_type": "stream",
     "text": [
      "\u001b[32m[I 2022-08-23 23:05:22,658]\u001b[0m Trial 6 finished with value: 0.9785979600329554 and parameters: {'regressor': 'DecisionTree', 'max_depth': 3}. Best is trial 5 with value: 0.6357929145810279.\u001b[0m\n"
     ]
    },
    {
     "name": "stdout",
     "output_type": "stream",
     "text": [
      "RMSLE 값: 0.5769715563616967\n",
      "r2 Score 값: 0.8283325763643311\n"
     ]
    },
    {
     "name": "stderr",
     "output_type": "stream",
     "text": [
      "\u001b[32m[I 2022-08-23 23:06:07,323]\u001b[0m Trial 7 finished with value: 0.5769715563616967 and parameters: {'regressor': 'RandomForest', 'n_estimators': 1777, 'max_depth': 10}. Best is trial 7 with value: 0.5769715563616967.\u001b[0m\n",
      "C:\\Users\\j2hoo\\AppData\\Local\\Temp\\ipykernel_2516\\1909800325.py:17: FutureWarning: suggest_uniform has been deprecated in v3.0.0. This feature will be removed in v6.0.0. See https://github.com/optuna/optuna/releases/tag/v3.0.0. Use :func:`~optuna.trial.Trial.suggest_float` instead.\n",
      "  params = {'eta' : trial.suggest_uniform('eta', 0.0001, 0.1),\n",
      "C:\\Users\\j2hoo\\AppData\\Local\\Temp\\ipykernel_2516\\1909800325.py:19: FutureWarning: suggest_uniform has been deprecated in v3.0.0. This feature will be removed in v6.0.0. See https://github.com/optuna/optuna/releases/tag/v3.0.0. Use :func:`~optuna.trial.Trial.suggest_float` instead.\n",
      "  'subsample': trial.suggest_uniform('subsample', 0.5, 0.9)\n"
     ]
    },
    {
     "name": "stdout",
     "output_type": "stream",
     "text": [
      "RMSLE 값: 0.6364118754739613\n",
      "r2 Score 값: 0.7936901484446484\n"
     ]
    },
    {
     "name": "stderr",
     "output_type": "stream",
     "text": [
      "\u001b[32m[I 2022-08-23 23:06:22,104]\u001b[0m Trial 8 finished with value: 0.6364118754739613 and parameters: {'regressor': 'XGBoost', 'eta': 0.03587832252190005, 'max_depth': 6, 'subsample': 0.5597404619997418}. Best is trial 7 with value: 0.5769715563616967.\u001b[0m\n"
     ]
    },
    {
     "name": "stdout",
     "output_type": "stream",
     "text": [
      "RMSLE 값: 0.7588159028200248\n",
      "r2 Score 값: 0.7068425197186899\n"
     ]
    },
    {
     "name": "stderr",
     "output_type": "stream",
     "text": [
      "\u001b[32m[I 2022-08-23 23:06:28,680]\u001b[0m Trial 9 finished with value: 0.7588159028200248 and parameters: {'regressor': 'DecisionTree', 'max_depth': 8}. Best is trial 7 with value: 0.5769715563616967.\u001b[0m\n"
     ]
    },
    {
     "name": "stdout",
     "output_type": "stream",
     "text": [
      "RMSLE 값: 0.5768926942016853\n",
      "r2 Score 값: 0.8283889310047176\n"
     ]
    },
    {
     "name": "stderr",
     "output_type": "stream",
     "text": [
      "\u001b[32m[I 2022-08-23 23:07:37,461]\u001b[0m Trial 10 finished with value: 0.5768926942016853 and parameters: {'regressor': 'RandomForest', 'n_estimators': 1946, 'max_depth': 10}. Best is trial 10 with value: 0.5768926942016853.\u001b[0m\n"
     ]
    },
    {
     "name": "stdout",
     "output_type": "stream",
     "text": [
      "RMSLE 값: 0.5770503647525148\n",
      "r2 Score 값: 0.828289625690025\n"
     ]
    },
    {
     "name": "stderr",
     "output_type": "stream",
     "text": [
      "\u001b[32m[I 2022-08-23 23:08:19,735]\u001b[0m Trial 11 finished with value: 0.5770503647525148 and parameters: {'regressor': 'RandomForest', 'n_estimators': 1804, 'max_depth': 10}. Best is trial 10 with value: 0.5768926942016853.\u001b[0m\n"
     ]
    },
    {
     "name": "stdout",
     "output_type": "stream",
     "text": [
      "RMSLE 값: 0.5768867842348688\n",
      "r2 Score 값: 0.8283951435185044\n"
     ]
    },
    {
     "name": "stderr",
     "output_type": "stream",
     "text": [
      "\u001b[32m[I 2022-08-23 23:09:25,265]\u001b[0m Trial 12 finished with value: 0.5768867842348688 and parameters: {'regressor': 'RandomForest', 'n_estimators': 1968, 'max_depth': 10}. Best is trial 12 with value: 0.5768867842348688.\u001b[0m\n"
     ]
    },
    {
     "name": "stdout",
     "output_type": "stream",
     "text": [
      "RMSLE 값: 0.6043766003370089\n",
      "r2 Score 값: 0.8119578508466199\n"
     ]
    },
    {
     "name": "stderr",
     "output_type": "stream",
     "text": [
      "\u001b[32m[I 2022-08-23 23:10:51,482]\u001b[0m Trial 13 finished with value: 0.6043766003370089 and parameters: {'regressor': 'RandomForest', 'n_estimators': 2898, 'max_depth': 9}. Best is trial 12 with value: 0.5768867842348688.\u001b[0m\n"
     ]
    },
    {
     "name": "stdout",
     "output_type": "stream",
     "text": [
      "RMSLE 값: 0.5768634610865644\n",
      "r2 Score 값: 0.8284045690016143\n"
     ]
    },
    {
     "name": "stderr",
     "output_type": "stream",
     "text": [
      "\u001b[32m[I 2022-08-23 23:11:44,165]\u001b[0m Trial 14 finished with value: 0.5768634610865644 and parameters: {'regressor': 'RandomForest', 'n_estimators': 2069, 'max_depth': 10}. Best is trial 14 with value: 0.5768634610865644.\u001b[0m\n"
     ]
    },
    {
     "name": "stdout",
     "output_type": "stream",
     "text": [
      "RMSLE 값: 0.6380916890740257\n",
      "r2 Score 값: 0.7907382788557517\n"
     ]
    },
    {
     "name": "stderr",
     "output_type": "stream",
     "text": [
      "\u001b[32m[I 2022-08-23 23:11:55,178]\u001b[0m Trial 15 finished with value: 0.6380916890740257 and parameters: {'regressor': 'RandomForest', 'n_estimators': 437, 'max_depth': 8}. Best is trial 14 with value: 0.5768634610865644.\u001b[0m\n"
     ]
    },
    {
     "name": "stdout",
     "output_type": "stream",
     "text": [
      "RMSLE 값: 0.6043901226184247\n",
      "r2 Score 값: 0.8119492790600271\n"
     ]
    },
    {
     "name": "stderr",
     "output_type": "stream",
     "text": [
      "\u001b[32m[I 2022-08-23 23:12:43,987]\u001b[0m Trial 16 finished with value: 0.6043901226184247 and parameters: {'regressor': 'RandomForest', 'n_estimators': 2634, 'max_depth': 9}. Best is trial 14 with value: 0.5768634610865644.\u001b[0m\n",
      "\u001b[33m[W 2022-08-23 23:12:45,755]\u001b[0m Trial 17 failed because of the following error: KeyboardInterrupt()\u001b[0m\n",
      "Traceback (most recent call last):\n",
      "  File \"C:\\Users\\j2hoo\\OneDrive\\Desktop\\ml_optuna_mlflow\\venv\\lib\\site-packages\\optuna\\study\\_optimize.py\", line 207, in _run_trial\n",
      "    value_or_values = func(trial)\n",
      "  File \"C:\\Users\\j2hoo\\OneDrive\\Desktop\\ml_optuna_mlflow\\venv\\lib\\site-packages\\optuna\\integration\\mlflow.py\", line 214, in wrapper\n",
      "    return func(trial)\n",
      "  File \"C:\\Users\\j2hoo\\AppData\\Local\\Temp\\ipykernel_2516\\1909800325.py\", line 68, in objective\n",
      "    model.fit(X_train, log_y_train)\n",
      "  File \"C:\\Users\\j2hoo\\OneDrive\\Desktop\\ml_optuna_mlflow\\venv\\lib\\site-packages\\sklearn\\pipeline.py\", line 382, in fit\n",
      "    self._final_estimator.fit(Xt, y, **fit_params_last_step)\n",
      "  File \"C:\\Users\\j2hoo\\OneDrive\\Desktop\\ml_optuna_mlflow\\venv\\lib\\site-packages\\sklearn\\ensemble\\_forest.py\", line 476, in fit\n",
      "    trees = Parallel(\n",
      "  File \"C:\\Users\\j2hoo\\OneDrive\\Desktop\\ml_optuna_mlflow\\venv\\lib\\site-packages\\joblib\\parallel.py\", line 1046, in __call__\n",
      "    while self.dispatch_one_batch(iterator):\n",
      "  File \"C:\\Users\\j2hoo\\OneDrive\\Desktop\\ml_optuna_mlflow\\venv\\lib\\site-packages\\joblib\\parallel.py\", line 861, in dispatch_one_batch\n",
      "    self._dispatch(tasks)\n",
      "  File \"C:\\Users\\j2hoo\\OneDrive\\Desktop\\ml_optuna_mlflow\\venv\\lib\\site-packages\\joblib\\parallel.py\", line 779, in _dispatch\n",
      "    job = self._backend.apply_async(batch, callback=cb)\n",
      "  File \"C:\\Users\\j2hoo\\OneDrive\\Desktop\\ml_optuna_mlflow\\venv\\lib\\site-packages\\joblib\\_parallel_backends.py\", line 208, in apply_async\n",
      "    result = ImmediateResult(func)\n",
      "  File \"C:\\Users\\j2hoo\\OneDrive\\Desktop\\ml_optuna_mlflow\\venv\\lib\\site-packages\\joblib\\_parallel_backends.py\", line 572, in __init__\n",
      "    self.results = batch()\n",
      "  File \"C:\\Users\\j2hoo\\OneDrive\\Desktop\\ml_optuna_mlflow\\venv\\lib\\site-packages\\joblib\\parallel.py\", line 262, in __call__\n",
      "    return [func(*args, **kwargs)\n",
      "  File \"C:\\Users\\j2hoo\\OneDrive\\Desktop\\ml_optuna_mlflow\\venv\\lib\\site-packages\\joblib\\parallel.py\", line 262, in <listcomp>\n",
      "    return [func(*args, **kwargs)\n",
      "  File \"C:\\Users\\j2hoo\\OneDrive\\Desktop\\ml_optuna_mlflow\\venv\\lib\\site-packages\\sklearn\\utils\\fixes.py\", line 117, in __call__\n",
      "    return self.function(*args, **kwargs)\n",
      "  File \"C:\\Users\\j2hoo\\OneDrive\\Desktop\\ml_optuna_mlflow\\venv\\lib\\site-packages\\sklearn\\ensemble\\_forest.py\", line 189, in _parallel_build_trees\n",
      "    tree.fit(X, y, sample_weight=curr_sample_weight, check_input=False)\n",
      "  File \"C:\\Users\\j2hoo\\OneDrive\\Desktop\\ml_optuna_mlflow\\venv\\lib\\site-packages\\sklearn\\tree\\_classes.py\", line 1342, in fit\n",
      "    super().fit(\n",
      "  File \"C:\\Users\\j2hoo\\OneDrive\\Desktop\\ml_optuna_mlflow\\venv\\lib\\site-packages\\sklearn\\tree\\_classes.py\", line 458, in fit\n",
      "    builder.build(self.tree_, X, y, sample_weight)\n",
      "KeyboardInterrupt\n"
     ]
    },
    {
     "ename": "KeyboardInterrupt",
     "evalue": "",
     "output_type": "error",
     "traceback": [
      "\u001b[1;31m---------------------------------------------------------------------------\u001b[0m",
      "\u001b[1;31mKeyboardInterrupt\u001b[0m                         Traceback (most recent call last)",
      "Input \u001b[1;32mIn [17]\u001b[0m, in \u001b[0;36m<cell line: 2>\u001b[1;34m()\u001b[0m\n\u001b[0;32m      1\u001b[0m study \u001b[38;5;241m=\u001b[39m optuna\u001b[38;5;241m.\u001b[39mcreate_study(study_name\u001b[38;5;241m=\u001b[39m\u001b[38;5;124m'\u001b[39m\u001b[38;5;124mbike_sharing_multi_model_regression\u001b[39m\u001b[38;5;124m'\u001b[39m, direction\u001b[38;5;241m=\u001b[39m\u001b[38;5;124m'\u001b[39m\u001b[38;5;124mminimize\u001b[39m\u001b[38;5;124m'\u001b[39m)\n\u001b[1;32m----> 2\u001b[0m \u001b[43mstudy\u001b[49m\u001b[38;5;241;43m.\u001b[39;49m\u001b[43moptimize\u001b[49m\u001b[43m(\u001b[49m\u001b[43mobjective\u001b[49m\u001b[43m,\u001b[49m\u001b[43m \u001b[49m\u001b[43mn_trials\u001b[49m\u001b[38;5;241;43m=\u001b[39;49m\u001b[38;5;241;43m30\u001b[39;49m\u001b[43m,\u001b[49m\u001b[43m \u001b[49m\u001b[43mcallbacks\u001b[49m\u001b[38;5;241;43m=\u001b[39;49m\u001b[43m[\u001b[49m\u001b[43mmlflc\u001b[49m\u001b[43m]\u001b[49m\u001b[43m)\u001b[49m\n",
      "File \u001b[1;32m~\\OneDrive\\Desktop\\ml_optuna_mlflow\\venv\\lib\\site-packages\\optuna\\study\\study.py:405\u001b[0m, in \u001b[0;36mStudy.optimize\u001b[1;34m(self, func, n_trials, timeout, n_jobs, catch, callbacks, gc_after_trial, show_progress_bar)\u001b[0m\n\u001b[0;32m    301\u001b[0m \u001b[38;5;28;01mdef\u001b[39;00m \u001b[38;5;21moptimize\u001b[39m(\n\u001b[0;32m    302\u001b[0m     \u001b[38;5;28mself\u001b[39m,\n\u001b[0;32m    303\u001b[0m     func: ObjectiveFuncType,\n\u001b[1;32m   (...)\u001b[0m\n\u001b[0;32m    310\u001b[0m     show_progress_bar: \u001b[38;5;28mbool\u001b[39m \u001b[38;5;241m=\u001b[39m \u001b[38;5;28;01mFalse\u001b[39;00m,\n\u001b[0;32m    311\u001b[0m ) \u001b[38;5;241m-\u001b[39m\u001b[38;5;241m>\u001b[39m \u001b[38;5;28;01mNone\u001b[39;00m:\n\u001b[0;32m    312\u001b[0m     \u001b[38;5;124;03m\"\"\"Optimize an objective function.\u001b[39;00m\n\u001b[0;32m    313\u001b[0m \n\u001b[0;32m    314\u001b[0m \u001b[38;5;124;03m    Optimization is done by choosing a suitable set of hyperparameter values from a given\u001b[39;00m\n\u001b[1;32m   (...)\u001b[0m\n\u001b[0;32m    402\u001b[0m \u001b[38;5;124;03m            If nested invocation of this method occurs.\u001b[39;00m\n\u001b[0;32m    403\u001b[0m \u001b[38;5;124;03m    \"\"\"\u001b[39;00m\n\u001b[1;32m--> 405\u001b[0m     \u001b[43m_optimize\u001b[49m\u001b[43m(\u001b[49m\n\u001b[0;32m    406\u001b[0m \u001b[43m        \u001b[49m\u001b[43mstudy\u001b[49m\u001b[38;5;241;43m=\u001b[39;49m\u001b[38;5;28;43mself\u001b[39;49m\u001b[43m,\u001b[49m\n\u001b[0;32m    407\u001b[0m \u001b[43m        \u001b[49m\u001b[43mfunc\u001b[49m\u001b[38;5;241;43m=\u001b[39;49m\u001b[43mfunc\u001b[49m\u001b[43m,\u001b[49m\n\u001b[0;32m    408\u001b[0m \u001b[43m        \u001b[49m\u001b[43mn_trials\u001b[49m\u001b[38;5;241;43m=\u001b[39;49m\u001b[43mn_trials\u001b[49m\u001b[43m,\u001b[49m\n\u001b[0;32m    409\u001b[0m \u001b[43m        \u001b[49m\u001b[43mtimeout\u001b[49m\u001b[38;5;241;43m=\u001b[39;49m\u001b[43mtimeout\u001b[49m\u001b[43m,\u001b[49m\n\u001b[0;32m    410\u001b[0m \u001b[43m        \u001b[49m\u001b[43mn_jobs\u001b[49m\u001b[38;5;241;43m=\u001b[39;49m\u001b[43mn_jobs\u001b[49m\u001b[43m,\u001b[49m\n\u001b[0;32m    411\u001b[0m \u001b[43m        \u001b[49m\u001b[43mcatch\u001b[49m\u001b[38;5;241;43m=\u001b[39;49m\u001b[43mcatch\u001b[49m\u001b[43m,\u001b[49m\n\u001b[0;32m    412\u001b[0m \u001b[43m        \u001b[49m\u001b[43mcallbacks\u001b[49m\u001b[38;5;241;43m=\u001b[39;49m\u001b[43mcallbacks\u001b[49m\u001b[43m,\u001b[49m\n\u001b[0;32m    413\u001b[0m \u001b[43m        \u001b[49m\u001b[43mgc_after_trial\u001b[49m\u001b[38;5;241;43m=\u001b[39;49m\u001b[43mgc_after_trial\u001b[49m\u001b[43m,\u001b[49m\n\u001b[0;32m    414\u001b[0m \u001b[43m        \u001b[49m\u001b[43mshow_progress_bar\u001b[49m\u001b[38;5;241;43m=\u001b[39;49m\u001b[43mshow_progress_bar\u001b[49m\u001b[43m,\u001b[49m\n\u001b[0;32m    415\u001b[0m \u001b[43m    \u001b[49m\u001b[43m)\u001b[49m\n",
      "File \u001b[1;32m~\\OneDrive\\Desktop\\ml_optuna_mlflow\\venv\\lib\\site-packages\\optuna\\study\\_optimize.py:67\u001b[0m, in \u001b[0;36m_optimize\u001b[1;34m(study, func, n_trials, timeout, n_jobs, catch, callbacks, gc_after_trial, show_progress_bar)\u001b[0m\n\u001b[0;32m     65\u001b[0m \u001b[38;5;28;01mtry\u001b[39;00m:\n\u001b[0;32m     66\u001b[0m     \u001b[38;5;28;01mif\u001b[39;00m n_jobs \u001b[38;5;241m==\u001b[39m \u001b[38;5;241m1\u001b[39m:\n\u001b[1;32m---> 67\u001b[0m         \u001b[43m_optimize_sequential\u001b[49m\u001b[43m(\u001b[49m\n\u001b[0;32m     68\u001b[0m \u001b[43m            \u001b[49m\u001b[43mstudy\u001b[49m\u001b[43m,\u001b[49m\n\u001b[0;32m     69\u001b[0m \u001b[43m            \u001b[49m\u001b[43mfunc\u001b[49m\u001b[43m,\u001b[49m\n\u001b[0;32m     70\u001b[0m \u001b[43m            \u001b[49m\u001b[43mn_trials\u001b[49m\u001b[43m,\u001b[49m\n\u001b[0;32m     71\u001b[0m \u001b[43m            \u001b[49m\u001b[43mtimeout\u001b[49m\u001b[43m,\u001b[49m\n\u001b[0;32m     72\u001b[0m \u001b[43m            \u001b[49m\u001b[43mcatch\u001b[49m\u001b[43m,\u001b[49m\n\u001b[0;32m     73\u001b[0m \u001b[43m            \u001b[49m\u001b[43mcallbacks\u001b[49m\u001b[43m,\u001b[49m\n\u001b[0;32m     74\u001b[0m \u001b[43m            \u001b[49m\u001b[43mgc_after_trial\u001b[49m\u001b[43m,\u001b[49m\n\u001b[0;32m     75\u001b[0m \u001b[43m            \u001b[49m\u001b[43mreseed_sampler_rng\u001b[49m\u001b[38;5;241;43m=\u001b[39;49m\u001b[38;5;28;43;01mFalse\u001b[39;49;00m\u001b[43m,\u001b[49m\n\u001b[0;32m     76\u001b[0m \u001b[43m            \u001b[49m\u001b[43mtime_start\u001b[49m\u001b[38;5;241;43m=\u001b[39;49m\u001b[38;5;28;43;01mNone\u001b[39;49;00m\u001b[43m,\u001b[49m\n\u001b[0;32m     77\u001b[0m \u001b[43m            \u001b[49m\u001b[43mprogress_bar\u001b[49m\u001b[38;5;241;43m=\u001b[39;49m\u001b[43mprogress_bar\u001b[49m\u001b[43m,\u001b[49m\n\u001b[0;32m     78\u001b[0m \u001b[43m        \u001b[49m\u001b[43m)\u001b[49m\n\u001b[0;32m     79\u001b[0m     \u001b[38;5;28;01melse\u001b[39;00m:\n\u001b[0;32m     80\u001b[0m         \u001b[38;5;28;01mif\u001b[39;00m n_jobs \u001b[38;5;241m==\u001b[39m \u001b[38;5;241m-\u001b[39m\u001b[38;5;241m1\u001b[39m:\n",
      "File \u001b[1;32m~\\OneDrive\\Desktop\\ml_optuna_mlflow\\venv\\lib\\site-packages\\optuna\\study\\_optimize.py:161\u001b[0m, in \u001b[0;36m_optimize_sequential\u001b[1;34m(study, func, n_trials, timeout, catch, callbacks, gc_after_trial, reseed_sampler_rng, time_start, progress_bar)\u001b[0m\n\u001b[0;32m    158\u001b[0m         \u001b[38;5;28;01mbreak\u001b[39;00m\n\u001b[0;32m    160\u001b[0m \u001b[38;5;28;01mtry\u001b[39;00m:\n\u001b[1;32m--> 161\u001b[0m     frozen_trial \u001b[38;5;241m=\u001b[39m \u001b[43m_run_trial\u001b[49m\u001b[43m(\u001b[49m\u001b[43mstudy\u001b[49m\u001b[43m,\u001b[49m\u001b[43m \u001b[49m\u001b[43mfunc\u001b[49m\u001b[43m,\u001b[49m\u001b[43m \u001b[49m\u001b[43mcatch\u001b[49m\u001b[43m)\u001b[49m\n\u001b[0;32m    162\u001b[0m \u001b[38;5;28;01mexcept\u001b[39;00m \u001b[38;5;167;01mException\u001b[39;00m:\n\u001b[0;32m    163\u001b[0m     \u001b[38;5;28;01mraise\u001b[39;00m\n",
      "File \u001b[1;32m~\\OneDrive\\Desktop\\ml_optuna_mlflow\\venv\\lib\\site-packages\\optuna\\study\\_optimize.py:251\u001b[0m, in \u001b[0;36m_run_trial\u001b[1;34m(study, func, catch)\u001b[0m\n\u001b[0;32m    244\u001b[0m         \u001b[38;5;28;01massert\u001b[39;00m \u001b[38;5;28;01mFalse\u001b[39;00m, \u001b[38;5;124m\"\u001b[39m\u001b[38;5;124mShould not reach.\u001b[39m\u001b[38;5;124m\"\u001b[39m\n\u001b[0;32m    246\u001b[0m \u001b[38;5;28;01mif\u001b[39;00m (\n\u001b[0;32m    247\u001b[0m     frozen_trial\u001b[38;5;241m.\u001b[39mstate \u001b[38;5;241m==\u001b[39m TrialState\u001b[38;5;241m.\u001b[39mFAIL\n\u001b[0;32m    248\u001b[0m     \u001b[38;5;129;01mand\u001b[39;00m func_err \u001b[38;5;129;01mis\u001b[39;00m \u001b[38;5;129;01mnot\u001b[39;00m \u001b[38;5;28;01mNone\u001b[39;00m\n\u001b[0;32m    249\u001b[0m     \u001b[38;5;129;01mand\u001b[39;00m \u001b[38;5;129;01mnot\u001b[39;00m \u001b[38;5;28misinstance\u001b[39m(func_err, catch)\n\u001b[0;32m    250\u001b[0m ):\n\u001b[1;32m--> 251\u001b[0m     \u001b[38;5;28;01mraise\u001b[39;00m func_err\n\u001b[0;32m    252\u001b[0m \u001b[38;5;28;01mreturn\u001b[39;00m frozen_trial\n",
      "File \u001b[1;32m~\\OneDrive\\Desktop\\ml_optuna_mlflow\\venv\\lib\\site-packages\\optuna\\study\\_optimize.py:207\u001b[0m, in \u001b[0;36m_run_trial\u001b[1;34m(study, func, catch)\u001b[0m\n\u001b[0;32m    204\u001b[0m     thread\u001b[38;5;241m.\u001b[39mstart()\n\u001b[0;32m    206\u001b[0m \u001b[38;5;28;01mtry\u001b[39;00m:\n\u001b[1;32m--> 207\u001b[0m     value_or_values \u001b[38;5;241m=\u001b[39m \u001b[43mfunc\u001b[49m\u001b[43m(\u001b[49m\u001b[43mtrial\u001b[49m\u001b[43m)\u001b[49m\n\u001b[0;32m    208\u001b[0m \u001b[38;5;28;01mexcept\u001b[39;00m exceptions\u001b[38;5;241m.\u001b[39mTrialPruned \u001b[38;5;28;01mas\u001b[39;00m e:\n\u001b[0;32m    209\u001b[0m     \u001b[38;5;66;03m# TODO(mamu): Handle multi-objective cases.\u001b[39;00m\n\u001b[0;32m    210\u001b[0m     state \u001b[38;5;241m=\u001b[39m TrialState\u001b[38;5;241m.\u001b[39mPRUNED\n",
      "File \u001b[1;32m~\\OneDrive\\Desktop\\ml_optuna_mlflow\\venv\\lib\\site-packages\\optuna\\integration\\mlflow.py:214\u001b[0m, in \u001b[0;36mMLflowCallback.track_in_mlflow.<locals>.decorator.<locals>.wrapper\u001b[1;34m(trial)\u001b[0m\n\u001b[0;32m    211\u001b[0m \u001b[38;5;28;01mwith\u001b[39;00m mlflow\u001b[38;5;241m.\u001b[39mstart_run(run_name\u001b[38;5;241m=\u001b[39m\u001b[38;5;28mstr\u001b[39m(trial\u001b[38;5;241m.\u001b[39mnumber), nested\u001b[38;5;241m=\u001b[39mnested) \u001b[38;5;28;01mas\u001b[39;00m run:\n\u001b[0;32m    212\u001b[0m     trial\u001b[38;5;241m.\u001b[39mset_system_attr(RUN_ID_ATTRIBUTE_KEY, run\u001b[38;5;241m.\u001b[39minfo\u001b[38;5;241m.\u001b[39mrun_id)\n\u001b[1;32m--> 214\u001b[0m     \u001b[38;5;28;01mreturn\u001b[39;00m \u001b[43mfunc\u001b[49m\u001b[43m(\u001b[49m\u001b[43mtrial\u001b[49m\u001b[43m)\u001b[49m\n",
      "Input \u001b[1;32mIn [16]\u001b[0m, in \u001b[0;36mobjective\u001b[1;34m(trial)\u001b[0m\n\u001b[0;32m     65\u001b[0m log_y_valid \u001b[38;5;241m=\u001b[39m np\u001b[38;5;241m.\u001b[39mlog(y_valid)\n\u001b[0;32m     67\u001b[0m model \u001b[38;5;241m=\u001b[39m create_model(trial)\n\u001b[1;32m---> 68\u001b[0m \u001b[43mmodel\u001b[49m\u001b[38;5;241;43m.\u001b[39;49m\u001b[43mfit\u001b[49m\u001b[43m(\u001b[49m\u001b[43mX_train\u001b[49m\u001b[43m,\u001b[49m\u001b[43m \u001b[49m\u001b[43mlog_y_train\u001b[49m\u001b[43m)\u001b[49m\n\u001b[0;32m     70\u001b[0m \u001b[38;5;66;03m# 모형 예측값 반환\u001b[39;00m\n\u001b[0;32m     71\u001b[0m preds \u001b[38;5;241m=\u001b[39m model\u001b[38;5;241m.\u001b[39mpredict(X_valid)\n",
      "File \u001b[1;32m~\\OneDrive\\Desktop\\ml_optuna_mlflow\\venv\\lib\\site-packages\\sklearn\\pipeline.py:382\u001b[0m, in \u001b[0;36mPipeline.fit\u001b[1;34m(self, X, y, **fit_params)\u001b[0m\n\u001b[0;32m    380\u001b[0m     \u001b[38;5;28;01mif\u001b[39;00m \u001b[38;5;28mself\u001b[39m\u001b[38;5;241m.\u001b[39m_final_estimator \u001b[38;5;241m!=\u001b[39m \u001b[38;5;124m\"\u001b[39m\u001b[38;5;124mpassthrough\u001b[39m\u001b[38;5;124m\"\u001b[39m:\n\u001b[0;32m    381\u001b[0m         fit_params_last_step \u001b[38;5;241m=\u001b[39m fit_params_steps[\u001b[38;5;28mself\u001b[39m\u001b[38;5;241m.\u001b[39msteps[\u001b[38;5;241m-\u001b[39m\u001b[38;5;241m1\u001b[39m][\u001b[38;5;241m0\u001b[39m]]\n\u001b[1;32m--> 382\u001b[0m         \u001b[38;5;28mself\u001b[39m\u001b[38;5;241m.\u001b[39m_final_estimator\u001b[38;5;241m.\u001b[39mfit(Xt, y, \u001b[38;5;241m*\u001b[39m\u001b[38;5;241m*\u001b[39mfit_params_last_step)\n\u001b[0;32m    384\u001b[0m \u001b[38;5;28;01mreturn\u001b[39;00m \u001b[38;5;28mself\u001b[39m\n",
      "File \u001b[1;32m~\\OneDrive\\Desktop\\ml_optuna_mlflow\\venv\\lib\\site-packages\\sklearn\\ensemble\\_forest.py:476\u001b[0m, in \u001b[0;36mBaseForest.fit\u001b[1;34m(self, X, y, sample_weight)\u001b[0m\n\u001b[0;32m    465\u001b[0m trees \u001b[38;5;241m=\u001b[39m [\n\u001b[0;32m    466\u001b[0m     \u001b[38;5;28mself\u001b[39m\u001b[38;5;241m.\u001b[39m_make_estimator(append\u001b[38;5;241m=\u001b[39m\u001b[38;5;28;01mFalse\u001b[39;00m, random_state\u001b[38;5;241m=\u001b[39mrandom_state)\n\u001b[0;32m    467\u001b[0m     \u001b[38;5;28;01mfor\u001b[39;00m i \u001b[38;5;129;01min\u001b[39;00m \u001b[38;5;28mrange\u001b[39m(n_more_estimators)\n\u001b[0;32m    468\u001b[0m ]\n\u001b[0;32m    470\u001b[0m \u001b[38;5;66;03m# Parallel loop: we prefer the threading backend as the Cython code\u001b[39;00m\n\u001b[0;32m    471\u001b[0m \u001b[38;5;66;03m# for fitting the trees is internally releasing the Python GIL\u001b[39;00m\n\u001b[0;32m    472\u001b[0m \u001b[38;5;66;03m# making threading more efficient than multiprocessing in\u001b[39;00m\n\u001b[0;32m    473\u001b[0m \u001b[38;5;66;03m# that case. However, for joblib 0.12+ we respect any\u001b[39;00m\n\u001b[0;32m    474\u001b[0m \u001b[38;5;66;03m# parallel_backend contexts set at a higher level,\u001b[39;00m\n\u001b[0;32m    475\u001b[0m \u001b[38;5;66;03m# since correctness does not rely on using threads.\u001b[39;00m\n\u001b[1;32m--> 476\u001b[0m trees \u001b[38;5;241m=\u001b[39m \u001b[43mParallel\u001b[49m\u001b[43m(\u001b[49m\n\u001b[0;32m    477\u001b[0m \u001b[43m    \u001b[49m\u001b[43mn_jobs\u001b[49m\u001b[38;5;241;43m=\u001b[39;49m\u001b[38;5;28;43mself\u001b[39;49m\u001b[38;5;241;43m.\u001b[39;49m\u001b[43mn_jobs\u001b[49m\u001b[43m,\u001b[49m\n\u001b[0;32m    478\u001b[0m \u001b[43m    \u001b[49m\u001b[43mverbose\u001b[49m\u001b[38;5;241;43m=\u001b[39;49m\u001b[38;5;28;43mself\u001b[39;49m\u001b[38;5;241;43m.\u001b[39;49m\u001b[43mverbose\u001b[49m\u001b[43m,\u001b[49m\n\u001b[0;32m    479\u001b[0m \u001b[43m    \u001b[49m\u001b[43mprefer\u001b[49m\u001b[38;5;241;43m=\u001b[39;49m\u001b[38;5;124;43m\"\u001b[39;49m\u001b[38;5;124;43mthreads\u001b[39;49m\u001b[38;5;124;43m\"\u001b[39;49m\u001b[43m,\u001b[49m\n\u001b[0;32m    480\u001b[0m \u001b[43m\u001b[49m\u001b[43m)\u001b[49m\u001b[43m(\u001b[49m\n\u001b[0;32m    481\u001b[0m \u001b[43m    \u001b[49m\u001b[43mdelayed\u001b[49m\u001b[43m(\u001b[49m\u001b[43m_parallel_build_trees\u001b[49m\u001b[43m)\u001b[49m\u001b[43m(\u001b[49m\n\u001b[0;32m    482\u001b[0m \u001b[43m        \u001b[49m\u001b[43mt\u001b[49m\u001b[43m,\u001b[49m\n\u001b[0;32m    483\u001b[0m \u001b[43m        \u001b[49m\u001b[38;5;28;43mself\u001b[39;49m\u001b[38;5;241;43m.\u001b[39;49m\u001b[43mbootstrap\u001b[49m\u001b[43m,\u001b[49m\n\u001b[0;32m    484\u001b[0m \u001b[43m        \u001b[49m\u001b[43mX\u001b[49m\u001b[43m,\u001b[49m\n\u001b[0;32m    485\u001b[0m \u001b[43m        \u001b[49m\u001b[43my\u001b[49m\u001b[43m,\u001b[49m\n\u001b[0;32m    486\u001b[0m \u001b[43m        \u001b[49m\u001b[43msample_weight\u001b[49m\u001b[43m,\u001b[49m\n\u001b[0;32m    487\u001b[0m \u001b[43m        \u001b[49m\u001b[43mi\u001b[49m\u001b[43m,\u001b[49m\n\u001b[0;32m    488\u001b[0m \u001b[43m        \u001b[49m\u001b[38;5;28;43mlen\u001b[39;49m\u001b[43m(\u001b[49m\u001b[43mtrees\u001b[49m\u001b[43m)\u001b[49m\u001b[43m,\u001b[49m\n\u001b[0;32m    489\u001b[0m \u001b[43m        \u001b[49m\u001b[43mverbose\u001b[49m\u001b[38;5;241;43m=\u001b[39;49m\u001b[38;5;28;43mself\u001b[39;49m\u001b[38;5;241;43m.\u001b[39;49m\u001b[43mverbose\u001b[49m\u001b[43m,\u001b[49m\n\u001b[0;32m    490\u001b[0m \u001b[43m        \u001b[49m\u001b[43mclass_weight\u001b[49m\u001b[38;5;241;43m=\u001b[39;49m\u001b[38;5;28;43mself\u001b[39;49m\u001b[38;5;241;43m.\u001b[39;49m\u001b[43mclass_weight\u001b[49m\u001b[43m,\u001b[49m\n\u001b[0;32m    491\u001b[0m \u001b[43m        \u001b[49m\u001b[43mn_samples_bootstrap\u001b[49m\u001b[38;5;241;43m=\u001b[39;49m\u001b[43mn_samples_bootstrap\u001b[49m\u001b[43m,\u001b[49m\n\u001b[0;32m    492\u001b[0m \u001b[43m    \u001b[49m\u001b[43m)\u001b[49m\n\u001b[0;32m    493\u001b[0m \u001b[43m    \u001b[49m\u001b[38;5;28;43;01mfor\u001b[39;49;00m\u001b[43m \u001b[49m\u001b[43mi\u001b[49m\u001b[43m,\u001b[49m\u001b[43m \u001b[49m\u001b[43mt\u001b[49m\u001b[43m \u001b[49m\u001b[38;5;129;43;01min\u001b[39;49;00m\u001b[43m \u001b[49m\u001b[38;5;28;43menumerate\u001b[39;49m\u001b[43m(\u001b[49m\u001b[43mtrees\u001b[49m\u001b[43m)\u001b[49m\n\u001b[0;32m    494\u001b[0m \u001b[43m\u001b[49m\u001b[43m)\u001b[49m\n\u001b[0;32m    496\u001b[0m \u001b[38;5;66;03m# Collect newly grown trees\u001b[39;00m\n\u001b[0;32m    497\u001b[0m \u001b[38;5;28mself\u001b[39m\u001b[38;5;241m.\u001b[39mestimators_\u001b[38;5;241m.\u001b[39mextend(trees)\n",
      "File \u001b[1;32m~\\OneDrive\\Desktop\\ml_optuna_mlflow\\venv\\lib\\site-packages\\joblib\\parallel.py:1046\u001b[0m, in \u001b[0;36mParallel.__call__\u001b[1;34m(self, iterable)\u001b[0m\n\u001b[0;32m   1043\u001b[0m \u001b[38;5;28;01mif\u001b[39;00m \u001b[38;5;28mself\u001b[39m\u001b[38;5;241m.\u001b[39mdispatch_one_batch(iterator):\n\u001b[0;32m   1044\u001b[0m     \u001b[38;5;28mself\u001b[39m\u001b[38;5;241m.\u001b[39m_iterating \u001b[38;5;241m=\u001b[39m \u001b[38;5;28mself\u001b[39m\u001b[38;5;241m.\u001b[39m_original_iterator \u001b[38;5;129;01mis\u001b[39;00m \u001b[38;5;129;01mnot\u001b[39;00m \u001b[38;5;28;01mNone\u001b[39;00m\n\u001b[1;32m-> 1046\u001b[0m \u001b[38;5;28;01mwhile\u001b[39;00m \u001b[38;5;28;43mself\u001b[39;49m\u001b[38;5;241;43m.\u001b[39;49m\u001b[43mdispatch_one_batch\u001b[49m\u001b[43m(\u001b[49m\u001b[43miterator\u001b[49m\u001b[43m)\u001b[49m:\n\u001b[0;32m   1047\u001b[0m     \u001b[38;5;28;01mpass\u001b[39;00m\n\u001b[0;32m   1049\u001b[0m \u001b[38;5;28;01mif\u001b[39;00m pre_dispatch \u001b[38;5;241m==\u001b[39m \u001b[38;5;124m\"\u001b[39m\u001b[38;5;124mall\u001b[39m\u001b[38;5;124m\"\u001b[39m \u001b[38;5;129;01mor\u001b[39;00m n_jobs \u001b[38;5;241m==\u001b[39m \u001b[38;5;241m1\u001b[39m:\n\u001b[0;32m   1050\u001b[0m     \u001b[38;5;66;03m# The iterable was consumed all at once by the above for loop.\u001b[39;00m\n\u001b[0;32m   1051\u001b[0m     \u001b[38;5;66;03m# No need to wait for async callbacks to trigger to\u001b[39;00m\n\u001b[0;32m   1052\u001b[0m     \u001b[38;5;66;03m# consumption.\u001b[39;00m\n",
      "File \u001b[1;32m~\\OneDrive\\Desktop\\ml_optuna_mlflow\\venv\\lib\\site-packages\\joblib\\parallel.py:861\u001b[0m, in \u001b[0;36mParallel.dispatch_one_batch\u001b[1;34m(self, iterator)\u001b[0m\n\u001b[0;32m    859\u001b[0m     \u001b[38;5;28;01mreturn\u001b[39;00m \u001b[38;5;28;01mFalse\u001b[39;00m\n\u001b[0;32m    860\u001b[0m \u001b[38;5;28;01melse\u001b[39;00m:\n\u001b[1;32m--> 861\u001b[0m     \u001b[38;5;28;43mself\u001b[39;49m\u001b[38;5;241;43m.\u001b[39;49m\u001b[43m_dispatch\u001b[49m\u001b[43m(\u001b[49m\u001b[43mtasks\u001b[49m\u001b[43m)\u001b[49m\n\u001b[0;32m    862\u001b[0m     \u001b[38;5;28;01mreturn\u001b[39;00m \u001b[38;5;28;01mTrue\u001b[39;00m\n",
      "File \u001b[1;32m~\\OneDrive\\Desktop\\ml_optuna_mlflow\\venv\\lib\\site-packages\\joblib\\parallel.py:779\u001b[0m, in \u001b[0;36mParallel._dispatch\u001b[1;34m(self, batch)\u001b[0m\n\u001b[0;32m    777\u001b[0m \u001b[38;5;28;01mwith\u001b[39;00m \u001b[38;5;28mself\u001b[39m\u001b[38;5;241m.\u001b[39m_lock:\n\u001b[0;32m    778\u001b[0m     job_idx \u001b[38;5;241m=\u001b[39m \u001b[38;5;28mlen\u001b[39m(\u001b[38;5;28mself\u001b[39m\u001b[38;5;241m.\u001b[39m_jobs)\n\u001b[1;32m--> 779\u001b[0m     job \u001b[38;5;241m=\u001b[39m \u001b[38;5;28;43mself\u001b[39;49m\u001b[38;5;241;43m.\u001b[39;49m\u001b[43m_backend\u001b[49m\u001b[38;5;241;43m.\u001b[39;49m\u001b[43mapply_async\u001b[49m\u001b[43m(\u001b[49m\u001b[43mbatch\u001b[49m\u001b[43m,\u001b[49m\u001b[43m \u001b[49m\u001b[43mcallback\u001b[49m\u001b[38;5;241;43m=\u001b[39;49m\u001b[43mcb\u001b[49m\u001b[43m)\u001b[49m\n\u001b[0;32m    780\u001b[0m     \u001b[38;5;66;03m# A job can complete so quickly than its callback is\u001b[39;00m\n\u001b[0;32m    781\u001b[0m     \u001b[38;5;66;03m# called before we get here, causing self._jobs to\u001b[39;00m\n\u001b[0;32m    782\u001b[0m     \u001b[38;5;66;03m# grow. To ensure correct results ordering, .insert is\u001b[39;00m\n\u001b[0;32m    783\u001b[0m     \u001b[38;5;66;03m# used (rather than .append) in the following line\u001b[39;00m\n\u001b[0;32m    784\u001b[0m     \u001b[38;5;28mself\u001b[39m\u001b[38;5;241m.\u001b[39m_jobs\u001b[38;5;241m.\u001b[39minsert(job_idx, job)\n",
      "File \u001b[1;32m~\\OneDrive\\Desktop\\ml_optuna_mlflow\\venv\\lib\\site-packages\\joblib\\_parallel_backends.py:208\u001b[0m, in \u001b[0;36mSequentialBackend.apply_async\u001b[1;34m(self, func, callback)\u001b[0m\n\u001b[0;32m    206\u001b[0m \u001b[38;5;28;01mdef\u001b[39;00m \u001b[38;5;21mapply_async\u001b[39m(\u001b[38;5;28mself\u001b[39m, func, callback\u001b[38;5;241m=\u001b[39m\u001b[38;5;28;01mNone\u001b[39;00m):\n\u001b[0;32m    207\u001b[0m     \u001b[38;5;124;03m\"\"\"Schedule a func to be run\"\"\"\u001b[39;00m\n\u001b[1;32m--> 208\u001b[0m     result \u001b[38;5;241m=\u001b[39m \u001b[43mImmediateResult\u001b[49m\u001b[43m(\u001b[49m\u001b[43mfunc\u001b[49m\u001b[43m)\u001b[49m\n\u001b[0;32m    209\u001b[0m     \u001b[38;5;28;01mif\u001b[39;00m callback:\n\u001b[0;32m    210\u001b[0m         callback(result)\n",
      "File \u001b[1;32m~\\OneDrive\\Desktop\\ml_optuna_mlflow\\venv\\lib\\site-packages\\joblib\\_parallel_backends.py:572\u001b[0m, in \u001b[0;36mImmediateResult.__init__\u001b[1;34m(self, batch)\u001b[0m\n\u001b[0;32m    569\u001b[0m \u001b[38;5;28;01mdef\u001b[39;00m \u001b[38;5;21m__init__\u001b[39m(\u001b[38;5;28mself\u001b[39m, batch):\n\u001b[0;32m    570\u001b[0m     \u001b[38;5;66;03m# Don't delay the application, to avoid keeping the input\u001b[39;00m\n\u001b[0;32m    571\u001b[0m     \u001b[38;5;66;03m# arguments in memory\u001b[39;00m\n\u001b[1;32m--> 572\u001b[0m     \u001b[38;5;28mself\u001b[39m\u001b[38;5;241m.\u001b[39mresults \u001b[38;5;241m=\u001b[39m \u001b[43mbatch\u001b[49m\u001b[43m(\u001b[49m\u001b[43m)\u001b[49m\n",
      "File \u001b[1;32m~\\OneDrive\\Desktop\\ml_optuna_mlflow\\venv\\lib\\site-packages\\joblib\\parallel.py:262\u001b[0m, in \u001b[0;36mBatchedCalls.__call__\u001b[1;34m(self)\u001b[0m\n\u001b[0;32m    258\u001b[0m \u001b[38;5;28;01mdef\u001b[39;00m \u001b[38;5;21m__call__\u001b[39m(\u001b[38;5;28mself\u001b[39m):\n\u001b[0;32m    259\u001b[0m     \u001b[38;5;66;03m# Set the default nested backend to self._backend but do not set the\u001b[39;00m\n\u001b[0;32m    260\u001b[0m     \u001b[38;5;66;03m# change the default number of processes to -1\u001b[39;00m\n\u001b[0;32m    261\u001b[0m     \u001b[38;5;28;01mwith\u001b[39;00m parallel_backend(\u001b[38;5;28mself\u001b[39m\u001b[38;5;241m.\u001b[39m_backend, n_jobs\u001b[38;5;241m=\u001b[39m\u001b[38;5;28mself\u001b[39m\u001b[38;5;241m.\u001b[39m_n_jobs):\n\u001b[1;32m--> 262\u001b[0m         \u001b[38;5;28;01mreturn\u001b[39;00m [func(\u001b[38;5;241m*\u001b[39margs, \u001b[38;5;241m*\u001b[39m\u001b[38;5;241m*\u001b[39mkwargs)\n\u001b[0;32m    263\u001b[0m                 \u001b[38;5;28;01mfor\u001b[39;00m func, args, kwargs \u001b[38;5;129;01min\u001b[39;00m \u001b[38;5;28mself\u001b[39m\u001b[38;5;241m.\u001b[39mitems]\n",
      "File \u001b[1;32m~\\OneDrive\\Desktop\\ml_optuna_mlflow\\venv\\lib\\site-packages\\joblib\\parallel.py:262\u001b[0m, in \u001b[0;36m<listcomp>\u001b[1;34m(.0)\u001b[0m\n\u001b[0;32m    258\u001b[0m \u001b[38;5;28;01mdef\u001b[39;00m \u001b[38;5;21m__call__\u001b[39m(\u001b[38;5;28mself\u001b[39m):\n\u001b[0;32m    259\u001b[0m     \u001b[38;5;66;03m# Set the default nested backend to self._backend but do not set the\u001b[39;00m\n\u001b[0;32m    260\u001b[0m     \u001b[38;5;66;03m# change the default number of processes to -1\u001b[39;00m\n\u001b[0;32m    261\u001b[0m     \u001b[38;5;28;01mwith\u001b[39;00m parallel_backend(\u001b[38;5;28mself\u001b[39m\u001b[38;5;241m.\u001b[39m_backend, n_jobs\u001b[38;5;241m=\u001b[39m\u001b[38;5;28mself\u001b[39m\u001b[38;5;241m.\u001b[39m_n_jobs):\n\u001b[1;32m--> 262\u001b[0m         \u001b[38;5;28;01mreturn\u001b[39;00m [func(\u001b[38;5;241m*\u001b[39margs, \u001b[38;5;241m*\u001b[39m\u001b[38;5;241m*\u001b[39mkwargs)\n\u001b[0;32m    263\u001b[0m                 \u001b[38;5;28;01mfor\u001b[39;00m func, args, kwargs \u001b[38;5;129;01min\u001b[39;00m \u001b[38;5;28mself\u001b[39m\u001b[38;5;241m.\u001b[39mitems]\n",
      "File \u001b[1;32m~\\OneDrive\\Desktop\\ml_optuna_mlflow\\venv\\lib\\site-packages\\sklearn\\utils\\fixes.py:117\u001b[0m, in \u001b[0;36m_FuncWrapper.__call__\u001b[1;34m(self, *args, **kwargs)\u001b[0m\n\u001b[0;32m    115\u001b[0m \u001b[38;5;28;01mdef\u001b[39;00m \u001b[38;5;21m__call__\u001b[39m(\u001b[38;5;28mself\u001b[39m, \u001b[38;5;241m*\u001b[39margs, \u001b[38;5;241m*\u001b[39m\u001b[38;5;241m*\u001b[39mkwargs):\n\u001b[0;32m    116\u001b[0m     \u001b[38;5;28;01mwith\u001b[39;00m config_context(\u001b[38;5;241m*\u001b[39m\u001b[38;5;241m*\u001b[39m\u001b[38;5;28mself\u001b[39m\u001b[38;5;241m.\u001b[39mconfig):\n\u001b[1;32m--> 117\u001b[0m         \u001b[38;5;28;01mreturn\u001b[39;00m \u001b[38;5;28mself\u001b[39m\u001b[38;5;241m.\u001b[39mfunction(\u001b[38;5;241m*\u001b[39margs, \u001b[38;5;241m*\u001b[39m\u001b[38;5;241m*\u001b[39mkwargs)\n",
      "File \u001b[1;32m~\\OneDrive\\Desktop\\ml_optuna_mlflow\\venv\\lib\\site-packages\\sklearn\\ensemble\\_forest.py:189\u001b[0m, in \u001b[0;36m_parallel_build_trees\u001b[1;34m(tree, bootstrap, X, y, sample_weight, tree_idx, n_trees, verbose, class_weight, n_samples_bootstrap)\u001b[0m\n\u001b[0;32m    186\u001b[0m     \u001b[38;5;28;01melif\u001b[39;00m class_weight \u001b[38;5;241m==\u001b[39m \u001b[38;5;124m\"\u001b[39m\u001b[38;5;124mbalanced_subsample\u001b[39m\u001b[38;5;124m\"\u001b[39m:\n\u001b[0;32m    187\u001b[0m         curr_sample_weight \u001b[38;5;241m*\u001b[39m\u001b[38;5;241m=\u001b[39m compute_sample_weight(\u001b[38;5;124m\"\u001b[39m\u001b[38;5;124mbalanced\u001b[39m\u001b[38;5;124m\"\u001b[39m, y, indices\u001b[38;5;241m=\u001b[39mindices)\n\u001b[1;32m--> 189\u001b[0m     \u001b[43mtree\u001b[49m\u001b[38;5;241;43m.\u001b[39;49m\u001b[43mfit\u001b[49m\u001b[43m(\u001b[49m\u001b[43mX\u001b[49m\u001b[43m,\u001b[49m\u001b[43m \u001b[49m\u001b[43my\u001b[49m\u001b[43m,\u001b[49m\u001b[43m \u001b[49m\u001b[43msample_weight\u001b[49m\u001b[38;5;241;43m=\u001b[39;49m\u001b[43mcurr_sample_weight\u001b[49m\u001b[43m,\u001b[49m\u001b[43m \u001b[49m\u001b[43mcheck_input\u001b[49m\u001b[38;5;241;43m=\u001b[39;49m\u001b[38;5;28;43;01mFalse\u001b[39;49;00m\u001b[43m)\u001b[49m\n\u001b[0;32m    190\u001b[0m \u001b[38;5;28;01melse\u001b[39;00m:\n\u001b[0;32m    191\u001b[0m     tree\u001b[38;5;241m.\u001b[39mfit(X, y, sample_weight\u001b[38;5;241m=\u001b[39msample_weight, check_input\u001b[38;5;241m=\u001b[39m\u001b[38;5;28;01mFalse\u001b[39;00m)\n",
      "File \u001b[1;32m~\\OneDrive\\Desktop\\ml_optuna_mlflow\\venv\\lib\\site-packages\\sklearn\\tree\\_classes.py:1342\u001b[0m, in \u001b[0;36mDecisionTreeRegressor.fit\u001b[1;34m(self, X, y, sample_weight, check_input)\u001b[0m\n\u001b[0;32m   1313\u001b[0m \u001b[38;5;28;01mdef\u001b[39;00m \u001b[38;5;21mfit\u001b[39m(\u001b[38;5;28mself\u001b[39m, X, y, sample_weight\u001b[38;5;241m=\u001b[39m\u001b[38;5;28;01mNone\u001b[39;00m, check_input\u001b[38;5;241m=\u001b[39m\u001b[38;5;28;01mTrue\u001b[39;00m):\n\u001b[0;32m   1314\u001b[0m     \u001b[38;5;124;03m\"\"\"Build a decision tree regressor from the training set (X, y).\u001b[39;00m\n\u001b[0;32m   1315\u001b[0m \n\u001b[0;32m   1316\u001b[0m \u001b[38;5;124;03m    Parameters\u001b[39;00m\n\u001b[1;32m   (...)\u001b[0m\n\u001b[0;32m   1339\u001b[0m \u001b[38;5;124;03m        Fitted estimator.\u001b[39;00m\n\u001b[0;32m   1340\u001b[0m \u001b[38;5;124;03m    \"\"\"\u001b[39;00m\n\u001b[1;32m-> 1342\u001b[0m     \u001b[38;5;28;43msuper\u001b[39;49m\u001b[43m(\u001b[49m\u001b[43m)\u001b[49m\u001b[38;5;241;43m.\u001b[39;49m\u001b[43mfit\u001b[49m\u001b[43m(\u001b[49m\n\u001b[0;32m   1343\u001b[0m \u001b[43m        \u001b[49m\u001b[43mX\u001b[49m\u001b[43m,\u001b[49m\n\u001b[0;32m   1344\u001b[0m \u001b[43m        \u001b[49m\u001b[43my\u001b[49m\u001b[43m,\u001b[49m\n\u001b[0;32m   1345\u001b[0m \u001b[43m        \u001b[49m\u001b[43msample_weight\u001b[49m\u001b[38;5;241;43m=\u001b[39;49m\u001b[43msample_weight\u001b[49m\u001b[43m,\u001b[49m\n\u001b[0;32m   1346\u001b[0m \u001b[43m        \u001b[49m\u001b[43mcheck_input\u001b[49m\u001b[38;5;241;43m=\u001b[39;49m\u001b[43mcheck_input\u001b[49m\u001b[43m,\u001b[49m\n\u001b[0;32m   1347\u001b[0m \u001b[43m    \u001b[49m\u001b[43m)\u001b[49m\n\u001b[0;32m   1348\u001b[0m     \u001b[38;5;28;01mreturn\u001b[39;00m \u001b[38;5;28mself\u001b[39m\n",
      "File \u001b[1;32m~\\OneDrive\\Desktop\\ml_optuna_mlflow\\venv\\lib\\site-packages\\sklearn\\tree\\_classes.py:458\u001b[0m, in \u001b[0;36mBaseDecisionTree.fit\u001b[1;34m(self, X, y, sample_weight, check_input)\u001b[0m\n\u001b[0;32m    447\u001b[0m \u001b[38;5;28;01melse\u001b[39;00m:\n\u001b[0;32m    448\u001b[0m     builder \u001b[38;5;241m=\u001b[39m BestFirstTreeBuilder(\n\u001b[0;32m    449\u001b[0m         splitter,\n\u001b[0;32m    450\u001b[0m         min_samples_split,\n\u001b[1;32m   (...)\u001b[0m\n\u001b[0;32m    455\u001b[0m         \u001b[38;5;28mself\u001b[39m\u001b[38;5;241m.\u001b[39mmin_impurity_decrease,\n\u001b[0;32m    456\u001b[0m     )\n\u001b[1;32m--> 458\u001b[0m \u001b[43mbuilder\u001b[49m\u001b[38;5;241;43m.\u001b[39;49m\u001b[43mbuild\u001b[49m\u001b[43m(\u001b[49m\u001b[38;5;28;43mself\u001b[39;49m\u001b[38;5;241;43m.\u001b[39;49m\u001b[43mtree_\u001b[49m\u001b[43m,\u001b[49m\u001b[43m \u001b[49m\u001b[43mX\u001b[49m\u001b[43m,\u001b[49m\u001b[43m \u001b[49m\u001b[43my\u001b[49m\u001b[43m,\u001b[49m\u001b[43m \u001b[49m\u001b[43msample_weight\u001b[49m\u001b[43m)\u001b[49m\n\u001b[0;32m    460\u001b[0m \u001b[38;5;28;01mif\u001b[39;00m \u001b[38;5;28mself\u001b[39m\u001b[38;5;241m.\u001b[39mn_outputs_ \u001b[38;5;241m==\u001b[39m \u001b[38;5;241m1\u001b[39m \u001b[38;5;129;01mand\u001b[39;00m is_classifier(\u001b[38;5;28mself\u001b[39m):\n\u001b[0;32m    461\u001b[0m     \u001b[38;5;28mself\u001b[39m\u001b[38;5;241m.\u001b[39mn_classes_ \u001b[38;5;241m=\u001b[39m \u001b[38;5;28mself\u001b[39m\u001b[38;5;241m.\u001b[39mn_classes_[\u001b[38;5;241m0\u001b[39m]\n",
      "\u001b[1;31mKeyboardInterrupt\u001b[0m: "
     ]
    }
   ],
   "source": [
    "study = optuna.create_study(study_name='bike_sharing_multi_model_regression', direction='minimize')\n",
    "study.optimize(objective, n_trials=30, callbacks=[mlflc])"
   ]
  },
  {
   "cell_type": "code",
   "execution_count": 14,
   "id": "a5711522-34fd-41a6-a8e6-b69b70f4f16a",
   "metadata": {},
   "outputs": [],
   "source": [
    "ml_run_id = 'runs:/eaa03bc57f224a6d95c7c85c7f29c7ef/xgboost'\n",
    "loaded_model = mlflow.sklearn.load_model(ml_run_id)\n",
    "\n",
    "# preprocessor.fit_transform(test)\n",
    "# final_preds = loaded_model.predict(test)\n",
    "submission['count'] = np.exp(final_preds)\n",
    "submission.to_csv(DATA_PATH + 'submission.csv', index=False)"
   ]
  },
  {
   "cell_type": "code",
   "execution_count": 15,
   "id": "c65c2c44-97ff-47a2-b315-68a03a8c38de",
   "metadata": {},
   "outputs": [
    {
     "data": {
      "text/html": [
       "<div>\n",
       "<style scoped>\n",
       "    .dataframe tbody tr th:only-of-type {\n",
       "        vertical-align: middle;\n",
       "    }\n",
       "\n",
       "    .dataframe tbody tr th {\n",
       "        vertical-align: top;\n",
       "    }\n",
       "\n",
       "    .dataframe thead th {\n",
       "        text-align: right;\n",
       "    }\n",
       "</style>\n",
       "<table border=\"1\" class=\"dataframe\">\n",
       "  <thead>\n",
       "    <tr style=\"text-align: right;\">\n",
       "      <th></th>\n",
       "      <th>datetime</th>\n",
       "      <th>count</th>\n",
       "    </tr>\n",
       "  </thead>\n",
       "  <tbody>\n",
       "    <tr>\n",
       "      <th>0</th>\n",
       "      <td>2011-01-20 00:00:00</td>\n",
       "      <td>12.069974</td>\n",
       "    </tr>\n",
       "    <tr>\n",
       "      <th>1</th>\n",
       "      <td>2011-01-20 01:00:00</td>\n",
       "      <td>7.462033</td>\n",
       "    </tr>\n",
       "    <tr>\n",
       "      <th>2</th>\n",
       "      <td>2011-01-20 02:00:00</td>\n",
       "      <td>6.319709</td>\n",
       "    </tr>\n",
       "    <tr>\n",
       "      <th>3</th>\n",
       "      <td>2011-01-20 03:00:00</td>\n",
       "      <td>4.516503</td>\n",
       "    </tr>\n",
       "    <tr>\n",
       "      <th>4</th>\n",
       "      <td>2011-01-20 04:00:00</td>\n",
       "      <td>3.660737</td>\n",
       "    </tr>\n",
       "  </tbody>\n",
       "</table>\n",
       "</div>"
      ],
      "text/plain": [
       "              datetime      count\n",
       "0  2011-01-20 00:00:00  12.069974\n",
       "1  2011-01-20 01:00:00   7.462033\n",
       "2  2011-01-20 02:00:00   6.319709\n",
       "3  2011-01-20 03:00:00   4.516503\n",
       "4  2011-01-20 04:00:00   3.660737"
      ]
     },
     "execution_count": 15,
     "metadata": {},
     "output_type": "execute_result"
    }
   ],
   "source": [
    "submission2 = pd.read_csv(DATA_PATH + 'submission.csv')\n",
    "submission2.head()"
   ]
  }
 ],
 "metadata": {
  "kernelspec": {
   "display_name": "Python 3 (ipykernel)",
   "language": "python",
   "name": "python3"
  },
  "language_info": {
   "codemirror_mode": {
    "name": "ipython",
    "version": 3
   },
   "file_extension": ".py",
   "mimetype": "text/x-python",
   "name": "python",
   "nbconvert_exporter": "python",
   "pygments_lexer": "ipython3",
   "version": "3.9.13"
  },
  "vscode": {
   "interpreter": {
    "hash": "95c3009113cd6295bbe752d3ee869da699e1762c27257b0102e4fc4c50401955"
   }
  }
 },
 "nbformat": 4,
 "nbformat_minor": 5
}
