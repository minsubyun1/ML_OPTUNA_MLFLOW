{
 "cells": [
  {
   "cell_type": "markdown",
   "id": "2447c590-2abd-4e72-bc95-03a044c3f051",
   "metadata": {},
   "source": [
    "## 개요\n",
    "- 타이타닉 대회 데이터를 활용하여 ML 모형을 만들 수 있다. \n",
    "- MLFlow에 저장한 모델을 불러와서 예측을 할 수 있다. \n",
    "- 제출 파일을 만들어서 제출해본다. "
   ]
  },
  {
   "cell_type": "code",
   "execution_count": 13,
   "id": "1cfc2756-512f-4b62-982f-624f51f2fc0f",
   "metadata": {},
   "outputs": [
    {
     "name": "stdout",
     "output_type": "stream",
     "text": [
      "numpy version: 1.26.1\n",
      "pandas version: 2.1.1\n",
      "matplotlib version: 3.8.0\n",
      "seaborn version: 0.13.0\n",
      "sklearn version: 1.3.1\n"
     ]
    }
   ],
   "source": [
    "# 코드\n",
    "import numpy as np\n",
    "import pandas as pd\n",
    "import matplotlib\n",
    "import seaborn as sns\n",
    "import sklearn\n",
    "import matplotlib.pyplot as plt\n",
    "\n",
    "print(f\"numpy version: {np.__version__}\")\n",
    "print(f\"pandas version: {pd.__version__}\")\n",
    "print(f\"matplotlib version: {matplotlib.__version__}\")\n",
    "print(f\"seaborn version: {sns.__version__}\")\n",
    "print(f\"sklearn version: {sklearn.__version__}\")"
   ]
  },
  {
   "cell_type": "markdown",
   "id": "4c8011e3-22f7-4259-a85f-fab81a2feda4",
   "metadata": {},
   "source": [
    "## 데이터 불러오기\n",
    "- 3개의 데이터를 불러오도록 한다. "
   ]
  },
  {
   "cell_type": "code",
   "execution_count": 14,
   "id": "3fe7c588-6a5f-4aba-aa48-a9dca3723f13",
   "metadata": {},
   "outputs": [
    {
     "data": {
      "text/plain": [
       "((891, 12), (418, 11), (418, 2))"
      ]
     },
     "execution_count": 14,
     "metadata": {},
     "output_type": "execute_result"
    }
   ],
   "source": [
    "# 코드\n",
    "import os\n",
    "os.getcwd()\n",
    "\n",
    "DATA_PATH = 'C:\\\\Users\\\\MSYUN\\\\Desktop\\\\ml_optuna_mlflow\\\\data\\\\titanic\\\\'\n",
    "train_df = pd.read_csv(DATA_PATH + \"train.csv\")\n",
    "test = pd.read_csv(DATA_PATH + \"test.csv\")\n",
    "submission = pd.read_csv(DATA_PATH + \"gender_submission.csv\")\n",
    "\n",
    "train_df.shape, test.shape, submission.shape"
   ]
  },
  {
   "cell_type": "markdown",
   "id": "81eac89a-e658-4a90-af0a-4c39ccacc46b",
   "metadata": {},
   "source": [
    "## 데이터 탐색\n",
    "- 먼저 컬럼명과 데이터타입을 확인한다. "
   ]
  },
  {
   "cell_type": "code",
   "execution_count": 15,
   "id": "15b86d8a-dcc0-4dee-a4f8-0454488f9bdb",
   "metadata": {},
   "outputs": [
    {
     "name": "stdout",
     "output_type": "stream",
     "text": [
      "<class 'pandas.core.frame.DataFrame'>\n",
      "RangeIndex: 891 entries, 0 to 890\n",
      "Data columns (total 12 columns):\n",
      " #   Column       Non-Null Count  Dtype  \n",
      "---  ------       --------------  -----  \n",
      " 0   PassengerId  891 non-null    int64  \n",
      " 1   Survived     891 non-null    int64  \n",
      " 2   Pclass       891 non-null    int64  \n",
      " 3   Name         891 non-null    object \n",
      " 4   Sex          891 non-null    object \n",
      " 5   Age          714 non-null    float64\n",
      " 6   SibSp        891 non-null    int64  \n",
      " 7   Parch        891 non-null    int64  \n",
      " 8   Ticket       891 non-null    object \n",
      " 9   Fare         891 non-null    float64\n",
      " 10  Cabin        204 non-null    object \n",
      " 11  Embarked     889 non-null    object \n",
      "dtypes: float64(2), int64(5), object(5)\n",
      "memory usage: 83.7+ KB\n"
     ]
    }
   ],
   "source": [
    "# 코드\n",
    "train_df.info()"
   ]
  },
  {
   "cell_type": "markdown",
   "id": "619f2321-3346-4622-be72-a4d3c935d5d5",
   "metadata": {},
   "source": [
    "- 우선 Age, Cabin, Embarked 컬럼을 보면 결측치가 존재하는 것을 확인할 수 있다. \n",
    "- 결측치의 구체적인 갯수를 확인해본다. "
   ]
  },
  {
   "cell_type": "code",
   "execution_count": 16,
   "id": "ef06beb2-792f-4b82-b038-f1c77b23f326",
   "metadata": {},
   "outputs": [
    {
     "data": {
      "text/plain": [
       "PassengerId      0\n",
       "Survived         0\n",
       "Pclass           0\n",
       "Name             0\n",
       "Sex              0\n",
       "Age            177\n",
       "SibSp            0\n",
       "Parch            0\n",
       "Ticket           0\n",
       "Fare             0\n",
       "Cabin          687\n",
       "Embarked         2\n",
       "dtype: int64"
      ]
     },
     "execution_count": 16,
     "metadata": {},
     "output_type": "execute_result"
    }
   ],
   "source": [
    "# 코드\n",
    "train_df.isnull().sum()"
   ]
  },
  {
   "cell_type": "markdown",
   "id": "0d82da28-cef9-40e6-8581-a004f81246a7",
   "metadata": {},
   "source": [
    "## 데이터 시각화\n",
    "- 종속변수는 Survived이다. Survived를 기점으로 시각화를 진행한다. \n",
    "- 숫자 1은 생존을 의미하고, 0은 사망을 의미한다. "
   ]
  },
  {
   "cell_type": "code",
   "execution_count": 17,
   "id": "99749df5-4e02-4eba-af14-101f09f45981",
   "metadata": {},
   "outputs": [
    {
     "data": {
      "text/plain": [
       "((342, 12), (549, 12))"
      ]
     },
     "execution_count": 17,
     "metadata": {},
     "output_type": "execute_result"
    }
   ],
   "source": [
    "# 코드\n",
    "survived = train_df[train_df['Survived'] == 1]\n",
    "deceased = train_df[train_df['Survived'] == 0]\n",
    "\n",
    "survived.shape, deceased.shape"
   ]
  },
  {
   "cell_type": "code",
   "execution_count": 18,
   "id": "d8afd79f-ca73-43e1-b8f3-0f244bbc47f0",
   "metadata": {},
   "outputs": [
    {
     "data": {
      "text/plain": [
       "Survived\n",
       "0    549\n",
       "1    342\n",
       "Name: count, dtype: int64"
      ]
     },
     "execution_count": 18,
     "metadata": {},
     "output_type": "execute_result"
    }
   ],
   "source": [
    "# 코드\n",
    "class_counts = train_df['Survived'].value_counts(sort=True)\n",
    "class_counts"
   ]
  },
  {
   "cell_type": "code",
   "execution_count": 19,
   "id": "b0e3269b-b896-4db9-8726-851a428c9ad2",
   "metadata": {},
   "outputs": [
    {
     "data": {
      "image/png": "[encoded data removed]",
      "text/plain": [
       "<Figure size 640x480 with 1 Axes>"
      ]
     },
     "metadata": {},
     "output_type": "display_data"
    }
   ],
   "source": [
    "fig, ax = plt.subplots()\n",
    "ax.bar(class_counts.index, class_counts.values, color=\"r\", width=0.4)\n",
    "ax.set_xticks([0, 1], [\"Deceased\", \"Survived\"])\n",
    "ax.set_xlabel(\"Label\")\n",
    "ax.set_ylabel(\"Counts\")\n",
    "ax.set_title(\"Class Distribution\")\n",
    "plt.show()"
   ]
  },
  {
   "cell_type": "markdown",
   "id": "e73f26e5-3867-43ae-8e69-ce902348d60d",
   "metadata": {},
   "source": [
    "- 연령별 분포를 보도록 한다. \n",
    "- 대체적으로 연령별로는 구분이 쉽게 되지는 않는 것을 확인할 수 있다. "
   ]
  },
  {
   "cell_type": "code",
   "execution_count": 20,
   "id": "28ba062a-533a-429a-9840-d9deaeabc655",
   "metadata": {},
   "outputs": [
    {
     "data": {
      "image/png": "[encoded data removed]",
      "text/plain": [
       "<Figure size 640x480 with 1 Axes>"
      ]
     },
     "metadata": {},
     "output_type": "display_data"
    }
   ],
   "source": [
    "fig, ax = plt.subplots()\n",
    "ax.scatter(train_df[\"Age\"], train_df[\"Survived\"])\n",
    "ax.set_yticks([0, 1])\n",
    "plt.show()"
   ]
  },
  {
   "cell_type": "markdown",
   "id": "6de7b518-4c86-450c-9305-b4a2a032c5f2",
   "metadata": {},
   "source": [
    "- 성별 생존 막대 그래프를 확인해본다. \n",
    "- 여성이 남성보다 상대적으로 더 많이 생존한 것을 알 수 있다. "
   ]
  },
  {
   "cell_type": "code",
   "execution_count": 21,
   "id": "003ec730-2344-4948-910b-1f5136f9c4e4",
   "metadata": {},
   "outputs": [],
   "source": [
    "def plot_bar(data, column=None):\n",
    "    if column is not None:\n",
    "        fig, ax = plt.subplots(1, 2, figsize=(18, 8))\n",
    "        data[[column, \"Survived\"]].groupby([column]).mean().plot.bar(ax=ax[0])\n",
    "        ax[0].set_title(f\"Survived vs {column}\")\n",
    "        sns.countplot(x = column, hue=\"Survived\", data=data, ax=ax[1])\n",
    "        ax[1].legend(labels = [\"Dead\", \"Survived\"])\n",
    "        ax[1].set_title(f\"{column}:Survived vs Dead\")\n",
    "    else:\n",
    "        print(\"Please type your column\")\n",
    "        "
   ]
  },
  {
   "cell_type": "code",
   "execution_count": 22,
   "id": "8e7fbe64-2f61-4e66-977f-9ab8a759bbc8",
   "metadata": {},
   "outputs": [
    {
     "data": {
      "image/png": "[encoded data removed]",
      "text/plain": [
       "<Figure size 1800x800 with 2 Axes>"
      ]
     },
     "metadata": {},
     "output_type": "display_data"
    }
   ],
   "source": [
    "column_name = 'Sex'\n",
    "plot_bar(train_df, column=column_name)"
   ]
  },
  {
   "cell_type": "markdown",
   "id": "2695601e-428a-4315-9faf-c03ac3d371f1",
   "metadata": {},
   "source": [
    "- 이번에는 Pclass 별 생존 유무 막대그래프를 그려본다. \n",
    "- 1 클래스에 속할수록 생존할 확률이 높은 것을 확인할 수 있다. "
   ]
  },
  {
   "cell_type": "code",
   "execution_count": 23,
   "id": "db69c044-557e-4742-9b8c-4dcf09b741e8",
   "metadata": {},
   "outputs": [
    {
     "data": {
      "image/png": "[encoded data removed]",
      "text/plain": [
       "<Figure size 1800x800 with 2 Axes>"
      ]
     },
     "metadata": {},
     "output_type": "display_data"
    }
   ],
   "source": [
    "# 코드\n",
    "column_name = 'Pclass'\n",
    "plot_bar(train_df, column=column_name)"
   ]
  },
  {
   "cell_type": "markdown",
   "id": "23f5527c-0e75-4262-8810-096995610bc7",
   "metadata": {},
   "source": [
    "## AGE\n",
    "- AGE의 평균을 일반적으로 대치하면 오차가 클 수 있다. \n",
    "- 이 때 Name Feature를 좀 더 분석하도록 하다. "
   ]
  },
  {
   "cell_type": "code",
   "execution_count": 24,
   "id": "d4ecf6b5-896a-418d-87d5-3a23253f9e3c",
   "metadata": {},
   "outputs": [
    {
     "data": {
      "text/plain": [
       "0                              Braund, Mr. Owen Harris\n",
       "1    Cumings, Mrs. John Bradley (Florence Briggs Th...\n",
       "2                               Heikkinen, Miss. Laina\n",
       "3         Futrelle, Mrs. Jacques Heath (Lily May Peel)\n",
       "4                             Allen, Mr. William Henry\n",
       "Name: Name, dtype: object"
      ]
     },
     "execution_count": 24,
     "metadata": {},
     "output_type": "execute_result"
    }
   ],
   "source": [
    "# 코드\n",
    "train_df[\"Name\"][:5]"
   ]
  },
  {
   "cell_type": "markdown",
   "id": "c494c065-09cb-470c-8be4-6124f9f80abb",
   "metadata": {},
   "source": [
    "- 데이터 특징을 보면, 첫번째 이름 뒤에 Mr. Mrs와 같은 호칭이 들어간 것을 확인할 수 있다. \n",
    "- 이를 기반으로 데이터를 추출한다."
   ]
  },
  {
   "cell_type": "code",
   "execution_count": 25,
   "id": "a5076bbb-484a-458a-ad89-f75ab770a14b",
   "metadata": {},
   "outputs": [
    {
     "data": {
      "text/plain": [
       "'Ms'"
      ]
     },
     "execution_count": 25,
     "metadata": {},
     "output_type": "execute_result"
    }
   ],
   "source": [
    "import re\n",
    "\n",
    "temp_test = \"Heikkinen, Ms. Leina\"\n",
    "re.search(\"([A-Za-z]+)\\.\", temp_test).group(1)"
   ]
  },
  {
   "cell_type": "code",
   "execution_count": 26,
   "id": "a52fa0f7-6f4f-4ca2-a45d-2a717657d89a",
   "metadata": {},
   "outputs": [
    {
     "data": {
      "text/html": [
       "<div>\n",
       "<style scoped>\n",
       "    .dataframe tbody tr th:only-of-type {\n",
       "        vertical-align: middle;\n",
       "    }\n",
       "\n",
       "    .dataframe tbody tr th {\n",
       "        vertical-align: top;\n",
       "    }\n",
       "\n",
       "    .dataframe thead th {\n",
       "        text-align: right;\n",
       "    }\n",
       "</style>\n",
       "<table border=\"1\" class=\"dataframe\">\n",
       "  <thead>\n",
       "    <tr style=\"text-align: right;\">\n",
       "      <th></th>\n",
       "      <th>Name</th>\n",
       "      <th>initial</th>\n",
       "    </tr>\n",
       "  </thead>\n",
       "  <tbody>\n",
       "    <tr>\n",
       "      <th>0</th>\n",
       "      <td>Braund, Mr. Owen Harris</td>\n",
       "      <td>Mr</td>\n",
       "    </tr>\n",
       "    <tr>\n",
       "      <th>1</th>\n",
       "      <td>Cumings, Mrs. John Bradley (Florence Briggs Th...</td>\n",
       "      <td>Mrs</td>\n",
       "    </tr>\n",
       "    <tr>\n",
       "      <th>2</th>\n",
       "      <td>Heikkinen, Miss. Laina</td>\n",
       "      <td>Miss</td>\n",
       "    </tr>\n",
       "    <tr>\n",
       "      <th>3</th>\n",
       "      <td>Futrelle, Mrs. Jacques Heath (Lily May Peel)</td>\n",
       "      <td>Mrs</td>\n",
       "    </tr>\n",
       "    <tr>\n",
       "      <th>4</th>\n",
       "      <td>Allen, Mr. William Henry</td>\n",
       "      <td>Mr</td>\n",
       "    </tr>\n",
       "    <tr>\n",
       "      <th>...</th>\n",
       "      <td>...</td>\n",
       "      <td>...</td>\n",
       "    </tr>\n",
       "    <tr>\n",
       "      <th>886</th>\n",
       "      <td>Montvila, Rev. Juozas</td>\n",
       "      <td>Rev</td>\n",
       "    </tr>\n",
       "    <tr>\n",
       "      <th>887</th>\n",
       "      <td>Graham, Miss. Margaret Edith</td>\n",
       "      <td>Miss</td>\n",
       "    </tr>\n",
       "    <tr>\n",
       "      <th>888</th>\n",
       "      <td>Johnston, Miss. Catherine Helen \"Carrie\"</td>\n",
       "      <td>Miss</td>\n",
       "    </tr>\n",
       "    <tr>\n",
       "      <th>889</th>\n",
       "      <td>Behr, Mr. Karl Howell</td>\n",
       "      <td>Mr</td>\n",
       "    </tr>\n",
       "    <tr>\n",
       "      <th>890</th>\n",
       "      <td>Dooley, Mr. Patrick</td>\n",
       "      <td>Mr</td>\n",
       "    </tr>\n",
       "  </tbody>\n",
       "</table>\n",
       "<p>891 rows × 2 columns</p>\n",
       "</div>"
      ],
      "text/plain": [
       "                                                  Name initial\n",
       "0                              Braund, Mr. Owen Harris      Mr\n",
       "1    Cumings, Mrs. John Bradley (Florence Briggs Th...     Mrs\n",
       "2                               Heikkinen, Miss. Laina    Miss\n",
       "3         Futrelle, Mrs. Jacques Heath (Lily May Peel)     Mrs\n",
       "4                             Allen, Mr. William Henry      Mr\n",
       "..                                                 ...     ...\n",
       "886                              Montvila, Rev. Juozas     Rev\n",
       "887                       Graham, Miss. Margaret Edith    Miss\n",
       "888           Johnston, Miss. Catherine Helen \"Carrie\"    Miss\n",
       "889                              Behr, Mr. Karl Howell      Mr\n",
       "890                                Dooley, Mr. Patrick      Mr\n",
       "\n",
       "[891 rows x 2 columns]"
      ]
     },
     "execution_count": 26,
     "metadata": {},
     "output_type": "execute_result"
    }
   ],
   "source": [
    "# 코드\n",
    "train_df['initial'] = 0\n",
    "for _ in [train_df, test]:\n",
    "    train_df['initial'] = train_df[\"Name\"].str.extract(\"([A-Za-z]+)\\.\")\n",
    "    test['initial'] = test['Name'].str.extract(\"([A-Za-z]+)\\.\")\n",
    "    \n",
    "train_df[['Name', 'initial']]"
   ]
  },
  {
   "cell_type": "markdown",
   "id": "49ba3ba1-b22a-4d5e-b2c4-c0a95e1d3fb1",
   "metadata": {},
   "source": [
    "- 집계를 해보도록 한다. "
   ]
  },
  {
   "cell_type": "code",
   "execution_count": 27,
   "id": "975a6f06-a477-4cbe-b33e-83fdf4c00d48",
   "metadata": {},
   "outputs": [
    {
     "data": {
      "text/html": [
       "<div>\n",
       "<style scoped>\n",
       "    .dataframe tbody tr th:only-of-type {\n",
       "        vertical-align: middle;\n",
       "    }\n",
       "\n",
       "    .dataframe tbody tr th {\n",
       "        vertical-align: top;\n",
       "    }\n",
       "\n",
       "    .dataframe thead th {\n",
       "        text-align: right;\n",
       "    }\n",
       "</style>\n",
       "<table border=\"1\" class=\"dataframe\">\n",
       "  <thead>\n",
       "    <tr style=\"text-align: right;\">\n",
       "      <th>initial</th>\n",
       "      <th>Capt</th>\n",
       "      <th>Col</th>\n",
       "      <th>Countess</th>\n",
       "      <th>Don</th>\n",
       "      <th>Dr</th>\n",
       "      <th>Jonkheer</th>\n",
       "      <th>Lady</th>\n",
       "      <th>Major</th>\n",
       "      <th>Master</th>\n",
       "      <th>Miss</th>\n",
       "      <th>Mlle</th>\n",
       "      <th>Mme</th>\n",
       "      <th>Mr</th>\n",
       "      <th>Mrs</th>\n",
       "      <th>Ms</th>\n",
       "      <th>Rev</th>\n",
       "      <th>Sir</th>\n",
       "    </tr>\n",
       "    <tr>\n",
       "      <th>Sex</th>\n",
       "      <th></th>\n",
       "      <th></th>\n",
       "      <th></th>\n",
       "      <th></th>\n",
       "      <th></th>\n",
       "      <th></th>\n",
       "      <th></th>\n",
       "      <th></th>\n",
       "      <th></th>\n",
       "      <th></th>\n",
       "      <th></th>\n",
       "      <th></th>\n",
       "      <th></th>\n",
       "      <th></th>\n",
       "      <th></th>\n",
       "      <th></th>\n",
       "      <th></th>\n",
       "    </tr>\n",
       "  </thead>\n",
       "  <tbody>\n",
       "    <tr>\n",
       "      <th>female</th>\n",
       "      <td>0</td>\n",
       "      <td>0</td>\n",
       "      <td>1</td>\n",
       "      <td>0</td>\n",
       "      <td>1</td>\n",
       "      <td>0</td>\n",
       "      <td>1</td>\n",
       "      <td>0</td>\n",
       "      <td>0</td>\n",
       "      <td>182</td>\n",
       "      <td>2</td>\n",
       "      <td>1</td>\n",
       "      <td>0</td>\n",
       "      <td>125</td>\n",
       "      <td>1</td>\n",
       "      <td>0</td>\n",
       "      <td>0</td>\n",
       "    </tr>\n",
       "    <tr>\n",
       "      <th>male</th>\n",
       "      <td>1</td>\n",
       "      <td>2</td>\n",
       "      <td>0</td>\n",
       "      <td>1</td>\n",
       "      <td>6</td>\n",
       "      <td>1</td>\n",
       "      <td>0</td>\n",
       "      <td>2</td>\n",
       "      <td>40</td>\n",
       "      <td>0</td>\n",
       "      <td>0</td>\n",
       "      <td>0</td>\n",
       "      <td>517</td>\n",
       "      <td>0</td>\n",
       "      <td>0</td>\n",
       "      <td>6</td>\n",
       "      <td>1</td>\n",
       "    </tr>\n",
       "  </tbody>\n",
       "</table>\n",
       "</div>"
      ],
      "text/plain": [
       "initial  Capt  Col  Countess  Don  Dr  Jonkheer  Lady  Major  Master  Miss  \\\n",
       "Sex                                                                          \n",
       "female      0    0         1    0   1         0     1      0       0   182   \n",
       "male        1    2         0    1   6         1     0      2      40     0   \n",
       "\n",
       "initial  Mlle  Mme   Mr  Mrs  Ms  Rev  Sir  \n",
       "Sex                                         \n",
       "female      2    1    0  125   1    0    0  \n",
       "male        0    0  517    0   0    6    1  "
      ]
     },
     "execution_count": 27,
     "metadata": {},
     "output_type": "execute_result"
    }
   ],
   "source": [
    "# 코드\n",
    "pd.crosstab(train_df[\"initial\"], train_df[\"Sex\"]).T"
   ]
  },
  {
   "cell_type": "code",
   "execution_count": 28,
   "id": "c2d67631-e168-4404-bacb-18c4e6c51705",
   "metadata": {},
   "outputs": [
    {
     "data": {
      "text/html": [
       "<div>\n",
       "<style scoped>\n",
       "    .dataframe tbody tr th:only-of-type {\n",
       "        vertical-align: middle;\n",
       "    }\n",
       "\n",
       "    .dataframe tbody tr th {\n",
       "        vertical-align: top;\n",
       "    }\n",
       "\n",
       "    .dataframe thead th {\n",
       "        text-align: right;\n",
       "    }\n",
       "</style>\n",
       "<table border=\"1\" class=\"dataframe\">\n",
       "  <thead>\n",
       "    <tr style=\"text-align: right;\">\n",
       "      <th>initial</th>\n",
       "      <th>Col</th>\n",
       "      <th>Dona</th>\n",
       "      <th>Dr</th>\n",
       "      <th>Master</th>\n",
       "      <th>Miss</th>\n",
       "      <th>Mr</th>\n",
       "      <th>Mrs</th>\n",
       "      <th>Ms</th>\n",
       "      <th>Rev</th>\n",
       "    </tr>\n",
       "    <tr>\n",
       "      <th>Sex</th>\n",
       "      <th></th>\n",
       "      <th></th>\n",
       "      <th></th>\n",
       "      <th></th>\n",
       "      <th></th>\n",
       "      <th></th>\n",
       "      <th></th>\n",
       "      <th></th>\n",
       "      <th></th>\n",
       "    </tr>\n",
       "  </thead>\n",
       "  <tbody>\n",
       "    <tr>\n",
       "      <th>female</th>\n",
       "      <td>0</td>\n",
       "      <td>1</td>\n",
       "      <td>0</td>\n",
       "      <td>0</td>\n",
       "      <td>78</td>\n",
       "      <td>0</td>\n",
       "      <td>72</td>\n",
       "      <td>1</td>\n",
       "      <td>0</td>\n",
       "    </tr>\n",
       "    <tr>\n",
       "      <th>male</th>\n",
       "      <td>2</td>\n",
       "      <td>0</td>\n",
       "      <td>1</td>\n",
       "      <td>21</td>\n",
       "      <td>0</td>\n",
       "      <td>240</td>\n",
       "      <td>0</td>\n",
       "      <td>0</td>\n",
       "      <td>2</td>\n",
       "    </tr>\n",
       "  </tbody>\n",
       "</table>\n",
       "</div>"
      ],
      "text/plain": [
       "initial  Col  Dona  Dr  Master  Miss   Mr  Mrs  Ms  Rev\n",
       "Sex                                                    \n",
       "female     0     1   0       0    78    0   72   1    0\n",
       "male       2     0   1      21     0  240    0   0    2"
      ]
     },
     "execution_count": 28,
     "metadata": {},
     "output_type": "execute_result"
    }
   ],
   "source": [
    "# 코드\n",
    "pd.crosstab(test['initial'], test['Sex']).T"
   ]
  },
  {
   "cell_type": "markdown",
   "id": "9dac7564-cfb4-4da3-9123-36bb4c955832",
   "metadata": {},
   "source": [
    "- 위 결과물을 바탕으로 그룹화를 진행한다. "
   ]
  },
  {
   "cell_type": "code",
   "execution_count": 29,
   "id": "1e2e32e2-9546-41a1-b5bb-a3a7c1e0d764",
   "metadata": {},
   "outputs": [
    {
     "data": {
      "text/html": [
       "<div>\n",
       "<style scoped>\n",
       "    .dataframe tbody tr th:only-of-type {\n",
       "        vertical-align: middle;\n",
       "    }\n",
       "\n",
       "    .dataframe tbody tr th {\n",
       "        vertical-align: top;\n",
       "    }\n",
       "\n",
       "    .dataframe thead th {\n",
       "        text-align: right;\n",
       "    }\n",
       "</style>\n",
       "<table border=\"1\" class=\"dataframe\">\n",
       "  <thead>\n",
       "    <tr style=\"text-align: right;\">\n",
       "      <th>initial</th>\n",
       "      <th>Master</th>\n",
       "      <th>Miss</th>\n",
       "      <th>Mr</th>\n",
       "      <th>Mrs</th>\n",
       "      <th>Other</th>\n",
       "    </tr>\n",
       "    <tr>\n",
       "      <th>Sex</th>\n",
       "      <th></th>\n",
       "      <th></th>\n",
       "      <th></th>\n",
       "      <th></th>\n",
       "      <th></th>\n",
       "    </tr>\n",
       "  </thead>\n",
       "  <tbody>\n",
       "    <tr>\n",
       "      <th>female</th>\n",
       "      <td>0</td>\n",
       "      <td>186</td>\n",
       "      <td>1</td>\n",
       "      <td>127</td>\n",
       "      <td>0</td>\n",
       "    </tr>\n",
       "    <tr>\n",
       "      <th>male</th>\n",
       "      <td>40</td>\n",
       "      <td>0</td>\n",
       "      <td>528</td>\n",
       "      <td>0</td>\n",
       "      <td>9</td>\n",
       "    </tr>\n",
       "  </tbody>\n",
       "</table>\n",
       "</div>"
      ],
      "text/plain": [
       "initial  Master  Miss   Mr  Mrs  Other\n",
       "Sex                                   \n",
       "female        0   186    1  127      0\n",
       "male         40     0  528    0      9"
      ]
     },
     "execution_count": 29,
     "metadata": {},
     "output_type": "execute_result"
    }
   ],
   "source": [
    "# 코드\n",
    "b4_title = ['Mlle', 'Mme', 'Ms', 'Dr', 'Major', 'Lady', 'Countess', 'Jonkheer', 'Col', 'Rev', 'Capt', 'Sir', 'Don', 'Dona']\n",
    "after_title = ['Miss', 'Miss', 'Miss', 'Mr', 'Mr', 'Mrs', 'Mrs', 'Other', 'Other', 'Other', 'Mr', 'Mr', 'Mr', 'Miss']\n",
    "\n",
    "train_df['initial'] = train_df['initial'].replace(b4_title, after_title)\n",
    "pd.crosstab(train_df[\"initial\"], train_df[\"Sex\"]).T"
   ]
  },
  {
   "cell_type": "code",
   "execution_count": 30,
   "id": "10ae33dc-3d0d-4ca6-8062-f6703c60bc28",
   "metadata": {},
   "outputs": [
    {
     "data": {
      "text/html": [
       "<div>\n",
       "<style scoped>\n",
       "    .dataframe tbody tr th:only-of-type {\n",
       "        vertical-align: middle;\n",
       "    }\n",
       "\n",
       "    .dataframe tbody tr th {\n",
       "        vertical-align: top;\n",
       "    }\n",
       "\n",
       "    .dataframe thead th {\n",
       "        text-align: right;\n",
       "    }\n",
       "</style>\n",
       "<table border=\"1\" class=\"dataframe\">\n",
       "  <thead>\n",
       "    <tr style=\"text-align: right;\">\n",
       "      <th>initial</th>\n",
       "      <th>Master</th>\n",
       "      <th>Miss</th>\n",
       "      <th>Mr</th>\n",
       "      <th>Mrs</th>\n",
       "      <th>Other</th>\n",
       "    </tr>\n",
       "    <tr>\n",
       "      <th>Sex</th>\n",
       "      <th></th>\n",
       "      <th></th>\n",
       "      <th></th>\n",
       "      <th></th>\n",
       "      <th></th>\n",
       "    </tr>\n",
       "  </thead>\n",
       "  <tbody>\n",
       "    <tr>\n",
       "      <th>female</th>\n",
       "      <td>0</td>\n",
       "      <td>80</td>\n",
       "      <td>0</td>\n",
       "      <td>72</td>\n",
       "      <td>0</td>\n",
       "    </tr>\n",
       "    <tr>\n",
       "      <th>male</th>\n",
       "      <td>21</td>\n",
       "      <td>0</td>\n",
       "      <td>241</td>\n",
       "      <td>0</td>\n",
       "      <td>4</td>\n",
       "    </tr>\n",
       "  </tbody>\n",
       "</table>\n",
       "</div>"
      ],
      "text/plain": [
       "initial  Master  Miss   Mr  Mrs  Other\n",
       "Sex                                   \n",
       "female        0    80    0   72      0\n",
       "male         21     0  241    0      4"
      ]
     },
     "execution_count": 30,
     "metadata": {},
     "output_type": "execute_result"
    }
   ],
   "source": [
    "# 코드\n",
    "test['initial'] = test['initial'].replace(b4_title, after_title)\n",
    "pd.crosstab(test['initial'], test['Sex']).T"
   ]
  },
  {
   "cell_type": "code",
   "execution_count": 31,
   "id": "f8d0c0f2-3372-4529-bd76-57fe066c18e9",
   "metadata": {},
   "outputs": [
    {
     "name": "stdout",
     "output_type": "stream",
     "text": [
      "<class 'pandas.core.frame.DataFrame'>\n",
      "RangeIndex: 418 entries, 0 to 417\n",
      "Data columns (total 12 columns):\n",
      " #   Column       Non-Null Count  Dtype  \n",
      "---  ------       --------------  -----  \n",
      " 0   PassengerId  418 non-null    int64  \n",
      " 1   Pclass       418 non-null    int64  \n",
      " 2   Name         418 non-null    object \n",
      " 3   Sex          418 non-null    object \n",
      " 4   Age          332 non-null    float64\n",
      " 5   SibSp        418 non-null    int64  \n",
      " 6   Parch        418 non-null    int64  \n",
      " 7   Ticket       418 non-null    object \n",
      " 8   Fare         417 non-null    float64\n",
      " 9   Cabin        91 non-null     object \n",
      " 10  Embarked     418 non-null    object \n",
      " 11  initial      418 non-null    object \n",
      "dtypes: float64(2), int64(4), object(6)\n",
      "memory usage: 39.3+ KB\n"
     ]
    }
   ],
   "source": [
    "test.info()# 코드"
   ]
  },
  {
   "cell_type": "code",
   "execution_count": 32,
   "id": "6ffdaa0d-5ad4-4a8c-80a8-0abef0381c01",
   "metadata": {},
   "outputs": [
    {
     "name": "stdout",
     "output_type": "stream",
     "text": [
      "<class 'pandas.core.frame.DataFrame'>\n",
      "RangeIndex: 891 entries, 0 to 890\n",
      "Data columns (total 13 columns):\n",
      " #   Column       Non-Null Count  Dtype  \n",
      "---  ------       --------------  -----  \n",
      " 0   PassengerId  891 non-null    int64  \n",
      " 1   Survived     891 non-null    int64  \n",
      " 2   Pclass       891 non-null    int64  \n",
      " 3   Name         891 non-null    object \n",
      " 4   Sex          891 non-null    object \n",
      " 5   Age          714 non-null    float64\n",
      " 6   SibSp        891 non-null    int64  \n",
      " 7   Parch        891 non-null    int64  \n",
      " 8   Ticket       891 non-null    object \n",
      " 9   Fare         891 non-null    float64\n",
      " 10  Cabin        204 non-null    object \n",
      " 11  Embarked     889 non-null    object \n",
      " 12  initial      891 non-null    object \n",
      "dtypes: float64(2), int64(5), object(6)\n",
      "memory usage: 90.6+ KB\n"
     ]
    }
   ],
   "source": [
    "train_df.info()# 코드"
   ]
  },
  {
   "cell_type": "markdown",
   "id": "37e4e522-2483-4d39-a702-0fe23487a465",
   "metadata": {},
   "source": [
    "- Initial 컬럼을 그룹화하여 Age의 평균을 계산한다. "
   ]
  },
  {
   "cell_type": "code",
   "execution_count": 33,
   "id": "53abedb2-5ec5-4614-8917-33b3c9d53349",
   "metadata": {},
   "outputs": [
    {
     "data": {
      "text/plain": [
       "initial\n",
       "Master     4.574167\n",
       "Miss      21.860000\n",
       "Mr        32.739609\n",
       "Mrs       35.981818\n",
       "Other     45.888889\n",
       "Name: Age, dtype: float64"
      ]
     },
     "execution_count": 33,
     "metadata": {},
     "output_type": "execute_result"
    }
   ],
   "source": [
    "train_df.groupby('initial')['Age'].mean()"
   ]
  },
  {
   "cell_type": "markdown",
   "id": "9682adc9-6214-4568-88fc-c4be9d187c51",
   "metadata": {},
   "source": [
    "- 위 데이터를 근거로 Age의 결측치를 추가할 것이다. "
   ]
  },
  {
   "cell_type": "code",
   "execution_count": 36,
   "id": "04cf97a7-07db-430d-a1a0-e75850d78a4e",
   "metadata": {},
   "outputs": [
    {
     "data": {
      "text/plain": [
       "0"
      ]
     },
     "execution_count": 36,
     "metadata": {},
     "output_type": "execute_result"
    }
   ],
   "source": [
    "# 코드 train_df.loc[(조건식) & (조건식), 컬럼]\n",
    "train_df.loc[(train_df['Age'].isnull()) & (train_df['initial'] == 'Mr'), 'Age']=33\n",
    "train_df.loc[(train_df['Age'].isnull()) & (train_df['initial'] == 'Master'), 'Age']=5\n",
    "train_df.loc[(train_df['Age'].isnull()) & (train_df['initial'] == 'Miss'), 'Age']=22\n",
    "train_df.loc[(train_df['Age'].isnull()) & (train_df['initial'] == 'Mrs'), 'Age']=36\n",
    "train_df.loc[(train_df['Age'].isnull()) & (train_df['initial'] == 'Other'), 'Age']=46\n",
    "\n",
    "train_df['Age'].isnull().sum()"
   ]
  },
  {
   "cell_type": "code",
   "execution_count": null,
   "id": "cbf7035d-be36-4676-a7a9-3a0ae4cf7b4c",
   "metadata": {},
   "outputs": [],
   "source": []
  },
  {
   "cell_type": "code",
   "execution_count": null,
   "id": "cb1ef0a0-0e77-4a3d-becc-8b9dbb439009",
   "metadata": {},
   "outputs": [],
   "source": []
  },
  {
   "cell_type": "markdown",
   "id": "71662ab5-bba7-4e98-b67c-bc332dcc3fba",
   "metadata": {},
   "source": [
    "- 동일하게 test 데이터에도 적용을 해본다. "
   ]
  },
  {
   "cell_type": "code",
   "execution_count": 37,
   "id": "a35f6aed-1fa9-4c2f-88f3-d8526f778c7b",
   "metadata": {},
   "outputs": [
    {
     "data": {
      "text/plain": [
       "initial\n",
       "Master     7.406471\n",
       "Miss      22.039846\n",
       "Mr        32.114130\n",
       "Mrs       38.903226\n",
       "Other     42.750000\n",
       "Name: Age, dtype: float64"
      ]
     },
     "execution_count": 37,
     "metadata": {},
     "output_type": "execute_result"
    }
   ],
   "source": [
    "# 코드\n",
    "test.groupby('initial')['Age'].mean()"
   ]
  },
  {
   "cell_type": "code",
   "execution_count": 40,
   "id": "240cba99-3c10-457a-bba5-992b690fdf52",
   "metadata": {},
   "outputs": [
    {
     "data": {
      "text/plain": [
       "86"
      ]
     },
     "execution_count": 40,
     "metadata": {},
     "output_type": "execute_result"
    }
   ],
   "source": [
    "# 코드\n",
    "test.loc[(train_df['Age'].isnull()) & (train_df['initial'] == 'Mr'), 'Age']=33\n",
    "test.loc[(train_df['Age'].isnull()) & (train_df['initial'] == 'Master'), 'Age']=8\n",
    "test.loc[(train_df['Age'].isnull()) & (train_df['initial'] == 'Miss'), 'Age']=22\n",
    "test.loc[(train_df['Age'].isnull()) & (train_df['initial'] == 'Mrs'), 'Age']=39\n",
    "test.loc[(train_df['Age'].isnull()) & (train_df['initial'] == 'Other'), 'Age']=43\n",
    "\n",
    "test['Age'].isnull().sum()"
   ]
  },
  {
   "cell_type": "code",
   "execution_count": 44,
   "id": "7366f7b9-314b-46d0-b1d5-097cf381a853",
   "metadata": {},
   "outputs": [
    {
     "data": {
      "text/plain": [
       "PassengerId      0\n",
       "Pclass           0\n",
       "Name             0\n",
       "Sex              0\n",
       "Age              0\n",
       "SibSp            0\n",
       "Parch            0\n",
       "Ticket           0\n",
       "Fare             0\n",
       "Cabin          327\n",
       "Embarked         0\n",
       "initial          0\n",
       "dtype: int64"
      ]
     },
     "execution_count": 44,
     "metadata": {},
     "output_type": "execute_result"
    }
   ],
   "source": [
    "test.isnull().sum()"
   ]
  },
  {
   "cell_type": "code",
   "execution_count": 42,
   "id": "52d3eac3-175f-4868-9f3c-5bf046b2d022",
   "metadata": {},
   "outputs": [],
   "source": [
    "test['Fare'] = test['Fare'].fillna(np.mean(test['Fare']))"
   ]
  },
  {
   "cell_type": "code",
   "execution_count": 43,
   "id": "17c1c285-8afe-4c62-89f6-2a771aa86ea1",
   "metadata": {},
   "outputs": [],
   "source": [
    "test['Age'] = test['Age'].fillna(np.mean(test['Age']))"
   ]
  },
  {
   "cell_type": "markdown",
   "id": "83c9d3fd-fa77-4e6b-acd8-ee288237cbce",
   "metadata": {},
   "source": [
    "- Age 결측치가 존재하는지 확인해본다. "
   ]
  },
  {
   "cell_type": "code",
   "execution_count": 45,
   "id": "f2486f81-ec1e-422a-93ef-e64434d723f1",
   "metadata": {},
   "outputs": [
    {
     "data": {
      "text/plain": [
       "0"
      ]
     },
     "execution_count": 45,
     "metadata": {},
     "output_type": "execute_result"
    }
   ],
   "source": [
    "# 코드\n",
    "test['Age'].isnull().sum() "
   ]
  },
  {
   "cell_type": "code",
   "execution_count": 29,
   "id": "a0dda12f-80fb-47a8-bba6-32af2c8e1b08",
   "metadata": {},
   "outputs": [
    {
     "data": {
      "image/png": "[encoded data removed]",
      "text/plain": [
       "<Figure size 1800x800 with 2 Axes>"
      ]
     },
     "metadata": {},
     "output_type": "display_data"
    }
   ],
   "source": [
    "# 코드\n",
    "column_name = 'initial'\n",
    "plot_bar(train_df, column_name)"
   ]
  },
  {
   "cell_type": "code",
   "execution_count": 30,
   "id": "dd9e22e7-41e7-49ab-b106-074f19750f79",
   "metadata": {},
   "outputs": [
    {
     "name": "stdout",
     "output_type": "stream",
     "text": [
      "<class 'pandas.core.frame.DataFrame'>\n",
      "RangeIndex: 891 entries, 0 to 890\n",
      "Data columns (total 13 columns):\n",
      " #   Column       Non-Null Count  Dtype  \n",
      "---  ------       --------------  -----  \n",
      " 0   PassengerId  891 non-null    int64  \n",
      " 1   Survived     891 non-null    int64  \n",
      " 2   Pclass       891 non-null    int64  \n",
      " 3   Name         891 non-null    object \n",
      " 4   Sex          891 non-null    object \n",
      " 5   Age          891 non-null    float64\n",
      " 6   SibSp        891 non-null    int64  \n",
      " 7   Parch        891 non-null    int64  \n",
      " 8   Ticket       891 non-null    object \n",
      " 9   Fare         891 non-null    float64\n",
      " 10  Cabin        204 non-null    object \n",
      " 11  Embarked     889 non-null    object \n",
      " 12  initial      891 non-null    object \n",
      "dtypes: float64(2), int64(5), object(6)\n",
      "memory usage: 90.6+ KB\n"
     ]
    }
   ],
   "source": [
    "# 코드\n",
    "train_df.info()"
   ]
  },
  {
   "cell_type": "code",
   "execution_count": 31,
   "id": "7ffcea7c-3fcc-419a-a073-9e1ba97efa9e",
   "metadata": {},
   "outputs": [
    {
     "data": {
      "text/plain": [
       "Embarked\n",
       "S    644\n",
       "C    168\n",
       "Q     77\n",
       "Name: count, dtype: int64"
      ]
     },
     "execution_count": 31,
     "metadata": {},
     "output_type": "execute_result"
    }
   ],
   "source": [
    "# 코드\n",
    "train_df['Embarked'].value_counts()"
   ]
  },
  {
   "cell_type": "markdown",
   "id": "c484fa30-c6e6-4b70-926d-5e4c9f05cb94",
   "metadata": {},
   "source": [
    "- Embarked 결측치의 경우, 2개 결측치만 존재하다. \n",
    "- 따라서, 빈도가 가장 많은 S로 대체하도록 하다. "
   ]
  },
  {
   "cell_type": "code",
   "execution_count": 32,
   "id": "37d98d5f-65c6-4b7b-a03a-7f9f2ca77a8b",
   "metadata": {},
   "outputs": [
    {
     "data": {
      "text/plain": [
       "0"
      ]
     },
     "execution_count": 32,
     "metadata": {},
     "output_type": "execute_result"
    }
   ],
   "source": [
    "# 코드\n",
    "train_df['Embarked'] = train_df['Embarked'].fillna('S')\n",
    "train_df['Embarked'].isnull().sum()"
   ]
  },
  {
   "cell_type": "code",
   "execution_count": 33,
   "id": "dd8fe71a-c540-4e29-ad0c-df00bc63f757",
   "metadata": {},
   "outputs": [
    {
     "data": {
      "image/png": "[encoded data removed]",
      "text/plain": [
       "<Figure size 1800x800 with 2 Axes>"
      ]
     },
     "metadata": {},
     "output_type": "display_data"
    }
   ],
   "source": [
    "# 코드\n",
    "column_name = 'Embarked'\n",
    "plot_bar(train_df, column_name)"
   ]
  },
  {
   "cell_type": "markdown",
   "id": "e76c5ab9-e0a0-4374-9442-7f3bf0ef09f4",
   "metadata": {},
   "source": [
    "## Feature 제거\n",
    "- 불필요한 컬럼을 제거하다. \n",
    "    + Name 대신에 Initial 피처를 생성했다. \n",
    "    + Ticket은 랜덤 문자열로 기록이 되어 있어서 제거했다. \n",
    "    + Cabin은 결측치가 존재해서 제거했다. "
   ]
  },
  {
   "cell_type": "code",
   "execution_count": 34,
   "id": "155b739f-3a57-4875-8e6d-5293fb07afd2",
   "metadata": {},
   "outputs": [
    {
     "data": {
      "text/plain": [
       "0             A/5 21171\n",
       "1              PC 17599\n",
       "2      STON/O2. 3101282\n",
       "3                113803\n",
       "4                373450\n",
       "             ...       \n",
       "886              211536\n",
       "887              112053\n",
       "888          W./C. 6607\n",
       "889              111369\n",
       "890              370376\n",
       "Name: Ticket, Length: 891, dtype: object"
      ]
     },
     "execution_count": 34,
     "metadata": {},
     "output_type": "execute_result"
    }
   ],
   "source": [
    "# 코드\n",
    "train_df['Ticket']"
   ]
  },
  {
   "cell_type": "code",
   "execution_count": 35,
   "id": "455a4812-ebba-42df-86dd-e5b9790ee5ef",
   "metadata": {},
   "outputs": [],
   "source": [
    "# 코드\n",
    "col = ['Name', 'Ticket', 'Cabin', 'PassengerId']\n",
    "train_df = train_df.drop(col, axis=1)"
   ]
  },
  {
   "cell_type": "code",
   "execution_count": 36,
   "id": "9c21c904-b88c-4c95-b487-6e1f437ac627",
   "metadata": {},
   "outputs": [
    {
     "name": "stdout",
     "output_type": "stream",
     "text": [
      "<class 'pandas.core.frame.DataFrame'>\n",
      "RangeIndex: 891 entries, 0 to 890\n",
      "Data columns (total 16 columns):\n",
      " #   Column          Non-Null Count  Dtype  \n",
      "---  ------          --------------  -----  \n",
      " 0   Survived        891 non-null    int64  \n",
      " 1   Pclass          891 non-null    int64  \n",
      " 2   Age             891 non-null    float64\n",
      " 3   SibSp           891 non-null    int64  \n",
      " 4   Parch           891 non-null    int64  \n",
      " 5   Fare            891 non-null    float64\n",
      " 6   Sex_female      891 non-null    bool   \n",
      " 7   Sex_male        891 non-null    bool   \n",
      " 8   Embarked_C      891 non-null    bool   \n",
      " 9   Embarked_Q      891 non-null    bool   \n",
      " 10  Embarked_S      891 non-null    bool   \n",
      " 11  initial_Master  891 non-null    bool   \n",
      " 12  initial_Miss    891 non-null    bool   \n",
      " 13  initial_Mr      891 non-null    bool   \n",
      " 14  initial_Mrs     891 non-null    bool   \n",
      " 15  initial_Other   891 non-null    bool   \n",
      "dtypes: bool(10), float64(2), int64(4)\n",
      "memory usage: 50.6 KB\n"
     ]
    }
   ],
   "source": [
    "train_df = pd.get_dummies(train_df)\n",
    "train_df.info()"
   ]
  },
  {
   "cell_type": "code",
   "execution_count": 37,
   "id": "208435c9-1d6b-4c9d-a47a-ab816a5102d4",
   "metadata": {
    "scrolled": true
   },
   "outputs": [],
   "source": [
    "test = test.drop(col, axis = 1)\n",
    "test = pd.get_dummies(test)"
   ]
  },
  {
   "cell_type": "code",
   "execution_count": 38,
   "id": "139bbf43-4cd7-4f41-9d74-fb434a2fbe8b",
   "metadata": {},
   "outputs": [
    {
     "data": {
      "text/plain": [
       "((891, 16), (418, 15))"
      ]
     },
     "execution_count": 38,
     "metadata": {},
     "output_type": "execute_result"
    }
   ],
   "source": [
    "train_df.shape, test.shape"
   ]
  },
  {
   "cell_type": "markdown",
   "id": "6a438527-d86c-4fa4-985d-913e3f300a9e",
   "metadata": {},
   "source": [
    "- 데이터셋 분리를 진행한다. "
   ]
  },
  {
   "cell_type": "code",
   "execution_count": 39,
   "id": "3a413632-b651-409f-a98a-1ee22902e4ea",
   "metadata": {},
   "outputs": [
    {
     "data": {
      "text/plain": [
       "((274, 16), (342, 16))"
      ]
     },
     "execution_count": 39,
     "metadata": {},
     "output_type": "execute_result"
    }
   ],
   "source": [
    "# 코드\n",
    "deceased = train_df[train_df['Survived'] == 0].sample(frac=0.5, random_state=42).reset_index(drop=True)\n",
    "survived = train_df[train_df['Survived'] == 1]\n",
    "\n",
    "deceased.shape, survived.shape"
   ]
  },
  {
   "cell_type": "code",
   "execution_count": 40,
   "id": "664bb158-7e18-4ed3-b377-fbfbafd3e3db",
   "metadata": {},
   "outputs": [
    {
     "data": {
      "text/plain": [
       "((164, 16), (55, 16), (204, 16), (69, 16))"
      ]
     },
     "execution_count": 40,
     "metadata": {},
     "output_type": "execute_result"
    }
   ],
   "source": [
    "from sklearn.model_selection import train_test_split\n",
    "deceased_train, deceased_test = train_test_split(deceased, test_size = 0.2, random_state = 42)\n",
    "survived_train, survived_test = train_test_split(survived, test_size = 0.2, random_state = 42)\n",
    "\n",
    "deceased_train, deceased_validate = train_test_split(deceased_train, test_size=0.25, random_state=42)\n",
    "survived_train, survived_validate = train_test_split(survived_train, test_size=0.25, random_state=42)\n",
    "\n",
    "deceased_train.shape, deceased_validate.shape, survived_train.shape, survived_validate.shape"
   ]
  },
  {
   "cell_type": "code",
   "execution_count": 41,
   "id": "31a25795-7096-4455-b59c-02ca1ab1eeb2",
   "metadata": {},
   "outputs": [
    {
     "data": {
      "text/plain": [
       "((368, 15), (124, 15), (124, 15), (368,), (124,), (124,))"
      ]
     },
     "execution_count": 41,
     "metadata": {},
     "output_type": "execute_result"
    }
   ],
   "source": [
    "X_train = pd.concat((deceased_train, survived_train))\n",
    "X_test = pd.concat((deceased_test, survived_test))\n",
    "X_validate = pd.concat((deceased_validate, survived_validate))\n",
    "\n",
    "Y_train = np.array(X_train['Survived'])\n",
    "Y_test = np.array(X_test['Survived'])\n",
    "Y_validate = np.array(X_validate['Survived'])\n",
    "\n",
    "X_train = X_train.drop(\"Survived\", axis=1)\n",
    "X_test = X_test.drop(\"Survived\", axis=1)\n",
    "X_validate = X_validate.drop(\"Survived\", axis=1)\n",
    "\n",
    "X_train.shape, X_validate.shape, X_test.shape, Y_train.shape, Y_validate.shape, Y_test.shape"
   ]
  },
  {
   "cell_type": "code",
   "execution_count": 42,
   "id": "3714eca0-b0f4-4512-8308-9e6b9921a079",
   "metadata": {},
   "outputs": [
    {
     "name": "stdout",
     "output_type": "stream",
     "text": [
      "2.7.1\n"
     ]
    }
   ],
   "source": [
    "import mlflow\n",
    "import mlflow.sklearn\n",
    "from sklearn.linear_model import LogisticRegression\n",
    "from sklearn.metrics import roc_auc_score, RocCurveDisplay, confusion_matrix\n",
    "print(mlflow.__version__)\n"
   ]
  },
  {
   "cell_type": "code",
   "execution_count": 43,
   "id": "22867f94-c8e5-48b5-bb75-640a4b26d551",
   "metadata": {},
   "outputs": [],
   "source": [
    "def train(ml_model, X_train, Y_train):\n",
    "\n",
    "    # 모형 학습\n",
    "    ml_model = ml_model.fit(X_train, Y_train)\n",
    "    train_acc = ml_model.score(X_train, Y_train) # 학습 데이터의 정확도\n",
    "    mlflow.log_metric(\"train_acc\", train_acc)\n",
    "    print(f\"Train Acc : {train_acc: .3%}\")\n",
    "\n",
    "def evaluate(ml_model, X_test, Y_test):\n",
    "    eval_acc = ml_model.score(X_test, Y_test)\n",
    "    preds = ml_model.predict(X_test)\n",
    "    auc_score = roc_auc_score(Y_test, preds)\n",
    "    mlflow.log_metric(\"eval_acc\", eval_acc)\n",
    "    mlflow.log_metric(\"auc_score\", auc_score)\n",
    "    print(f\"Evaluation Acc : {eval_acc:.3%}\")\n",
    "    print(f\"AUC Score : {auc_score:.3%}\")\n",
    "\n",
    "    # 결과 시각화 - ROC Curve\n",
    "    roc_plot = RocCurveDisplay.from_estimator(ml_model, X_test, Y_test, name=\"Scikit-Learn ROC Curve\")\n",
    "    plt.savefig(\"sklearn_roc_plot.png\")\n",
    "    plt.show()\n",
    "    plt.clf()\n",
    "    mlflow.log_artifact(\"sklearn_roc_plot.png\")\n",
    "\n",
    "    # 결과 시각화 - 혼동행렬 그래프\n",
    "    conf_matrix = confusion_matrix(Y_test, preds)\n",
    "    ax = sns.heatmap(conf_matrix, annot=True, fmt = 'g')\n",
    "    ax.invert_xaxis()\n",
    "    ax.invert_yaxis()\n",
    "    plt.ylabel(\"Actual\")\n",
    "    plt.xlabel(\"Predicted\")\n",
    "    plt.title(\"Confusion Matrix\")\n",
    "    plt.savefig(\"sklearn_conf_matrix.png\")\n",
    "    mlflow.log_artifact(\"sklearn_conf_matrix.png\")\n"
   ]
  },
  {
   "cell_type": "markdown",
   "id": "6e8a7f33-39d5-4208-abb2-374786b1b5cb",
   "metadata": {},
   "source": [
    "## MLFlow 학습 및 평가\n",
    "- MLFLOW 기능을 추가할 수 있는 사용자 정의 함수 구혀"
   ]
  },
  {
   "cell_type": "code",
   "execution_count": 44,
   "id": "879005e1-1b78-4a66-8913-4046dc6b5bb7",
   "metadata": {},
   "outputs": [],
   "source": [
    "# 코드"
   ]
  },
  {
   "cell_type": "markdown",
   "id": "dc2504e9-c1b0-4467-908a-c324d60a32ed",
   "metadata": {},
   "source": [
    "### 테스트 \n",
    "- MLFLow 실행 로깅 및 확이하느 코드를 실행한다. "
   ]
  },
  {
   "cell_type": "code",
   "execution_count": 45,
   "id": "3da41248-36b2-4a87-bf61-12bc33cabc44",
   "metadata": {},
   "outputs": [
    {
     "name": "stdout",
     "output_type": "stream",
     "text": [
      "Train Acc :  78.261%\n",
      "Evaluation Acc : 79.839%\n",
      "AUC Score : 78.748%\n"
     ]
    },
    {
     "data": {
      "image/png": "[encoded data removed]",
      "text/plain": [
       "<Figure size 640x480 with 1 Axes>"
      ]
     },
     "metadata": {},
     "output_type": "display_data"
    },
    {
     "name": "stdout",
     "output_type": "stream",
     "text": [
      "Model run:  9ee99a14c5f342a3ab137a5a12d0b3d0\n"
     ]
    },
    {
     "data": {
      "image/png": "[encoded data removed]",
      "text/plain": [
       "<Figure size 640x480 with 2 Axes>"
      ]
     },
     "metadata": {},
     "output_type": "display_data"
    }
   ],
   "source": [
    "# 코드\n",
    "ml_model = LogisticRegression(random_state = None, max_iter = 400, solver = 'newton-cg')\n",
    "\n",
    "# 실험 이름 설정\n",
    "mlflow.set_experiment(\"sklearn_logistic_experiment\")\n",
    "\n",
    "# 해당 이름으로 실험 배치\n",
    "with mlflow.start_run():\n",
    "    train(ml_model, X_train, Y_train)\n",
    "    evaluate(ml_model, X_test, Y_test)\n",
    "\n",
    "    mlflow.sklearn.log_model(ml_model, 'log_model')\n",
    "\n",
    "    print(\"Model run: \", mlflow.active_run().info.run_uuid)\n",
    "mlflow.end_run()"
   ]
  },
  {
   "cell_type": "markdown",
   "id": "9b56e2c7-0049-4c0c-be2a-749210321302",
   "metadata": {},
   "source": [
    "## mlflow 모델 불러오기\n",
    "- 모델이 저장된 mlflow에서 모형을 가져오 후, test에 적용한다. \n",
    "- 실제 제출까지 진행한다. "
   ]
  },
  {
   "cell_type": "code",
   "execution_count": 46,
   "id": "0b7b7059-85b4-4484-9b4e-7abc0a2fca45",
   "metadata": {},
   "outputs": [],
   "source": [
    "# 코드\n",
    "ml_run_id = logged_model = 'runs:/48a86c89de0045efb76e4a1998000ac5/log_model'\n",
    "loaded_model = mlflow.sklearn.load_model(ml_run_id)\n",
    "\n",
    "# 예측\n",
    "final_preds = loaded_model.predict(test)\n",
    "submission[\"Survived\"] = final_preds\n",
    "submission.to_csv(DATA_PATH + \"submission.csv\", index=False)"
   ]
  },
  {
   "cell_type": "markdown",
   "id": "68f9c804-7fd2-4878-98c6-346764adce37",
   "metadata": {},
   "source": [
    "## MLFLow 하이퍼 파라미터 튜닝\n",
    "- 이번에는 하이퍼 파라미터 튜닝을 진행한다. "
   ]
  },
  {
   "cell_type": "code",
   "execution_count": 47,
   "id": "919eaae3-792a-47d8-a6d3-82d3b13104e6",
   "metadata": {},
   "outputs": [
    {
     "ename": "SyntaxError",
     "evalue": "invalid syntax (3789792709.py, line 2)",
     "output_type": "error",
     "traceback": [
      "\u001b[1;36m  Cell \u001b[1;32mIn[47], line 2\u001b[1;36m\u001b[0m\n\u001b[1;33m    - 이번에는 하이퍼 파리미터 튜닝을 진행.\u001b[0m\n\u001b[1;37m           ^\u001b[0m\n\u001b[1;31mSyntaxError\u001b[0m\u001b[1;31m:\u001b[0m invalid syntax\n"
     ]
    }
   ],
   "source": [
    "## ML FLOW 하이퍼 파라미터 튜닝 \n",
    "- 이번에는 하이퍼 파리미터 튜닝을 진행.\n",
    "- 어떤 옵션이 직관적으로 좋은지 빠르게 판단할 수 없기에 하이퍼 파라미터 튜닝을 하는 것임.\n",
    "- max death\n",
    "- Grid Search, Random Search와 다양한 옵션이 있음."
   ]
  },
  {
   "cell_type": "code",
   "execution_count": 49,
   "id": "2807234f-e1cd-44c7-9787-4fd0b0e06fc4",
   "metadata": {},
   "outputs": [
    {
     "name": "stdout",
     "output_type": "stream",
     "text": [
      "----------------------------------------\n",
      "Survived Weight : 3\n",
      "evluation Auc:0.7237154150197629\n"
     ]
    },
    {
     "name": "stderr",
     "output_type": "stream",
     "text": [
      "C:\\Users\\MSYUN\\Desktop\\ml_optuna_mlflow\\venv\\lib\\site-packages\\_distutils_hack\\__init__.py:18: UserWarning: Distutils was imported before Setuptools, but importing Setuptools also replaces the `distutils` module in `sys.modules`. This may lead to undesirable behaviors or errors. To avoid these issues, avoid using distutils directly, ensure that setuptools is installed in the traditional way (e.g. not an editable install), and/or make sure that setuptools is always imported before distutils.\n",
      "  warnings.warn(\n",
      "C:\\Users\\MSYUN\\Desktop\\ml_optuna_mlflow\\venv\\lib\\site-packages\\_distutils_hack\\__init__.py:33: UserWarning: Setuptools is replacing distutils.\n",
      "  warnings.warn(\"Setuptools is replacing distutils.\")\n"
     ]
    },
    {
     "name": "stdout",
     "output_type": "stream",
     "text": [
      "----------------------------------------\n",
      "Survived Weight : 5\n",
      "evluation Auc:0.6745718050065876\n"
     ]
    },
    {
     "name": "stderr",
     "output_type": "stream",
     "text": [
      "C:\\Users\\MSYUN\\Desktop\\ml_optuna_mlflow\\venv\\lib\\site-packages\\_distutils_hack\\__init__.py:18: UserWarning: Distutils was imported before Setuptools, but importing Setuptools also replaces the `distutils` module in `sys.modules`. This may lead to undesirable behaviors or errors. To avoid these issues, avoid using distutils directly, ensure that setuptools is installed in the traditional way (e.g. not an editable install), and/or make sure that setuptools is always imported before distutils.\n",
      "  warnings.warn(\n",
      "C:\\Users\\MSYUN\\Desktop\\ml_optuna_mlflow\\venv\\lib\\site-packages\\_distutils_hack\\__init__.py:33: UserWarning: Setuptools is replacing distutils.\n",
      "  warnings.warn(\"Setuptools is replacing distutils.\")\n"
     ]
    },
    {
     "name": "stdout",
     "output_type": "stream",
     "text": [
      "----------------------------------------\n",
      "Survived Weight : 7\n",
      "evluation Auc:0.6363636363636364\n"
     ]
    },
    {
     "name": "stderr",
     "output_type": "stream",
     "text": [
      "C:\\Users\\MSYUN\\Desktop\\ml_optuna_mlflow\\venv\\lib\\site-packages\\_distutils_hack\\__init__.py:18: UserWarning: Distutils was imported before Setuptools, but importing Setuptools also replaces the `distutils` module in `sys.modules`. This may lead to undesirable behaviors or errors. To avoid these issues, avoid using distutils directly, ensure that setuptools is installed in the traditional way (e.g. not an editable install), and/or make sure that setuptools is always imported before distutils.\n",
      "  warnings.warn(\n",
      "C:\\Users\\MSYUN\\Desktop\\ml_optuna_mlflow\\venv\\lib\\site-packages\\_distutils_hack\\__init__.py:33: UserWarning: Setuptools is replacing distutils.\n",
      "  warnings.warn(\"Setuptools is replacing distutils.\")\n"
     ]
    },
    {
     "name": "stdout",
     "output_type": "stream",
     "text": [
      "----------------------------------------\n",
      "Survived Weight : 10\n",
      "evluation Auc:0.5727272727272728\n"
     ]
    },
    {
     "name": "stderr",
     "output_type": "stream",
     "text": [
      "C:\\Users\\MSYUN\\Desktop\\ml_optuna_mlflow\\venv\\lib\\site-packages\\_distutils_hack\\__init__.py:18: UserWarning: Distutils was imported before Setuptools, but importing Setuptools also replaces the `distutils` module in `sys.modules`. This may lead to undesirable behaviors or errors. To avoid these issues, avoid using distutils directly, ensure that setuptools is installed in the traditional way (e.g. not an editable install), and/or make sure that setuptools is always imported before distutils.\n",
      "  warnings.warn(\n",
      "C:\\Users\\MSYUN\\Desktop\\ml_optuna_mlflow\\venv\\lib\\site-packages\\_distutils_hack\\__init__.py:33: UserWarning: Setuptools is replacing distutils.\n",
      "  warnings.warn(\"Setuptools is replacing distutils.\")\n"
     ]
    }
   ],
   "source": [
    "# 코드\n",
    "mlflow.set_experiment('sklearn_logistic_hyper_experiment')\n",
    "survived_weights = [3,5,7,10]\n",
    "logs = []\n",
    "\n",
    "\n",
    "with mlflow.start_run():\n",
    "    for idx in range(len(survived_weights)):\n",
    "        weight = survived_weights[idx]\n",
    "\n",
    "        # 파라미터 값을 mlflow에 저장\n",
    "        mlflow.log_param(\"survived_weight\", weight)\n",
    "        class_weights = {0:1, 1:weight}\n",
    "        sk_model = LogisticRegression(random_state=42, max_iter=400, solver='newton-cg', class_weight=class_weights)\n",
    "        sk_model.fit(X_validate, Y_validate)\n",
    "\n",
    "        for h in range(40): print('-', end=\"\")\n",
    "        print(f\"\\nSurvived Weight : {weight}\")\n",
    "\n",
    "        # train acc에 mlflow에 적재(Logging)\n",
    "        train_accuracy = sk_model.score(X_train, Y_train)\n",
    "        mlflow.log_metric(\"train_accuracy\", train_accuracy)\n",
    "        \n",
    "        # validation auc\n",
    "        valid_accuracy = sk_model.score(X_validate, Y_validate)\n",
    "        preds = sk_model.predict(X_validate)\n",
    "        validation_auc_score = roc_auc_score(Y_validate, preds)\n",
    "\n",
    "        mlflow.log_metric(\"evaluation_accuracy\", valid_accuracy)\n",
    "        mlflow.log_metric(\"evaluation_accuracy\", validation_auc_score)\n",
    "        \n",
    "        # test auc\n",
    "        test_accuracy = sk_model.score(X_test, Y_test)\n",
    "        preds = sk_model.predict(X_test)\n",
    "        test_auc_score = roc_auc_score(Y_test, preds)\n",
    "\n",
    "        mlflow.log_metric(\"test_accuracy\", test_accuracy)\n",
    "        mlflow.log_metric(\"test_auc_score\", test_auc_score)\n",
    "\n",
    "        print(\"evluation Auc:{}\".format(validation_auc_score))\n",
    "        \n",
    "        log = [sk_model, X_validate, Y_validate, preds]\n",
    "        logs.append(log)\n",
    "\n",
    "        # 각 모델을 mlflow에 적재(Logging)\n",
    "        mlflow.sklearn.log_model(sk_model, f\"survived_weight_{weight}\")\n",
    "        mlflow.end_run()"
   ]
  },
  {
   "cell_type": "code",
   "execution_count": null,
   "id": "e4f968c5-ade6-4026-97a8-05c106103a3f",
   "metadata": {},
   "outputs": [],
   "source": []
  }
 ],
 "metadata": {
  "kernelspec": {
   "display_name": "Python 3 (ipykernel)",
   "language": "python",
   "name": "python3"
  },
  "language_info": {
   "codemirror_mode": {
    "name": "ipython",
    "version": 3
   },
   "file_extension": ".py",
   "mimetype": "text/x-python",
   "name": "python",
   "nbconvert_exporter": "python",
   "pygments_lexer": "ipython3",
   "version": "3.9.7"
  }
 },
 "nbformat": 4,
 "nbformat_minor": 5
}
