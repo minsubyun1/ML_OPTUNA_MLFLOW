{
 "cells": [
  {
   "cell_type": "markdown",
   "id": "c7eff94b-e3dd-40b4-889d-14c7c2ad85d2",
   "metadata": {},
   "source": [
    "## optuna with MLFLOW \n",
    "- Optuna와 MLFLow를 연동하는 코드를 작성한다. \n",
    "- 시각화 코드는 생략한다. \n",
    "- MLFLow에서 모델을 불러와서 예측을 진행한다. \n",
    "- 예측 결괏값을 제출한다. "
   ]
  },
  {
   "cell_type": "markdown",
   "id": "ba120508-8acf-4c10-ba4e-e6c73116364e",
   "metadata": {},
   "source": [
    "## 라이브러리 불러오기\n",
    "- 주요 라이브러리를 불러온다. "
   ]
  },
  {
   "cell_type": "code",
   "execution_count": 13,
   "id": "1a230daf-1a3f-47d2-a124-683c8a194a7a",
   "metadata": {},
   "outputs": [
    {
     "name": "stdout",
     "output_type": "stream",
     "text": [
      "numpy version 1.26.1\n",
      "pandas version 2.1.1\n",
      "matplotlib version 3.8.0\n",
      "seaborn version 0.13.0\n",
      "sklearn version 1.3.1\n",
      "MLFlow version 2.7.1\n",
      "optuna version 3.4.0\n",
      "xgboost version 2.0.0\n"
     ]
    }
   ],
   "source": [
    "%matplotlib inline\n",
    "\n",
    "import numpy as np \n",
    "import pandas as pd \n",
    "import matplotlib as mpl\n",
    "import matplotlib.pyplot as plt \n",
    "import sklearn\n",
    "import seaborn as sns\n",
    "import mlflow \n",
    "import mlflow.sklearn\n",
    "\n",
    "from sklearn.linear_model import LogisticRegression\n",
    "from sklearn.model_selection import train_test_split\n",
    "from sklearn.metrics import roc_auc_score, RocCurveDisplay, confusion_matrix, accuracy_score\n",
    "import optuna\n",
    "\n",
    "import xgboost\n",
    "from xgboost import XGBClassifier\n",
    "\n",
    "import time\n",
    "\n",
    "print(f\"numpy version {np.__version__}\")\n",
    "print(f\"pandas version {pd.__version__}\")\n",
    "print(f\"matplotlib version {mpl.__version__}\")\n",
    "print(f\"seaborn version {sns.__version__}\")\n",
    "print(f\"sklearn version {sklearn.__version__}\")\n",
    "print(f\"MLFlow version {mlflow.__version__}\")\n",
    "print(f\"optuna version {optuna.__version__}\")\n",
    "print(f\"xgboost version {xgboost.__version__}\")"
   ]
  },
  {
   "cell_type": "markdown",
   "id": "5cefb78d-b187-4bbe-9df3-ed7239457233",
   "metadata": {},
   "source": [
    "## 데이터 불러오기\n",
    "- 데이터는 캐글에서 가져왔다. \n",
    "    + 참조 : https://www.kaggle.com/competitions/titanic"
   ]
  },
  {
   "cell_type": "code",
   "execution_count": 14,
   "id": "d643878e-2d47-42a7-9ed1-58e2b0739bc5",
   "metadata": {},
   "outputs": [
    {
     "data": {
      "text/plain": [
       "((891, 12), (418, 11), (418, 2))"
      ]
     },
     "execution_count": 14,
     "metadata": {},
     "output_type": "execute_result"
    }
   ],
   "source": [
    "DATA_PATH = \"C:\\\\Users\\\\MSYUN\\\\Desktop\\\\ml_optuna_mlflow\\\\data\\\\titanic\\\\\"\n",
    "# DATA_PATH = \"각자의 경로를 지정합니다.\"\n",
    "\n",
    "train_df = pd.read_csv(DATA_PATH + \"train.csv\")\n",
    "test = pd.read_csv(DATA_PATH + \"test.csv\")\n",
    "submission = pd.read_csv(DATA_PATH + \"gender_submission.csv\")\n",
    "\n",
    "train_df.shape, test.shape, submission.shape"
   ]
  },
  {
   "cell_type": "markdown",
   "id": "d20a1fdb-5b08-446d-bcc4-21e280410f76",
   "metadata": {},
   "source": [
    "## 데이터 전처리\n",
    "- 데이터 전처리는 다음과 같이 진행하였다. \n",
    "- 우선, Name 피처에서 각 호칭을 출력한다(Miss, Mr, Mrs 등). 그 후에 각 호칭을 그룹화 하였다. "
   ]
  },
  {
   "cell_type": "code",
   "execution_count": 15,
   "id": "7544ba66-8084-4680-8726-8db9d131df5b",
   "metadata": {},
   "outputs": [
    {
     "data": {
      "text/plain": [
       "((891, 13), (418, 12))"
      ]
     },
     "execution_count": 15,
     "metadata": {},
     "output_type": "execute_result"
    }
   ],
   "source": [
    "train_df['Initial'] = 0\n",
    "test['Initial'] = 0\n",
    "for _ in [train_df, test]:\n",
    "    train_df['Initial'] = train_df['Name'].str.extract('([A-Za-z]+)\\.') \n",
    "    test['Initial'] = test['Name'].str.extract('([A-Za-z]+)\\.') \n",
    "\n",
    "b4_title    = ['Mlle','Mme','Ms','Dr','Major','Lady','Countess','Jonkheer','Col','Rev','Capt','Sir','Don', 'Dona']\n",
    "after_title = ['Miss','Miss','Miss','Mr','Mr','Mrs','Mrs','Other','Other','Other','Mr','Mr','Mr', 'Miss']\n",
    "\n",
    "train_df['Initial'] = train_df['Initial'].replace(b4_title, after_title)\n",
    "test['Initial'] = test['Initial'].replace(b4_title, after_title)\n",
    "\n",
    "train_df.shape, test.shape"
   ]
  },
  {
   "cell_type": "markdown",
   "id": "4a521c50-f20a-4427-8baa-936fc5c7603c",
   "metadata": {},
   "source": [
    "- 결측치별로 그룹간의 평균을 추가했다. \n",
    "- 각 숫자는 각 그룹에 대한 평균 나이임을 기억한다. \n",
    "- 그 외 결측치는 수치는 평균, 범주는 최빈도를 대체 했다. "
   ]
  },
  {
   "cell_type": "code",
   "execution_count": 16,
   "id": "5ff6677f-d133-4288-ac11-43a8e420f998",
   "metadata": {},
   "outputs": [
    {
     "data": {
      "text/plain": [
       "((891, 13), (418, 12))"
      ]
     },
     "execution_count": 16,
     "metadata": {},
     "output_type": "execute_result"
    }
   ],
   "source": [
    "train_df.loc[(train_df['Age'].isnull())&(train_df['Initial']=='Mr'),'Age']=33\n",
    "train_df.loc[(train_df['Age'].isnull())&(train_df['Initial']=='Mrs'),'Age']=36\n",
    "train_df.loc[(train_df['Age'].isnull())&(train_df['Initial']=='Master'),'Age']=5\n",
    "train_df.loc[(train_df['Age'].isnull())&(train_df['Initial']=='Miss'),'Age']=22\n",
    "train_df.loc[(train_df['Age'].isnull())&(train_df['Initial']=='Other'),'Age']=46\n",
    "\n",
    "test.loc[(test['Age'].isnull())&(test['Initial']=='Mr'),'Age']=33\n",
    "test.loc[(test['Age'].isnull())&(test['Initial']=='Mrs'),'Age']=39\n",
    "test.loc[(test['Age'].isnull())&(test['Initial']=='Master'),'Age']=8\n",
    "test.loc[(test['Age'].isnull())&(test['Initial']=='Miss'),'Age']=22\n",
    "test.loc[(test['Age'].isnull())&(test['Initial']=='Other'),'Age']=43\n",
    "\n",
    "# Fare Mean\n",
    "test['Fare'] = test['Fare'].fillna(np.mean(test['Fare']))\n",
    "\n",
    "# Embarked\n",
    "train_df['Embarked'] = train_df['Embarked'].fillna('S')\n",
    "test['Embarked'] = test['Embarked'].fillna('S')\n",
    "\n",
    "train_df.shape, test.shape"
   ]
  },
  {
   "cell_type": "markdown",
   "id": "3a6712f1-e98b-4bf5-b71a-303d4f682fb0",
   "metadata": {},
   "source": [
    "- 학습 때 참고하지 않을 변수들을 제거했다. \n",
    "- 그 외 범주는 원-핫 인코딩으로 수치화 하였다. "
   ]
  },
  {
   "cell_type": "code",
   "execution_count": 17,
   "id": "e617e544-01da-4832-902f-f0921b7e057f",
   "metadata": {},
   "outputs": [
    {
     "data": {
      "text/plain": [
       "((891, 16), (418, 15))"
      ]
     },
     "execution_count": 17,
     "metadata": {},
     "output_type": "execute_result"
    }
   ],
   "source": [
    "col = ['Name', 'Ticket', 'Cabin', 'PassengerId']\n",
    "train_df = train_df.drop(col, axis=1)\n",
    "train_df = pd.get_dummies(train_df)\n",
    "\n",
    "test = test.drop(col, axis=1)\n",
    "test = pd.get_dummies(test)\n",
    "\n",
    "train_df.shape, test.shape"
   ]
  },
  {
   "cell_type": "markdown",
   "id": "dbf8cc67-9ab4-455b-b6c1-0f05c9e08005",
   "metadata": {},
   "source": [
    "- 결측치가 존재하는지 확인한다. \n",
    "- 문자 데이터가 있는지 확인한다. "
   ]
  },
  {
   "cell_type": "code",
   "execution_count": 18,
   "id": "41656c05-e5f6-4afa-a4f7-010c8ad23950",
   "metadata": {},
   "outputs": [
    {
     "name": "stdout",
     "output_type": "stream",
     "text": [
      "<class 'pandas.core.frame.DataFrame'>\n",
      "RangeIndex: 891 entries, 0 to 890\n",
      "Data columns (total 16 columns):\n",
      " #   Column          Non-Null Count  Dtype  \n",
      "---  ------          --------------  -----  \n",
      " 0   Survived        891 non-null    int64  \n",
      " 1   Pclass          891 non-null    int64  \n",
      " 2   Age             891 non-null    float64\n",
      " 3   SibSp           891 non-null    int64  \n",
      " 4   Parch           891 non-null    int64  \n",
      " 5   Fare            891 non-null    float64\n",
      " 6   Sex_female      891 non-null    bool   \n",
      " 7   Sex_male        891 non-null    bool   \n",
      " 8   Embarked_C      891 non-null    bool   \n",
      " 9   Embarked_Q      891 non-null    bool   \n",
      " 10  Embarked_S      891 non-null    bool   \n",
      " 11  Initial_Master  891 non-null    bool   \n",
      " 12  Initial_Miss    891 non-null    bool   \n",
      " 13  Initial_Mr      891 non-null    bool   \n",
      " 14  Initial_Mrs     891 non-null    bool   \n",
      " 15  Initial_Other   891 non-null    bool   \n",
      "dtypes: bool(10), float64(2), int64(4)\n",
      "memory usage: 50.6 KB\n"
     ]
    }
   ],
   "source": [
    "train_df.info()"
   ]
  },
  {
   "cell_type": "code",
   "execution_count": 19,
   "id": "9dbe9830-f0ac-455b-b14b-2cb4fef70bda",
   "metadata": {},
   "outputs": [
    {
     "name": "stdout",
     "output_type": "stream",
     "text": [
      "<class 'pandas.core.frame.DataFrame'>\n",
      "RangeIndex: 418 entries, 0 to 417\n",
      "Data columns (total 15 columns):\n",
      " #   Column          Non-Null Count  Dtype  \n",
      "---  ------          --------------  -----  \n",
      " 0   Pclass          418 non-null    int64  \n",
      " 1   Age             418 non-null    float64\n",
      " 2   SibSp           418 non-null    int64  \n",
      " 3   Parch           418 non-null    int64  \n",
      " 4   Fare            418 non-null    float64\n",
      " 5   Sex_female      418 non-null    bool   \n",
      " 6   Sex_male        418 non-null    bool   \n",
      " 7   Embarked_C      418 non-null    bool   \n",
      " 8   Embarked_Q      418 non-null    bool   \n",
      " 9   Embarked_S      418 non-null    bool   \n",
      " 10  Initial_Master  418 non-null    bool   \n",
      " 11  Initial_Miss    418 non-null    bool   \n",
      " 12  Initial_Mr      418 non-null    bool   \n",
      " 13  Initial_Mrs     418 non-null    bool   \n",
      " 14  Initial_Other   418 non-null    bool   \n",
      "dtypes: bool(10), float64(2), int64(3)\n",
      "memory usage: 20.5 KB\n"
     ]
    }
   ],
   "source": [
    "test.info()"
   ]
  },
  {
   "cell_type": "markdown",
   "id": "5fcb6dd1-4b1f-4dcb-bc73-8da004ac0fb6",
   "metadata": {},
   "source": [
    "## 데이터 셋 분리 \n",
    "- 다음 코드는 클래스가 불균형일 때 적용할 수 있는 코드다. \n",
    "- 데이터가 골고루 섞일 수 있도록 하는 코드로 응용해서 사용하길 바라며, 6:2:2 형태로 구현하였다. \n",
    "- 그러나 본 튜토리얼에서는 검증은 생략한다. "
   ]
  },
  {
   "cell_type": "code",
   "execution_count": 20,
   "id": "d88c4f24-1b30-4536-bd38-12c0732bf22f",
   "metadata": {},
   "outputs": [
    {
     "data": {
      "text/plain": [
       "((368, 15), (124, 15), (124, 15), (368,), (124,), (124,))"
      ]
     },
     "execution_count": 20,
     "metadata": {},
     "output_type": "execute_result"
    }
   ],
   "source": [
    "deceased = train_df[train_df['Survived'] == 0].sample(frac=0.5, random_state=42).reset_index(drop=True)\n",
    "survived = train_df[train_df['Survived'] == 1]\n",
    "\n",
    "deceased_train, deceased_test = train_test_split(deceased, test_size = 0.2, random_state=42)\n",
    "survived_train, survived_test = train_test_split(survived, test_size = 0.2, random_state=42)\n",
    "\n",
    "deceased_train, deceased_validate = train_test_split(deceased_train, test_size = 0.25, random_state=42)\n",
    "survived_train, survived_validate = train_test_split(survived_train, test_size = 0.25, random_state=42)\n",
    "\n",
    "X_train = pd.concat((deceased_train, survived_train))\n",
    "X_test = pd.concat((deceased_test, survived_test))\n",
    "X_validate = pd.concat((deceased_validate, survived_validate))\n",
    "\n",
    "y_train = np.array(X_train[\"Survived\"])\n",
    "y_test = np.array(X_test[\"Survived\"])\n",
    "y_validate = np.array(X_validate[\"Survived\"])\n",
    "\n",
    "X_train = X_train.drop(\"Survived\", axis = 1)\n",
    "X_test = X_test.drop(\"Survived\", axis = 1)\n",
    "X_validate = X_validate.drop(\"Survived\", axis = 1)\n",
    "\n",
    "X_train.shape, X_validate.shape, X_test.shape, y_train.shape, y_validate.shape, y_test.shape"
   ]
  },
  {
   "cell_type": "markdown",
   "id": "a73666b7-c606-43f1-9b2c-a1b71514f311",
   "metadata": {},
   "source": [
    "## ML모델 정의\n",
    "- 머신러닝 알고리즘을 XGBoost를 선택했다. \n",
    "- Python에서 XGBoost는 크게 2가지 방법이 존재한다. \n",
    "    + Python API 방식으로, 데이터를 DMatrix 방식으로 변환해야 한다. \n",
    "    + Scikit-Learn API 방식은, 기존 Scikit-Learn과 동일하게 사용할 수 있다. \n",
    "- 본 튜토리얼에서는 Scikit-Learn API 방식으로 기술한다. \n",
    "- 파라미터에 대한 설명은 생략한다. \n",
    "    + 궁금하신 분들은 공식문서를 참조한다. \n",
    "    + 참조 : https://xgboost.readthedocs.io/en/stable/python/python_api.html#module-xgboost.sklearn\n",
    "- 다음 사용자 정의 함수는 크게 2가지로 정의한다. \n",
    "    + 첫번째는 모형을 생성하는 코드이다. 이 때 모형을 정의하는 것이며, 모형을 2개 이상 추가할 수 있다. \n",
    "    + 두번째는 모형을 학습 시키고 1차 결과를 출력하는 것이다. 앞서 정의한 함수를 가져와서 사용한다. 이 때 두 함수의 매개는 `trial`로 구성되고 있는 것을 확인한다. 또한, 여기에서 1차 평가지표를 산출할 수 있다. 이 평가지표가 추후 MLFlow에 저장될 것이다. \n",
    "    "
   ]
  },
  {
   "cell_type": "code",
   "execution_count": 21,
   "id": "dc96b483-28aa-49fa-9688-c80db45709a4",
   "metadata": {},
   "outputs": [],
   "source": [
    "def create_model(trial):\n",
    "    params = {'eta' : trial.suggest_uniform('eta', 0.0001, 0.1), \n",
    "              'max_depth' : trial.suggest_int('max_depth', 2, 10), \n",
    "              'subsample': trial.suggest_uniform('subsample', 0.5, 0.9)\n",
    "             }\n",
    "    model = XGBClassifier(**params, random_state=42)\n",
    "    return model\n",
    "\n",
    "def objective(trial):\n",
    "    model = create_model(trial)\n",
    "    model.fit(X_train, y_train)\n",
    "    \n",
    "    preds = model.predict(X_test)\n",
    "    accuracy = accuracy_score(y_test, preds)\n",
    "    \n",
    "    return accuracy"
   ]
  },
  {
   "cell_type": "markdown",
   "id": "03494861-473a-4f2c-b8e4-e0cbdd7854c1",
   "metadata": {},
   "source": [
    "- `Optuna`는 `Study` 객체를 기반으로 움직인다. \n",
    "- 이 객체에서는 일종의 실험 이름을 지정할 수 있다. 추후 MLFLow에 해당 이름이 저장이 된다. \n",
    "- direction은 일종의 모형의 방향성인데, 예를 들면 정확도는 높을수록 좋기 때문에, direction은 maximize로 지정하며, 만약 회귀문제처럼, 오차가 적으면 좋은 지표는 minimize를 선택하면 된다. \n",
    "    + 그 외에도 여러 최적화 방법을 사용할 수 있지만, 여기에서는 우선 생략한다. \n",
    "- 시간 측정을 진행했다. "
   ]
  },
  {
   "cell_type": "code",
   "execution_count": 22,
   "id": "e4dd4f84-b0c9-40cd-bfac-45853847d657",
   "metadata": {},
   "outputs": [
    {
     "name": "stderr",
     "output_type": "stream",
     "text": [
      "[I 2023-11-01 16:53:53,739] A new study created in memory with name: titanic_experiment\n",
      "C:\\Users\\MSYUN\\AppData\\Local\\Temp\\ipykernel_7240\\3161967853.py:2: FutureWarning: suggest_uniform has been deprecated in v3.0.0. This feature will be removed in v6.0.0. See https://github.com/optuna/optuna/releases/tag/v3.0.0. Use suggest_float instead.\n",
      "  params = {'eta' : trial.suggest_uniform('eta', 0.0001, 0.1),\n",
      "C:\\Users\\MSYUN\\AppData\\Local\\Temp\\ipykernel_7240\\3161967853.py:4: FutureWarning: suggest_uniform has been deprecated in v3.0.0. This feature will be removed in v6.0.0. See https://github.com/optuna/optuna/releases/tag/v3.0.0. Use suggest_float instead.\n",
      "  'subsample': trial.suggest_uniform('subsample', 0.5, 0.9)\n",
      "C:\\Users\\MSYUN\\Desktop\\ml_optuna_mlflow\\venv\\lib\\site-packages\\xgboost\\data.py:335: FutureWarning: is_sparse is deprecated and will be removed in a future version. Check `isinstance(dtype, pd.SparseDtype)` instead.\n",
      "  if is_sparse(dtype):\n",
      "C:\\Users\\MSYUN\\Desktop\\ml_optuna_mlflow\\venv\\lib\\site-packages\\xgboost\\data.py:338: FutureWarning: is_categorical_dtype is deprecated and will be removed in a future version. Use isinstance(dtype, CategoricalDtype) instead\n",
      "  is_categorical_dtype(dtype) or is_pa_ext_categorical_dtype(dtype)\n",
      "C:\\Users\\MSYUN\\Desktop\\ml_optuna_mlflow\\venv\\lib\\site-packages\\xgboost\\data.py:384: FutureWarning: is_categorical_dtype is deprecated and will be removed in a future version. Use isinstance(dtype, CategoricalDtype) instead\n",
      "  if is_categorical_dtype(dtype):\n",
      "C:\\Users\\MSYUN\\Desktop\\ml_optuna_mlflow\\venv\\lib\\site-packages\\xgboost\\data.py:359: FutureWarning: is_categorical_dtype is deprecated and will be removed in a future version. Use isinstance(dtype, CategoricalDtype) instead\n",
      "  return is_int or is_bool or is_float or is_categorical_dtype(dtype)\n",
      "C:\\Users\\MSYUN\\Desktop\\ml_optuna_mlflow\\venv\\lib\\site-packages\\xgboost\\data.py:335: FutureWarning: is_sparse is deprecated and will be removed in a future version. Check `isinstance(dtype, pd.SparseDtype)` instead.\n",
      "  if is_sparse(dtype):\n",
      "C:\\Users\\MSYUN\\Desktop\\ml_optuna_mlflow\\venv\\lib\\site-packages\\xgboost\\data.py:338: FutureWarning: is_categorical_dtype is deprecated and will be removed in a future version. Use isinstance(dtype, CategoricalDtype) instead\n",
      "  is_categorical_dtype(dtype) or is_pa_ext_categorical_dtype(dtype)\n",
      "C:\\Users\\MSYUN\\Desktop\\ml_optuna_mlflow\\venv\\lib\\site-packages\\xgboost\\data.py:384: FutureWarning: is_categorical_dtype is deprecated and will be removed in a future version. Use isinstance(dtype, CategoricalDtype) instead\n",
      "  if is_categorical_dtype(dtype):\n",
      "C:\\Users\\MSYUN\\Desktop\\ml_optuna_mlflow\\venv\\lib\\site-packages\\xgboost\\data.py:359: FutureWarning: is_categorical_dtype is deprecated and will be removed in a future version. Use isinstance(dtype, CategoricalDtype) instead\n",
      "  return is_int or is_bool or is_float or is_categorical_dtype(dtype)\n",
      "[I 2023-11-01 16:53:54,403] Trial 0 finished with value: 0.8306451612903226 and parameters: {'eta': 0.09657144001713329, 'max_depth': 6, 'subsample': 0.6828832103117}. Best is trial 0 with value: 0.8306451612903226.\n",
      "C:\\Users\\MSYUN\\AppData\\Local\\Temp\\ipykernel_7240\\3161967853.py:2: FutureWarning: suggest_uniform has been deprecated in v3.0.0. This feature will be removed in v6.0.0. See https://github.com/optuna/optuna/releases/tag/v3.0.0. Use suggest_float instead.\n",
      "  params = {'eta' : trial.suggest_uniform('eta', 0.0001, 0.1),\n",
      "C:\\Users\\MSYUN\\AppData\\Local\\Temp\\ipykernel_7240\\3161967853.py:4: FutureWarning: suggest_uniform has been deprecated in v3.0.0. This feature will be removed in v6.0.0. See https://github.com/optuna/optuna/releases/tag/v3.0.0. Use suggest_float instead.\n",
      "  'subsample': trial.suggest_uniform('subsample', 0.5, 0.9)\n",
      "C:\\Users\\MSYUN\\Desktop\\ml_optuna_mlflow\\venv\\lib\\site-packages\\xgboost\\data.py:335: FutureWarning: is_sparse is deprecated and will be removed in a future version. Check `isinstance(dtype, pd.SparseDtype)` instead.\n",
      "  if is_sparse(dtype):\n",
      "C:\\Users\\MSYUN\\Desktop\\ml_optuna_mlflow\\venv\\lib\\site-packages\\xgboost\\data.py:338: FutureWarning: is_categorical_dtype is deprecated and will be removed in a future version. Use isinstance(dtype, CategoricalDtype) instead\n",
      "  is_categorical_dtype(dtype) or is_pa_ext_categorical_dtype(dtype)\n",
      "C:\\Users\\MSYUN\\Desktop\\ml_optuna_mlflow\\venv\\lib\\site-packages\\xgboost\\data.py:384: FutureWarning: is_categorical_dtype is deprecated and will be removed in a future version. Use isinstance(dtype, CategoricalDtype) instead\n",
      "  if is_categorical_dtype(dtype):\n",
      "C:\\Users\\MSYUN\\Desktop\\ml_optuna_mlflow\\venv\\lib\\site-packages\\xgboost\\data.py:359: FutureWarning: is_categorical_dtype is deprecated and will be removed in a future version. Use isinstance(dtype, CategoricalDtype) instead\n",
      "  return is_int or is_bool or is_float or is_categorical_dtype(dtype)\n",
      "C:\\Users\\MSYUN\\Desktop\\ml_optuna_mlflow\\venv\\lib\\site-packages\\xgboost\\data.py:335: FutureWarning: is_sparse is deprecated and will be removed in a future version. Check `isinstance(dtype, pd.SparseDtype)` instead.\n",
      "  if is_sparse(dtype):\n",
      "C:\\Users\\MSYUN\\Desktop\\ml_optuna_mlflow\\venv\\lib\\site-packages\\xgboost\\data.py:338: FutureWarning: is_categorical_dtype is deprecated and will be removed in a future version. Use isinstance(dtype, CategoricalDtype) instead\n",
      "  is_categorical_dtype(dtype) or is_pa_ext_categorical_dtype(dtype)\n",
      "C:\\Users\\MSYUN\\Desktop\\ml_optuna_mlflow\\venv\\lib\\site-packages\\xgboost\\data.py:384: FutureWarning: is_categorical_dtype is deprecated and will be removed in a future version. Use isinstance(dtype, CategoricalDtype) instead\n",
      "  if is_categorical_dtype(dtype):\n",
      "C:\\Users\\MSYUN\\Desktop\\ml_optuna_mlflow\\venv\\lib\\site-packages\\xgboost\\data.py:359: FutureWarning: is_categorical_dtype is deprecated and will be removed in a future version. Use isinstance(dtype, CategoricalDtype) instead\n",
      "  return is_int or is_bool or is_float or is_categorical_dtype(dtype)\n",
      "[I 2023-11-01 16:53:54,562] Trial 1 finished with value: 0.7983870967741935 and parameters: {'eta': 0.04759093684385847, 'max_depth': 8, 'subsample': 0.7728636398562755}. Best is trial 0 with value: 0.8306451612903226.\n",
      "C:\\Users\\MSYUN\\AppData\\Local\\Temp\\ipykernel_7240\\3161967853.py:2: FutureWarning: suggest_uniform has been deprecated in v3.0.0. This feature will be removed in v6.0.0. See https://github.com/optuna/optuna/releases/tag/v3.0.0. Use suggest_float instead.\n",
      "  params = {'eta' : trial.suggest_uniform('eta', 0.0001, 0.1),\n",
      "C:\\Users\\MSYUN\\AppData\\Local\\Temp\\ipykernel_7240\\3161967853.py:4: FutureWarning: suggest_uniform has been deprecated in v3.0.0. This feature will be removed in v6.0.0. See https://github.com/optuna/optuna/releases/tag/v3.0.0. Use suggest_float instead.\n",
      "  'subsample': trial.suggest_uniform('subsample', 0.5, 0.9)\n",
      "C:\\Users\\MSYUN\\Desktop\\ml_optuna_mlflow\\venv\\lib\\site-packages\\xgboost\\data.py:335: FutureWarning: is_sparse is deprecated and will be removed in a future version. Check `isinstance(dtype, pd.SparseDtype)` instead.\n",
      "  if is_sparse(dtype):\n",
      "C:\\Users\\MSYUN\\Desktop\\ml_optuna_mlflow\\venv\\lib\\site-packages\\xgboost\\data.py:338: FutureWarning: is_categorical_dtype is deprecated and will be removed in a future version. Use isinstance(dtype, CategoricalDtype) instead\n",
      "  is_categorical_dtype(dtype) or is_pa_ext_categorical_dtype(dtype)\n",
      "C:\\Users\\MSYUN\\Desktop\\ml_optuna_mlflow\\venv\\lib\\site-packages\\xgboost\\data.py:384: FutureWarning: is_categorical_dtype is deprecated and will be removed in a future version. Use isinstance(dtype, CategoricalDtype) instead\n",
      "  if is_categorical_dtype(dtype):\n",
      "C:\\Users\\MSYUN\\Desktop\\ml_optuna_mlflow\\venv\\lib\\site-packages\\xgboost\\data.py:359: FutureWarning: is_categorical_dtype is deprecated and will be removed in a future version. Use isinstance(dtype, CategoricalDtype) instead\n",
      "  return is_int or is_bool or is_float or is_categorical_dtype(dtype)\n",
      "C:\\Users\\MSYUN\\Desktop\\ml_optuna_mlflow\\venv\\lib\\site-packages\\xgboost\\data.py:335: FutureWarning: is_sparse is deprecated and will be removed in a future version. Check `isinstance(dtype, pd.SparseDtype)` instead.\n",
      "  if is_sparse(dtype):\n",
      "C:\\Users\\MSYUN\\Desktop\\ml_optuna_mlflow\\venv\\lib\\site-packages\\xgboost\\data.py:338: FutureWarning: is_categorical_dtype is deprecated and will be removed in a future version. Use isinstance(dtype, CategoricalDtype) instead\n",
      "  is_categorical_dtype(dtype) or is_pa_ext_categorical_dtype(dtype)\n",
      "C:\\Users\\MSYUN\\Desktop\\ml_optuna_mlflow\\venv\\lib\\site-packages\\xgboost\\data.py:384: FutureWarning: is_categorical_dtype is deprecated and will be removed in a future version. Use isinstance(dtype, CategoricalDtype) instead\n",
      "  if is_categorical_dtype(dtype):\n",
      "C:\\Users\\MSYUN\\Desktop\\ml_optuna_mlflow\\venv\\lib\\site-packages\\xgboost\\data.py:359: FutureWarning: is_categorical_dtype is deprecated and will be removed in a future version. Use isinstance(dtype, CategoricalDtype) instead\n",
      "  return is_int or is_bool or is_float or is_categorical_dtype(dtype)\n",
      "[I 2023-11-01 16:53:54,705] Trial 2 finished with value: 0.75 and parameters: {'eta': 0.002259221409279759, 'max_depth': 10, 'subsample': 0.8658919343614749}. Best is trial 0 with value: 0.8306451612903226.\n",
      "C:\\Users\\MSYUN\\AppData\\Local\\Temp\\ipykernel_7240\\3161967853.py:2: FutureWarning: suggest_uniform has been deprecated in v3.0.0. This feature will be removed in v6.0.0. See https://github.com/optuna/optuna/releases/tag/v3.0.0. Use suggest_float instead.\n",
      "  params = {'eta' : trial.suggest_uniform('eta', 0.0001, 0.1),\n",
      "C:\\Users\\MSYUN\\AppData\\Local\\Temp\\ipykernel_7240\\3161967853.py:4: FutureWarning: suggest_uniform has been deprecated in v3.0.0. This feature will be removed in v6.0.0. See https://github.com/optuna/optuna/releases/tag/v3.0.0. Use suggest_float instead.\n",
      "  'subsample': trial.suggest_uniform('subsample', 0.5, 0.9)\n",
      "C:\\Users\\MSYUN\\Desktop\\ml_optuna_mlflow\\venv\\lib\\site-packages\\xgboost\\data.py:335: FutureWarning: is_sparse is deprecated and will be removed in a future version. Check `isinstance(dtype, pd.SparseDtype)` instead.\n",
      "  if is_sparse(dtype):\n",
      "C:\\Users\\MSYUN\\Desktop\\ml_optuna_mlflow\\venv\\lib\\site-packages\\xgboost\\data.py:338: FutureWarning: is_categorical_dtype is deprecated and will be removed in a future version. Use isinstance(dtype, CategoricalDtype) instead\n",
      "  is_categorical_dtype(dtype) or is_pa_ext_categorical_dtype(dtype)\n",
      "C:\\Users\\MSYUN\\Desktop\\ml_optuna_mlflow\\venv\\lib\\site-packages\\xgboost\\data.py:384: FutureWarning: is_categorical_dtype is deprecated and will be removed in a future version. Use isinstance(dtype, CategoricalDtype) instead\n",
      "  if is_categorical_dtype(dtype):\n",
      "C:\\Users\\MSYUN\\Desktop\\ml_optuna_mlflow\\venv\\lib\\site-packages\\xgboost\\data.py:359: FutureWarning: is_categorical_dtype is deprecated and will be removed in a future version. Use isinstance(dtype, CategoricalDtype) instead\n",
      "  return is_int or is_bool or is_float or is_categorical_dtype(dtype)\n",
      "C:\\Users\\MSYUN\\Desktop\\ml_optuna_mlflow\\venv\\lib\\site-packages\\xgboost\\data.py:335: FutureWarning: is_sparse is deprecated and will be removed in a future version. Check `isinstance(dtype, pd.SparseDtype)` instead.\n",
      "  if is_sparse(dtype):\n",
      "C:\\Users\\MSYUN\\Desktop\\ml_optuna_mlflow\\venv\\lib\\site-packages\\xgboost\\data.py:338: FutureWarning: is_categorical_dtype is deprecated and will be removed in a future version. Use isinstance(dtype, CategoricalDtype) instead\n",
      "  is_categorical_dtype(dtype) or is_pa_ext_categorical_dtype(dtype)\n",
      "C:\\Users\\MSYUN\\Desktop\\ml_optuna_mlflow\\venv\\lib\\site-packages\\xgboost\\data.py:384: FutureWarning: is_categorical_dtype is deprecated and will be removed in a future version. Use isinstance(dtype, CategoricalDtype) instead\n",
      "  if is_categorical_dtype(dtype):\n",
      "C:\\Users\\MSYUN\\Desktop\\ml_optuna_mlflow\\venv\\lib\\site-packages\\xgboost\\data.py:359: FutureWarning: is_categorical_dtype is deprecated and will be removed in a future version. Use isinstance(dtype, CategoricalDtype) instead\n",
      "  return is_int or is_bool or is_float or is_categorical_dtype(dtype)\n",
      "[I 2023-11-01 16:53:54,907] Trial 3 finished with value: 0.782258064516129 and parameters: {'eta': 0.017469582238053123, 'max_depth': 8, 'subsample': 0.749494421167403}. Best is trial 0 with value: 0.8306451612903226.\n",
      "C:\\Users\\MSYUN\\AppData\\Local\\Temp\\ipykernel_7240\\3161967853.py:2: FutureWarning: suggest_uniform has been deprecated in v3.0.0. This feature will be removed in v6.0.0. See https://github.com/optuna/optuna/releases/tag/v3.0.0. Use suggest_float instead.\n",
      "  params = {'eta' : trial.suggest_uniform('eta', 0.0001, 0.1),\n",
      "C:\\Users\\MSYUN\\AppData\\Local\\Temp\\ipykernel_7240\\3161967853.py:4: FutureWarning: suggest_uniform has been deprecated in v3.0.0. This feature will be removed in v6.0.0. See https://github.com/optuna/optuna/releases/tag/v3.0.0. Use suggest_float instead.\n",
      "  'subsample': trial.suggest_uniform('subsample', 0.5, 0.9)\n",
      "C:\\Users\\MSYUN\\Desktop\\ml_optuna_mlflow\\venv\\lib\\site-packages\\xgboost\\data.py:335: FutureWarning: is_sparse is deprecated and will be removed in a future version. Check `isinstance(dtype, pd.SparseDtype)` instead.\n",
      "  if is_sparse(dtype):\n",
      "C:\\Users\\MSYUN\\Desktop\\ml_optuna_mlflow\\venv\\lib\\site-packages\\xgboost\\data.py:338: FutureWarning: is_categorical_dtype is deprecated and will be removed in a future version. Use isinstance(dtype, CategoricalDtype) instead\n",
      "  is_categorical_dtype(dtype) or is_pa_ext_categorical_dtype(dtype)\n",
      "C:\\Users\\MSYUN\\Desktop\\ml_optuna_mlflow\\venv\\lib\\site-packages\\xgboost\\data.py:384: FutureWarning: is_categorical_dtype is deprecated and will be removed in a future version. Use isinstance(dtype, CategoricalDtype) instead\n",
      "  if is_categorical_dtype(dtype):\n",
      "C:\\Users\\MSYUN\\Desktop\\ml_optuna_mlflow\\venv\\lib\\site-packages\\xgboost\\data.py:359: FutureWarning: is_categorical_dtype is deprecated and will be removed in a future version. Use isinstance(dtype, CategoricalDtype) instead\n",
      "  return is_int or is_bool or is_float or is_categorical_dtype(dtype)\n",
      "C:\\Users\\MSYUN\\Desktop\\ml_optuna_mlflow\\venv\\lib\\site-packages\\xgboost\\data.py:335: FutureWarning: is_sparse is deprecated and will be removed in a future version. Check `isinstance(dtype, pd.SparseDtype)` instead.\n",
      "  if is_sparse(dtype):\n",
      "C:\\Users\\MSYUN\\Desktop\\ml_optuna_mlflow\\venv\\lib\\site-packages\\xgboost\\data.py:338: FutureWarning: is_categorical_dtype is deprecated and will be removed in a future version. Use isinstance(dtype, CategoricalDtype) instead\n",
      "  is_categorical_dtype(dtype) or is_pa_ext_categorical_dtype(dtype)\n",
      "C:\\Users\\MSYUN\\Desktop\\ml_optuna_mlflow\\venv\\lib\\site-packages\\xgboost\\data.py:384: FutureWarning: is_categorical_dtype is deprecated and will be removed in a future version. Use isinstance(dtype, CategoricalDtype) instead\n",
      "  if is_categorical_dtype(dtype):\n",
      "C:\\Users\\MSYUN\\Desktop\\ml_optuna_mlflow\\venv\\lib\\site-packages\\xgboost\\data.py:359: FutureWarning: is_categorical_dtype is deprecated and will be removed in a future version. Use isinstance(dtype, CategoricalDtype) instead\n",
      "  return is_int or is_bool or is_float or is_categorical_dtype(dtype)\n",
      "[I 2023-11-01 16:53:55,005] Trial 4 finished with value: 0.8064516129032258 and parameters: {'eta': 0.014720982776917985, 'max_depth': 4, 'subsample': 0.683524617841925}. Best is trial 0 with value: 0.8306451612903226.\n",
      "C:\\Users\\MSYUN\\AppData\\Local\\Temp\\ipykernel_7240\\3161967853.py:2: FutureWarning: suggest_uniform has been deprecated in v3.0.0. This feature will be removed in v6.0.0. See https://github.com/optuna/optuna/releases/tag/v3.0.0. Use suggest_float instead.\n",
      "  params = {'eta' : trial.suggest_uniform('eta', 0.0001, 0.1),\n",
      "C:\\Users\\MSYUN\\AppData\\Local\\Temp\\ipykernel_7240\\3161967853.py:4: FutureWarning: suggest_uniform has been deprecated in v3.0.0. This feature will be removed in v6.0.0. See https://github.com/optuna/optuna/releases/tag/v3.0.0. Use suggest_float instead.\n",
      "  'subsample': trial.suggest_uniform('subsample', 0.5, 0.9)\n",
      "C:\\Users\\MSYUN\\Desktop\\ml_optuna_mlflow\\venv\\lib\\site-packages\\xgboost\\data.py:335: FutureWarning: is_sparse is deprecated and will be removed in a future version. Check `isinstance(dtype, pd.SparseDtype)` instead.\n",
      "  if is_sparse(dtype):\n",
      "C:\\Users\\MSYUN\\Desktop\\ml_optuna_mlflow\\venv\\lib\\site-packages\\xgboost\\data.py:338: FutureWarning: is_categorical_dtype is deprecated and will be removed in a future version. Use isinstance(dtype, CategoricalDtype) instead\n",
      "  is_categorical_dtype(dtype) or is_pa_ext_categorical_dtype(dtype)\n",
      "C:\\Users\\MSYUN\\Desktop\\ml_optuna_mlflow\\venv\\lib\\site-packages\\xgboost\\data.py:384: FutureWarning: is_categorical_dtype is deprecated and will be removed in a future version. Use isinstance(dtype, CategoricalDtype) instead\n",
      "  if is_categorical_dtype(dtype):\n",
      "C:\\Users\\MSYUN\\Desktop\\ml_optuna_mlflow\\venv\\lib\\site-packages\\xgboost\\data.py:359: FutureWarning: is_categorical_dtype is deprecated and will be removed in a future version. Use isinstance(dtype, CategoricalDtype) instead\n",
      "  return is_int or is_bool or is_float or is_categorical_dtype(dtype)\n",
      "C:\\Users\\MSYUN\\Desktop\\ml_optuna_mlflow\\venv\\lib\\site-packages\\xgboost\\data.py:335: FutureWarning: is_sparse is deprecated and will be removed in a future version. Check `isinstance(dtype, pd.SparseDtype)` instead.\n",
      "  if is_sparse(dtype):\n",
      "C:\\Users\\MSYUN\\Desktop\\ml_optuna_mlflow\\venv\\lib\\site-packages\\xgboost\\data.py:338: FutureWarning: is_categorical_dtype is deprecated and will be removed in a future version. Use isinstance(dtype, CategoricalDtype) instead\n",
      "  is_categorical_dtype(dtype) or is_pa_ext_categorical_dtype(dtype)\n",
      "C:\\Users\\MSYUN\\Desktop\\ml_optuna_mlflow\\venv\\lib\\site-packages\\xgboost\\data.py:384: FutureWarning: is_categorical_dtype is deprecated and will be removed in a future version. Use isinstance(dtype, CategoricalDtype) instead\n",
      "  if is_categorical_dtype(dtype):\n",
      "C:\\Users\\MSYUN\\Desktop\\ml_optuna_mlflow\\venv\\lib\\site-packages\\xgboost\\data.py:359: FutureWarning: is_categorical_dtype is deprecated and will be removed in a future version. Use isinstance(dtype, CategoricalDtype) instead\n",
      "  return is_int or is_bool or is_float or is_categorical_dtype(dtype)\n",
      "[I 2023-11-01 16:53:55,098] Trial 5 finished with value: 0.8064516129032258 and parameters: {'eta': 0.008875154617988412, 'max_depth': 4, 'subsample': 0.6936198419419206}. Best is trial 0 with value: 0.8306451612903226.\n",
      "C:\\Users\\MSYUN\\AppData\\Local\\Temp\\ipykernel_7240\\3161967853.py:2: FutureWarning: suggest_uniform has been deprecated in v3.0.0. This feature will be removed in v6.0.0. See https://github.com/optuna/optuna/releases/tag/v3.0.0. Use suggest_float instead.\n",
      "  params = {'eta' : trial.suggest_uniform('eta', 0.0001, 0.1),\n",
      "C:\\Users\\MSYUN\\AppData\\Local\\Temp\\ipykernel_7240\\3161967853.py:4: FutureWarning: suggest_uniform has been deprecated in v3.0.0. This feature will be removed in v6.0.0. See https://github.com/optuna/optuna/releases/tag/v3.0.0. Use suggest_float instead.\n",
      "  'subsample': trial.suggest_uniform('subsample', 0.5, 0.9)\n",
      "C:\\Users\\MSYUN\\Desktop\\ml_optuna_mlflow\\venv\\lib\\site-packages\\xgboost\\data.py:335: FutureWarning: is_sparse is deprecated and will be removed in a future version. Check `isinstance(dtype, pd.SparseDtype)` instead.\n",
      "  if is_sparse(dtype):\n",
      "C:\\Users\\MSYUN\\Desktop\\ml_optuna_mlflow\\venv\\lib\\site-packages\\xgboost\\data.py:338: FutureWarning: is_categorical_dtype is deprecated and will be removed in a future version. Use isinstance(dtype, CategoricalDtype) instead\n",
      "  is_categorical_dtype(dtype) or is_pa_ext_categorical_dtype(dtype)\n",
      "C:\\Users\\MSYUN\\Desktop\\ml_optuna_mlflow\\venv\\lib\\site-packages\\xgboost\\data.py:384: FutureWarning: is_categorical_dtype is deprecated and will be removed in a future version. Use isinstance(dtype, CategoricalDtype) instead\n",
      "  if is_categorical_dtype(dtype):\n",
      "C:\\Users\\MSYUN\\Desktop\\ml_optuna_mlflow\\venv\\lib\\site-packages\\xgboost\\data.py:359: FutureWarning: is_categorical_dtype is deprecated and will be removed in a future version. Use isinstance(dtype, CategoricalDtype) instead\n",
      "  return is_int or is_bool or is_float or is_categorical_dtype(dtype)\n",
      "C:\\Users\\MSYUN\\Desktop\\ml_optuna_mlflow\\venv\\lib\\site-packages\\xgboost\\data.py:335: FutureWarning: is_sparse is deprecated and will be removed in a future version. Check `isinstance(dtype, pd.SparseDtype)` instead.\n",
      "  if is_sparse(dtype):\n",
      "C:\\Users\\MSYUN\\Desktop\\ml_optuna_mlflow\\venv\\lib\\site-packages\\xgboost\\data.py:338: FutureWarning: is_categorical_dtype is deprecated and will be removed in a future version. Use isinstance(dtype, CategoricalDtype) instead\n",
      "  is_categorical_dtype(dtype) or is_pa_ext_categorical_dtype(dtype)\n",
      "C:\\Users\\MSYUN\\Desktop\\ml_optuna_mlflow\\venv\\lib\\site-packages\\xgboost\\data.py:384: FutureWarning: is_categorical_dtype is deprecated and will be removed in a future version. Use isinstance(dtype, CategoricalDtype) instead\n",
      "  if is_categorical_dtype(dtype):\n",
      "C:\\Users\\MSYUN\\Desktop\\ml_optuna_mlflow\\venv\\lib\\site-packages\\xgboost\\data.py:359: FutureWarning: is_categorical_dtype is deprecated and will be removed in a future version. Use isinstance(dtype, CategoricalDtype) instead\n",
      "  return is_int or is_bool or is_float or is_categorical_dtype(dtype)\n",
      "[I 2023-11-01 16:53:55,911] Trial 6 finished with value: 0.8145161290322581 and parameters: {'eta': 0.0470474117701734, 'max_depth': 9, 'subsample': 0.7366143341233098}. Best is trial 0 with value: 0.8306451612903226.\n",
      "C:\\Users\\MSYUN\\AppData\\Local\\Temp\\ipykernel_7240\\3161967853.py:2: FutureWarning: suggest_uniform has been deprecated in v3.0.0. This feature will be removed in v6.0.0. See https://github.com/optuna/optuna/releases/tag/v3.0.0. Use suggest_float instead.\n",
      "  params = {'eta' : trial.suggest_uniform('eta', 0.0001, 0.1),\n",
      "C:\\Users\\MSYUN\\AppData\\Local\\Temp\\ipykernel_7240\\3161967853.py:4: FutureWarning: suggest_uniform has been deprecated in v3.0.0. This feature will be removed in v6.0.0. See https://github.com/optuna/optuna/releases/tag/v3.0.0. Use suggest_float instead.\n",
      "  'subsample': trial.suggest_uniform('subsample', 0.5, 0.9)\n",
      "C:\\Users\\MSYUN\\Desktop\\ml_optuna_mlflow\\venv\\lib\\site-packages\\xgboost\\data.py:335: FutureWarning: is_sparse is deprecated and will be removed in a future version. Check `isinstance(dtype, pd.SparseDtype)` instead.\n",
      "  if is_sparse(dtype):\n",
      "C:\\Users\\MSYUN\\Desktop\\ml_optuna_mlflow\\venv\\lib\\site-packages\\xgboost\\data.py:338: FutureWarning: is_categorical_dtype is deprecated and will be removed in a future version. Use isinstance(dtype, CategoricalDtype) instead\n",
      "  is_categorical_dtype(dtype) or is_pa_ext_categorical_dtype(dtype)\n",
      "C:\\Users\\MSYUN\\Desktop\\ml_optuna_mlflow\\venv\\lib\\site-packages\\xgboost\\data.py:384: FutureWarning: is_categorical_dtype is deprecated and will be removed in a future version. Use isinstance(dtype, CategoricalDtype) instead\n",
      "  if is_categorical_dtype(dtype):\n",
      "C:\\Users\\MSYUN\\Desktop\\ml_optuna_mlflow\\venv\\lib\\site-packages\\xgboost\\data.py:359: FutureWarning: is_categorical_dtype is deprecated and will be removed in a future version. Use isinstance(dtype, CategoricalDtype) instead\n",
      "  return is_int or is_bool or is_float or is_categorical_dtype(dtype)\n",
      "C:\\Users\\MSYUN\\Desktop\\ml_optuna_mlflow\\venv\\lib\\site-packages\\xgboost\\data.py:335: FutureWarning: is_sparse is deprecated and will be removed in a future version. Check `isinstance(dtype, pd.SparseDtype)` instead.\n",
      "  if is_sparse(dtype):\n",
      "C:\\Users\\MSYUN\\Desktop\\ml_optuna_mlflow\\venv\\lib\\site-packages\\xgboost\\data.py:338: FutureWarning: is_categorical_dtype is deprecated and will be removed in a future version. Use isinstance(dtype, CategoricalDtype) instead\n",
      "  is_categorical_dtype(dtype) or is_pa_ext_categorical_dtype(dtype)\n",
      "C:\\Users\\MSYUN\\Desktop\\ml_optuna_mlflow\\venv\\lib\\site-packages\\xgboost\\data.py:384: FutureWarning: is_categorical_dtype is deprecated and will be removed in a future version. Use isinstance(dtype, CategoricalDtype) instead\n",
      "  if is_categorical_dtype(dtype):\n",
      "C:\\Users\\MSYUN\\Desktop\\ml_optuna_mlflow\\venv\\lib\\site-packages\\xgboost\\data.py:359: FutureWarning: is_categorical_dtype is deprecated and will be removed in a future version. Use isinstance(dtype, CategoricalDtype) instead\n",
      "  return is_int or is_bool or is_float or is_categorical_dtype(dtype)\n",
      "[I 2023-11-01 16:53:56,088] Trial 7 finished with value: 0.8145161290322581 and parameters: {'eta': 0.05890061515815608, 'max_depth': 6, 'subsample': 0.7828657405100302}. Best is trial 0 with value: 0.8306451612903226.\n",
      "C:\\Users\\MSYUN\\AppData\\Local\\Temp\\ipykernel_7240\\3161967853.py:2: FutureWarning: suggest_uniform has been deprecated in v3.0.0. This feature will be removed in v6.0.0. See https://github.com/optuna/optuna/releases/tag/v3.0.0. Use suggest_float instead.\n",
      "  params = {'eta' : trial.suggest_uniform('eta', 0.0001, 0.1),\n",
      "C:\\Users\\MSYUN\\AppData\\Local\\Temp\\ipykernel_7240\\3161967853.py:4: FutureWarning: suggest_uniform has been deprecated in v3.0.0. This feature will be removed in v6.0.0. See https://github.com/optuna/optuna/releases/tag/v3.0.0. Use suggest_float instead.\n",
      "  'subsample': trial.suggest_uniform('subsample', 0.5, 0.9)\n",
      "C:\\Users\\MSYUN\\Desktop\\ml_optuna_mlflow\\venv\\lib\\site-packages\\xgboost\\data.py:335: FutureWarning: is_sparse is deprecated and will be removed in a future version. Check `isinstance(dtype, pd.SparseDtype)` instead.\n",
      "  if is_sparse(dtype):\n",
      "C:\\Users\\MSYUN\\Desktop\\ml_optuna_mlflow\\venv\\lib\\site-packages\\xgboost\\data.py:338: FutureWarning: is_categorical_dtype is deprecated and will be removed in a future version. Use isinstance(dtype, CategoricalDtype) instead\n",
      "  is_categorical_dtype(dtype) or is_pa_ext_categorical_dtype(dtype)\n",
      "C:\\Users\\MSYUN\\Desktop\\ml_optuna_mlflow\\venv\\lib\\site-packages\\xgboost\\data.py:384: FutureWarning: is_categorical_dtype is deprecated and will be removed in a future version. Use isinstance(dtype, CategoricalDtype) instead\n",
      "  if is_categorical_dtype(dtype):\n",
      "C:\\Users\\MSYUN\\Desktop\\ml_optuna_mlflow\\venv\\lib\\site-packages\\xgboost\\data.py:359: FutureWarning: is_categorical_dtype is deprecated and will be removed in a future version. Use isinstance(dtype, CategoricalDtype) instead\n",
      "  return is_int or is_bool or is_float or is_categorical_dtype(dtype)\n",
      "C:\\Users\\MSYUN\\Desktop\\ml_optuna_mlflow\\venv\\lib\\site-packages\\xgboost\\data.py:335: FutureWarning: is_sparse is deprecated and will be removed in a future version. Check `isinstance(dtype, pd.SparseDtype)` instead.\n",
      "  if is_sparse(dtype):\n",
      "C:\\Users\\MSYUN\\Desktop\\ml_optuna_mlflow\\venv\\lib\\site-packages\\xgboost\\data.py:338: FutureWarning: is_categorical_dtype is deprecated and will be removed in a future version. Use isinstance(dtype, CategoricalDtype) instead\n",
      "  is_categorical_dtype(dtype) or is_pa_ext_categorical_dtype(dtype)\n",
      "C:\\Users\\MSYUN\\Desktop\\ml_optuna_mlflow\\venv\\lib\\site-packages\\xgboost\\data.py:384: FutureWarning: is_categorical_dtype is deprecated and will be removed in a future version. Use isinstance(dtype, CategoricalDtype) instead\n",
      "  if is_categorical_dtype(dtype):\n",
      "C:\\Users\\MSYUN\\Desktop\\ml_optuna_mlflow\\venv\\lib\\site-packages\\xgboost\\data.py:359: FutureWarning: is_categorical_dtype is deprecated and will be removed in a future version. Use isinstance(dtype, CategoricalDtype) instead\n",
      "  return is_int or is_bool or is_float or is_categorical_dtype(dtype)\n",
      "[I 2023-11-01 16:53:56,328] Trial 8 finished with value: 0.8145161290322581 and parameters: {'eta': 0.006776217531608011, 'max_depth': 6, 'subsample': 0.5703460577588035}. Best is trial 0 with value: 0.8306451612903226.\n",
      "C:\\Users\\MSYUN\\AppData\\Local\\Temp\\ipykernel_7240\\3161967853.py:2: FutureWarning: suggest_uniform has been deprecated in v3.0.0. This feature will be removed in v6.0.0. See https://github.com/optuna/optuna/releases/tag/v3.0.0. Use suggest_float instead.\n",
      "  params = {'eta' : trial.suggest_uniform('eta', 0.0001, 0.1),\n",
      "C:\\Users\\MSYUN\\AppData\\Local\\Temp\\ipykernel_7240\\3161967853.py:4: FutureWarning: suggest_uniform has been deprecated in v3.0.0. This feature will be removed in v6.0.0. See https://github.com/optuna/optuna/releases/tag/v3.0.0. Use suggest_float instead.\n",
      "  'subsample': trial.suggest_uniform('subsample', 0.5, 0.9)\n",
      "C:\\Users\\MSYUN\\Desktop\\ml_optuna_mlflow\\venv\\lib\\site-packages\\xgboost\\data.py:335: FutureWarning: is_sparse is deprecated and will be removed in a future version. Check `isinstance(dtype, pd.SparseDtype)` instead.\n",
      "  if is_sparse(dtype):\n",
      "C:\\Users\\MSYUN\\Desktop\\ml_optuna_mlflow\\venv\\lib\\site-packages\\xgboost\\data.py:338: FutureWarning: is_categorical_dtype is deprecated and will be removed in a future version. Use isinstance(dtype, CategoricalDtype) instead\n",
      "  is_categorical_dtype(dtype) or is_pa_ext_categorical_dtype(dtype)\n",
      "C:\\Users\\MSYUN\\Desktop\\ml_optuna_mlflow\\venv\\lib\\site-packages\\xgboost\\data.py:384: FutureWarning: is_categorical_dtype is deprecated and will be removed in a future version. Use isinstance(dtype, CategoricalDtype) instead\n",
      "  if is_categorical_dtype(dtype):\n",
      "C:\\Users\\MSYUN\\Desktop\\ml_optuna_mlflow\\venv\\lib\\site-packages\\xgboost\\data.py:359: FutureWarning: is_categorical_dtype is deprecated and will be removed in a future version. Use isinstance(dtype, CategoricalDtype) instead\n",
      "  return is_int or is_bool or is_float or is_categorical_dtype(dtype)\n",
      "C:\\Users\\MSYUN\\Desktop\\ml_optuna_mlflow\\venv\\lib\\site-packages\\xgboost\\data.py:335: FutureWarning: is_sparse is deprecated and will be removed in a future version. Check `isinstance(dtype, pd.SparseDtype)` instead.\n",
      "  if is_sparse(dtype):\n",
      "C:\\Users\\MSYUN\\Desktop\\ml_optuna_mlflow\\venv\\lib\\site-packages\\xgboost\\data.py:338: FutureWarning: is_categorical_dtype is deprecated and will be removed in a future version. Use isinstance(dtype, CategoricalDtype) instead\n",
      "  is_categorical_dtype(dtype) or is_pa_ext_categorical_dtype(dtype)\n",
      "C:\\Users\\MSYUN\\Desktop\\ml_optuna_mlflow\\venv\\lib\\site-packages\\xgboost\\data.py:384: FutureWarning: is_categorical_dtype is deprecated and will be removed in a future version. Use isinstance(dtype, CategoricalDtype) instead\n",
      "  if is_categorical_dtype(dtype):\n",
      "C:\\Users\\MSYUN\\Desktop\\ml_optuna_mlflow\\venv\\lib\\site-packages\\xgboost\\data.py:359: FutureWarning: is_categorical_dtype is deprecated and will be removed in a future version. Use isinstance(dtype, CategoricalDtype) instead\n",
      "  return is_int or is_bool or is_float or is_categorical_dtype(dtype)\n",
      "[I 2023-11-01 16:53:56,429] Trial 9 finished with value: 0.8145161290322581 and parameters: {'eta': 0.07823580171542882, 'max_depth': 5, 'subsample': 0.8626246380761919}. Best is trial 0 with value: 0.8306451612903226.\n"
     ]
    }
   ],
   "source": [
    "study = optuna.create_study(study_name='titanic_experiment', direction='maximize')\n",
    "study.optimize(objective, n_trials=10)"
   ]
  },
  {
   "cell_type": "markdown",
   "id": "4f7d130c-84d3-4fbb-a440-0fd91e41d010",
   "metadata": {},
   "source": [
    "- Best Parameters를 찾는다. "
   ]
  },
  {
   "cell_type": "code",
   "execution_count": 23,
   "id": "2accf393-6cc4-4cae-a6de-afb9c75d6847",
   "metadata": {},
   "outputs": [
    {
     "name": "stdout",
     "output_type": "stream",
     "text": [
      "{'eta': 0.09657144001713329, 'max_depth': 6, 'subsample': 0.6828832103117}\n"
     ]
    }
   ],
   "source": [
    "print(study.best_trial.params)"
   ]
  },
  {
   "cell_type": "markdown",
   "id": "f5bb5f87-e1b8-424f-be39-45f3cdab6621",
   "metadata": {},
   "source": [
    "- 각 파라미터는 Dictionary로 구성되어 있기 때문에, key값을 이용해서 다시 재 학습을 했다. \n",
    "- 예측을 통해 실제 Y값을 출력한다. "
   ]
  },
  {
   "cell_type": "code",
   "execution_count": 24,
   "id": "1057696a-1e2d-4f9b-ae9b-cc3ff3d5eda5",
   "metadata": {},
   "outputs": [
    {
     "name": "stdout",
     "output_type": "stream",
     "text": [
      "[0 0 0 1 0 0 0 0 1 0 1 0 0 0 0 1 0 1 0 0 1 0 0 1 1 0 0 0 0 1 0 0 0 0 0 0 1\n",
      " 0 0 0 0 0 0 0 0 0 0 0 1 0 0 1 0 0 0 1 1 1 0 1 1 1 1 1 1 1 1 1 1 0 1 1 1 0\n",
      " 1 1 1 1 1 1 1 1 1 1 1 1 0 1 0 1 1 1 1 1 1 1 1 1 1 0 1 1 1 1 1 1 1 1 1 1 1\n",
      " 1 1 1 1 1 1 0 1 0 0 1 1 1]\n"
     ]
    },
    {
     "name": "stderr",
     "output_type": "stream",
     "text": [
      "C:\\Users\\MSYUN\\Desktop\\ml_optuna_mlflow\\venv\\lib\\site-packages\\xgboost\\data.py:335: FutureWarning: is_sparse is deprecated and will be removed in a future version. Check `isinstance(dtype, pd.SparseDtype)` instead.\n",
      "  if is_sparse(dtype):\n",
      "C:\\Users\\MSYUN\\Desktop\\ml_optuna_mlflow\\venv\\lib\\site-packages\\xgboost\\data.py:338: FutureWarning: is_categorical_dtype is deprecated and will be removed in a future version. Use isinstance(dtype, CategoricalDtype) instead\n",
      "  is_categorical_dtype(dtype) or is_pa_ext_categorical_dtype(dtype)\n",
      "C:\\Users\\MSYUN\\Desktop\\ml_optuna_mlflow\\venv\\lib\\site-packages\\xgboost\\data.py:384: FutureWarning: is_categorical_dtype is deprecated and will be removed in a future version. Use isinstance(dtype, CategoricalDtype) instead\n",
      "  if is_categorical_dtype(dtype):\n",
      "C:\\Users\\MSYUN\\Desktop\\ml_optuna_mlflow\\venv\\lib\\site-packages\\xgboost\\data.py:359: FutureWarning: is_categorical_dtype is deprecated and will be removed in a future version. Use isinstance(dtype, CategoricalDtype) instead\n",
      "  return is_int or is_bool or is_float or is_categorical_dtype(dtype)\n",
      "C:\\Users\\MSYUN\\Desktop\\ml_optuna_mlflow\\venv\\lib\\site-packages\\xgboost\\data.py:335: FutureWarning: is_sparse is deprecated and will be removed in a future version. Check `isinstance(dtype, pd.SparseDtype)` instead.\n",
      "  if is_sparse(dtype):\n",
      "C:\\Users\\MSYUN\\Desktop\\ml_optuna_mlflow\\venv\\lib\\site-packages\\xgboost\\data.py:338: FutureWarning: is_categorical_dtype is deprecated and will be removed in a future version. Use isinstance(dtype, CategoricalDtype) instead\n",
      "  is_categorical_dtype(dtype) or is_pa_ext_categorical_dtype(dtype)\n",
      "C:\\Users\\MSYUN\\Desktop\\ml_optuna_mlflow\\venv\\lib\\site-packages\\xgboost\\data.py:384: FutureWarning: is_categorical_dtype is deprecated and will be removed in a future version. Use isinstance(dtype, CategoricalDtype) instead\n",
      "  if is_categorical_dtype(dtype):\n",
      "C:\\Users\\MSYUN\\Desktop\\ml_optuna_mlflow\\venv\\lib\\site-packages\\xgboost\\data.py:359: FutureWarning: is_categorical_dtype is deprecated and will be removed in a future version. Use isinstance(dtype, CategoricalDtype) instead\n",
      "  return is_int or is_bool or is_float or is_categorical_dtype(dtype)\n"
     ]
    }
   ],
   "source": [
    "best_opt = XGBClassifier(eta = study.best_trial.params['eta'], \n",
    "                         max_depth = study.best_trial.params['max_depth'], \n",
    "                         subsample = study.best_trial.params['subsample'], \n",
    "                         random_state=42)\n",
    "\n",
    "best_opt.fit(X_train, y_train)\n",
    "preds = best_opt.predict(X_test)\n",
    "print(preds)"
   ]
  },
  {
   "cell_type": "markdown",
   "id": "a0e4cb38-d338-48d4-904b-2238ca851167",
   "metadata": {},
   "source": [
    "- 이제 ROC Curve와 오차행렬 그래프를 작성하는 함수를 구현했다. "
   ]
  },
  {
   "cell_type": "code",
   "execution_count": 25,
   "id": "7fe95c92-0ed6-42c3-ac0e-509c90433a1e",
   "metadata": {},
   "outputs": [],
   "source": [
    "def classification_plot(y_test, preds):\n",
    "    conf_matrix = confusion_matrix(y_test, preds)\n",
    "    \n",
    "    fig, ax = plt.subplots(nrows=1, ncols=2, figsize=(16, 6))\n",
    "    RocCurveDisplay.from_predictions(y_test, preds, name='Scikit-Learn ROC Curve', ax=ax[0])\n",
    "    ax[0].plot([0, 1], ls='--')\n",
    "    ax[1] = sns.heatmap(conf_matrix, annot=True, fmt='g')\n",
    "    ax[1].invert_xaxis()\n",
    "    ax[1].invert_yaxis()\n",
    "    ax[1].set_ylabel('Actual')\n",
    "    ax[1].set_xlabel('Predicted')\n",
    "    ax[1].set_title('Confusion Matrix')\n",
    "    \n",
    "    plt.show()"
   ]
  },
  {
   "cell_type": "code",
   "execution_count": 26,
   "id": "b2990b1f-4839-4125-8c7d-83b8b2b83ed3",
   "metadata": {},
   "outputs": [
    {
     "data": {
      "image/png": "[encoded data removed]",
      "text/plain": [
       "<Figure size 1600x600 with 3 Axes>"
      ]
     },
     "metadata": {},
     "output_type": "display_data"
    }
   ],
   "source": [
    "classification_plot(y_test, preds)"
   ]
  },
  {
   "cell_type": "markdown",
   "id": "4ef819b1-74ef-4c59-a7b1-e41cd4f82144",
   "metadata": {},
   "source": [
    "## MLFlow 연동\n",
    "- 이제 MLFlow에 연동한다. MLFLow를 연동하면, 앞서 출력한 코드들을 그대로 MLFLow에 저장하여 기록할 수 있다. "
   ]
  },
  {
   "cell_type": "code",
   "execution_count": 27,
   "id": "6cbc8ce2-ef63-45f6-941f-f421bfec7425",
   "metadata": {},
   "outputs": [
    {
     "name": "stderr",
     "output_type": "stream",
     "text": [
      "C:\\Users\\MSYUN\\AppData\\Local\\Temp\\ipykernel_7240\\1489621800.py:3: ExperimentalWarning: MLflowCallback is experimental (supported from v1.4.0). The interface can change in the future.\n",
      "  mlflc = MLflowCallback(\n",
      "C:\\Users\\MSYUN\\AppData\\Local\\Temp\\ipykernel_7240\\1489621800.py:21: ExperimentalWarning: track_in_mlflow is experimental (supported from v2.9.0). The interface can change in the future.\n",
      "  @mlflc.track_in_mlflow()\n"
     ]
    }
   ],
   "source": [
    "from optuna.integration.mlflow import MLflowCallback\n",
    "\n",
    "mlflc = MLflowCallback(\n",
    "    tracking_uri = 'mlruns', \n",
    "    metric_name = 'accuracy'\n",
    ")\n",
    "\n",
    "def create_model(trial):\n",
    "    params = {'eta' : trial.suggest_uniform('eta', 0.0001, 0.1), \n",
    "              'max_depth' : trial.suggest_int('max_depth', 2, 10), \n",
    "              'subsample': trial.suggest_uniform('subsample', 0.5, 0.9)\n",
    "             }\n",
    "    model = XGBClassifier(**params, random_state=42)\n",
    "    \n",
    "    mlflow.log_param('eta', params['eta'])\n",
    "    mlflow.log_param('max_depth', params['max_depth'])\n",
    "    mlflow.log_param('subsample', params['subsample'])\n",
    "    \n",
    "    return model\n",
    "\n",
    "@mlflc.track_in_mlflow()\n",
    "def objective(trial):\n",
    "    model = create_model(trial)\n",
    "    model.fit(X_train, y_train)\n",
    "    \n",
    "    preds = model.predict(X_test)\n",
    "    accuracy = accuracy_score(y_test, preds)\n",
    "    auc_score = roc_auc_score(y_test, preds)\n",
    "    mlflow.log_metric('auc_score', auc_score)\n",
    "    mlflow.xgboost.log_model(model, 'xgboost')\n",
    "    \n",
    "    mlflow.end_run()\n",
    "    return accuracy"
   ]
  },
  {
   "cell_type": "code",
   "execution_count": 28,
   "id": "22664058-0afe-467e-89cf-427131e718a0",
   "metadata": {},
   "outputs": [
    {
     "name": "stderr",
     "output_type": "stream",
     "text": [
      "[I 2023-11-01 16:53:57,369] A new study created in memory with name: titanic_experiment\n",
      "2023/11/01 16:53:57 INFO mlflow.tracking.fluent: Experiment with name 'titanic_experiment' does not exist. Creating a new experiment.\n",
      "C:\\Users\\MSYUN\\AppData\\Local\\Temp\\ipykernel_7240\\1489621800.py:9: FutureWarning: suggest_uniform has been deprecated in v3.0.0. This feature will be removed in v6.0.0. See https://github.com/optuna/optuna/releases/tag/v3.0.0. Use suggest_float instead.\n",
      "  params = {'eta' : trial.suggest_uniform('eta', 0.0001, 0.1),\n",
      "C:\\Users\\MSYUN\\AppData\\Local\\Temp\\ipykernel_7240\\1489621800.py:11: FutureWarning: suggest_uniform has been deprecated in v3.0.0. This feature will be removed in v6.0.0. See https://github.com/optuna/optuna/releases/tag/v3.0.0. Use suggest_float instead.\n",
      "  'subsample': trial.suggest_uniform('subsample', 0.5, 0.9)\n",
      "C:\\Users\\MSYUN\\Desktop\\ml_optuna_mlflow\\venv\\lib\\site-packages\\xgboost\\data.py:335: FutureWarning: is_sparse is deprecated and will be removed in a future version. Check `isinstance(dtype, pd.SparseDtype)` instead.\n",
      "  if is_sparse(dtype):\n",
      "C:\\Users\\MSYUN\\Desktop\\ml_optuna_mlflow\\venv\\lib\\site-packages\\xgboost\\data.py:338: FutureWarning: is_categorical_dtype is deprecated and will be removed in a future version. Use isinstance(dtype, CategoricalDtype) instead\n",
      "  is_categorical_dtype(dtype) or is_pa_ext_categorical_dtype(dtype)\n",
      "C:\\Users\\MSYUN\\Desktop\\ml_optuna_mlflow\\venv\\lib\\site-packages\\xgboost\\data.py:384: FutureWarning: is_categorical_dtype is deprecated and will be removed in a future version. Use isinstance(dtype, CategoricalDtype) instead\n",
      "  if is_categorical_dtype(dtype):\n",
      "C:\\Users\\MSYUN\\Desktop\\ml_optuna_mlflow\\venv\\lib\\site-packages\\xgboost\\data.py:359: FutureWarning: is_categorical_dtype is deprecated and will be removed in a future version. Use isinstance(dtype, CategoricalDtype) instead\n",
      "  return is_int or is_bool or is_float or is_categorical_dtype(dtype)\n",
      "C:\\Users\\MSYUN\\Desktop\\ml_optuna_mlflow\\venv\\lib\\site-packages\\xgboost\\data.py:335: FutureWarning: is_sparse is deprecated and will be removed in a future version. Check `isinstance(dtype, pd.SparseDtype)` instead.\n",
      "  if is_sparse(dtype):\n",
      "C:\\Users\\MSYUN\\Desktop\\ml_optuna_mlflow\\venv\\lib\\site-packages\\xgboost\\data.py:338: FutureWarning: is_categorical_dtype is deprecated and will be removed in a future version. Use isinstance(dtype, CategoricalDtype) instead\n",
      "  is_categorical_dtype(dtype) or is_pa_ext_categorical_dtype(dtype)\n",
      "C:\\Users\\MSYUN\\Desktop\\ml_optuna_mlflow\\venv\\lib\\site-packages\\xgboost\\data.py:384: FutureWarning: is_categorical_dtype is deprecated and will be removed in a future version. Use isinstance(dtype, CategoricalDtype) instead\n",
      "  if is_categorical_dtype(dtype):\n",
      "C:\\Users\\MSYUN\\Desktop\\ml_optuna_mlflow\\venv\\lib\\site-packages\\xgboost\\data.py:359: FutureWarning: is_categorical_dtype is deprecated and will be removed in a future version. Use isinstance(dtype, CategoricalDtype) instead\n",
      "  return is_int or is_bool or is_float or is_categorical_dtype(dtype)\n",
      "C:\\Users\\MSYUN\\Desktop\\ml_optuna_mlflow\\venv\\lib\\site-packages\\xgboost\\core.py:160: UserWarning: [16:53:57] WARNING: C:\\buildkite-agent\\builds\\buildkite-windows-cpu-autoscaling-group-i-0cec3277c4d9d0165-1\\xgboost\\xgboost-ci-windows\\src\\c_api\\c_api.cc:1240: Saving into deprecated binary model format, please consider using `json` or `ubj`. Model format will default to JSON in XGBoost 2.2 if not specified.\n",
      "  warnings.warn(smsg, UserWarning)\n",
      "[I 2023-11-01 16:54:11,942] Trial 0 finished with value: 0.8064516129032258 and parameters: {'eta': 0.0336224911356179, 'max_depth': 3, 'subsample': 0.8430015203916474}. Best is trial 0 with value: 0.8064516129032258.\n",
      "C:\\Users\\MSYUN\\AppData\\Local\\Temp\\ipykernel_7240\\1489621800.py:9: FutureWarning: suggest_uniform has been deprecated in v3.0.0. This feature will be removed in v6.0.0. See https://github.com/optuna/optuna/releases/tag/v3.0.0. Use suggest_float instead.\n",
      "  params = {'eta' : trial.suggest_uniform('eta', 0.0001, 0.1),\n",
      "C:\\Users\\MSYUN\\AppData\\Local\\Temp\\ipykernel_7240\\1489621800.py:11: FutureWarning: suggest_uniform has been deprecated in v3.0.0. This feature will be removed in v6.0.0. See https://github.com/optuna/optuna/releases/tag/v3.0.0. Use suggest_float instead.\n",
      "  'subsample': trial.suggest_uniform('subsample', 0.5, 0.9)\n",
      "C:\\Users\\MSYUN\\Desktop\\ml_optuna_mlflow\\venv\\lib\\site-packages\\xgboost\\data.py:335: FutureWarning: is_sparse is deprecated and will be removed in a future version. Check `isinstance(dtype, pd.SparseDtype)` instead.\n",
      "  if is_sparse(dtype):\n",
      "C:\\Users\\MSYUN\\Desktop\\ml_optuna_mlflow\\venv\\lib\\site-packages\\xgboost\\data.py:338: FutureWarning: is_categorical_dtype is deprecated and will be removed in a future version. Use isinstance(dtype, CategoricalDtype) instead\n",
      "  is_categorical_dtype(dtype) or is_pa_ext_categorical_dtype(dtype)\n",
      "C:\\Users\\MSYUN\\Desktop\\ml_optuna_mlflow\\venv\\lib\\site-packages\\xgboost\\data.py:384: FutureWarning: is_categorical_dtype is deprecated and will be removed in a future version. Use isinstance(dtype, CategoricalDtype) instead\n",
      "  if is_categorical_dtype(dtype):\n",
      "C:\\Users\\MSYUN\\Desktop\\ml_optuna_mlflow\\venv\\lib\\site-packages\\xgboost\\data.py:359: FutureWarning: is_categorical_dtype is deprecated and will be removed in a future version. Use isinstance(dtype, CategoricalDtype) instead\n",
      "  return is_int or is_bool or is_float or is_categorical_dtype(dtype)\n",
      "C:\\Users\\MSYUN\\Desktop\\ml_optuna_mlflow\\venv\\lib\\site-packages\\xgboost\\data.py:335: FutureWarning: is_sparse is deprecated and will be removed in a future version. Check `isinstance(dtype, pd.SparseDtype)` instead.\n",
      "  if is_sparse(dtype):\n",
      "C:\\Users\\MSYUN\\Desktop\\ml_optuna_mlflow\\venv\\lib\\site-packages\\xgboost\\data.py:338: FutureWarning: is_categorical_dtype is deprecated and will be removed in a future version. Use isinstance(dtype, CategoricalDtype) instead\n",
      "  is_categorical_dtype(dtype) or is_pa_ext_categorical_dtype(dtype)\n",
      "C:\\Users\\MSYUN\\Desktop\\ml_optuna_mlflow\\venv\\lib\\site-packages\\xgboost\\data.py:384: FutureWarning: is_categorical_dtype is deprecated and will be removed in a future version. Use isinstance(dtype, CategoricalDtype) instead\n",
      "  if is_categorical_dtype(dtype):\n",
      "C:\\Users\\MSYUN\\Desktop\\ml_optuna_mlflow\\venv\\lib\\site-packages\\xgboost\\data.py:359: FutureWarning: is_categorical_dtype is deprecated and will be removed in a future version. Use isinstance(dtype, CategoricalDtype) instead\n",
      "  return is_int or is_bool or is_float or is_categorical_dtype(dtype)\n",
      "C:\\Users\\MSYUN\\Desktop\\ml_optuna_mlflow\\venv\\lib\\site-packages\\xgboost\\core.py:160: UserWarning: [16:54:12] WARNING: C:\\buildkite-agent\\builds\\buildkite-windows-cpu-autoscaling-group-i-0cec3277c4d9d0165-1\\xgboost\\xgboost-ci-windows\\src\\c_api\\c_api.cc:1240: Saving into deprecated binary model format, please consider using `json` or `ubj`. Model format will default to JSON in XGBoost 2.2 if not specified.\n",
      "  warnings.warn(smsg, UserWarning)\n",
      "C:\\Users\\MSYUN\\Desktop\\ml_optuna_mlflow\\venv\\lib\\site-packages\\_distutils_hack\\__init__.py:18: UserWarning: Distutils was imported before Setuptools, but importing Setuptools also replaces the `distutils` module in `sys.modules`. This may lead to undesirable behaviors or errors. To avoid these issues, avoid using distutils directly, ensure that setuptools is installed in the traditional way (e.g. not an editable install), and/or make sure that setuptools is always imported before distutils.\n",
      "  warnings.warn(\n",
      "C:\\Users\\MSYUN\\Desktop\\ml_optuna_mlflow\\venv\\lib\\site-packages\\_distutils_hack\\__init__.py:33: UserWarning: Setuptools is replacing distutils.\n",
      "  warnings.warn(\"Setuptools is replacing distutils.\")\n",
      "[I 2023-11-01 16:54:17,495] Trial 1 finished with value: 0.782258064516129 and parameters: {'eta': 0.031702275034241195, 'max_depth': 6, 'subsample': 0.5657961488644683}. Best is trial 0 with value: 0.8064516129032258.\n",
      "C:\\Users\\MSYUN\\AppData\\Local\\Temp\\ipykernel_7240\\1489621800.py:9: FutureWarning: suggest_uniform has been deprecated in v3.0.0. This feature will be removed in v6.0.0. See https://github.com/optuna/optuna/releases/tag/v3.0.0. Use suggest_float instead.\n",
      "  params = {'eta' : trial.suggest_uniform('eta', 0.0001, 0.1),\n",
      "C:\\Users\\MSYUN\\AppData\\Local\\Temp\\ipykernel_7240\\1489621800.py:11: FutureWarning: suggest_uniform has been deprecated in v3.0.0. This feature will be removed in v6.0.0. See https://github.com/optuna/optuna/releases/tag/v3.0.0. Use suggest_float instead.\n",
      "  'subsample': trial.suggest_uniform('subsample', 0.5, 0.9)\n",
      "C:\\Users\\MSYUN\\Desktop\\ml_optuna_mlflow\\venv\\lib\\site-packages\\xgboost\\data.py:335: FutureWarning: is_sparse is deprecated and will be removed in a future version. Check `isinstance(dtype, pd.SparseDtype)` instead.\n",
      "  if is_sparse(dtype):\n",
      "C:\\Users\\MSYUN\\Desktop\\ml_optuna_mlflow\\venv\\lib\\site-packages\\xgboost\\data.py:338: FutureWarning: is_categorical_dtype is deprecated and will be removed in a future version. Use isinstance(dtype, CategoricalDtype) instead\n",
      "  is_categorical_dtype(dtype) or is_pa_ext_categorical_dtype(dtype)\n",
      "C:\\Users\\MSYUN\\Desktop\\ml_optuna_mlflow\\venv\\lib\\site-packages\\xgboost\\data.py:384: FutureWarning: is_categorical_dtype is deprecated and will be removed in a future version. Use isinstance(dtype, CategoricalDtype) instead\n",
      "  if is_categorical_dtype(dtype):\n",
      "C:\\Users\\MSYUN\\Desktop\\ml_optuna_mlflow\\venv\\lib\\site-packages\\xgboost\\data.py:359: FutureWarning: is_categorical_dtype is deprecated and will be removed in a future version. Use isinstance(dtype, CategoricalDtype) instead\n",
      "  return is_int or is_bool or is_float or is_categorical_dtype(dtype)\n",
      "C:\\Users\\MSYUN\\Desktop\\ml_optuna_mlflow\\venv\\lib\\site-packages\\xgboost\\data.py:335: FutureWarning: is_sparse is deprecated and will be removed in a future version. Check `isinstance(dtype, pd.SparseDtype)` instead.\n",
      "  if is_sparse(dtype):\n",
      "C:\\Users\\MSYUN\\Desktop\\ml_optuna_mlflow\\venv\\lib\\site-packages\\xgboost\\data.py:338: FutureWarning: is_categorical_dtype is deprecated and will be removed in a future version. Use isinstance(dtype, CategoricalDtype) instead\n",
      "  is_categorical_dtype(dtype) or is_pa_ext_categorical_dtype(dtype)\n",
      "C:\\Users\\MSYUN\\Desktop\\ml_optuna_mlflow\\venv\\lib\\site-packages\\xgboost\\data.py:384: FutureWarning: is_categorical_dtype is deprecated and will be removed in a future version. Use isinstance(dtype, CategoricalDtype) instead\n",
      "  if is_categorical_dtype(dtype):\n",
      "C:\\Users\\MSYUN\\Desktop\\ml_optuna_mlflow\\venv\\lib\\site-packages\\xgboost\\data.py:359: FutureWarning: is_categorical_dtype is deprecated and will be removed in a future version. Use isinstance(dtype, CategoricalDtype) instead\n",
      "  return is_int or is_bool or is_float or is_categorical_dtype(dtype)\n",
      "C:\\Users\\MSYUN\\Desktop\\ml_optuna_mlflow\\venv\\lib\\site-packages\\xgboost\\core.py:160: UserWarning: [16:54:17] WARNING: C:\\buildkite-agent\\builds\\buildkite-windows-cpu-autoscaling-group-i-0cec3277c4d9d0165-1\\xgboost\\xgboost-ci-windows\\src\\c_api\\c_api.cc:1240: Saving into deprecated binary model format, please consider using `json` or `ubj`. Model format will default to JSON in XGBoost 2.2 if not specified.\n",
      "  warnings.warn(smsg, UserWarning)\n",
      "C:\\Users\\MSYUN\\Desktop\\ml_optuna_mlflow\\venv\\lib\\site-packages\\_distutils_hack\\__init__.py:18: UserWarning: Distutils was imported before Setuptools, but importing Setuptools also replaces the `distutils` module in `sys.modules`. This may lead to undesirable behaviors or errors. To avoid these issues, avoid using distutils directly, ensure that setuptools is installed in the traditional way (e.g. not an editable install), and/or make sure that setuptools is always imported before distutils.\n",
      "  warnings.warn(\n",
      "C:\\Users\\MSYUN\\Desktop\\ml_optuna_mlflow\\venv\\lib\\site-packages\\_distutils_hack\\__init__.py:33: UserWarning: Setuptools is replacing distutils.\n",
      "  warnings.warn(\"Setuptools is replacing distutils.\")\n",
      "[I 2023-11-01 16:54:22,880] Trial 2 finished with value: 0.7903225806451613 and parameters: {'eta': 0.04796175966875581, 'max_depth': 5, 'subsample': 0.7766178389634418}. Best is trial 0 with value: 0.8064516129032258.\n",
      "C:\\Users\\MSYUN\\AppData\\Local\\Temp\\ipykernel_7240\\1489621800.py:9: FutureWarning: suggest_uniform has been deprecated in v3.0.0. This feature will be removed in v6.0.0. See https://github.com/optuna/optuna/releases/tag/v3.0.0. Use suggest_float instead.\n",
      "  params = {'eta' : trial.suggest_uniform('eta', 0.0001, 0.1),\n",
      "C:\\Users\\MSYUN\\AppData\\Local\\Temp\\ipykernel_7240\\1489621800.py:11: FutureWarning: suggest_uniform has been deprecated in v3.0.0. This feature will be removed in v6.0.0. See https://github.com/optuna/optuna/releases/tag/v3.0.0. Use suggest_float instead.\n",
      "  'subsample': trial.suggest_uniform('subsample', 0.5, 0.9)\n",
      "C:\\Users\\MSYUN\\Desktop\\ml_optuna_mlflow\\venv\\lib\\site-packages\\xgboost\\data.py:335: FutureWarning: is_sparse is deprecated and will be removed in a future version. Check `isinstance(dtype, pd.SparseDtype)` instead.\n",
      "  if is_sparse(dtype):\n",
      "C:\\Users\\MSYUN\\Desktop\\ml_optuna_mlflow\\venv\\lib\\site-packages\\xgboost\\data.py:338: FutureWarning: is_categorical_dtype is deprecated and will be removed in a future version. Use isinstance(dtype, CategoricalDtype) instead\n",
      "  is_categorical_dtype(dtype) or is_pa_ext_categorical_dtype(dtype)\n",
      "C:\\Users\\MSYUN\\Desktop\\ml_optuna_mlflow\\venv\\lib\\site-packages\\xgboost\\data.py:384: FutureWarning: is_categorical_dtype is deprecated and will be removed in a future version. Use isinstance(dtype, CategoricalDtype) instead\n",
      "  if is_categorical_dtype(dtype):\n",
      "C:\\Users\\MSYUN\\Desktop\\ml_optuna_mlflow\\venv\\lib\\site-packages\\xgboost\\data.py:359: FutureWarning: is_categorical_dtype is deprecated and will be removed in a future version. Use isinstance(dtype, CategoricalDtype) instead\n",
      "  return is_int or is_bool or is_float or is_categorical_dtype(dtype)\n",
      "C:\\Users\\MSYUN\\Desktop\\ml_optuna_mlflow\\venv\\lib\\site-packages\\xgboost\\data.py:335: FutureWarning: is_sparse is deprecated and will be removed in a future version. Check `isinstance(dtype, pd.SparseDtype)` instead.\n",
      "  if is_sparse(dtype):\n",
      "C:\\Users\\MSYUN\\Desktop\\ml_optuna_mlflow\\venv\\lib\\site-packages\\xgboost\\data.py:338: FutureWarning: is_categorical_dtype is deprecated and will be removed in a future version. Use isinstance(dtype, CategoricalDtype) instead\n",
      "  is_categorical_dtype(dtype) or is_pa_ext_categorical_dtype(dtype)\n",
      "C:\\Users\\MSYUN\\Desktop\\ml_optuna_mlflow\\venv\\lib\\site-packages\\xgboost\\data.py:384: FutureWarning: is_categorical_dtype is deprecated and will be removed in a future version. Use isinstance(dtype, CategoricalDtype) instead\n",
      "  if is_categorical_dtype(dtype):\n",
      "C:\\Users\\MSYUN\\Desktop\\ml_optuna_mlflow\\venv\\lib\\site-packages\\xgboost\\data.py:359: FutureWarning: is_categorical_dtype is deprecated and will be removed in a future version. Use isinstance(dtype, CategoricalDtype) instead\n",
      "  return is_int or is_bool or is_float or is_categorical_dtype(dtype)\n",
      "C:\\Users\\MSYUN\\Desktop\\ml_optuna_mlflow\\venv\\lib\\site-packages\\xgboost\\core.py:160: UserWarning: [16:54:23] WARNING: C:\\buildkite-agent\\builds\\buildkite-windows-cpu-autoscaling-group-i-0cec3277c4d9d0165-1\\xgboost\\xgboost-ci-windows\\src\\c_api\\c_api.cc:1240: Saving into deprecated binary model format, please consider using `json` or `ubj`. Model format will default to JSON in XGBoost 2.2 if not specified.\n",
      "  warnings.warn(smsg, UserWarning)\n",
      "C:\\Users\\MSYUN\\Desktop\\ml_optuna_mlflow\\venv\\lib\\site-packages\\_distutils_hack\\__init__.py:18: UserWarning: Distutils was imported before Setuptools, but importing Setuptools also replaces the `distutils` module in `sys.modules`. This may lead to undesirable behaviors or errors. To avoid these issues, avoid using distutils directly, ensure that setuptools is installed in the traditional way (e.g. not an editable install), and/or make sure that setuptools is always imported before distutils.\n",
      "  warnings.warn(\n",
      "C:\\Users\\MSYUN\\Desktop\\ml_optuna_mlflow\\venv\\lib\\site-packages\\_distutils_hack\\__init__.py:33: UserWarning: Setuptools is replacing distutils.\n",
      "  warnings.warn(\"Setuptools is replacing distutils.\")\n",
      "[I 2023-11-01 16:54:28,098] Trial 3 finished with value: 0.7983870967741935 and parameters: {'eta': 0.025946445056177672, 'max_depth': 6, 'subsample': 0.7006236724788578}. Best is trial 0 with value: 0.8064516129032258.\n",
      "C:\\Users\\MSYUN\\AppData\\Local\\Temp\\ipykernel_7240\\1489621800.py:9: FutureWarning: suggest_uniform has been deprecated in v3.0.0. This feature will be removed in v6.0.0. See https://github.com/optuna/optuna/releases/tag/v3.0.0. Use suggest_float instead.\n",
      "  params = {'eta' : trial.suggest_uniform('eta', 0.0001, 0.1),\n",
      "C:\\Users\\MSYUN\\AppData\\Local\\Temp\\ipykernel_7240\\1489621800.py:11: FutureWarning: suggest_uniform has been deprecated in v3.0.0. This feature will be removed in v6.0.0. See https://github.com/optuna/optuna/releases/tag/v3.0.0. Use suggest_float instead.\n",
      "  'subsample': trial.suggest_uniform('subsample', 0.5, 0.9)\n",
      "C:\\Users\\MSYUN\\Desktop\\ml_optuna_mlflow\\venv\\lib\\site-packages\\xgboost\\data.py:335: FutureWarning: is_sparse is deprecated and will be removed in a future version. Check `isinstance(dtype, pd.SparseDtype)` instead.\n",
      "  if is_sparse(dtype):\n",
      "C:\\Users\\MSYUN\\Desktop\\ml_optuna_mlflow\\venv\\lib\\site-packages\\xgboost\\data.py:338: FutureWarning: is_categorical_dtype is deprecated and will be removed in a future version. Use isinstance(dtype, CategoricalDtype) instead\n",
      "  is_categorical_dtype(dtype) or is_pa_ext_categorical_dtype(dtype)\n",
      "C:\\Users\\MSYUN\\Desktop\\ml_optuna_mlflow\\venv\\lib\\site-packages\\xgboost\\data.py:384: FutureWarning: is_categorical_dtype is deprecated and will be removed in a future version. Use isinstance(dtype, CategoricalDtype) instead\n",
      "  if is_categorical_dtype(dtype):\n",
      "C:\\Users\\MSYUN\\Desktop\\ml_optuna_mlflow\\venv\\lib\\site-packages\\xgboost\\data.py:359: FutureWarning: is_categorical_dtype is deprecated and will be removed in a future version. Use isinstance(dtype, CategoricalDtype) instead\n",
      "  return is_int or is_bool or is_float or is_categorical_dtype(dtype)\n",
      "C:\\Users\\MSYUN\\Desktop\\ml_optuna_mlflow\\venv\\lib\\site-packages\\xgboost\\data.py:335: FutureWarning: is_sparse is deprecated and will be removed in a future version. Check `isinstance(dtype, pd.SparseDtype)` instead.\n",
      "  if is_sparse(dtype):\n",
      "C:\\Users\\MSYUN\\Desktop\\ml_optuna_mlflow\\venv\\lib\\site-packages\\xgboost\\data.py:338: FutureWarning: is_categorical_dtype is deprecated and will be removed in a future version. Use isinstance(dtype, CategoricalDtype) instead\n",
      "  is_categorical_dtype(dtype) or is_pa_ext_categorical_dtype(dtype)\n",
      "C:\\Users\\MSYUN\\Desktop\\ml_optuna_mlflow\\venv\\lib\\site-packages\\xgboost\\data.py:384: FutureWarning: is_categorical_dtype is deprecated and will be removed in a future version. Use isinstance(dtype, CategoricalDtype) instead\n",
      "  if is_categorical_dtype(dtype):\n",
      "C:\\Users\\MSYUN\\Desktop\\ml_optuna_mlflow\\venv\\lib\\site-packages\\xgboost\\data.py:359: FutureWarning: is_categorical_dtype is deprecated and will be removed in a future version. Use isinstance(dtype, CategoricalDtype) instead\n",
      "  return is_int or is_bool or is_float or is_categorical_dtype(dtype)\n",
      "C:\\Users\\MSYUN\\Desktop\\ml_optuna_mlflow\\venv\\lib\\site-packages\\xgboost\\core.py:160: UserWarning: [16:54:28] WARNING: C:\\buildkite-agent\\builds\\buildkite-windows-cpu-autoscaling-group-i-0cec3277c4d9d0165-1\\xgboost\\xgboost-ci-windows\\src\\c_api\\c_api.cc:1240: Saving into deprecated binary model format, please consider using `json` or `ubj`. Model format will default to JSON in XGBoost 2.2 if not specified.\n",
      "  warnings.warn(smsg, UserWarning)\n",
      "C:\\Users\\MSYUN\\Desktop\\ml_optuna_mlflow\\venv\\lib\\site-packages\\_distutils_hack\\__init__.py:18: UserWarning: Distutils was imported before Setuptools, but importing Setuptools also replaces the `distutils` module in `sys.modules`. This may lead to undesirable behaviors or errors. To avoid these issues, avoid using distutils directly, ensure that setuptools is installed in the traditional way (e.g. not an editable install), and/or make sure that setuptools is always imported before distutils.\n",
      "  warnings.warn(\n",
      "C:\\Users\\MSYUN\\Desktop\\ml_optuna_mlflow\\venv\\lib\\site-packages\\_distutils_hack\\__init__.py:33: UserWarning: Setuptools is replacing distutils.\n",
      "  warnings.warn(\"Setuptools is replacing distutils.\")\n",
      "[I 2023-11-01 16:54:33,842] Trial 4 finished with value: 0.8145161290322581 and parameters: {'eta': 0.0651310130887317, 'max_depth': 7, 'subsample': 0.6935475376919917}. Best is trial 4 with value: 0.8145161290322581.\n",
      "C:\\Users\\MSYUN\\AppData\\Local\\Temp\\ipykernel_7240\\1489621800.py:9: FutureWarning: suggest_uniform has been deprecated in v3.0.0. This feature will be removed in v6.0.0. See https://github.com/optuna/optuna/releases/tag/v3.0.0. Use suggest_float instead.\n",
      "  params = {'eta' : trial.suggest_uniform('eta', 0.0001, 0.1),\n",
      "C:\\Users\\MSYUN\\AppData\\Local\\Temp\\ipykernel_7240\\1489621800.py:11: FutureWarning: suggest_uniform has been deprecated in v3.0.0. This feature will be removed in v6.0.0. See https://github.com/optuna/optuna/releases/tag/v3.0.0. Use suggest_float instead.\n",
      "  'subsample': trial.suggest_uniform('subsample', 0.5, 0.9)\n",
      "C:\\Users\\MSYUN\\Desktop\\ml_optuna_mlflow\\venv\\lib\\site-packages\\xgboost\\data.py:335: FutureWarning: is_sparse is deprecated and will be removed in a future version. Check `isinstance(dtype, pd.SparseDtype)` instead.\n",
      "  if is_sparse(dtype):\n",
      "C:\\Users\\MSYUN\\Desktop\\ml_optuna_mlflow\\venv\\lib\\site-packages\\xgboost\\data.py:338: FutureWarning: is_categorical_dtype is deprecated and will be removed in a future version. Use isinstance(dtype, CategoricalDtype) instead\n",
      "  is_categorical_dtype(dtype) or is_pa_ext_categorical_dtype(dtype)\n",
      "C:\\Users\\MSYUN\\Desktop\\ml_optuna_mlflow\\venv\\lib\\site-packages\\xgboost\\data.py:384: FutureWarning: is_categorical_dtype is deprecated and will be removed in a future version. Use isinstance(dtype, CategoricalDtype) instead\n",
      "  if is_categorical_dtype(dtype):\n",
      "C:\\Users\\MSYUN\\Desktop\\ml_optuna_mlflow\\venv\\lib\\site-packages\\xgboost\\data.py:359: FutureWarning: is_categorical_dtype is deprecated and will be removed in a future version. Use isinstance(dtype, CategoricalDtype) instead\n",
      "  return is_int or is_bool or is_float or is_categorical_dtype(dtype)\n",
      "C:\\Users\\MSYUN\\Desktop\\ml_optuna_mlflow\\venv\\lib\\site-packages\\xgboost\\data.py:335: FutureWarning: is_sparse is deprecated and will be removed in a future version. Check `isinstance(dtype, pd.SparseDtype)` instead.\n",
      "  if is_sparse(dtype):\n",
      "C:\\Users\\MSYUN\\Desktop\\ml_optuna_mlflow\\venv\\lib\\site-packages\\xgboost\\data.py:338: FutureWarning: is_categorical_dtype is deprecated and will be removed in a future version. Use isinstance(dtype, CategoricalDtype) instead\n",
      "  is_categorical_dtype(dtype) or is_pa_ext_categorical_dtype(dtype)\n",
      "C:\\Users\\MSYUN\\Desktop\\ml_optuna_mlflow\\venv\\lib\\site-packages\\xgboost\\data.py:384: FutureWarning: is_categorical_dtype is deprecated and will be removed in a future version. Use isinstance(dtype, CategoricalDtype) instead\n",
      "  if is_categorical_dtype(dtype):\n",
      "C:\\Users\\MSYUN\\Desktop\\ml_optuna_mlflow\\venv\\lib\\site-packages\\xgboost\\data.py:359: FutureWarning: is_categorical_dtype is deprecated and will be removed in a future version. Use isinstance(dtype, CategoricalDtype) instead\n",
      "  return is_int or is_bool or is_float or is_categorical_dtype(dtype)\n",
      "C:\\Users\\MSYUN\\Desktop\\ml_optuna_mlflow\\venv\\lib\\site-packages\\xgboost\\core.py:160: UserWarning: [16:54:34] WARNING: C:\\buildkite-agent\\builds\\buildkite-windows-cpu-autoscaling-group-i-0cec3277c4d9d0165-1\\xgboost\\xgboost-ci-windows\\src\\c_api\\c_api.cc:1240: Saving into deprecated binary model format, please consider using `json` or `ubj`. Model format will default to JSON in XGBoost 2.2 if not specified.\n",
      "  warnings.warn(smsg, UserWarning)\n",
      "C:\\Users\\MSYUN\\Desktop\\ml_optuna_mlflow\\venv\\lib\\site-packages\\_distutils_hack\\__init__.py:18: UserWarning: Distutils was imported before Setuptools, but importing Setuptools also replaces the `distutils` module in `sys.modules`. This may lead to undesirable behaviors or errors. To avoid these issues, avoid using distutils directly, ensure that setuptools is installed in the traditional way (e.g. not an editable install), and/or make sure that setuptools is always imported before distutils.\n",
      "  warnings.warn(\n",
      "C:\\Users\\MSYUN\\Desktop\\ml_optuna_mlflow\\venv\\lib\\site-packages\\_distutils_hack\\__init__.py:33: UserWarning: Setuptools is replacing distutils.\n",
      "  warnings.warn(\"Setuptools is replacing distutils.\")\n",
      "[I 2023-11-01 16:54:41,336] Trial 5 finished with value: 0.8145161290322581 and parameters: {'eta': 0.08963477749683961, 'max_depth': 2, 'subsample': 0.6323584521306201}. Best is trial 4 with value: 0.8145161290322581.\n",
      "C:\\Users\\MSYUN\\AppData\\Local\\Temp\\ipykernel_7240\\1489621800.py:9: FutureWarning: suggest_uniform has been deprecated in v3.0.0. This feature will be removed in v6.0.0. See https://github.com/optuna/optuna/releases/tag/v3.0.0. Use suggest_float instead.\n",
      "  params = {'eta' : trial.suggest_uniform('eta', 0.0001, 0.1),\n",
      "C:\\Users\\MSYUN\\AppData\\Local\\Temp\\ipykernel_7240\\1489621800.py:11: FutureWarning: suggest_uniform has been deprecated in v3.0.0. This feature will be removed in v6.0.0. See https://github.com/optuna/optuna/releases/tag/v3.0.0. Use suggest_float instead.\n",
      "  'subsample': trial.suggest_uniform('subsample', 0.5, 0.9)\n",
      "C:\\Users\\MSYUN\\Desktop\\ml_optuna_mlflow\\venv\\lib\\site-packages\\xgboost\\data.py:335: FutureWarning: is_sparse is deprecated and will be removed in a future version. Check `isinstance(dtype, pd.SparseDtype)` instead.\n",
      "  if is_sparse(dtype):\n",
      "C:\\Users\\MSYUN\\Desktop\\ml_optuna_mlflow\\venv\\lib\\site-packages\\xgboost\\data.py:338: FutureWarning: is_categorical_dtype is deprecated and will be removed in a future version. Use isinstance(dtype, CategoricalDtype) instead\n",
      "  is_categorical_dtype(dtype) or is_pa_ext_categorical_dtype(dtype)\n",
      "C:\\Users\\MSYUN\\Desktop\\ml_optuna_mlflow\\venv\\lib\\site-packages\\xgboost\\data.py:384: FutureWarning: is_categorical_dtype is deprecated and will be removed in a future version. Use isinstance(dtype, CategoricalDtype) instead\n",
      "  if is_categorical_dtype(dtype):\n",
      "C:\\Users\\MSYUN\\Desktop\\ml_optuna_mlflow\\venv\\lib\\site-packages\\xgboost\\data.py:359: FutureWarning: is_categorical_dtype is deprecated and will be removed in a future version. Use isinstance(dtype, CategoricalDtype) instead\n",
      "  return is_int or is_bool or is_float or is_categorical_dtype(dtype)\n",
      "C:\\Users\\MSYUN\\Desktop\\ml_optuna_mlflow\\venv\\lib\\site-packages\\xgboost\\data.py:335: FutureWarning: is_sparse is deprecated and will be removed in a future version. Check `isinstance(dtype, pd.SparseDtype)` instead.\n",
      "  if is_sparse(dtype):\n",
      "C:\\Users\\MSYUN\\Desktop\\ml_optuna_mlflow\\venv\\lib\\site-packages\\xgboost\\data.py:338: FutureWarning: is_categorical_dtype is deprecated and will be removed in a future version. Use isinstance(dtype, CategoricalDtype) instead\n",
      "  is_categorical_dtype(dtype) or is_pa_ext_categorical_dtype(dtype)\n",
      "C:\\Users\\MSYUN\\Desktop\\ml_optuna_mlflow\\venv\\lib\\site-packages\\xgboost\\data.py:384: FutureWarning: is_categorical_dtype is deprecated and will be removed in a future version. Use isinstance(dtype, CategoricalDtype) instead\n",
      "  if is_categorical_dtype(dtype):\n",
      "C:\\Users\\MSYUN\\Desktop\\ml_optuna_mlflow\\venv\\lib\\site-packages\\xgboost\\data.py:359: FutureWarning: is_categorical_dtype is deprecated and will be removed in a future version. Use isinstance(dtype, CategoricalDtype) instead\n",
      "  return is_int or is_bool or is_float or is_categorical_dtype(dtype)\n",
      "C:\\Users\\MSYUN\\Desktop\\ml_optuna_mlflow\\venv\\lib\\site-packages\\xgboost\\core.py:160: UserWarning: [16:54:41] WARNING: C:\\buildkite-agent\\builds\\buildkite-windows-cpu-autoscaling-group-i-0cec3277c4d9d0165-1\\xgboost\\xgboost-ci-windows\\src\\c_api\\c_api.cc:1240: Saving into deprecated binary model format, please consider using `json` or `ubj`. Model format will default to JSON in XGBoost 2.2 if not specified.\n",
      "  warnings.warn(smsg, UserWarning)\n",
      "C:\\Users\\MSYUN\\Desktop\\ml_optuna_mlflow\\venv\\lib\\site-packages\\_distutils_hack\\__init__.py:18: UserWarning: Distutils was imported before Setuptools, but importing Setuptools also replaces the `distutils` module in `sys.modules`. This may lead to undesirable behaviors or errors. To avoid these issues, avoid using distutils directly, ensure that setuptools is installed in the traditional way (e.g. not an editable install), and/or make sure that setuptools is always imported before distutils.\n",
      "  warnings.warn(\n",
      "C:\\Users\\MSYUN\\Desktop\\ml_optuna_mlflow\\venv\\lib\\site-packages\\_distutils_hack\\__init__.py:33: UserWarning: Setuptools is replacing distutils.\n",
      "  warnings.warn(\"Setuptools is replacing distutils.\")\n",
      "[I 2023-11-01 16:54:47,345] Trial 6 finished with value: 0.782258064516129 and parameters: {'eta': 0.045556904529963936, 'max_depth': 7, 'subsample': 0.6106177883938367}. Best is trial 4 with value: 0.8145161290322581.\n",
      "C:\\Users\\MSYUN\\AppData\\Local\\Temp\\ipykernel_7240\\1489621800.py:9: FutureWarning: suggest_uniform has been deprecated in v3.0.0. This feature will be removed in v6.0.0. See https://github.com/optuna/optuna/releases/tag/v3.0.0. Use suggest_float instead.\n",
      "  params = {'eta' : trial.suggest_uniform('eta', 0.0001, 0.1),\n",
      "C:\\Users\\MSYUN\\AppData\\Local\\Temp\\ipykernel_7240\\1489621800.py:11: FutureWarning: suggest_uniform has been deprecated in v3.0.0. This feature will be removed in v6.0.0. See https://github.com/optuna/optuna/releases/tag/v3.0.0. Use suggest_float instead.\n",
      "  'subsample': trial.suggest_uniform('subsample', 0.5, 0.9)\n",
      "C:\\Users\\MSYUN\\Desktop\\ml_optuna_mlflow\\venv\\lib\\site-packages\\xgboost\\data.py:335: FutureWarning: is_sparse is deprecated and will be removed in a future version. Check `isinstance(dtype, pd.SparseDtype)` instead.\n",
      "  if is_sparse(dtype):\n",
      "C:\\Users\\MSYUN\\Desktop\\ml_optuna_mlflow\\venv\\lib\\site-packages\\xgboost\\data.py:338: FutureWarning: is_categorical_dtype is deprecated and will be removed in a future version. Use isinstance(dtype, CategoricalDtype) instead\n",
      "  is_categorical_dtype(dtype) or is_pa_ext_categorical_dtype(dtype)\n",
      "C:\\Users\\MSYUN\\Desktop\\ml_optuna_mlflow\\venv\\lib\\site-packages\\xgboost\\data.py:384: FutureWarning: is_categorical_dtype is deprecated and will be removed in a future version. Use isinstance(dtype, CategoricalDtype) instead\n",
      "  if is_categorical_dtype(dtype):\n",
      "C:\\Users\\MSYUN\\Desktop\\ml_optuna_mlflow\\venv\\lib\\site-packages\\xgboost\\data.py:359: FutureWarning: is_categorical_dtype is deprecated and will be removed in a future version. Use isinstance(dtype, CategoricalDtype) instead\n",
      "  return is_int or is_bool or is_float or is_categorical_dtype(dtype)\n",
      "C:\\Users\\MSYUN\\Desktop\\ml_optuna_mlflow\\venv\\lib\\site-packages\\xgboost\\data.py:335: FutureWarning: is_sparse is deprecated and will be removed in a future version. Check `isinstance(dtype, pd.SparseDtype)` instead.\n",
      "  if is_sparse(dtype):\n",
      "C:\\Users\\MSYUN\\Desktop\\ml_optuna_mlflow\\venv\\lib\\site-packages\\xgboost\\data.py:338: FutureWarning: is_categorical_dtype is deprecated and will be removed in a future version. Use isinstance(dtype, CategoricalDtype) instead\n",
      "  is_categorical_dtype(dtype) or is_pa_ext_categorical_dtype(dtype)\n",
      "C:\\Users\\MSYUN\\Desktop\\ml_optuna_mlflow\\venv\\lib\\site-packages\\xgboost\\data.py:384: FutureWarning: is_categorical_dtype is deprecated and will be removed in a future version. Use isinstance(dtype, CategoricalDtype) instead\n",
      "  if is_categorical_dtype(dtype):\n",
      "C:\\Users\\MSYUN\\Desktop\\ml_optuna_mlflow\\venv\\lib\\site-packages\\xgboost\\data.py:359: FutureWarning: is_categorical_dtype is deprecated and will be removed in a future version. Use isinstance(dtype, CategoricalDtype) instead\n",
      "  return is_int or is_bool or is_float or is_categorical_dtype(dtype)\n",
      "C:\\Users\\MSYUN\\Desktop\\ml_optuna_mlflow\\venv\\lib\\site-packages\\xgboost\\core.py:160: UserWarning: [16:54:49] WARNING: C:\\buildkite-agent\\builds\\buildkite-windows-cpu-autoscaling-group-i-0cec3277c4d9d0165-1\\xgboost\\xgboost-ci-windows\\src\\c_api\\c_api.cc:1240: Saving into deprecated binary model format, please consider using `json` or `ubj`. Model format will default to JSON in XGBoost 2.2 if not specified.\n",
      "  warnings.warn(smsg, UserWarning)\n",
      "C:\\Users\\MSYUN\\Desktop\\ml_optuna_mlflow\\venv\\lib\\site-packages\\_distutils_hack\\__init__.py:18: UserWarning: Distutils was imported before Setuptools, but importing Setuptools also replaces the `distutils` module in `sys.modules`. This may lead to undesirable behaviors or errors. To avoid these issues, avoid using distutils directly, ensure that setuptools is installed in the traditional way (e.g. not an editable install), and/or make sure that setuptools is always imported before distutils.\n",
      "  warnings.warn(\n",
      "C:\\Users\\MSYUN\\Desktop\\ml_optuna_mlflow\\venv\\lib\\site-packages\\_distutils_hack\\__init__.py:33: UserWarning: Setuptools is replacing distutils.\n",
      "  warnings.warn(\"Setuptools is replacing distutils.\")\n",
      "[I 2023-11-01 16:54:56,449] Trial 7 finished with value: 0.782258064516129 and parameters: {'eta': 0.026661923113697795, 'max_depth': 9, 'subsample': 0.7400119536427272}. Best is trial 4 with value: 0.8145161290322581.\n",
      "C:\\Users\\MSYUN\\AppData\\Local\\Temp\\ipykernel_7240\\1489621800.py:9: FutureWarning: suggest_uniform has been deprecated in v3.0.0. This feature will be removed in v6.0.0. See https://github.com/optuna/optuna/releases/tag/v3.0.0. Use suggest_float instead.\n",
      "  params = {'eta' : trial.suggest_uniform('eta', 0.0001, 0.1),\n",
      "C:\\Users\\MSYUN\\AppData\\Local\\Temp\\ipykernel_7240\\1489621800.py:11: FutureWarning: suggest_uniform has been deprecated in v3.0.0. This feature will be removed in v6.0.0. See https://github.com/optuna/optuna/releases/tag/v3.0.0. Use suggest_float instead.\n",
      "  'subsample': trial.suggest_uniform('subsample', 0.5, 0.9)\n",
      "C:\\Users\\MSYUN\\Desktop\\ml_optuna_mlflow\\venv\\lib\\site-packages\\xgboost\\data.py:335: FutureWarning: is_sparse is deprecated and will be removed in a future version. Check `isinstance(dtype, pd.SparseDtype)` instead.\n",
      "  if is_sparse(dtype):\n",
      "C:\\Users\\MSYUN\\Desktop\\ml_optuna_mlflow\\venv\\lib\\site-packages\\xgboost\\data.py:338: FutureWarning: is_categorical_dtype is deprecated and will be removed in a future version. Use isinstance(dtype, CategoricalDtype) instead\n",
      "  is_categorical_dtype(dtype) or is_pa_ext_categorical_dtype(dtype)\n",
      "C:\\Users\\MSYUN\\Desktop\\ml_optuna_mlflow\\venv\\lib\\site-packages\\xgboost\\data.py:384: FutureWarning: is_categorical_dtype is deprecated and will be removed in a future version. Use isinstance(dtype, CategoricalDtype) instead\n",
      "  if is_categorical_dtype(dtype):\n",
      "C:\\Users\\MSYUN\\Desktop\\ml_optuna_mlflow\\venv\\lib\\site-packages\\xgboost\\data.py:359: FutureWarning: is_categorical_dtype is deprecated and will be removed in a future version. Use isinstance(dtype, CategoricalDtype) instead\n",
      "  return is_int or is_bool or is_float or is_categorical_dtype(dtype)\n",
      "C:\\Users\\MSYUN\\Desktop\\ml_optuna_mlflow\\venv\\lib\\site-packages\\xgboost\\data.py:335: FutureWarning: is_sparse is deprecated and will be removed in a future version. Check `isinstance(dtype, pd.SparseDtype)` instead.\n",
      "  if is_sparse(dtype):\n",
      "C:\\Users\\MSYUN\\Desktop\\ml_optuna_mlflow\\venv\\lib\\site-packages\\xgboost\\data.py:338: FutureWarning: is_categorical_dtype is deprecated and will be removed in a future version. Use isinstance(dtype, CategoricalDtype) instead\n",
      "  is_categorical_dtype(dtype) or is_pa_ext_categorical_dtype(dtype)\n",
      "C:\\Users\\MSYUN\\Desktop\\ml_optuna_mlflow\\venv\\lib\\site-packages\\xgboost\\data.py:384: FutureWarning: is_categorical_dtype is deprecated and will be removed in a future version. Use isinstance(dtype, CategoricalDtype) instead\n",
      "  if is_categorical_dtype(dtype):\n",
      "C:\\Users\\MSYUN\\Desktop\\ml_optuna_mlflow\\venv\\lib\\site-packages\\xgboost\\data.py:359: FutureWarning: is_categorical_dtype is deprecated and will be removed in a future version. Use isinstance(dtype, CategoricalDtype) instead\n",
      "  return is_int or is_bool or is_float or is_categorical_dtype(dtype)\n",
      "C:\\Users\\MSYUN\\Desktop\\ml_optuna_mlflow\\venv\\lib\\site-packages\\xgboost\\core.py:160: UserWarning: [16:54:56] WARNING: C:\\buildkite-agent\\builds\\buildkite-windows-cpu-autoscaling-group-i-0cec3277c4d9d0165-1\\xgboost\\xgboost-ci-windows\\src\\c_api\\c_api.cc:1240: Saving into deprecated binary model format, please consider using `json` or `ubj`. Model format will default to JSON in XGBoost 2.2 if not specified.\n",
      "  warnings.warn(smsg, UserWarning)\n",
      "C:\\Users\\MSYUN\\Desktop\\ml_optuna_mlflow\\venv\\lib\\site-packages\\_distutils_hack\\__init__.py:18: UserWarning: Distutils was imported before Setuptools, but importing Setuptools also replaces the `distutils` module in `sys.modules`. This may lead to undesirable behaviors or errors. To avoid these issues, avoid using distutils directly, ensure that setuptools is installed in the traditional way (e.g. not an editable install), and/or make sure that setuptools is always imported before distutils.\n",
      "  warnings.warn(\n",
      "C:\\Users\\MSYUN\\Desktop\\ml_optuna_mlflow\\venv\\lib\\site-packages\\_distutils_hack\\__init__.py:33: UserWarning: Setuptools is replacing distutils.\n",
      "  warnings.warn(\"Setuptools is replacing distutils.\")\n",
      "[I 2023-11-01 16:55:04,995] Trial 8 finished with value: 0.8145161290322581 and parameters: {'eta': 0.09445214909041723, 'max_depth': 6, 'subsample': 0.6567800064443988}. Best is trial 4 with value: 0.8145161290322581.\n",
      "C:\\Users\\MSYUN\\AppData\\Local\\Temp\\ipykernel_7240\\1489621800.py:9: FutureWarning: suggest_uniform has been deprecated in v3.0.0. This feature will be removed in v6.0.0. See https://github.com/optuna/optuna/releases/tag/v3.0.0. Use suggest_float instead.\n",
      "  params = {'eta' : trial.suggest_uniform('eta', 0.0001, 0.1),\n",
      "C:\\Users\\MSYUN\\AppData\\Local\\Temp\\ipykernel_7240\\1489621800.py:11: FutureWarning: suggest_uniform has been deprecated in v3.0.0. This feature will be removed in v6.0.0. See https://github.com/optuna/optuna/releases/tag/v3.0.0. Use suggest_float instead.\n",
      "  'subsample': trial.suggest_uniform('subsample', 0.5, 0.9)\n",
      "C:\\Users\\MSYUN\\Desktop\\ml_optuna_mlflow\\venv\\lib\\site-packages\\xgboost\\data.py:335: FutureWarning: is_sparse is deprecated and will be removed in a future version. Check `isinstance(dtype, pd.SparseDtype)` instead.\n",
      "  if is_sparse(dtype):\n",
      "C:\\Users\\MSYUN\\Desktop\\ml_optuna_mlflow\\venv\\lib\\site-packages\\xgboost\\data.py:338: FutureWarning: is_categorical_dtype is deprecated and will be removed in a future version. Use isinstance(dtype, CategoricalDtype) instead\n",
      "  is_categorical_dtype(dtype) or is_pa_ext_categorical_dtype(dtype)\n",
      "C:\\Users\\MSYUN\\Desktop\\ml_optuna_mlflow\\venv\\lib\\site-packages\\xgboost\\data.py:384: FutureWarning: is_categorical_dtype is deprecated and will be removed in a future version. Use isinstance(dtype, CategoricalDtype) instead\n",
      "  if is_categorical_dtype(dtype):\n",
      "C:\\Users\\MSYUN\\Desktop\\ml_optuna_mlflow\\venv\\lib\\site-packages\\xgboost\\data.py:359: FutureWarning: is_categorical_dtype is deprecated and will be removed in a future version. Use isinstance(dtype, CategoricalDtype) instead\n",
      "  return is_int or is_bool or is_float or is_categorical_dtype(dtype)\n",
      "C:\\Users\\MSYUN\\Desktop\\ml_optuna_mlflow\\venv\\lib\\site-packages\\xgboost\\data.py:335: FutureWarning: is_sparse is deprecated and will be removed in a future version. Check `isinstance(dtype, pd.SparseDtype)` instead.\n",
      "  if is_sparse(dtype):\n",
      "C:\\Users\\MSYUN\\Desktop\\ml_optuna_mlflow\\venv\\lib\\site-packages\\xgboost\\data.py:338: FutureWarning: is_categorical_dtype is deprecated and will be removed in a future version. Use isinstance(dtype, CategoricalDtype) instead\n",
      "  is_categorical_dtype(dtype) or is_pa_ext_categorical_dtype(dtype)\n",
      "C:\\Users\\MSYUN\\Desktop\\ml_optuna_mlflow\\venv\\lib\\site-packages\\xgboost\\data.py:384: FutureWarning: is_categorical_dtype is deprecated and will be removed in a future version. Use isinstance(dtype, CategoricalDtype) instead\n",
      "  if is_categorical_dtype(dtype):\n",
      "C:\\Users\\MSYUN\\Desktop\\ml_optuna_mlflow\\venv\\lib\\site-packages\\xgboost\\data.py:359: FutureWarning: is_categorical_dtype is deprecated and will be removed in a future version. Use isinstance(dtype, CategoricalDtype) instead\n",
      "  return is_int or is_bool or is_float or is_categorical_dtype(dtype)\n",
      "C:\\Users\\MSYUN\\Desktop\\ml_optuna_mlflow\\venv\\lib\\site-packages\\xgboost\\core.py:160: UserWarning: [16:55:05] WARNING: C:\\buildkite-agent\\builds\\buildkite-windows-cpu-autoscaling-group-i-0cec3277c4d9d0165-1\\xgboost\\xgboost-ci-windows\\src\\c_api\\c_api.cc:1240: Saving into deprecated binary model format, please consider using `json` or `ubj`. Model format will default to JSON in XGBoost 2.2 if not specified.\n",
      "  warnings.warn(smsg, UserWarning)\n",
      "C:\\Users\\MSYUN\\Desktop\\ml_optuna_mlflow\\venv\\lib\\site-packages\\_distutils_hack\\__init__.py:18: UserWarning: Distutils was imported before Setuptools, but importing Setuptools also replaces the `distutils` module in `sys.modules`. This may lead to undesirable behaviors or errors. To avoid these issues, avoid using distutils directly, ensure that setuptools is installed in the traditional way (e.g. not an editable install), and/or make sure that setuptools is always imported before distutils.\n",
      "  warnings.warn(\n",
      "C:\\Users\\MSYUN\\Desktop\\ml_optuna_mlflow\\venv\\lib\\site-packages\\_distutils_hack\\__init__.py:33: UserWarning: Setuptools is replacing distutils.\n",
      "  warnings.warn(\"Setuptools is replacing distutils.\")\n",
      "[I 2023-11-01 16:55:11,238] Trial 9 finished with value: 0.7741935483870968 and parameters: {'eta': 0.0075983460801892335, 'max_depth': 10, 'subsample': 0.7596713077379307}. Best is trial 4 with value: 0.8145161290322581.\n"
     ]
    }
   ],
   "source": [
    "study = optuna.create_study(study_name='titanic_experiment', direction='maximize')\n",
    "study.optimize(objective, n_trials=10, callbacks=[mlflc])"
   ]
  },
  {
   "cell_type": "markdown",
   "id": "1dc0fd4c-5b5f-4382-b8fa-6d408dfe44d8",
   "metadata": {},
   "source": [
    "## 제출\n",
    "- MLflow UI화면에서 모델을 불러온 후 제출"
   ]
  },
  {
   "cell_type": "code",
   "execution_count": 32,
   "id": "0cdb1a00-35c6-4e55-b0ef-dae3048e46b3",
   "metadata": {},
   "outputs": [
    {
     "name": "stderr",
     "output_type": "stream",
     "text": [
      "C:\\Users\\MSYUN\\Desktop\\ml_optuna_mlflow\\venv\\lib\\site-packages\\xgboost\\data.py:335: FutureWarning: is_sparse is deprecated and will be removed in a future version. Check `isinstance(dtype, pd.SparseDtype)` instead.\n",
      "  if is_sparse(dtype):\n",
      "C:\\Users\\MSYUN\\Desktop\\ml_optuna_mlflow\\venv\\lib\\site-packages\\xgboost\\data.py:338: FutureWarning: is_categorical_dtype is deprecated and will be removed in a future version. Use isinstance(dtype, CategoricalDtype) instead\n",
      "  is_categorical_dtype(dtype) or is_pa_ext_categorical_dtype(dtype)\n",
      "C:\\Users\\MSYUN\\Desktop\\ml_optuna_mlflow\\venv\\lib\\site-packages\\xgboost\\data.py:384: FutureWarning: is_categorical_dtype is deprecated and will be removed in a future version. Use isinstance(dtype, CategoricalDtype) instead\n",
      "  if is_categorical_dtype(dtype):\n",
      "C:\\Users\\MSYUN\\Desktop\\ml_optuna_mlflow\\venv\\lib\\site-packages\\xgboost\\data.py:359: FutureWarning: is_categorical_dtype is deprecated and will be removed in a future version. Use isinstance(dtype, CategoricalDtype) instead\n",
      "  return is_int or is_bool or is_float or is_categorical_dtype(dtype)\n"
     ]
    }
   ],
   "source": [
    "ml_run_id = 'runs:/94696cc4ff274ac990ec0144af9e65b8/xgboost'\n",
    "loaded_model = mlflow.xgboost.load_model(ml_run_id)\n",
    "\n",
    "final_preds = loaded_model.predict(test)\n",
    "submission['Survived'] = final_preds\n",
    "submission.to_csv(DATA_PATH + '0809_submission.csv', index=False)"
   ]
  },
  {
   "cell_type": "code",
   "execution_count": null,
   "id": "d5d31dc7-570e-4a7e-acd0-d684b9f328a3",
   "metadata": {},
   "outputs": [],
   "source": []
  }
 ],
 "metadata": {
  "kernelspec": {
   "display_name": "Python 3 (ipykernel)",
   "language": "python",
   "name": "python3"
  },
  "language_info": {
   "codemirror_mode": {
    "name": "ipython",
    "version": 3
   },
   "file_extension": ".py",
   "mimetype": "text/x-python",
   "name": "python",
   "nbconvert_exporter": "python",
   "pygments_lexer": "ipython3",
   "version": "3.9.7"
  }
 },
 "nbformat": 4,
 "nbformat_minor": 5
}
