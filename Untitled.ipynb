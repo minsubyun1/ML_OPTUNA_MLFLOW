{
 "cells": [
  {
   "cell_type": "markdown",
   "id": "17f26930-88ba-42c6-be9f-df8eb2fc5813",
   "metadata": {},
   "source": [
    "## 라이브러리 불러오기"
   ]
  },
  {
   "cell_type": "code",
   "execution_count": 1,
   "id": "f0e6b438-f026-42ec-a038-0a11f7e46d72",
   "metadata": {},
   "outputs": [
    {
     "name": "stdout",
     "output_type": "stream",
     "text": [
      "pandas:  2.1.1\n",
      "np:  1.26.1\n",
      "matplotlib:  3.8.0\n",
      "seaborn:  0.13.0\n",
      "plotly:  5.17.0\n",
      "sklearn:  1.3.1\n",
      "xgboost:  2.0.0\n",
      "optuna:  3.4.0\n",
      "mlflow:  2.7.1\n"
     ]
    }
   ],
   "source": [
    "import pandas as pd\n",
    "import numpy as np\n",
    "import matplotlib\n",
    "import seaborn\n",
    "import plotly\n",
    "import sklearn\n",
    "import xgboost\n",
    "import optuna\n",
    "import mlflow\n",
    "\n",
    "print(\"pandas: \", pd.__version__)\n",
    "print(\"np: \", np.__version__)\n",
    "print(\"matplotlib: \", matplotlib.__version__)\n",
    "print(\"seaborn: \", seaborn.__version__)\n",
    "print(\"plotly: \", plotly.__version__)\n",
    "print(\"sklearn: \", sklearn.__version__)\n",
    "print(\"xgboost: \", xgboost.__version__)\n",
    "print(\"optuna: \", optuna.__version__)\n",
    "print(\"mlflow: \", mlflow.__version__)"
   ]
  },
  {
   "cell_type": "code",
   "execution_count": null,
   "id": "41338538-560e-4a3d-8947-c9d739fc3584",
   "metadata": {},
   "outputs": [],
   "source": []
  }
 ],
 "metadata": {
  "kernelspec": {
   "display_name": "Python 3 (ipykernel)",
   "language": "python",
   "name": "python3"
  },
  "language_info": {
   "codemirror_mode": {
    "name": "ipython",
    "version": 3
   },
   "file_extension": ".py",
   "mimetype": "text/x-python",
   "name": "python",
   "nbconvert_exporter": "python",
   "pygments_lexer": "ipython3",
   "version": "3.9.7"
  }
 },
 "nbformat": 4,
 "nbformat_minor": 5
}
